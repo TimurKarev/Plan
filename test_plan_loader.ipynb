{
 "metadata": {
  "language_info": {
   "codemirror_mode": {
    "name": "ipython",
    "version": 3
   },
   "file_extension": ".py",
   "mimetype": "text/x-python",
   "name": "python",
   "nbconvert_exporter": "python",
   "pygments_lexer": "ipython3",
   "version": "3.8.5-final"
  },
  "orig_nbformat": 2,
  "kernelspec": {
   "name": "python_defaultSpec_1599774031103",
   "display_name": "Python 3.8.5 64-bit ('Plan': conda)"
  }
 },
 "nbformat": 4,
 "nbformat_minor": 2,
 "cells": [
  {
   "cell_type": "code",
   "execution_count": 6,
   "metadata": {},
   "outputs": [],
   "source": [
    "%load_ext autoreload"
   ]
  },
  {
   "cell_type": "code",
   "execution_count": 1,
   "metadata": {},
   "outputs": [],
   "source": [
    "import plan_loader as pl"
   ]
  },
  {
   "cell_type": "code",
   "execution_count": 36,
   "metadata": {
    "tags": []
   },
   "outputs": [
    {
     "output_type": "execute_result",
     "data": {
      "text/plain": "   Unnamed: 0  Unnamed: 1  Unnamed: 2 Unnamed: 3 Unnamed: 4 Unnamed: 5  \\\n0         NaN         NaN         NaN        NaN        NaN        NaN   \n1         NaN         NaN         NaN      № з/з    Заливка        NaN   \n2         NaN         NaN         NaN        NaN         НМ         ВМ   \n\n  Unnamed: 6 Производственный план    Unnamed: 8    Unnamed: 9  ...  \\\n0        NaN                   NaN           NaN           NaN  ...   \n1    Навеска                   NaN  Передача ЭМУ  Сборка щитов  ...   \n2         НМ                    ВМ           NaN           NaN  ...   \n\n     Unnamed: 12     Unnamed: 13     Unnamed: 14      Unnamed: 15  \\\n0            NaN             NaN             NaN              NaN   \n1  Сборка 0,4 кВ  Втор-ка 0,4 кВ  Сборка 6/10 кВ  Втор-ка 6/10 кВ   \n2            NaN             NaN             NaN              NaN   \n\n       Unnamed: 16      Unnamed: 17 Unnamed: 18    Unnamed: 19 Unnamed: 20  \\\n0              NaN              NaN         NaN            NaN         NaN   \n1  Уст-ка 0,4/10кВ  Установ-ка RM-6     Наладка  Комплек-тация    ОТГРУЗКА   \n2              NaN              NaN         NaN            NaN         NaN   \n\n  Unnamed: 21  \n0         NaT  \n1         NaT  \n2         NaT  \n\n[3 rows x 22 columns]",
      "text/html": "<div>\n<style scoped>\n    .dataframe tbody tr th:only-of-type {\n        vertical-align: middle;\n    }\n\n    .dataframe tbody tr th {\n        vertical-align: top;\n    }\n\n    .dataframe thead th {\n        text-align: right;\n    }\n</style>\n<table border=\"1\" class=\"dataframe\">\n  <thead>\n    <tr style=\"text-align: right;\">\n      <th></th>\n      <th>Unnamed: 0</th>\n      <th>Unnamed: 1</th>\n      <th>Unnamed: 2</th>\n      <th>Unnamed: 3</th>\n      <th>Unnamed: 4</th>\n      <th>Unnamed: 5</th>\n      <th>Unnamed: 6</th>\n      <th>Производственный план</th>\n      <th>Unnamed: 8</th>\n      <th>Unnamed: 9</th>\n      <th>...</th>\n      <th>Unnamed: 12</th>\n      <th>Unnamed: 13</th>\n      <th>Unnamed: 14</th>\n      <th>Unnamed: 15</th>\n      <th>Unnamed: 16</th>\n      <th>Unnamed: 17</th>\n      <th>Unnamed: 18</th>\n      <th>Unnamed: 19</th>\n      <th>Unnamed: 20</th>\n      <th>Unnamed: 21</th>\n    </tr>\n  </thead>\n  <tbody>\n    <tr>\n      <th>0</th>\n      <td>NaN</td>\n      <td>NaN</td>\n      <td>NaN</td>\n      <td>NaN</td>\n      <td>NaN</td>\n      <td>NaN</td>\n      <td>NaN</td>\n      <td>NaN</td>\n      <td>NaN</td>\n      <td>NaN</td>\n      <td>...</td>\n      <td>NaN</td>\n      <td>NaN</td>\n      <td>NaN</td>\n      <td>NaN</td>\n      <td>NaN</td>\n      <td>NaN</td>\n      <td>NaN</td>\n      <td>NaN</td>\n      <td>NaN</td>\n      <td>NaT</td>\n    </tr>\n    <tr>\n      <th>1</th>\n      <td>NaN</td>\n      <td>NaN</td>\n      <td>NaN</td>\n      <td>№ з/з</td>\n      <td>Заливка</td>\n      <td>NaN</td>\n      <td>Навеска</td>\n      <td>NaN</td>\n      <td>Передача ЭМУ</td>\n      <td>Сборка щитов</td>\n      <td>...</td>\n      <td>Сборка 0,4 кВ</td>\n      <td>Втор-ка 0,4 кВ</td>\n      <td>Сборка 6/10 кВ</td>\n      <td>Втор-ка 6/10 кВ</td>\n      <td>Уст-ка 0,4/10кВ</td>\n      <td>Установ-ка RM-6</td>\n      <td>Наладка</td>\n      <td>Комплек-тация</td>\n      <td>ОТГРУЗКА</td>\n      <td>NaT</td>\n    </tr>\n    <tr>\n      <th>2</th>\n      <td>NaN</td>\n      <td>NaN</td>\n      <td>NaN</td>\n      <td>NaN</td>\n      <td>НМ</td>\n      <td>ВМ</td>\n      <td>НМ</td>\n      <td>ВМ</td>\n      <td>NaN</td>\n      <td>NaN</td>\n      <td>...</td>\n      <td>NaN</td>\n      <td>NaN</td>\n      <td>NaN</td>\n      <td>NaN</td>\n      <td>NaN</td>\n      <td>NaN</td>\n      <td>NaN</td>\n      <td>NaN</td>\n      <td>NaN</td>\n      <td>NaT</td>\n    </tr>\n  </tbody>\n</table>\n<p>3 rows × 22 columns</p>\n</div>"
     },
     "metadata": {},
     "execution_count": 36
    }
   ],
   "source": [
    "%autoreload\n",
    "loader = pl.PlanLoader('план.xlsx')\n",
    "d = loader.df\n",
    "d.head(3)"
   ]
  },
  {
   "cell_type": "code",
   "execution_count": 51,
   "metadata": {},
   "outputs": [
    {
     "output_type": "execute_result",
     "data": {
      "text/plain": "3"
     },
     "metadata": {},
     "execution_count": 51
    }
   ],
   "source": [
    "list((d == '№ з/з').sum(axis=0)).index(True)"
   ]
  },
  {
   "cell_type": "code",
   "execution_count": null,
   "metadata": {},
   "outputs": [],
   "source": []
  }
 ]
}