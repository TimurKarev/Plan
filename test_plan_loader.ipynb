{
 "metadata": {
  "language_info": {
   "codemirror_mode": {
    "name": "ipython",
    "version": 3
   },
   "file_extension": ".py",
   "mimetype": "text/x-python",
   "name": "python",
   "nbconvert_exporter": "python",
   "pygments_lexer": "ipython3",
   "version": "3.8.5-final"
  },
  "orig_nbformat": 2,
  "kernelspec": {
   "name": "python_defaultSpec_1599816611737",
   "display_name": "Python 3.8.5 64-bit ('Plan': conda)"
  }
 },
 "nbformat": 4,
 "nbformat_minor": 2,
 "cells": [
  {
   "cell_type": "code",
   "execution_count": 1,
   "metadata": {
    "tags": []
   },
   "outputs": [],
   "source": [
    "%load_ext autoreload"
   ]
  },
  {
   "cell_type": "code",
   "execution_count": 2,
   "metadata": {},
   "outputs": [],
   "source": [
    "import plan_loader as pl\n",
    "import pandas as pd"
   ]
  },
  {
   "cell_type": "code",
   "execution_count": 25,
   "metadata": {
    "tags": []
   },
   "outputs": [
    {
     "output_type": "execute_result",
     "data": {
      "text/plain": "          Заливка Заливка_1 Навеска Навеска_1 Передача ЭМУ Сборка щитов  \\\nNaN            НМ        ВМ      НМ        ВМ          NaN          NaN   \nдекабрь       NaN       NaN     NaN       NaN          NaN          NaN   \n1250        готов     готов   20.11  20-25.11        готов     20-25.11   \n1253        готов     готов   26.11  26-27.11        25.11     26-28.11   \n1259          нет       нет     нет       нет          нет     02-05.12   \n...           ...       ...     ...       ...          ...          ...   \n1337     28-30.09  06-12.10   28.10  28-30.10        28.10     02-06.11   \n1338     30-02.10  13-16.10     NaN       NaN          NaN          NaN   \n1335     05-13.10  16-26.10   02.11  02-06.11        03.11     09-13.11   \n1339     13-16.10  26-29.10     NaN       NaN          NaN          NaN   \n1340     16-21.10  28-03.11     NaN       NaN          NaN          NaN   \n\n        Монтаж СН Шина УВР/ТР-Р Сборка 0,4 кВ Втор-ка 0,4 кВ Сборка 6/10 кВ  \\\nNaN           NaN           NaN           NaN            NaN            NaN   \nдекабрь       NaN           NaN           NaN            NaN            NaN   \n1250     20-23.11         готов         готов       27-29.11            нет   \n1253     25-26.11         готов         готов       02-04.13            нет   \n1259          нет           нет           нет            нет            нет   \n...           ...           ...           ...            ...            ...   \n1337     28-02.11      26-28.10      27-29.10       28-04.11            нет   \n1338          NaN           NaN           NaN            NaN            нет   \n1335     03-11.11      29-02.11      30-03.11      05-10.11        12-30.10   \n1339          NaN           NaN           NaN            NaN            нет   \n1340          NaN           NaN           NaN            NaN            нет   \n\n        Втор-ка 6/10 кВ Уст-ка 0,4/10кВ Установ-ка RM-6   Наладка  \\\nNaN                 NaN             NaN             NaN       NaN   \nдекабрь             NaN             NaN             NaN       NaN   \n1250                нет           19.11           20.11     05.12   \n1253                нет           25.12           27.12     05.13   \n1259                нет             нет             нет     09.12   \n...                 ...             ...             ...       ...   \n1337                нет           30.10           30.10     06.11   \n1338                нет             NaN             NaN       NaN   \n1335        12.10-16.11        05/02.11             нет  17-19.11   \n1339                нет             NaN             NaN       NaN   \n1340                нет             NaN             NaN       NaN   \n\n        Комплек-тация             ОТГРУЗКА ОТГРУЗКА_1  \nNaN               NaN                  NaN        NaT  \nдекабрь           NaN                  NaN        NaT  \n1250            06.12  2019-12-06 00:00:00        NaT  \n1253            06.13  2019-12-10 00:00:00        NaT  \n1259            09.12  2019-12-10 00:00:00        NaT  \n...               ...                  ...        ...  \n1337            09.11  2020-11-10 00:00:00        NaT  \n1338              NaN  2020-11-18 00:00:00        NaT  \n1335            19.11  2020-11-20 00:00:00        NaT  \n1339              NaN  2020-11-26 00:00:00        NaT  \n1340              NaN  2020-11-27 00:00:00        NaT  \n\n[109 rows x 18 columns]",
      "text/html": "<div>\n<style scoped>\n    .dataframe tbody tr th:only-of-type {\n        vertical-align: middle;\n    }\n\n    .dataframe tbody tr th {\n        vertical-align: top;\n    }\n\n    .dataframe thead th {\n        text-align: right;\n    }\n</style>\n<table border=\"1\" class=\"dataframe\">\n  <thead>\n    <tr style=\"text-align: right;\">\n      <th></th>\n      <th>Заливка</th>\n      <th>Заливка_1</th>\n      <th>Навеска</th>\n      <th>Навеска_1</th>\n      <th>Передача ЭМУ</th>\n      <th>Сборка щитов</th>\n      <th>Монтаж СН</th>\n      <th>Шина УВР/ТР-Р</th>\n      <th>Сборка 0,4 кВ</th>\n      <th>Втор-ка 0,4 кВ</th>\n      <th>Сборка 6/10 кВ</th>\n      <th>Втор-ка 6/10 кВ</th>\n      <th>Уст-ка 0,4/10кВ</th>\n      <th>Установ-ка RM-6</th>\n      <th>Наладка</th>\n      <th>Комплек-тация</th>\n      <th>ОТГРУЗКА</th>\n      <th>ОТГРУЗКА_1</th>\n    </tr>\n  </thead>\n  <tbody>\n    <tr>\n      <th>NaN</th>\n      <td>НМ</td>\n      <td>ВМ</td>\n      <td>НМ</td>\n      <td>ВМ</td>\n      <td>NaN</td>\n      <td>NaN</td>\n      <td>NaN</td>\n      <td>NaN</td>\n      <td>NaN</td>\n      <td>NaN</td>\n      <td>NaN</td>\n      <td>NaN</td>\n      <td>NaN</td>\n      <td>NaN</td>\n      <td>NaN</td>\n      <td>NaN</td>\n      <td>NaN</td>\n      <td>NaT</td>\n    </tr>\n    <tr>\n      <th>декабрь</th>\n      <td>NaN</td>\n      <td>NaN</td>\n      <td>NaN</td>\n      <td>NaN</td>\n      <td>NaN</td>\n      <td>NaN</td>\n      <td>NaN</td>\n      <td>NaN</td>\n      <td>NaN</td>\n      <td>NaN</td>\n      <td>NaN</td>\n      <td>NaN</td>\n      <td>NaN</td>\n      <td>NaN</td>\n      <td>NaN</td>\n      <td>NaN</td>\n      <td>NaN</td>\n      <td>NaT</td>\n    </tr>\n    <tr>\n      <th>1250</th>\n      <td>готов</td>\n      <td>готов</td>\n      <td>20.11</td>\n      <td>20-25.11</td>\n      <td>готов</td>\n      <td>20-25.11</td>\n      <td>20-23.11</td>\n      <td>готов</td>\n      <td>готов</td>\n      <td>27-29.11</td>\n      <td>нет</td>\n      <td>нет</td>\n      <td>19.11</td>\n      <td>20.11</td>\n      <td>05.12</td>\n      <td>06.12</td>\n      <td>2019-12-06 00:00:00</td>\n      <td>NaT</td>\n    </tr>\n    <tr>\n      <th>1253</th>\n      <td>готов</td>\n      <td>готов</td>\n      <td>26.11</td>\n      <td>26-27.11</td>\n      <td>25.11</td>\n      <td>26-28.11</td>\n      <td>25-26.11</td>\n      <td>готов</td>\n      <td>готов</td>\n      <td>02-04.13</td>\n      <td>нет</td>\n      <td>нет</td>\n      <td>25.12</td>\n      <td>27.12</td>\n      <td>05.13</td>\n      <td>06.13</td>\n      <td>2019-12-10 00:00:00</td>\n      <td>NaT</td>\n    </tr>\n    <tr>\n      <th>1259</th>\n      <td>нет</td>\n      <td>нет</td>\n      <td>нет</td>\n      <td>нет</td>\n      <td>нет</td>\n      <td>02-05.12</td>\n      <td>нет</td>\n      <td>нет</td>\n      <td>нет</td>\n      <td>нет</td>\n      <td>нет</td>\n      <td>нет</td>\n      <td>нет</td>\n      <td>нет</td>\n      <td>09.12</td>\n      <td>09.12</td>\n      <td>2019-12-10 00:00:00</td>\n      <td>NaT</td>\n    </tr>\n    <tr>\n      <th>...</th>\n      <td>...</td>\n      <td>...</td>\n      <td>...</td>\n      <td>...</td>\n      <td>...</td>\n      <td>...</td>\n      <td>...</td>\n      <td>...</td>\n      <td>...</td>\n      <td>...</td>\n      <td>...</td>\n      <td>...</td>\n      <td>...</td>\n      <td>...</td>\n      <td>...</td>\n      <td>...</td>\n      <td>...</td>\n      <td>...</td>\n    </tr>\n    <tr>\n      <th>1337</th>\n      <td>28-30.09</td>\n      <td>06-12.10</td>\n      <td>28.10</td>\n      <td>28-30.10</td>\n      <td>28.10</td>\n      <td>02-06.11</td>\n      <td>28-02.11</td>\n      <td>26-28.10</td>\n      <td>27-29.10</td>\n      <td>28-04.11</td>\n      <td>нет</td>\n      <td>нет</td>\n      <td>30.10</td>\n      <td>30.10</td>\n      <td>06.11</td>\n      <td>09.11</td>\n      <td>2020-11-10 00:00:00</td>\n      <td>NaT</td>\n    </tr>\n    <tr>\n      <th>1338</th>\n      <td>30-02.10</td>\n      <td>13-16.10</td>\n      <td>NaN</td>\n      <td>NaN</td>\n      <td>NaN</td>\n      <td>NaN</td>\n      <td>NaN</td>\n      <td>NaN</td>\n      <td>NaN</td>\n      <td>NaN</td>\n      <td>нет</td>\n      <td>нет</td>\n      <td>NaN</td>\n      <td>NaN</td>\n      <td>NaN</td>\n      <td>NaN</td>\n      <td>2020-11-18 00:00:00</td>\n      <td>NaT</td>\n    </tr>\n    <tr>\n      <th>1335</th>\n      <td>05-13.10</td>\n      <td>16-26.10</td>\n      <td>02.11</td>\n      <td>02-06.11</td>\n      <td>03.11</td>\n      <td>09-13.11</td>\n      <td>03-11.11</td>\n      <td>29-02.11</td>\n      <td>30-03.11</td>\n      <td>05-10.11</td>\n      <td>12-30.10</td>\n      <td>12.10-16.11</td>\n      <td>05/02.11</td>\n      <td>нет</td>\n      <td>17-19.11</td>\n      <td>19.11</td>\n      <td>2020-11-20 00:00:00</td>\n      <td>NaT</td>\n    </tr>\n    <tr>\n      <th>1339</th>\n      <td>13-16.10</td>\n      <td>26-29.10</td>\n      <td>NaN</td>\n      <td>NaN</td>\n      <td>NaN</td>\n      <td>NaN</td>\n      <td>NaN</td>\n      <td>NaN</td>\n      <td>NaN</td>\n      <td>NaN</td>\n      <td>нет</td>\n      <td>нет</td>\n      <td>NaN</td>\n      <td>NaN</td>\n      <td>NaN</td>\n      <td>NaN</td>\n      <td>2020-11-26 00:00:00</td>\n      <td>NaT</td>\n    </tr>\n    <tr>\n      <th>1340</th>\n      <td>16-21.10</td>\n      <td>28-03.11</td>\n      <td>NaN</td>\n      <td>NaN</td>\n      <td>NaN</td>\n      <td>NaN</td>\n      <td>NaN</td>\n      <td>NaN</td>\n      <td>NaN</td>\n      <td>NaN</td>\n      <td>нет</td>\n      <td>нет</td>\n      <td>NaN</td>\n      <td>NaN</td>\n      <td>NaN</td>\n      <td>NaN</td>\n      <td>2020-11-27 00:00:00</td>\n      <td>NaT</td>\n    </tr>\n  </tbody>\n</table>\n<p>109 rows × 18 columns</p>\n</div>"
     },
     "metadata": {},
     "execution_count": 25
    }
   ],
   "source": [
    "%autoreload\n",
    "pl.PlanLoader('план.xlsx').df"
   ]
  }
 ]
}