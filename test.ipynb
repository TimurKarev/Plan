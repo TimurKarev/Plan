{
 "metadata": {
  "language_info": {
   "codemirror_mode": {
    "name": "ipython",
    "version": 3
   },
   "file_extension": ".py",
   "mimetype": "text/x-python",
   "name": "python",
   "nbconvert_exporter": "python",
   "pygments_lexer": "ipython3",
   "version": "3.8.5-final"
  },
  "orig_nbformat": 2,
  "kernelspec": {
   "name": "python_defaultSpec_1599161294443",
   "display_name": "Python 3.8.5 64-bit ('Plan': conda)"
  }
 },
 "nbformat": 4,
 "nbformat_minor": 2,
 "cells": [
  {
   "cell_type": "code",
   "execution_count": 1,
   "metadata": {
    "tags": []
   },
   "outputs": [],
   "source": [
    "%load_ext autoreload"
   ]
  },
  {
   "cell_type": "code",
   "execution_count": 68,
   "metadata": {},
   "outputs": [],
   "source": [
    "%autoreload"
   ]
  },
  {
   "cell_type": "code",
   "execution_count": 3,
   "metadata": {},
   "outputs": [],
   "source": [
    "import xlrd\n",
    "import plotly.express as px\n",
    "import pandas as pd\n",
    "from datetime import datetime as dt\n",
    "import plan_utils as utils"
   ]
  },
  {
   "cell_type": "code",
   "execution_count": 4,
   "metadata": {},
   "outputs": [],
   "source": [
    "#ПП 25.08.2020"
   ]
  },
  {
   "cell_type": "code",
   "execution_count": 5,
   "metadata": {},
   "outputs": [
    {
     "output_type": "execute_result",
     "data": {
      "text/plain": "         Unnamed: 0 Unnamed: 2 Unnamed: 3 Unnamed: 4 Производственный план  \\\nNaN             NaN        NaN        NaN        NaN                   NaN   \n№ з/з           NaN    Заливка        NaN    Навеска                   NaN   \nNaN             NaN         НМ         ВМ         НМ                    ВМ   \nдекабрь         NaN        NaN        NaN        NaN                   NaN   \n1250            NaN      готов      готов      20.11              20-25.11   \n1253            NaN      готов      готов      26.11              26-27.11   \n1259            NaN        нет        нет        нет                   нет   \n1255            NaN      готов      готов      28.11              28-30.11   \n1256            NaN      готов      готов      02.12              02-04.12   \n1251            NaN      готов      готов      05.12              05-07.12   \n1260            NaN        нет        нет        нет                   нет   \n1257            NaN      готов      готов      09.12              09-11.12   \n1258            NaN        нет        нет        нет                   нет   \n1264            NaN      готов      готов      готов                 готов   \n1252            NaN      готов      готов      12.12              12-17.12   \n\n           Unnamed: 6    Unnamed: 7 Unnamed: 8     Unnamed: 9    Unnamed: 10  \\\nNaN               NaN           NaN        NaN            NaN            NaN   \n№ з/з    Передача ЭМУ  Сборка щитов  Монтаж СН  Шина УВР/ТР-Р  Сборка 0,4 кВ   \nNaN               NaN           NaN        NaN            NaN            NaN   \nдекабрь           NaN           NaN        NaN            NaN            NaN   \n1250            готов      20-25.11   20-23.11          готов          готов   \n1253            25.11      26-28.11   25-26.11          готов          готов   \n1259              нет      02-05.12        нет            нет            нет   \n1255            26.11      05-07.12   27-29.11    20.11/22.11       25-27.11   \n1256            29.11      07-10.12   30-31.11    25.11/27.11    28.11-30.11   \n1251            02.12      07-10.12   02-04.12    28.11/02.12       02-04.12   \n1260              нет      07-10.12        нет            нет            нет   \n1257            04.12      05-10.12   05-07.12    03.12/05.12       05-07.12   \n1258              нет           нет        нет            нет            нет   \n1264            готов      10-12.12      09.12    05.12/07.12       05-07.12   \n1252            09.12      13-19.12   10-17.12    06.12/10.12       09-16.12   \n\n            Unnamed: 11     Unnamed: 12      Unnamed: 13       Unnamed: 14  \\\nNaN                 NaN             NaN              NaN               NaN   \n№ з/з    Втор-ка 0,4 кВ  Сборка 6/10 кВ  Втор-ка 6/10 кВ  Уст-ка 0,4/10 кВ   \nNaN                 NaN             NaN              NaN               NaN   \nдекабрь             NaN             NaN              NaN               NaN   \n1250           27-29.11             нет              нет             19.11   \n1253           02-04.13             нет              нет             25.12   \n1259                нет             нет              нет               нет   \n1255           05-09.12             нет              нет             29.11   \n1256           06-10.12             нет              нет             03.12   \n1251           06-10.12             нет              нет             05.12   \n1260                нет             нет              нет               нет   \n1257           10-13.12             нет              нет             05.12   \n1258                нет             нет              нет               нет   \n1264           16-18.12             нет              нет             09.12   \n1252           16-20.12           10.12         11-19.12          16/19.12   \n\n             Unnamed: 15 Unnamed: 16    Unnamed: 17  2020-08-31 00:00:00  \\\nNaN                  NaN         NaN            NaN                  NaN   \n№ з/з    Установ-ка RM-6     Наладка  Комплек-тация             ОТГРУЗКА   \nNaN                  NaN         NaN            NaN                  NaN   \nдекабрь              NaN         NaN            NaN                  NaN   \n1250               20.11       05.12          06.12  2019-12-06 00:00:00   \n1253               27.12       05.13          06.13  2019-12-10 00:00:00   \n1259                 нет       09.12          09.12  2019-12-10 00:00:00   \n1255               03.12       09.12          10.12  2019-12-11 00:00:00   \n1256               03.12       10.12          11.12  2019-12-12 00:00:00   \n1251               03.12       11.12          11.12  2019-12-12 00:00:00   \n1260                 нет       11.12          12.12  2019-12-13 00:00:00   \n1257               03.12       13.12          13.12  2019-12-16 00:00:00   \n1258               11.12       16.12          17.12  2019-12-18 00:00:00   \n1264               12.12       19.12          20.12  2019-12-23 00:00:00   \n1252                 нет    20-23.12          23.12  2019-12-24 00:00:00   \n\n        Unnamed: 19  \nNaN             NaT  \n№ з/з           NaT  \nNaN             NaT  \nдекабрь         NaT  \n1250            NaT  \n1253            NaT  \n1259            NaT  \n1255            NaT  \n1256            NaT  \n1251            NaT  \n1260            NaT  \n1257            NaT  \n1258            NaT  \n1264            NaT  \n1252            NaT  ",
      "text/html": "<div>\n<style scoped>\n    .dataframe tbody tr th:only-of-type {\n        vertical-align: middle;\n    }\n\n    .dataframe tbody tr th {\n        vertical-align: top;\n    }\n\n    .dataframe thead th {\n        text-align: right;\n    }\n</style>\n<table border=\"1\" class=\"dataframe\">\n  <thead>\n    <tr style=\"text-align: right;\">\n      <th></th>\n      <th>Unnamed: 0</th>\n      <th>Unnamed: 2</th>\n      <th>Unnamed: 3</th>\n      <th>Unnamed: 4</th>\n      <th>Производственный план</th>\n      <th>Unnamed: 6</th>\n      <th>Unnamed: 7</th>\n      <th>Unnamed: 8</th>\n      <th>Unnamed: 9</th>\n      <th>Unnamed: 10</th>\n      <th>Unnamed: 11</th>\n      <th>Unnamed: 12</th>\n      <th>Unnamed: 13</th>\n      <th>Unnamed: 14</th>\n      <th>Unnamed: 15</th>\n      <th>Unnamed: 16</th>\n      <th>Unnamed: 17</th>\n      <th>2020-08-31 00:00:00</th>\n      <th>Unnamed: 19</th>\n    </tr>\n  </thead>\n  <tbody>\n    <tr>\n      <th>NaN</th>\n      <td>NaN</td>\n      <td>NaN</td>\n      <td>NaN</td>\n      <td>NaN</td>\n      <td>NaN</td>\n      <td>NaN</td>\n      <td>NaN</td>\n      <td>NaN</td>\n      <td>NaN</td>\n      <td>NaN</td>\n      <td>NaN</td>\n      <td>NaN</td>\n      <td>NaN</td>\n      <td>NaN</td>\n      <td>NaN</td>\n      <td>NaN</td>\n      <td>NaN</td>\n      <td>NaN</td>\n      <td>NaT</td>\n    </tr>\n    <tr>\n      <th>№ з/з</th>\n      <td>NaN</td>\n      <td>Заливка</td>\n      <td>NaN</td>\n      <td>Навеска</td>\n      <td>NaN</td>\n      <td>Передача ЭМУ</td>\n      <td>Сборка щитов</td>\n      <td>Монтаж СН</td>\n      <td>Шина УВР/ТР-Р</td>\n      <td>Сборка 0,4 кВ</td>\n      <td>Втор-ка 0,4 кВ</td>\n      <td>Сборка 6/10 кВ</td>\n      <td>Втор-ка 6/10 кВ</td>\n      <td>Уст-ка 0,4/10 кВ</td>\n      <td>Установ-ка RM-6</td>\n      <td>Наладка</td>\n      <td>Комплек-тация</td>\n      <td>ОТГРУЗКА</td>\n      <td>NaT</td>\n    </tr>\n    <tr>\n      <th>NaN</th>\n      <td>NaN</td>\n      <td>НМ</td>\n      <td>ВМ</td>\n      <td>НМ</td>\n      <td>ВМ</td>\n      <td>NaN</td>\n      <td>NaN</td>\n      <td>NaN</td>\n      <td>NaN</td>\n      <td>NaN</td>\n      <td>NaN</td>\n      <td>NaN</td>\n      <td>NaN</td>\n      <td>NaN</td>\n      <td>NaN</td>\n      <td>NaN</td>\n      <td>NaN</td>\n      <td>NaN</td>\n      <td>NaT</td>\n    </tr>\n    <tr>\n      <th>декабрь</th>\n      <td>NaN</td>\n      <td>NaN</td>\n      <td>NaN</td>\n      <td>NaN</td>\n      <td>NaN</td>\n      <td>NaN</td>\n      <td>NaN</td>\n      <td>NaN</td>\n      <td>NaN</td>\n      <td>NaN</td>\n      <td>NaN</td>\n      <td>NaN</td>\n      <td>NaN</td>\n      <td>NaN</td>\n      <td>NaN</td>\n      <td>NaN</td>\n      <td>NaN</td>\n      <td>NaN</td>\n      <td>NaT</td>\n    </tr>\n    <tr>\n      <th>1250</th>\n      <td>NaN</td>\n      <td>готов</td>\n      <td>готов</td>\n      <td>20.11</td>\n      <td>20-25.11</td>\n      <td>готов</td>\n      <td>20-25.11</td>\n      <td>20-23.11</td>\n      <td>готов</td>\n      <td>готов</td>\n      <td>27-29.11</td>\n      <td>нет</td>\n      <td>нет</td>\n      <td>19.11</td>\n      <td>20.11</td>\n      <td>05.12</td>\n      <td>06.12</td>\n      <td>2019-12-06 00:00:00</td>\n      <td>NaT</td>\n    </tr>\n    <tr>\n      <th>1253</th>\n      <td>NaN</td>\n      <td>готов</td>\n      <td>готов</td>\n      <td>26.11</td>\n      <td>26-27.11</td>\n      <td>25.11</td>\n      <td>26-28.11</td>\n      <td>25-26.11</td>\n      <td>готов</td>\n      <td>готов</td>\n      <td>02-04.13</td>\n      <td>нет</td>\n      <td>нет</td>\n      <td>25.12</td>\n      <td>27.12</td>\n      <td>05.13</td>\n      <td>06.13</td>\n      <td>2019-12-10 00:00:00</td>\n      <td>NaT</td>\n    </tr>\n    <tr>\n      <th>1259</th>\n      <td>NaN</td>\n      <td>нет</td>\n      <td>нет</td>\n      <td>нет</td>\n      <td>нет</td>\n      <td>нет</td>\n      <td>02-05.12</td>\n      <td>нет</td>\n      <td>нет</td>\n      <td>нет</td>\n      <td>нет</td>\n      <td>нет</td>\n      <td>нет</td>\n      <td>нет</td>\n      <td>нет</td>\n      <td>09.12</td>\n      <td>09.12</td>\n      <td>2019-12-10 00:00:00</td>\n      <td>NaT</td>\n    </tr>\n    <tr>\n      <th>1255</th>\n      <td>NaN</td>\n      <td>готов</td>\n      <td>готов</td>\n      <td>28.11</td>\n      <td>28-30.11</td>\n      <td>26.11</td>\n      <td>05-07.12</td>\n      <td>27-29.11</td>\n      <td>20.11/22.11</td>\n      <td>25-27.11</td>\n      <td>05-09.12</td>\n      <td>нет</td>\n      <td>нет</td>\n      <td>29.11</td>\n      <td>03.12</td>\n      <td>09.12</td>\n      <td>10.12</td>\n      <td>2019-12-11 00:00:00</td>\n      <td>NaT</td>\n    </tr>\n    <tr>\n      <th>1256</th>\n      <td>NaN</td>\n      <td>готов</td>\n      <td>готов</td>\n      <td>02.12</td>\n      <td>02-04.12</td>\n      <td>29.11</td>\n      <td>07-10.12</td>\n      <td>30-31.11</td>\n      <td>25.11/27.11</td>\n      <td>28.11-30.11</td>\n      <td>06-10.12</td>\n      <td>нет</td>\n      <td>нет</td>\n      <td>03.12</td>\n      <td>03.12</td>\n      <td>10.12</td>\n      <td>11.12</td>\n      <td>2019-12-12 00:00:00</td>\n      <td>NaT</td>\n    </tr>\n    <tr>\n      <th>1251</th>\n      <td>NaN</td>\n      <td>готов</td>\n      <td>готов</td>\n      <td>05.12</td>\n      <td>05-07.12</td>\n      <td>02.12</td>\n      <td>07-10.12</td>\n      <td>02-04.12</td>\n      <td>28.11/02.12</td>\n      <td>02-04.12</td>\n      <td>06-10.12</td>\n      <td>нет</td>\n      <td>нет</td>\n      <td>05.12</td>\n      <td>03.12</td>\n      <td>11.12</td>\n      <td>11.12</td>\n      <td>2019-12-12 00:00:00</td>\n      <td>NaT</td>\n    </tr>\n    <tr>\n      <th>1260</th>\n      <td>NaN</td>\n      <td>нет</td>\n      <td>нет</td>\n      <td>нет</td>\n      <td>нет</td>\n      <td>нет</td>\n      <td>07-10.12</td>\n      <td>нет</td>\n      <td>нет</td>\n      <td>нет</td>\n      <td>нет</td>\n      <td>нет</td>\n      <td>нет</td>\n      <td>нет</td>\n      <td>нет</td>\n      <td>11.12</td>\n      <td>12.12</td>\n      <td>2019-12-13 00:00:00</td>\n      <td>NaT</td>\n    </tr>\n    <tr>\n      <th>1257</th>\n      <td>NaN</td>\n      <td>готов</td>\n      <td>готов</td>\n      <td>09.12</td>\n      <td>09-11.12</td>\n      <td>04.12</td>\n      <td>05-10.12</td>\n      <td>05-07.12</td>\n      <td>03.12/05.12</td>\n      <td>05-07.12</td>\n      <td>10-13.12</td>\n      <td>нет</td>\n      <td>нет</td>\n      <td>05.12</td>\n      <td>03.12</td>\n      <td>13.12</td>\n      <td>13.12</td>\n      <td>2019-12-16 00:00:00</td>\n      <td>NaT</td>\n    </tr>\n    <tr>\n      <th>1258</th>\n      <td>NaN</td>\n      <td>нет</td>\n      <td>нет</td>\n      <td>нет</td>\n      <td>нет</td>\n      <td>нет</td>\n      <td>нет</td>\n      <td>нет</td>\n      <td>нет</td>\n      <td>нет</td>\n      <td>нет</td>\n      <td>нет</td>\n      <td>нет</td>\n      <td>нет</td>\n      <td>11.12</td>\n      <td>16.12</td>\n      <td>17.12</td>\n      <td>2019-12-18 00:00:00</td>\n      <td>NaT</td>\n    </tr>\n    <tr>\n      <th>1264</th>\n      <td>NaN</td>\n      <td>готов</td>\n      <td>готов</td>\n      <td>готов</td>\n      <td>готов</td>\n      <td>готов</td>\n      <td>10-12.12</td>\n      <td>09.12</td>\n      <td>05.12/07.12</td>\n      <td>05-07.12</td>\n      <td>16-18.12</td>\n      <td>нет</td>\n      <td>нет</td>\n      <td>09.12</td>\n      <td>12.12</td>\n      <td>19.12</td>\n      <td>20.12</td>\n      <td>2019-12-23 00:00:00</td>\n      <td>NaT</td>\n    </tr>\n    <tr>\n      <th>1252</th>\n      <td>NaN</td>\n      <td>готов</td>\n      <td>готов</td>\n      <td>12.12</td>\n      <td>12-17.12</td>\n      <td>09.12</td>\n      <td>13-19.12</td>\n      <td>10-17.12</td>\n      <td>06.12/10.12</td>\n      <td>09-16.12</td>\n      <td>16-20.12</td>\n      <td>10.12</td>\n      <td>11-19.12</td>\n      <td>16/19.12</td>\n      <td>нет</td>\n      <td>20-23.12</td>\n      <td>23.12</td>\n      <td>2019-12-24 00:00:00</td>\n      <td>NaT</td>\n    </tr>\n  </tbody>\n</table>\n</div>"
     },
     "metadata": {},
     "execution_count": 5
    }
   ],
   "source": [
    "data = pd.read_excel('ПП 25.08.2020.xlsx', sheet_name='2020', index_col=1)\n",
    "data.head(15)"
   ]
  },
  {
   "cell_type": "code",
   "execution_count": 6,
   "metadata": {},
   "outputs": [
    {
     "output_type": "execute_result",
     "data": {
      "text/plain": "         Unnamed: 0 Unnamed: 2 Unnamed: 3 Unnamed: 4 Производственный план  \\\nNaN             NaN        NaN        NaN        NaN                   NaN   \n№ з/з           NaN    Заливка        NaN    Навеска                   NaN   \nNaN             NaN         НМ         ВМ         НМ                    ВМ   \nдекабрь         NaN        NaN        NaN        NaN                   NaN   \n1250            NaN      готов      готов      20.11              20-25.11   \n\n           Unnamed: 6    Unnamed: 7 Unnamed: 8     Unnamed: 9    Unnamed: 10  \\\nNaN               NaN           NaN        NaN            NaN            NaN   \n№ з/з    Передача ЭМУ  Сборка щитов  Монтаж СН  Шина УВР/ТР-Р  Сборка 0,4 кВ   \nNaN               NaN           NaN        NaN            NaN            NaN   \nдекабрь           NaN           NaN        NaN            NaN            NaN   \n1250            готов      20-25.11   20-23.11          готов          готов   \n\n            Unnamed: 11     Unnamed: 12      Unnamed: 13       Unnamed: 14  \\\nNaN                 NaN             NaN              NaN               NaN   \n№ з/з    Втор-ка 0,4 кВ  Сборка 6/10 кВ  Втор-ка 6/10 кВ  Уст-ка 0,4/10 кВ   \nNaN                 NaN             NaN              NaN               NaN   \nдекабрь             NaN             NaN              NaN               NaN   \n1250           27-29.11             нет              нет             19.11   \n\n             Unnamed: 15 Unnamed: 16    Unnamed: 17  2020-08-31 00:00:00  \\\nNaN                  NaN         NaN            NaN                  NaN   \n№ з/з    Установ-ка RM-6     Наладка  Комплек-тация             ОТГРУЗКА   \nNaN                  NaN         NaN            NaN                  NaN   \nдекабрь              NaN         NaN            NaN                  NaN   \n1250               20.11       05.12          06.12  2019-12-06 00:00:00   \n\n        Unnamed: 19  \nNaN             NaT  \n№ з/з           NaT  \nNaN             NaT  \nдекабрь         NaT  \n1250            NaT  ",
      "text/html": "<div>\n<style scoped>\n    .dataframe tbody tr th:only-of-type {\n        vertical-align: middle;\n    }\n\n    .dataframe tbody tr th {\n        vertical-align: top;\n    }\n\n    .dataframe thead th {\n        text-align: right;\n    }\n</style>\n<table border=\"1\" class=\"dataframe\">\n  <thead>\n    <tr style=\"text-align: right;\">\n      <th></th>\n      <th>Unnamed: 0</th>\n      <th>Unnamed: 2</th>\n      <th>Unnamed: 3</th>\n      <th>Unnamed: 4</th>\n      <th>Производственный план</th>\n      <th>Unnamed: 6</th>\n      <th>Unnamed: 7</th>\n      <th>Unnamed: 8</th>\n      <th>Unnamed: 9</th>\n      <th>Unnamed: 10</th>\n      <th>Unnamed: 11</th>\n      <th>Unnamed: 12</th>\n      <th>Unnamed: 13</th>\n      <th>Unnamed: 14</th>\n      <th>Unnamed: 15</th>\n      <th>Unnamed: 16</th>\n      <th>Unnamed: 17</th>\n      <th>2020-08-31 00:00:00</th>\n      <th>Unnamed: 19</th>\n    </tr>\n  </thead>\n  <tbody>\n    <tr>\n      <th>NaN</th>\n      <td>NaN</td>\n      <td>NaN</td>\n      <td>NaN</td>\n      <td>NaN</td>\n      <td>NaN</td>\n      <td>NaN</td>\n      <td>NaN</td>\n      <td>NaN</td>\n      <td>NaN</td>\n      <td>NaN</td>\n      <td>NaN</td>\n      <td>NaN</td>\n      <td>NaN</td>\n      <td>NaN</td>\n      <td>NaN</td>\n      <td>NaN</td>\n      <td>NaN</td>\n      <td>NaN</td>\n      <td>NaT</td>\n    </tr>\n    <tr>\n      <th>№ з/з</th>\n      <td>NaN</td>\n      <td>Заливка</td>\n      <td>NaN</td>\n      <td>Навеска</td>\n      <td>NaN</td>\n      <td>Передача ЭМУ</td>\n      <td>Сборка щитов</td>\n      <td>Монтаж СН</td>\n      <td>Шина УВР/ТР-Р</td>\n      <td>Сборка 0,4 кВ</td>\n      <td>Втор-ка 0,4 кВ</td>\n      <td>Сборка 6/10 кВ</td>\n      <td>Втор-ка 6/10 кВ</td>\n      <td>Уст-ка 0,4/10 кВ</td>\n      <td>Установ-ка RM-6</td>\n      <td>Наладка</td>\n      <td>Комплек-тация</td>\n      <td>ОТГРУЗКА</td>\n      <td>NaT</td>\n    </tr>\n    <tr>\n      <th>NaN</th>\n      <td>NaN</td>\n      <td>НМ</td>\n      <td>ВМ</td>\n      <td>НМ</td>\n      <td>ВМ</td>\n      <td>NaN</td>\n      <td>NaN</td>\n      <td>NaN</td>\n      <td>NaN</td>\n      <td>NaN</td>\n      <td>NaN</td>\n      <td>NaN</td>\n      <td>NaN</td>\n      <td>NaN</td>\n      <td>NaN</td>\n      <td>NaN</td>\n      <td>NaN</td>\n      <td>NaN</td>\n      <td>NaT</td>\n    </tr>\n    <tr>\n      <th>декабрь</th>\n      <td>NaN</td>\n      <td>NaN</td>\n      <td>NaN</td>\n      <td>NaN</td>\n      <td>NaN</td>\n      <td>NaN</td>\n      <td>NaN</td>\n      <td>NaN</td>\n      <td>NaN</td>\n      <td>NaN</td>\n      <td>NaN</td>\n      <td>NaN</td>\n      <td>NaN</td>\n      <td>NaN</td>\n      <td>NaN</td>\n      <td>NaN</td>\n      <td>NaN</td>\n      <td>NaN</td>\n      <td>NaT</td>\n    </tr>\n    <tr>\n      <th>1250</th>\n      <td>NaN</td>\n      <td>готов</td>\n      <td>готов</td>\n      <td>20.11</td>\n      <td>20-25.11</td>\n      <td>готов</td>\n      <td>20-25.11</td>\n      <td>20-23.11</td>\n      <td>готов</td>\n      <td>готов</td>\n      <td>27-29.11</td>\n      <td>нет</td>\n      <td>нет</td>\n      <td>19.11</td>\n      <td>20.11</td>\n      <td>05.12</td>\n      <td>06.12</td>\n      <td>2019-12-06 00:00:00</td>\n      <td>NaT</td>\n    </tr>\n  </tbody>\n</table>\n</div>"
     },
     "metadata": {},
     "execution_count": 6
    }
   ],
   "source": [
    "data.head(5)"
   ]
  },
  {
   "cell_type": "code",
   "execution_count": 30,
   "metadata": {},
   "outputs": [
    {
     "output_type": "error",
     "ename": "SyntaxError",
     "evalue": "invalid syntax (<ipython-input-30-4cc207abbd70>, line 1)",
     "traceback": [
      "\u001b[1;36m  File \u001b[1;32m\"<ipython-input-30-4cc207abbd70>\"\u001b[1;36m, line \u001b[1;32m1\u001b[0m\n\u001b[1;33m    print(data.Unnamed:0)\u001b[0m\n\u001b[1;37m                      ^\u001b[0m\n\u001b[1;31mSyntaxError\u001b[0m\u001b[1;31m:\u001b[0m invalid syntax\n"
     ]
    }
   ],
   "source": []
  },
  {
   "cell_type": "code",
   "execution_count": 7,
   "metadata": {},
   "outputs": [
    {
     "output_type": "execute_result",
     "data": {
      "text/plain": "85"
     },
     "metadata": {},
     "execution_count": 7
    }
   ],
   "source": [
    "data.index.get_loc('сентябрь')"
   ]
  },
  {
   "cell_type": "code",
   "execution_count": 8,
   "metadata": {},
   "outputs": [
    {
     "output_type": "execute_result",
     "data": {
      "text/plain": "98"
     },
     "metadata": {},
     "execution_count": 8
    }
   ],
   "source": [
    "data.shape[0]"
   ]
  },
  {
   "cell_type": "code",
   "execution_count": 72,
   "metadata": {},
   "outputs": [
    {
     "output_type": "execute_result",
     "data": {
      "text/plain": "         Unnamed: 2 Unnamed: 3 Unnamed: 4 Производственный план Unnamed: 6  \\\nсентябрь        NaN        NaN        NaN                   NaN        NaN   \n1330          готов      готов      готов                 готов      готов   \n1324          готов      готов      28.08              28-01.09      01.09   \n\n         Unnamed: 7 Unnamed: 8 Unnamed: 9 Unnamed: 10 Unnamed: 11 Unnamed: 12  \\\nсентябрь        NaN        NaN        NaN         NaN         NaN         NaN   \n1330          готов   31-01.09      26.08    26-28.08    28-31.08         нет   \n1324          28.08   02-04.09   27-31.08    28-01.09  01-08.09 А         нет   \n\n         Unnamed: 13 Unnamed: 14 Unnamed: 15 Unnamed: 16 Unnamed: 17  \\\nсентябрь         NaN         NaN         NaN         NaN         NaN   \n1330             нет       31.08       31.08       01.09       31.08   \n1324             нет       02.09       02.09       09.09       10.09   \n\n          2020-08-31 00:00:00 Unnamed: 19  \nсентябрь                  NaN         NaT  \n1330      2020-09-10 00:00:00         NaT  \n1324      2020-09-15 00:00:00         NaT  ",
      "text/html": "<div>\n<style scoped>\n    .dataframe tbody tr th:only-of-type {\n        vertical-align: middle;\n    }\n\n    .dataframe tbody tr th {\n        vertical-align: top;\n    }\n\n    .dataframe thead th {\n        text-align: right;\n    }\n</style>\n<table border=\"1\" class=\"dataframe\">\n  <thead>\n    <tr style=\"text-align: right;\">\n      <th></th>\n      <th>Unnamed: 2</th>\n      <th>Unnamed: 3</th>\n      <th>Unnamed: 4</th>\n      <th>Производственный план</th>\n      <th>Unnamed: 6</th>\n      <th>Unnamed: 7</th>\n      <th>Unnamed: 8</th>\n      <th>Unnamed: 9</th>\n      <th>Unnamed: 10</th>\n      <th>Unnamed: 11</th>\n      <th>Unnamed: 12</th>\n      <th>Unnamed: 13</th>\n      <th>Unnamed: 14</th>\n      <th>Unnamed: 15</th>\n      <th>Unnamed: 16</th>\n      <th>Unnamed: 17</th>\n      <th>2020-08-31 00:00:00</th>\n      <th>Unnamed: 19</th>\n    </tr>\n  </thead>\n  <tbody>\n    <tr>\n      <th>сентябрь</th>\n      <td>NaN</td>\n      <td>NaN</td>\n      <td>NaN</td>\n      <td>NaN</td>\n      <td>NaN</td>\n      <td>NaN</td>\n      <td>NaN</td>\n      <td>NaN</td>\n      <td>NaN</td>\n      <td>NaN</td>\n      <td>NaN</td>\n      <td>NaN</td>\n      <td>NaN</td>\n      <td>NaN</td>\n      <td>NaN</td>\n      <td>NaN</td>\n      <td>NaN</td>\n      <td>NaT</td>\n    </tr>\n    <tr>\n      <th>1330</th>\n      <td>готов</td>\n      <td>готов</td>\n      <td>готов</td>\n      <td>готов</td>\n      <td>готов</td>\n      <td>готов</td>\n      <td>31-01.09</td>\n      <td>26.08</td>\n      <td>26-28.08</td>\n      <td>28-31.08</td>\n      <td>нет</td>\n      <td>нет</td>\n      <td>31.08</td>\n      <td>31.08</td>\n      <td>01.09</td>\n      <td>31.08</td>\n      <td>2020-09-10 00:00:00</td>\n      <td>NaT</td>\n    </tr>\n    <tr>\n      <th>1324</th>\n      <td>готов</td>\n      <td>готов</td>\n      <td>28.08</td>\n      <td>28-01.09</td>\n      <td>01.09</td>\n      <td>28.08</td>\n      <td>02-04.09</td>\n      <td>27-31.08</td>\n      <td>28-01.09</td>\n      <td>01-08.09 А</td>\n      <td>нет</td>\n      <td>нет</td>\n      <td>02.09</td>\n      <td>02.09</td>\n      <td>09.09</td>\n      <td>10.09</td>\n      <td>2020-09-15 00:00:00</td>\n      <td>NaT</td>\n    </tr>\n  </tbody>\n</table>\n</div>"
     },
     "metadata": {},
     "execution_count": 72
    }
   ],
   "source": [
    "df = data.iloc[data.index.get_loc('сентябрь'):data.shape[0]]\n",
    "df = df.iloc[:,1:]\n",
    "df.head(3)"
   ]
  },
  {
   "cell_type": "code",
   "execution_count": 73,
   "metadata": {},
   "outputs": [
    {
     "output_type": "execute_result",
     "data": {
      "text/plain": "(13, 18)"
     },
     "metadata": {},
     "execution_count": 73
    }
   ],
   "source": [
    "df.shape"
   ]
  },
  {
   "cell_type": "code",
   "execution_count": 79,
   "metadata": {},
   "outputs": [
    {
     "output_type": "error",
     "ename": "NameError",
     "evalue": "name 'pd' is not defined",
     "traceback": [
      "\u001b[1;31m---------------------------------------------------------------------------\u001b[0m",
      "\u001b[1;31mNameError\u001b[0m                                 Traceback (most recent call last)",
      "\u001b[1;32m<ipython-input-79-7e3a79b6ecd9>\u001b[0m in \u001b[0;36m<module>\u001b[1;34m\u001b[0m\n\u001b[0;32m      1\u001b[0m \u001b[0mget_ipython\u001b[0m\u001b[1;33m(\u001b[0m\u001b[1;33m)\u001b[0m\u001b[1;33m.\u001b[0m\u001b[0mrun_line_magic\u001b[0m\u001b[1;33m(\u001b[0m\u001b[1;34m'autoreload'\u001b[0m\u001b[1;33m,\u001b[0m \u001b[1;34m''\u001b[0m\u001b[1;33m)\u001b[0m\u001b[1;33m\u001b[0m\u001b[1;33m\u001b[0m\u001b[0m\n\u001b[1;32m----> 2\u001b[1;33m \u001b[0mdf\u001b[0m\u001b[1;33m.\u001b[0m\u001b[0mapply\u001b[0m\u001b[1;33m(\u001b[0m\u001b[1;32mlambda\u001b[0m \u001b[0mrow\u001b[0m\u001b[1;33m:\u001b[0m \u001b[0mutils\u001b[0m\u001b[1;33m.\u001b[0m\u001b[0mreformat_dataframe\u001b[0m\u001b[1;33m(\u001b[0m\u001b[0mrow\u001b[0m\u001b[1;33m)\u001b[0m\u001b[1;33m,\u001b[0m\u001b[0maxis\u001b[0m\u001b[1;33m=\u001b[0m\u001b[1;36m1\u001b[0m\u001b[1;33m)\u001b[0m\u001b[1;33m\u001b[0m\u001b[1;33m\u001b[0m\u001b[0m\n\u001b[0m",
      "\u001b[1;32mC:\\ProgramData\\Anaconda3\\envs\\Plan\\lib\\site-packages\\pandas\\core\\frame.py\u001b[0m in \u001b[0;36mapply\u001b[1;34m(self, func, axis, raw, result_type, args, **kwds)\u001b[0m\n\u001b[0;32m   7543\u001b[0m             \u001b[0mkwds\u001b[0m\u001b[1;33m=\u001b[0m\u001b[0mkwds\u001b[0m\u001b[1;33m,\u001b[0m\u001b[1;33m\u001b[0m\u001b[1;33m\u001b[0m\u001b[0m\n\u001b[0;32m   7544\u001b[0m         )\n\u001b[1;32m-> 7545\u001b[1;33m         \u001b[1;32mreturn\u001b[0m \u001b[0mop\u001b[0m\u001b[1;33m.\u001b[0m\u001b[0mget_result\u001b[0m\u001b[1;33m(\u001b[0m\u001b[1;33m)\u001b[0m\u001b[1;33m\u001b[0m\u001b[1;33m\u001b[0m\u001b[0m\n\u001b[0m\u001b[0;32m   7546\u001b[0m \u001b[1;33m\u001b[0m\u001b[0m\n\u001b[0;32m   7547\u001b[0m     \u001b[1;32mdef\u001b[0m \u001b[0mapplymap\u001b[0m\u001b[1;33m(\u001b[0m\u001b[0mself\u001b[0m\u001b[1;33m,\u001b[0m \u001b[0mfunc\u001b[0m\u001b[1;33m)\u001b[0m \u001b[1;33m->\u001b[0m \u001b[1;34m\"DataFrame\"\u001b[0m\u001b[1;33m:\u001b[0m\u001b[1;33m\u001b[0m\u001b[1;33m\u001b[0m\u001b[0m\n",
      "\u001b[1;32mC:\\ProgramData\\Anaconda3\\envs\\Plan\\lib\\site-packages\\pandas\\core\\apply.py\u001b[0m in \u001b[0;36mget_result\u001b[1;34m(self)\u001b[0m\n\u001b[0;32m    178\u001b[0m             \u001b[1;32mreturn\u001b[0m \u001b[0mself\u001b[0m\u001b[1;33m.\u001b[0m\u001b[0mapply_raw\u001b[0m\u001b[1;33m(\u001b[0m\u001b[1;33m)\u001b[0m\u001b[1;33m\u001b[0m\u001b[1;33m\u001b[0m\u001b[0m\n\u001b[0;32m    179\u001b[0m \u001b[1;33m\u001b[0m\u001b[0m\n\u001b[1;32m--> 180\u001b[1;33m         \u001b[1;32mreturn\u001b[0m \u001b[0mself\u001b[0m\u001b[1;33m.\u001b[0m\u001b[0mapply_standard\u001b[0m\u001b[1;33m(\u001b[0m\u001b[1;33m)\u001b[0m\u001b[1;33m\u001b[0m\u001b[1;33m\u001b[0m\u001b[0m\n\u001b[0m\u001b[0;32m    181\u001b[0m \u001b[1;33m\u001b[0m\u001b[0m\n\u001b[0;32m    182\u001b[0m     \u001b[1;32mdef\u001b[0m \u001b[0mapply_empty_result\u001b[0m\u001b[1;33m(\u001b[0m\u001b[0mself\u001b[0m\u001b[1;33m)\u001b[0m\u001b[1;33m:\u001b[0m\u001b[1;33m\u001b[0m\u001b[1;33m\u001b[0m\u001b[0m\n",
      "\u001b[1;32mC:\\ProgramData\\Anaconda3\\envs\\Plan\\lib\\site-packages\\pandas\\core\\apply.py\u001b[0m in \u001b[0;36mapply_standard\u001b[1;34m(self)\u001b[0m\n\u001b[0;32m    253\u001b[0m \u001b[1;33m\u001b[0m\u001b[0m\n\u001b[0;32m    254\u001b[0m     \u001b[1;32mdef\u001b[0m \u001b[0mapply_standard\u001b[0m\u001b[1;33m(\u001b[0m\u001b[0mself\u001b[0m\u001b[1;33m)\u001b[0m\u001b[1;33m:\u001b[0m\u001b[1;33m\u001b[0m\u001b[1;33m\u001b[0m\u001b[0m\n\u001b[1;32m--> 255\u001b[1;33m         \u001b[0mresults\u001b[0m\u001b[1;33m,\u001b[0m \u001b[0mres_index\u001b[0m \u001b[1;33m=\u001b[0m \u001b[0mself\u001b[0m\u001b[1;33m.\u001b[0m\u001b[0mapply_series_generator\u001b[0m\u001b[1;33m(\u001b[0m\u001b[1;33m)\u001b[0m\u001b[1;33m\u001b[0m\u001b[1;33m\u001b[0m\u001b[0m\n\u001b[0m\u001b[0;32m    256\u001b[0m \u001b[1;33m\u001b[0m\u001b[0m\n\u001b[0;32m    257\u001b[0m         \u001b[1;31m# wrap results\u001b[0m\u001b[1;33m\u001b[0m\u001b[1;33m\u001b[0m\u001b[1;33m\u001b[0m\u001b[0m\n",
      "\u001b[1;32mC:\\ProgramData\\Anaconda3\\envs\\Plan\\lib\\site-packages\\pandas\\core\\apply.py\u001b[0m in \u001b[0;36mapply_series_generator\u001b[1;34m(self)\u001b[0m\n\u001b[0;32m    282\u001b[0m                 \u001b[1;32mfor\u001b[0m \u001b[0mi\u001b[0m\u001b[1;33m,\u001b[0m \u001b[0mv\u001b[0m \u001b[1;32min\u001b[0m \u001b[0menumerate\u001b[0m\u001b[1;33m(\u001b[0m\u001b[0mseries_gen\u001b[0m\u001b[1;33m)\u001b[0m\u001b[1;33m:\u001b[0m\u001b[1;33m\u001b[0m\u001b[1;33m\u001b[0m\u001b[0m\n\u001b[0;32m    283\u001b[0m                     \u001b[1;31m# ignore SettingWithCopy here in case the user mutates\u001b[0m\u001b[1;33m\u001b[0m\u001b[1;33m\u001b[0m\u001b[1;33m\u001b[0m\u001b[0m\n\u001b[1;32m--> 284\u001b[1;33m                     \u001b[0mresults\u001b[0m\u001b[1;33m[\u001b[0m\u001b[0mi\u001b[0m\u001b[1;33m]\u001b[0m \u001b[1;33m=\u001b[0m \u001b[0mself\u001b[0m\u001b[1;33m.\u001b[0m\u001b[0mf\u001b[0m\u001b[1;33m(\u001b[0m\u001b[0mv\u001b[0m\u001b[1;33m)\u001b[0m\u001b[1;33m\u001b[0m\u001b[1;33m\u001b[0m\u001b[0m\n\u001b[0m\u001b[0;32m    285\u001b[0m                     \u001b[1;32mif\u001b[0m \u001b[0misinstance\u001b[0m\u001b[1;33m(\u001b[0m\u001b[0mresults\u001b[0m\u001b[1;33m[\u001b[0m\u001b[0mi\u001b[0m\u001b[1;33m]\u001b[0m\u001b[1;33m,\u001b[0m \u001b[0mABCSeries\u001b[0m\u001b[1;33m)\u001b[0m\u001b[1;33m:\u001b[0m\u001b[1;33m\u001b[0m\u001b[1;33m\u001b[0m\u001b[0m\n\u001b[0;32m    286\u001b[0m                         \u001b[1;31m# If we have a view on v, we need to make a copy because\u001b[0m\u001b[1;33m\u001b[0m\u001b[1;33m\u001b[0m\u001b[1;33m\u001b[0m\u001b[0m\n",
      "\u001b[1;32m<ipython-input-79-7e3a79b6ecd9>\u001b[0m in \u001b[0;36m<lambda>\u001b[1;34m(row)\u001b[0m\n\u001b[0;32m      1\u001b[0m \u001b[0mget_ipython\u001b[0m\u001b[1;33m(\u001b[0m\u001b[1;33m)\u001b[0m\u001b[1;33m.\u001b[0m\u001b[0mrun_line_magic\u001b[0m\u001b[1;33m(\u001b[0m\u001b[1;34m'autoreload'\u001b[0m\u001b[1;33m,\u001b[0m \u001b[1;34m''\u001b[0m\u001b[1;33m)\u001b[0m\u001b[1;33m\u001b[0m\u001b[1;33m\u001b[0m\u001b[0m\n\u001b[1;32m----> 2\u001b[1;33m \u001b[0mdf\u001b[0m\u001b[1;33m.\u001b[0m\u001b[0mapply\u001b[0m\u001b[1;33m(\u001b[0m\u001b[1;32mlambda\u001b[0m \u001b[0mrow\u001b[0m\u001b[1;33m:\u001b[0m \u001b[0mutils\u001b[0m\u001b[1;33m.\u001b[0m\u001b[0mreformat_dataframe\u001b[0m\u001b[1;33m(\u001b[0m\u001b[0mrow\u001b[0m\u001b[1;33m)\u001b[0m\u001b[1;33m,\u001b[0m\u001b[0maxis\u001b[0m\u001b[1;33m=\u001b[0m\u001b[1;36m1\u001b[0m\u001b[1;33m)\u001b[0m\u001b[1;33m\u001b[0m\u001b[1;33m\u001b[0m\u001b[0m\n\u001b[0m",
      "\u001b[1;32mc:\\Users\\user\\Documents\\Projects\\Plan\\plan_utils.py\u001b[0m in \u001b[0;36mreformat_dataframe\u001b[1;34m(row)\u001b[0m\n\u001b[0;32m     30\u001b[0m \u001b[1;33m\u001b[0m\u001b[0m\n\u001b[0;32m     31\u001b[0m \u001b[1;31m# Convert the dictionary into DataFrame\u001b[0m\u001b[1;33m\u001b[0m\u001b[1;33m\u001b[0m\u001b[1;33m\u001b[0m\u001b[0m\n\u001b[1;32m---> 32\u001b[1;33m     \u001b[0mdf\u001b[0m \u001b[1;33m=\u001b[0m \u001b[0mpd\u001b[0m\u001b[1;33m.\u001b[0m\u001b[0mDataFrame\u001b[0m\u001b[1;33m(\u001b[0m\u001b[0mdata\u001b[0m\u001b[1;33m)\u001b[0m\u001b[1;33m\u001b[0m\u001b[1;33m\u001b[0m\u001b[0m\n\u001b[0m\u001b[0;32m     33\u001b[0m \u001b[1;33m\u001b[0m\u001b[0m\n\u001b[0;32m     34\u001b[0m     \u001b[1;32mreturn\u001b[0m \u001b[0mdf\u001b[0m\u001b[1;33m[\u001b[0m\u001b[1;34m'Name'\u001b[0m\u001b[1;33m]\u001b[0m\u001b[1;33m\u001b[0m\u001b[1;33m\u001b[0m\u001b[0m\n",
      "\u001b[1;31mNameError\u001b[0m: name 'pd' is not defined"
     ]
    }
   ],
   "source": [
    "%autoreload\n",
    "df.apply(lambda row: utils.reformat_dataframe(row),axis=1)"
   ]
  },
  {
   "cell_type": "code",
   "execution_count": 24,
   "metadata": {},
   "outputs": [
    {
     "output_type": "execute_result",
     "data": {
      "text/plain": "int"
     },
     "metadata": {},
     "execution_count": 24
    }
   ],
   "source": [
    "type(str_int.name)"
   ]
  },
  {
   "cell_type": "code",
   "execution_count": 11,
   "metadata": {},
   "outputs": [
    {
     "output_type": "execute_result",
     "data": {
      "text/plain": "['19.05']"
     },
     "metadata": {},
     "execution_count": 11
    }
   ],
   "source": [
    "\"19.05\".split('-')"
   ]
  },
  {
   "cell_type": "code",
   "execution_count": 12,
   "metadata": {
    "tags": []
   },
   "outputs": [
    {
     "output_type": "execute_result",
     "data": {
      "text/plain": "(datetime.datetime(2020, 12, 13, 0, 0), datetime.datetime(2021, 1, 10, 0, 0))"
     },
     "metadata": {},
     "execution_count": 12
    }
   ],
   "source": [
    "str_int = '13-10.01'\n",
    "utils.get_two_dates(str_int)"
   ]
  },
  {
   "cell_type": "code",
   "execution_count": 13,
   "metadata": {},
   "outputs": [
    {
     "output_type": "execute_result",
     "data": {
      "text/plain": "    Task       Start      Finish\n0  Job A  2009-01-01  2009-02-28\n1  Job B  2009-03-05  2009-04-15\n2  Job C  2009-02-20  2009-05-30",
      "text/html": "<div>\n<style scoped>\n    .dataframe tbody tr th:only-of-type {\n        vertical-align: middle;\n    }\n\n    .dataframe tbody tr th {\n        vertical-align: top;\n    }\n\n    .dataframe thead th {\n        text-align: right;\n    }\n</style>\n<table border=\"1\" class=\"dataframe\">\n  <thead>\n    <tr style=\"text-align: right;\">\n      <th></th>\n      <th>Task</th>\n      <th>Start</th>\n      <th>Finish</th>\n    </tr>\n  </thead>\n  <tbody>\n    <tr>\n      <th>0</th>\n      <td>Job A</td>\n      <td>2009-01-01</td>\n      <td>2009-02-28</td>\n    </tr>\n    <tr>\n      <th>1</th>\n      <td>Job B</td>\n      <td>2009-03-05</td>\n      <td>2009-04-15</td>\n    </tr>\n    <tr>\n      <th>2</th>\n      <td>Job C</td>\n      <td>2009-02-20</td>\n      <td>2009-05-30</td>\n    </tr>\n  </tbody>\n</table>\n</div>"
     },
     "metadata": {},
     "execution_count": 13
    }
   ],
   "source": [
    "df = pd.DataFrame([\n",
    "    dict(Task=\"Job A\", Start='2009-01-01', Finish='2009-02-28'),\n",
    "    dict(Task=\"Job B\", Start='2009-03-05', Finish='2009-04-15'),\n",
    "    dict(Task=\"Job C\", Start='2009-02-20', Finish='2009-05-30')\n",
    "])\n",
    "df"
   ]
  },
  {
   "cell_type": "code",
   "execution_count": 14,
   "metadata": {},
   "outputs": [
    {
     "output_type": "display_data",
     "data": {
      "application/vnd.plotly.v1+json": {
       "config": {
        "plotlyServerURL": "https://plot.ly"
       },
       "data": [
        {
         "alignmentgroup": "True",
         "base": [
          "2009-01-01",
          "2009-03-05",
          "2009-02-20"
         ],
         "hovertemplate": "Start=%{base}<br>Finish=%{x}<br>Task=%{y}<extra></extra>",
         "legendgroup": "",
         "marker": {
          "color": "#636efa"
         },
         "name": "",
         "offsetgroup": "",
         "orientation": "h",
         "showlegend": false,
         "textposition": "auto",
         "type": "bar",
         "x": [
          5011200000,
          3542400000,
          8553600000
         ],
         "xaxis": "x",
         "y": [
          "Job A",
          "Job B",
          "Job C"
         ],
         "yaxis": "y"
        }
       ],
       "layout": {
        "barmode": "overlay",
        "legend": {
         "tracegroupgap": 0
        },
        "margin": {
         "t": 60
        },
        "template": {
         "data": {
          "bar": [
           {
            "error_x": {
             "color": "#2a3f5f"
            },
            "error_y": {
             "color": "#2a3f5f"
            },
            "marker": {
             "line": {
              "color": "#E5ECF6",
              "width": 0.5
             }
            },
            "type": "bar"
           }
          ],
          "barpolar": [
           {
            "marker": {
             "line": {
              "color": "#E5ECF6",
              "width": 0.5
             }
            },
            "type": "barpolar"
           }
          ],
          "carpet": [
           {
            "aaxis": {
             "endlinecolor": "#2a3f5f",
             "gridcolor": "white",
             "linecolor": "white",
             "minorgridcolor": "white",
             "startlinecolor": "#2a3f5f"
            },
            "baxis": {
             "endlinecolor": "#2a3f5f",
             "gridcolor": "white",
             "linecolor": "white",
             "minorgridcolor": "white",
             "startlinecolor": "#2a3f5f"
            },
            "type": "carpet"
           }
          ],
          "choropleth": [
           {
            "colorbar": {
             "outlinewidth": 0,
             "ticks": ""
            },
            "type": "choropleth"
           }
          ],
          "contour": [
           {
            "colorbar": {
             "outlinewidth": 0,
             "ticks": ""
            },
            "colorscale": [
             [
              0,
              "#0d0887"
             ],
             [
              0.1111111111111111,
              "#46039f"
             ],
             [
              0.2222222222222222,
              "#7201a8"
             ],
             [
              0.3333333333333333,
              "#9c179e"
             ],
             [
              0.4444444444444444,
              "#bd3786"
             ],
             [
              0.5555555555555556,
              "#d8576b"
             ],
             [
              0.6666666666666666,
              "#ed7953"
             ],
             [
              0.7777777777777778,
              "#fb9f3a"
             ],
             [
              0.8888888888888888,
              "#fdca26"
             ],
             [
              1,
              "#f0f921"
             ]
            ],
            "type": "contour"
           }
          ],
          "contourcarpet": [
           {
            "colorbar": {
             "outlinewidth": 0,
             "ticks": ""
            },
            "type": "contourcarpet"
           }
          ],
          "heatmap": [
           {
            "colorbar": {
             "outlinewidth": 0,
             "ticks": ""
            },
            "colorscale": [
             [
              0,
              "#0d0887"
             ],
             [
              0.1111111111111111,
              "#46039f"
             ],
             [
              0.2222222222222222,
              "#7201a8"
             ],
             [
              0.3333333333333333,
              "#9c179e"
             ],
             [
              0.4444444444444444,
              "#bd3786"
             ],
             [
              0.5555555555555556,
              "#d8576b"
             ],
             [
              0.6666666666666666,
              "#ed7953"
             ],
             [
              0.7777777777777778,
              "#fb9f3a"
             ],
             [
              0.8888888888888888,
              "#fdca26"
             ],
             [
              1,
              "#f0f921"
             ]
            ],
            "type": "heatmap"
           }
          ],
          "heatmapgl": [
           {
            "colorbar": {
             "outlinewidth": 0,
             "ticks": ""
            },
            "colorscale": [
             [
              0,
              "#0d0887"
             ],
             [
              0.1111111111111111,
              "#46039f"
             ],
             [
              0.2222222222222222,
              "#7201a8"
             ],
             [
              0.3333333333333333,
              "#9c179e"
             ],
             [
              0.4444444444444444,
              "#bd3786"
             ],
             [
              0.5555555555555556,
              "#d8576b"
             ],
             [
              0.6666666666666666,
              "#ed7953"
             ],
             [
              0.7777777777777778,
              "#fb9f3a"
             ],
             [
              0.8888888888888888,
              "#fdca26"
             ],
             [
              1,
              "#f0f921"
             ]
            ],
            "type": "heatmapgl"
           }
          ],
          "histogram": [
           {
            "marker": {
             "colorbar": {
              "outlinewidth": 0,
              "ticks": ""
             }
            },
            "type": "histogram"
           }
          ],
          "histogram2d": [
           {
            "colorbar": {
             "outlinewidth": 0,
             "ticks": ""
            },
            "colorscale": [
             [
              0,
              "#0d0887"
             ],
             [
              0.1111111111111111,
              "#46039f"
             ],
             [
              0.2222222222222222,
              "#7201a8"
             ],
             [
              0.3333333333333333,
              "#9c179e"
             ],
             [
              0.4444444444444444,
              "#bd3786"
             ],
             [
              0.5555555555555556,
              "#d8576b"
             ],
             [
              0.6666666666666666,
              "#ed7953"
             ],
             [
              0.7777777777777778,
              "#fb9f3a"
             ],
             [
              0.8888888888888888,
              "#fdca26"
             ],
             [
              1,
              "#f0f921"
             ]
            ],
            "type": "histogram2d"
           }
          ],
          "histogram2dcontour": [
           {
            "colorbar": {
             "outlinewidth": 0,
             "ticks": ""
            },
            "colorscale": [
             [
              0,
              "#0d0887"
             ],
             [
              0.1111111111111111,
              "#46039f"
             ],
             [
              0.2222222222222222,
              "#7201a8"
             ],
             [
              0.3333333333333333,
              "#9c179e"
             ],
             [
              0.4444444444444444,
              "#bd3786"
             ],
             [
              0.5555555555555556,
              "#d8576b"
             ],
             [
              0.6666666666666666,
              "#ed7953"
             ],
             [
              0.7777777777777778,
              "#fb9f3a"
             ],
             [
              0.8888888888888888,
              "#fdca26"
             ],
             [
              1,
              "#f0f921"
             ]
            ],
            "type": "histogram2dcontour"
           }
          ],
          "mesh3d": [
           {
            "colorbar": {
             "outlinewidth": 0,
             "ticks": ""
            },
            "type": "mesh3d"
           }
          ],
          "parcoords": [
           {
            "line": {
             "colorbar": {
              "outlinewidth": 0,
              "ticks": ""
             }
            },
            "type": "parcoords"
           }
          ],
          "pie": [
           {
            "automargin": true,
            "type": "pie"
           }
          ],
          "scatter": [
           {
            "marker": {
             "colorbar": {
              "outlinewidth": 0,
              "ticks": ""
             }
            },
            "type": "scatter"
           }
          ],
          "scatter3d": [
           {
            "line": {
             "colorbar": {
              "outlinewidth": 0,
              "ticks": ""
             }
            },
            "marker": {
             "colorbar": {
              "outlinewidth": 0,
              "ticks": ""
             }
            },
            "type": "scatter3d"
           }
          ],
          "scattercarpet": [
           {
            "marker": {
             "colorbar": {
              "outlinewidth": 0,
              "ticks": ""
             }
            },
            "type": "scattercarpet"
           }
          ],
          "scattergeo": [
           {
            "marker": {
             "colorbar": {
              "outlinewidth": 0,
              "ticks": ""
             }
            },
            "type": "scattergeo"
           }
          ],
          "scattergl": [
           {
            "marker": {
             "colorbar": {
              "outlinewidth": 0,
              "ticks": ""
             }
            },
            "type": "scattergl"
           }
          ],
          "scattermapbox": [
           {
            "marker": {
             "colorbar": {
              "outlinewidth": 0,
              "ticks": ""
             }
            },
            "type": "scattermapbox"
           }
          ],
          "scatterpolar": [
           {
            "marker": {
             "colorbar": {
              "outlinewidth": 0,
              "ticks": ""
             }
            },
            "type": "scatterpolar"
           }
          ],
          "scatterpolargl": [
           {
            "marker": {
             "colorbar": {
              "outlinewidth": 0,
              "ticks": ""
             }
            },
            "type": "scatterpolargl"
           }
          ],
          "scatterternary": [
           {
            "marker": {
             "colorbar": {
              "outlinewidth": 0,
              "ticks": ""
             }
            },
            "type": "scatterternary"
           }
          ],
          "surface": [
           {
            "colorbar": {
             "outlinewidth": 0,
             "ticks": ""
            },
            "colorscale": [
             [
              0,
              "#0d0887"
             ],
             [
              0.1111111111111111,
              "#46039f"
             ],
             [
              0.2222222222222222,
              "#7201a8"
             ],
             [
              0.3333333333333333,
              "#9c179e"
             ],
             [
              0.4444444444444444,
              "#bd3786"
             ],
             [
              0.5555555555555556,
              "#d8576b"
             ],
             [
              0.6666666666666666,
              "#ed7953"
             ],
             [
              0.7777777777777778,
              "#fb9f3a"
             ],
             [
              0.8888888888888888,
              "#fdca26"
             ],
             [
              1,
              "#f0f921"
             ]
            ],
            "type": "surface"
           }
          ],
          "table": [
           {
            "cells": {
             "fill": {
              "color": "#EBF0F8"
             },
             "line": {
              "color": "white"
             }
            },
            "header": {
             "fill": {
              "color": "#C8D4E3"
             },
             "line": {
              "color": "white"
             }
            },
            "type": "table"
           }
          ]
         },
         "layout": {
          "annotationdefaults": {
           "arrowcolor": "#2a3f5f",
           "arrowhead": 0,
           "arrowwidth": 1
          },
          "coloraxis": {
           "colorbar": {
            "outlinewidth": 0,
            "ticks": ""
           }
          },
          "colorscale": {
           "diverging": [
            [
             0,
             "#8e0152"
            ],
            [
             0.1,
             "#c51b7d"
            ],
            [
             0.2,
             "#de77ae"
            ],
            [
             0.3,
             "#f1b6da"
            ],
            [
             0.4,
             "#fde0ef"
            ],
            [
             0.5,
             "#f7f7f7"
            ],
            [
             0.6,
             "#e6f5d0"
            ],
            [
             0.7,
             "#b8e186"
            ],
            [
             0.8,
             "#7fbc41"
            ],
            [
             0.9,
             "#4d9221"
            ],
            [
             1,
             "#276419"
            ]
           ],
           "sequential": [
            [
             0,
             "#0d0887"
            ],
            [
             0.1111111111111111,
             "#46039f"
            ],
            [
             0.2222222222222222,
             "#7201a8"
            ],
            [
             0.3333333333333333,
             "#9c179e"
            ],
            [
             0.4444444444444444,
             "#bd3786"
            ],
            [
             0.5555555555555556,
             "#d8576b"
            ],
            [
             0.6666666666666666,
             "#ed7953"
            ],
            [
             0.7777777777777778,
             "#fb9f3a"
            ],
            [
             0.8888888888888888,
             "#fdca26"
            ],
            [
             1,
             "#f0f921"
            ]
           ],
           "sequentialminus": [
            [
             0,
             "#0d0887"
            ],
            [
             0.1111111111111111,
             "#46039f"
            ],
            [
             0.2222222222222222,
             "#7201a8"
            ],
            [
             0.3333333333333333,
             "#9c179e"
            ],
            [
             0.4444444444444444,
             "#bd3786"
            ],
            [
             0.5555555555555556,
             "#d8576b"
            ],
            [
             0.6666666666666666,
             "#ed7953"
            ],
            [
             0.7777777777777778,
             "#fb9f3a"
            ],
            [
             0.8888888888888888,
             "#fdca26"
            ],
            [
             1,
             "#f0f921"
            ]
           ]
          },
          "colorway": [
           "#636efa",
           "#EF553B",
           "#00cc96",
           "#ab63fa",
           "#FFA15A",
           "#19d3f3",
           "#FF6692",
           "#B6E880",
           "#FF97FF",
           "#FECB52"
          ],
          "font": {
           "color": "#2a3f5f"
          },
          "geo": {
           "bgcolor": "white",
           "lakecolor": "white",
           "landcolor": "#E5ECF6",
           "showlakes": true,
           "showland": true,
           "subunitcolor": "white"
          },
          "hoverlabel": {
           "align": "left"
          },
          "hovermode": "closest",
          "mapbox": {
           "style": "light"
          },
          "paper_bgcolor": "white",
          "plot_bgcolor": "#E5ECF6",
          "polar": {
           "angularaxis": {
            "gridcolor": "white",
            "linecolor": "white",
            "ticks": ""
           },
           "bgcolor": "#E5ECF6",
           "radialaxis": {
            "gridcolor": "white",
            "linecolor": "white",
            "ticks": ""
           }
          },
          "scene": {
           "xaxis": {
            "backgroundcolor": "#E5ECF6",
            "gridcolor": "white",
            "gridwidth": 2,
            "linecolor": "white",
            "showbackground": true,
            "ticks": "",
            "zerolinecolor": "white"
           },
           "yaxis": {
            "backgroundcolor": "#E5ECF6",
            "gridcolor": "white",
            "gridwidth": 2,
            "linecolor": "white",
            "showbackground": true,
            "ticks": "",
            "zerolinecolor": "white"
           },
           "zaxis": {
            "backgroundcolor": "#E5ECF6",
            "gridcolor": "white",
            "gridwidth": 2,
            "linecolor": "white",
            "showbackground": true,
            "ticks": "",
            "zerolinecolor": "white"
           }
          },
          "shapedefaults": {
           "line": {
            "color": "#2a3f5f"
           }
          },
          "ternary": {
           "aaxis": {
            "gridcolor": "white",
            "linecolor": "white",
            "ticks": ""
           },
           "baxis": {
            "gridcolor": "white",
            "linecolor": "white",
            "ticks": ""
           },
           "bgcolor": "#E5ECF6",
           "caxis": {
            "gridcolor": "white",
            "linecolor": "white",
            "ticks": ""
           }
          },
          "title": {
           "x": 0.05
          },
          "xaxis": {
           "automargin": true,
           "gridcolor": "white",
           "linecolor": "white",
           "ticks": "",
           "title": {
            "standoff": 15
           },
           "zerolinecolor": "white",
           "zerolinewidth": 2
          },
          "yaxis": {
           "automargin": true,
           "gridcolor": "white",
           "linecolor": "white",
           "ticks": "",
           "title": {
            "standoff": 15
           },
           "zerolinecolor": "white",
           "zerolinewidth": 2
          }
         }
        },
        "xaxis": {
         "anchor": "y",
         "domain": [
          0,
          1
         ],
         "type": "date"
        },
        "yaxis": {
         "anchor": "x",
         "autorange": "reversed",
         "domain": [
          0,
          1
         ],
         "title": {
          "text": "Task"
         }
        }
       }
      }
     },
     "metadata": {}
    }
   ],
   "source": [
    "fig = px.timeline(df, x_start=\"Start\", x_end=\"Finish\", y=\"Task\")\n",
    "fig.update_yaxes(autorange=\"reversed\") # otherwise tasks are listed from the bottom up"
   ]
  },
  {
   "cell_type": "code",
   "execution_count": null,
   "metadata": {},
   "outputs": [],
   "source": []
  }
 ]
}