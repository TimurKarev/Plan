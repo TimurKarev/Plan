{
 "metadata": {
  "language_info": {
   "codemirror_mode": {
    "name": "ipython",
    "version": 3
   },
   "file_extension": ".py",
   "mimetype": "text/x-python",
   "name": "python",
   "nbconvert_exporter": "python",
   "pygments_lexer": "ipython3",
   "version": "3.8.5-final"
  },
  "orig_nbformat": 2,
  "kernelspec": {
   "name": "python_defaultSpec_1599859203233",
   "display_name": "Python 3.8.5 64-bit ('Plan': conda)"
  }
 },
 "nbformat": 4,
 "nbformat_minor": 2,
 "cells": [
  {
   "cell_type": "code",
   "execution_count": 20,
   "metadata": {
    "tags": []
   },
   "outputs": [
    {
     "output_type": "stream",
     "name": "stdout",
     "text": "The autoreload extension is already loaded. To reload it, use:\n  %reload_ext autoreload\n"
    }
   ],
   "source": [
    "%load_ext autoreload"
   ]
  },
  {
   "cell_type": "code",
   "execution_count": 21,
   "metadata": {},
   "outputs": [],
   "source": [
    "%autoreload"
   ]
  },
  {
   "cell_type": "code",
   "execution_count": 3,
   "metadata": {},
   "outputs": [],
   "source": [
    "import xlrd\n",
    "import plotly.express as px\n",
    "import pandas as pd\n",
    "from datetime import datetime as dt\n",
    "from datetime import timedelta\n",
    "import plan_utils as utils\n",
    "import plan_var as V\n",
    "from plan_loader import *"
   ]
  },
  {
   "cell_type": "code",
   "execution_count": 23,
   "metadata": {},
   "outputs": [],
   "source": [
    "#ПП 25.08.2020"
   ]
  },
  {
   "cell_type": "code",
   "execution_count": 4,
   "metadata": {},
   "outputs": [
    {
     "output_type": "execute_result",
     "data": {
      "text/plain": "       Заливка Заливка_1 Навеска Навеска_1 Передача ЭМУ Сборка щитов  \\\n1250     готов     готов   20.11  20-25.11        готов     20-25.11   \n1253     готов     готов   26.11  26-27.11        25.11     26-28.11   \n1259       нет       нет     нет       нет          нет     02-05.12   \n1255     готов     готов   28.11  28-30.11        26.11     05-07.12   \n1256     готов     готов   02.12  02-04.12        29.11     07-10.12   \n1251     готов     готов   05.12  05-07.12        02.12     07-10.12   \n1260       нет       нет     нет       нет          нет     07-10.12   \n1257     готов     готов   09.12  09-11.12        04.12     05-10.12   \n1258       нет       нет     нет       нет          нет          нет   \n1264     готов     готов   готов     готов        готов     10-12.12   \n1252     готов     готов   12.12  12-17.12        09.12     13-19.12   \n1262  08-19.11  13-25.11   18.12  18-20.12        17.12     19-24.12   \n1263  18-27.11  20-04.12   20.12  20-24.12        19.12     24-27.12   \n1262     готов     готов   готов     готов        готов     09-13.01   \n1267     готов     готов   13.01  09-13.01        готов     13-15.01   \n\n     Монтаж СН Шина УВР/ТР-Р Сборка 0,4 кВ Втор-ка 0,4 кВ Сборка 6/10 кВ  \\\n1250  20-23.11         готов         готов       27-29.11            нет   \n1253  25-26.11         готов         готов       02-04.13            нет   \n1259       нет           нет           нет            нет            нет   \n1255  27-29.11   20.11/22.11      25-27.11       05-09.12            нет   \n1256  30-31.11   25.11/27.11   28.11-30.11       06-10.12            нет   \n1251  02-04.12   28.11/02.12      02-04.12       06-10.12            нет   \n1260       нет           нет           нет            нет            нет   \n1257  05-07.12   03.12/05.12      05-07.12       10-13.12            нет   \n1258       нет           нет           нет            нет            нет   \n1264     09.12   05.12/07.12      05-07.12       16-18.12            нет   \n1252  10-17.12   06.12/10.12      09-16.12       16-20.12          10.12   \n1262  18-20.12           нет           нет            нет       12-13.12   \n1263  20-24.12   11.12/13.12      17-20.12       23-25.12    11.11-27.11   \n1262  09-13.01           нет           нет            нет          готов   \n1267  10-14.01         готов         готов       09-14.01            нет   \n\n     Втор-ка 6/10 кВ Уст-ка 0,4/10кВ Установ-ка RM-6   Наладка Комплек-тация  \\\n1250             нет           19.11           20.11     05.12         06.12   \n1253             нет           25.12           27.12     05.13         06.13   \n1259             нет             нет             нет     09.12         09.12   \n1255             нет           29.11           03.12     09.12         10.12   \n1256             нет           03.12           03.12     10.12         11.12   \n1251             нет           05.12           03.12     11.12         11.12   \n1260             нет             нет             нет     11.12         12.12   \n1257             нет           05.12           03.12     13.12         13.12   \n1258             нет             нет           11.12     16.12         17.12   \n1264             нет           09.12           12.12     19.12         20.12   \n1252        11-19.12        16/19.12             нет  20-23.12         23.12   \n1262        16-25.12           20.12             нет     23.12         25.12   \n1263     11.11-11.12        23/02.12             нет     25.12         26.12   \n1262        09-15.01           готов             нет  14-15.01         16.01   \n1267             нет           09.01           10.01     14.01         15.01   \n\n       ОТГРУЗКА ОТГРУЗКА_1  \n1250 2019-12-06        нет  \n1253 2019-12-10        нет  \n1259 2019-12-10        нет  \n1255 2019-12-11        нет  \n1256 2019-12-12        нет  \n1251 2019-12-12        нет  \n1260 2019-12-13        нет  \n1257 2019-12-16        нет  \n1258 2019-12-18        нет  \n1264 2019-12-23        нет  \n1252 2019-12-24        нет  \n1262 2019-12-27        нет  \n1263 2019-12-27        нет  \n1262 2019-12-27        нет  \n1267 2020-01-16        нет  ",
      "text/html": "<div>\n<style scoped>\n    .dataframe tbody tr th:only-of-type {\n        vertical-align: middle;\n    }\n\n    .dataframe tbody tr th {\n        vertical-align: top;\n    }\n\n    .dataframe thead th {\n        text-align: right;\n    }\n</style>\n<table border=\"1\" class=\"dataframe\">\n  <thead>\n    <tr style=\"text-align: right;\">\n      <th></th>\n      <th>Заливка</th>\n      <th>Заливка_1</th>\n      <th>Навеска</th>\n      <th>Навеска_1</th>\n      <th>Передача ЭМУ</th>\n      <th>Сборка щитов</th>\n      <th>Монтаж СН</th>\n      <th>Шина УВР/ТР-Р</th>\n      <th>Сборка 0,4 кВ</th>\n      <th>Втор-ка 0,4 кВ</th>\n      <th>Сборка 6/10 кВ</th>\n      <th>Втор-ка 6/10 кВ</th>\n      <th>Уст-ка 0,4/10кВ</th>\n      <th>Установ-ка RM-6</th>\n      <th>Наладка</th>\n      <th>Комплек-тация</th>\n      <th>ОТГРУЗКА</th>\n      <th>ОТГРУЗКА_1</th>\n    </tr>\n  </thead>\n  <tbody>\n    <tr>\n      <th>1250</th>\n      <td>готов</td>\n      <td>готов</td>\n      <td>20.11</td>\n      <td>20-25.11</td>\n      <td>готов</td>\n      <td>20-25.11</td>\n      <td>20-23.11</td>\n      <td>готов</td>\n      <td>готов</td>\n      <td>27-29.11</td>\n      <td>нет</td>\n      <td>нет</td>\n      <td>19.11</td>\n      <td>20.11</td>\n      <td>05.12</td>\n      <td>06.12</td>\n      <td>2019-12-06</td>\n      <td>нет</td>\n    </tr>\n    <tr>\n      <th>1253</th>\n      <td>готов</td>\n      <td>готов</td>\n      <td>26.11</td>\n      <td>26-27.11</td>\n      <td>25.11</td>\n      <td>26-28.11</td>\n      <td>25-26.11</td>\n      <td>готов</td>\n      <td>готов</td>\n      <td>02-04.13</td>\n      <td>нет</td>\n      <td>нет</td>\n      <td>25.12</td>\n      <td>27.12</td>\n      <td>05.13</td>\n      <td>06.13</td>\n      <td>2019-12-10</td>\n      <td>нет</td>\n    </tr>\n    <tr>\n      <th>1259</th>\n      <td>нет</td>\n      <td>нет</td>\n      <td>нет</td>\n      <td>нет</td>\n      <td>нет</td>\n      <td>02-05.12</td>\n      <td>нет</td>\n      <td>нет</td>\n      <td>нет</td>\n      <td>нет</td>\n      <td>нет</td>\n      <td>нет</td>\n      <td>нет</td>\n      <td>нет</td>\n      <td>09.12</td>\n      <td>09.12</td>\n      <td>2019-12-10</td>\n      <td>нет</td>\n    </tr>\n    <tr>\n      <th>1255</th>\n      <td>готов</td>\n      <td>готов</td>\n      <td>28.11</td>\n      <td>28-30.11</td>\n      <td>26.11</td>\n      <td>05-07.12</td>\n      <td>27-29.11</td>\n      <td>20.11/22.11</td>\n      <td>25-27.11</td>\n      <td>05-09.12</td>\n      <td>нет</td>\n      <td>нет</td>\n      <td>29.11</td>\n      <td>03.12</td>\n      <td>09.12</td>\n      <td>10.12</td>\n      <td>2019-12-11</td>\n      <td>нет</td>\n    </tr>\n    <tr>\n      <th>1256</th>\n      <td>готов</td>\n      <td>готов</td>\n      <td>02.12</td>\n      <td>02-04.12</td>\n      <td>29.11</td>\n      <td>07-10.12</td>\n      <td>30-31.11</td>\n      <td>25.11/27.11</td>\n      <td>28.11-30.11</td>\n      <td>06-10.12</td>\n      <td>нет</td>\n      <td>нет</td>\n      <td>03.12</td>\n      <td>03.12</td>\n      <td>10.12</td>\n      <td>11.12</td>\n      <td>2019-12-12</td>\n      <td>нет</td>\n    </tr>\n    <tr>\n      <th>1251</th>\n      <td>готов</td>\n      <td>готов</td>\n      <td>05.12</td>\n      <td>05-07.12</td>\n      <td>02.12</td>\n      <td>07-10.12</td>\n      <td>02-04.12</td>\n      <td>28.11/02.12</td>\n      <td>02-04.12</td>\n      <td>06-10.12</td>\n      <td>нет</td>\n      <td>нет</td>\n      <td>05.12</td>\n      <td>03.12</td>\n      <td>11.12</td>\n      <td>11.12</td>\n      <td>2019-12-12</td>\n      <td>нет</td>\n    </tr>\n    <tr>\n      <th>1260</th>\n      <td>нет</td>\n      <td>нет</td>\n      <td>нет</td>\n      <td>нет</td>\n      <td>нет</td>\n      <td>07-10.12</td>\n      <td>нет</td>\n      <td>нет</td>\n      <td>нет</td>\n      <td>нет</td>\n      <td>нет</td>\n      <td>нет</td>\n      <td>нет</td>\n      <td>нет</td>\n      <td>11.12</td>\n      <td>12.12</td>\n      <td>2019-12-13</td>\n      <td>нет</td>\n    </tr>\n    <tr>\n      <th>1257</th>\n      <td>готов</td>\n      <td>готов</td>\n      <td>09.12</td>\n      <td>09-11.12</td>\n      <td>04.12</td>\n      <td>05-10.12</td>\n      <td>05-07.12</td>\n      <td>03.12/05.12</td>\n      <td>05-07.12</td>\n      <td>10-13.12</td>\n      <td>нет</td>\n      <td>нет</td>\n      <td>05.12</td>\n      <td>03.12</td>\n      <td>13.12</td>\n      <td>13.12</td>\n      <td>2019-12-16</td>\n      <td>нет</td>\n    </tr>\n    <tr>\n      <th>1258</th>\n      <td>нет</td>\n      <td>нет</td>\n      <td>нет</td>\n      <td>нет</td>\n      <td>нет</td>\n      <td>нет</td>\n      <td>нет</td>\n      <td>нет</td>\n      <td>нет</td>\n      <td>нет</td>\n      <td>нет</td>\n      <td>нет</td>\n      <td>нет</td>\n      <td>11.12</td>\n      <td>16.12</td>\n      <td>17.12</td>\n      <td>2019-12-18</td>\n      <td>нет</td>\n    </tr>\n    <tr>\n      <th>1264</th>\n      <td>готов</td>\n      <td>готов</td>\n      <td>готов</td>\n      <td>готов</td>\n      <td>готов</td>\n      <td>10-12.12</td>\n      <td>09.12</td>\n      <td>05.12/07.12</td>\n      <td>05-07.12</td>\n      <td>16-18.12</td>\n      <td>нет</td>\n      <td>нет</td>\n      <td>09.12</td>\n      <td>12.12</td>\n      <td>19.12</td>\n      <td>20.12</td>\n      <td>2019-12-23</td>\n      <td>нет</td>\n    </tr>\n    <tr>\n      <th>1252</th>\n      <td>готов</td>\n      <td>готов</td>\n      <td>12.12</td>\n      <td>12-17.12</td>\n      <td>09.12</td>\n      <td>13-19.12</td>\n      <td>10-17.12</td>\n      <td>06.12/10.12</td>\n      <td>09-16.12</td>\n      <td>16-20.12</td>\n      <td>10.12</td>\n      <td>11-19.12</td>\n      <td>16/19.12</td>\n      <td>нет</td>\n      <td>20-23.12</td>\n      <td>23.12</td>\n      <td>2019-12-24</td>\n      <td>нет</td>\n    </tr>\n    <tr>\n      <th>1262</th>\n      <td>08-19.11</td>\n      <td>13-25.11</td>\n      <td>18.12</td>\n      <td>18-20.12</td>\n      <td>17.12</td>\n      <td>19-24.12</td>\n      <td>18-20.12</td>\n      <td>нет</td>\n      <td>нет</td>\n      <td>нет</td>\n      <td>12-13.12</td>\n      <td>16-25.12</td>\n      <td>20.12</td>\n      <td>нет</td>\n      <td>23.12</td>\n      <td>25.12</td>\n      <td>2019-12-27</td>\n      <td>нет</td>\n    </tr>\n    <tr>\n      <th>1263</th>\n      <td>18-27.11</td>\n      <td>20-04.12</td>\n      <td>20.12</td>\n      <td>20-24.12</td>\n      <td>19.12</td>\n      <td>24-27.12</td>\n      <td>20-24.12</td>\n      <td>11.12/13.12</td>\n      <td>17-20.12</td>\n      <td>23-25.12</td>\n      <td>11.11-27.11</td>\n      <td>11.11-11.12</td>\n      <td>23/02.12</td>\n      <td>нет</td>\n      <td>25.12</td>\n      <td>26.12</td>\n      <td>2019-12-27</td>\n      <td>нет</td>\n    </tr>\n    <tr>\n      <th>1262</th>\n      <td>готов</td>\n      <td>готов</td>\n      <td>готов</td>\n      <td>готов</td>\n      <td>готов</td>\n      <td>09-13.01</td>\n      <td>09-13.01</td>\n      <td>нет</td>\n      <td>нет</td>\n      <td>нет</td>\n      <td>готов</td>\n      <td>09-15.01</td>\n      <td>готов</td>\n      <td>нет</td>\n      <td>14-15.01</td>\n      <td>16.01</td>\n      <td>2019-12-27</td>\n      <td>нет</td>\n    </tr>\n    <tr>\n      <th>1267</th>\n      <td>готов</td>\n      <td>готов</td>\n      <td>13.01</td>\n      <td>09-13.01</td>\n      <td>готов</td>\n      <td>13-15.01</td>\n      <td>10-14.01</td>\n      <td>готов</td>\n      <td>готов</td>\n      <td>09-14.01</td>\n      <td>нет</td>\n      <td>нет</td>\n      <td>09.01</td>\n      <td>10.01</td>\n      <td>14.01</td>\n      <td>15.01</td>\n      <td>2020-01-16</td>\n      <td>нет</td>\n    </tr>\n  </tbody>\n</table>\n</div>"
     },
     "metadata": {},
     "execution_count": 4
    }
   ],
   "source": [
    "data = PlanLoader('план.xlsx').df\n",
    "data.head(15)"
   ]
  },
  {
   "cell_type": "code",
   "execution_count": 30,
   "metadata": {},
   "outputs": [
    {
     "output_type": "execute_result",
     "data": {
      "text/plain": "7"
     },
     "metadata": {},
     "execution_count": 30
    }
   ],
   "source": [
    "D = {7 : ['StShinaUvr', 'FnShinaUvr', 'StShinaTr', 'FnShinaTr'],\n",
    "                 12: ['StInst04', 'FnInst04', 'StInst10', 'FnInst10']}\n",
    "list(D.keys())[0]\n"
   ]
  },
  {
   "cell_type": "code",
   "execution_count": 39,
   "metadata": {
    "tags": []
   },
   "outputs": [
    {
     "output_type": "execute_result",
     "data": {
      "text/plain": "['StBuildBot',\n 'FnBuildBot',\n 'StBuildTop',\n 'FnBuildTop',\n 'StMetBot',\n 'FnMetBot',\n 'StMetTop',\n 'FnMetTop',\n 'StEmu',\n 'FnEmu',\n 'StShit',\n 'FnShit',\n 'StSn',\n 'FnSn',\n 'StShinaUvr',\n 'FnShinaUvr',\n 'StShinaTr',\n 'FnShinaTr',\n 'St04',\n 'Fn04',\n 'StSec04',\n 'FnSec04',\n 'St10',\n 'Fn10',\n 'StSec10',\n 'FnSec10',\n 'StInst04',\n 'FnInst04',\n 'StInst10',\n 'FnInst10',\n 'StRm',\n 'FnRm',\n 'StMain',\n 'FnMain',\n 'StCompl',\n 'FnCompl',\n 'Fin',\n 'NewFin']"
     },
     "metadata": {},
     "execution_count": 39
    }
   ],
   "source": [
    "%autoreload\n",
    "df_names = V.get_FinalFinalColumnNames()\n",
    "df_names"
   ]
  },
  {
   "cell_type": "code",
   "execution_count": 32,
   "metadata": {},
   "outputs": [
    {
     "output_type": "execute_result",
     "data": {
      "text/plain": "['27-31.08']"
     },
     "metadata": {},
     "execution_count": 32
    }
   ],
   "source": [
    "'27-31.08'.split('/')"
   ]
  },
  {
   "cell_type": "code",
   "execution_count": 41,
   "metadata": {
    "tags": []
   },
   "outputs": [
    {
     "output_type": "stream",
     "name": "stdout",
     "text": "\n \n \n \n \n \n \n \n \n \n \n \n \n \n \n \n \n \n \n \n \n \n\n \n \n \n"
    },
    {
     "output_type": "error",
     "ename": "ValueError",
     "evalue": "time data '23/23.09' does not match format '%d.%m'",
     "traceback": [
      "\u001b[1;31m---------------------------------------------------------------------------\u001b[0m",
      "\u001b[1;31mValueError\u001b[0m                                Traceback (most recent call last)",
      "\u001b[1;32m<ipython-input-41-43235a056bb1>\u001b[0m in \u001b[0;36m<module>\u001b[1;34m\u001b[0m\n\u001b[0;32m      1\u001b[0m \u001b[0mget_ipython\u001b[0m\u001b[1;33m(\u001b[0m\u001b[1;33m)\u001b[0m\u001b[1;33m.\u001b[0m\u001b[0mrun_line_magic\u001b[0m\u001b[1;33m(\u001b[0m\u001b[1;34m'autoreload'\u001b[0m\u001b[1;33m,\u001b[0m \u001b[1;34m''\u001b[0m\u001b[1;33m)\u001b[0m\u001b[1;33m\u001b[0m\u001b[1;33m\u001b[0m\u001b[0m\n\u001b[1;32m----> 2\u001b[1;33m \u001b[0md\u001b[0m \u001b[1;33m=\u001b[0m \u001b[0mdf\u001b[0m\u001b[1;33m.\u001b[0m\u001b[0mapply\u001b[0m\u001b[1;33m(\u001b[0m\u001b[1;32mlambda\u001b[0m \u001b[0mrow\u001b[0m\u001b[1;33m:\u001b[0m \u001b[0mutils\u001b[0m\u001b[1;33m.\u001b[0m\u001b[0mreformat_dataframe\u001b[0m\u001b[1;33m(\u001b[0m\u001b[0mrow\u001b[0m\u001b[1;33m)\u001b[0m\u001b[1;33m,\u001b[0m\u001b[0maxis\u001b[0m\u001b[1;33m=\u001b[0m\u001b[1;36m1\u001b[0m\u001b[1;33m)\u001b[0m\u001b[1;33m\u001b[0m\u001b[1;33m\u001b[0m\u001b[0m\n\u001b[0m\u001b[0;32m      3\u001b[0m \u001b[0md\u001b[0m \u001b[1;33m=\u001b[0m \u001b[0md\u001b[0m\u001b[1;33m[\u001b[0m\u001b[0mV\u001b[0m\u001b[1;33m.\u001b[0m\u001b[0mget_FinalFinalColumnNames\u001b[0m\u001b[1;33m(\u001b[0m\u001b[1;33m)\u001b[0m\u001b[1;33m]\u001b[0m\u001b[1;33m\u001b[0m\u001b[1;33m\u001b[0m\u001b[0m\n\u001b[0;32m      4\u001b[0m \u001b[0md\u001b[0m\u001b[1;33m\u001b[0m\u001b[1;33m\u001b[0m\u001b[0m\n",
      "\u001b[1;32m~\\.conda\\envs\\plan\\lib\\site-packages\\pandas\\core\\frame.py\u001b[0m in \u001b[0;36mapply\u001b[1;34m(self, func, axis, raw, result_type, args, **kwds)\u001b[0m\n\u001b[0;32m   7543\u001b[0m             \u001b[0mkwds\u001b[0m\u001b[1;33m=\u001b[0m\u001b[0mkwds\u001b[0m\u001b[1;33m,\u001b[0m\u001b[1;33m\u001b[0m\u001b[1;33m\u001b[0m\u001b[0m\n\u001b[0;32m   7544\u001b[0m         )\n\u001b[1;32m-> 7545\u001b[1;33m         \u001b[1;32mreturn\u001b[0m \u001b[0mop\u001b[0m\u001b[1;33m.\u001b[0m\u001b[0mget_result\u001b[0m\u001b[1;33m(\u001b[0m\u001b[1;33m)\u001b[0m\u001b[1;33m\u001b[0m\u001b[1;33m\u001b[0m\u001b[0m\n\u001b[0m\u001b[0;32m   7546\u001b[0m \u001b[1;33m\u001b[0m\u001b[0m\n\u001b[0;32m   7547\u001b[0m     \u001b[1;32mdef\u001b[0m \u001b[0mapplymap\u001b[0m\u001b[1;33m(\u001b[0m\u001b[0mself\u001b[0m\u001b[1;33m,\u001b[0m \u001b[0mfunc\u001b[0m\u001b[1;33m)\u001b[0m \u001b[1;33m->\u001b[0m \u001b[1;34m\"DataFrame\"\u001b[0m\u001b[1;33m:\u001b[0m\u001b[1;33m\u001b[0m\u001b[1;33m\u001b[0m\u001b[0m\n",
      "\u001b[1;32m~\\.conda\\envs\\plan\\lib\\site-packages\\pandas\\core\\apply.py\u001b[0m in \u001b[0;36mget_result\u001b[1;34m(self)\u001b[0m\n\u001b[0;32m    178\u001b[0m             \u001b[1;32mreturn\u001b[0m \u001b[0mself\u001b[0m\u001b[1;33m.\u001b[0m\u001b[0mapply_raw\u001b[0m\u001b[1;33m(\u001b[0m\u001b[1;33m)\u001b[0m\u001b[1;33m\u001b[0m\u001b[1;33m\u001b[0m\u001b[0m\n\u001b[0;32m    179\u001b[0m \u001b[1;33m\u001b[0m\u001b[0m\n\u001b[1;32m--> 180\u001b[1;33m         \u001b[1;32mreturn\u001b[0m \u001b[0mself\u001b[0m\u001b[1;33m.\u001b[0m\u001b[0mapply_standard\u001b[0m\u001b[1;33m(\u001b[0m\u001b[1;33m)\u001b[0m\u001b[1;33m\u001b[0m\u001b[1;33m\u001b[0m\u001b[0m\n\u001b[0m\u001b[0;32m    181\u001b[0m \u001b[1;33m\u001b[0m\u001b[0m\n\u001b[0;32m    182\u001b[0m     \u001b[1;32mdef\u001b[0m \u001b[0mapply_empty_result\u001b[0m\u001b[1;33m(\u001b[0m\u001b[0mself\u001b[0m\u001b[1;33m)\u001b[0m\u001b[1;33m:\u001b[0m\u001b[1;33m\u001b[0m\u001b[1;33m\u001b[0m\u001b[0m\n",
      "\u001b[1;32m~\\.conda\\envs\\plan\\lib\\site-packages\\pandas\\core\\apply.py\u001b[0m in \u001b[0;36mapply_standard\u001b[1;34m(self)\u001b[0m\n\u001b[0;32m    253\u001b[0m \u001b[1;33m\u001b[0m\u001b[0m\n\u001b[0;32m    254\u001b[0m     \u001b[1;32mdef\u001b[0m \u001b[0mapply_standard\u001b[0m\u001b[1;33m(\u001b[0m\u001b[0mself\u001b[0m\u001b[1;33m)\u001b[0m\u001b[1;33m:\u001b[0m\u001b[1;33m\u001b[0m\u001b[1;33m\u001b[0m\u001b[0m\n\u001b[1;32m--> 255\u001b[1;33m         \u001b[0mresults\u001b[0m\u001b[1;33m,\u001b[0m \u001b[0mres_index\u001b[0m \u001b[1;33m=\u001b[0m \u001b[0mself\u001b[0m\u001b[1;33m.\u001b[0m\u001b[0mapply_series_generator\u001b[0m\u001b[1;33m(\u001b[0m\u001b[1;33m)\u001b[0m\u001b[1;33m\u001b[0m\u001b[1;33m\u001b[0m\u001b[0m\n\u001b[0m\u001b[0;32m    256\u001b[0m \u001b[1;33m\u001b[0m\u001b[0m\n\u001b[0;32m    257\u001b[0m         \u001b[1;31m# wrap results\u001b[0m\u001b[1;33m\u001b[0m\u001b[1;33m\u001b[0m\u001b[1;33m\u001b[0m\u001b[0m\n",
      "\u001b[1;32m~\\.conda\\envs\\plan\\lib\\site-packages\\pandas\\core\\apply.py\u001b[0m in \u001b[0;36mapply_series_generator\u001b[1;34m(self)\u001b[0m\n\u001b[0;32m    282\u001b[0m                 \u001b[1;32mfor\u001b[0m \u001b[0mi\u001b[0m\u001b[1;33m,\u001b[0m \u001b[0mv\u001b[0m \u001b[1;32min\u001b[0m \u001b[0menumerate\u001b[0m\u001b[1;33m(\u001b[0m\u001b[0mseries_gen\u001b[0m\u001b[1;33m)\u001b[0m\u001b[1;33m:\u001b[0m\u001b[1;33m\u001b[0m\u001b[1;33m\u001b[0m\u001b[0m\n\u001b[0;32m    283\u001b[0m                     \u001b[1;31m# ignore SettingWithCopy here in case the user mutates\u001b[0m\u001b[1;33m\u001b[0m\u001b[1;33m\u001b[0m\u001b[1;33m\u001b[0m\u001b[0m\n\u001b[1;32m--> 284\u001b[1;33m                     \u001b[0mresults\u001b[0m\u001b[1;33m[\u001b[0m\u001b[0mi\u001b[0m\u001b[1;33m]\u001b[0m \u001b[1;33m=\u001b[0m \u001b[0mself\u001b[0m\u001b[1;33m.\u001b[0m\u001b[0mf\u001b[0m\u001b[1;33m(\u001b[0m\u001b[0mv\u001b[0m\u001b[1;33m)\u001b[0m\u001b[1;33m\u001b[0m\u001b[1;33m\u001b[0m\u001b[0m\n\u001b[0m\u001b[0;32m    285\u001b[0m                     \u001b[1;32mif\u001b[0m \u001b[0misinstance\u001b[0m\u001b[1;33m(\u001b[0m\u001b[0mresults\u001b[0m\u001b[1;33m[\u001b[0m\u001b[0mi\u001b[0m\u001b[1;33m]\u001b[0m\u001b[1;33m,\u001b[0m \u001b[0mABCSeries\u001b[0m\u001b[1;33m)\u001b[0m\u001b[1;33m:\u001b[0m\u001b[1;33m\u001b[0m\u001b[1;33m\u001b[0m\u001b[0m\n\u001b[0;32m    286\u001b[0m                         \u001b[1;31m# If we have a view on v, we need to make a copy because\u001b[0m\u001b[1;33m\u001b[0m\u001b[1;33m\u001b[0m\u001b[1;33m\u001b[0m\u001b[0m\n",
      "\u001b[1;32m<ipython-input-41-43235a056bb1>\u001b[0m in \u001b[0;36m<lambda>\u001b[1;34m(row)\u001b[0m\n\u001b[0;32m      1\u001b[0m \u001b[0mget_ipython\u001b[0m\u001b[1;33m(\u001b[0m\u001b[1;33m)\u001b[0m\u001b[1;33m.\u001b[0m\u001b[0mrun_line_magic\u001b[0m\u001b[1;33m(\u001b[0m\u001b[1;34m'autoreload'\u001b[0m\u001b[1;33m,\u001b[0m \u001b[1;34m''\u001b[0m\u001b[1;33m)\u001b[0m\u001b[1;33m\u001b[0m\u001b[1;33m\u001b[0m\u001b[0m\n\u001b[1;32m----> 2\u001b[1;33m \u001b[0md\u001b[0m \u001b[1;33m=\u001b[0m \u001b[0mdf\u001b[0m\u001b[1;33m.\u001b[0m\u001b[0mapply\u001b[0m\u001b[1;33m(\u001b[0m\u001b[1;32mlambda\u001b[0m \u001b[0mrow\u001b[0m\u001b[1;33m:\u001b[0m \u001b[0mutils\u001b[0m\u001b[1;33m.\u001b[0m\u001b[0mreformat_dataframe\u001b[0m\u001b[1;33m(\u001b[0m\u001b[0mrow\u001b[0m\u001b[1;33m)\u001b[0m\u001b[1;33m,\u001b[0m\u001b[0maxis\u001b[0m\u001b[1;33m=\u001b[0m\u001b[1;36m1\u001b[0m\u001b[1;33m)\u001b[0m\u001b[1;33m\u001b[0m\u001b[1;33m\u001b[0m\u001b[0m\n\u001b[0m\u001b[0;32m      3\u001b[0m \u001b[0md\u001b[0m \u001b[1;33m=\u001b[0m \u001b[0md\u001b[0m\u001b[1;33m[\u001b[0m\u001b[0mV\u001b[0m\u001b[1;33m.\u001b[0m\u001b[0mget_FinalFinalColumnNames\u001b[0m\u001b[1;33m(\u001b[0m\u001b[1;33m)\u001b[0m\u001b[1;33m]\u001b[0m\u001b[1;33m\u001b[0m\u001b[1;33m\u001b[0m\u001b[0m\n\u001b[0;32m      4\u001b[0m \u001b[0md\u001b[0m\u001b[1;33m\u001b[0m\u001b[1;33m\u001b[0m\u001b[0m\n",
      "\u001b[1;32mc:\\Users\\User\\Documents\\Project\\Plan\\plan_utils.py\u001b[0m in \u001b[0;36mreformat_dataframe\u001b[1;34m(row)\u001b[0m\n\u001b[0;32m     56\u001b[0m             \u001b[0mrow\u001b[0m \u001b[1;33m=\u001b[0m \u001b[0mrow\u001b[0m\u001b[1;33m.\u001b[0m\u001b[0mappend\u001b[0m\u001b[1;33m(\u001b[0m\u001b[0mget_four_coulums\u001b[0m\u001b[1;33m(\u001b[0m\u001b[0mrow\u001b[0m\u001b[1;33m,\u001b[0m\u001b[0mi\u001b[0m\u001b[1;33m)\u001b[0m\u001b[1;33m)\u001b[0m\u001b[1;33m\u001b[0m\u001b[1;33m\u001b[0m\u001b[0m\n\u001b[0;32m     57\u001b[0m         \u001b[1;32melse\u001b[0m\u001b[1;33m:\u001b[0m\u001b[1;33m\u001b[0m\u001b[1;33m\u001b[0m\u001b[0m\n\u001b[1;32m---> 58\u001b[1;33m             \u001b[0mrow\u001b[0m \u001b[1;33m=\u001b[0m \u001b[0mrow\u001b[0m\u001b[1;33m.\u001b[0m\u001b[0mappend\u001b[0m\u001b[1;33m(\u001b[0m\u001b[0mget_two_coulums\u001b[0m\u001b[1;33m(\u001b[0m\u001b[0mrow\u001b[0m\u001b[1;33m,\u001b[0m\u001b[0mi\u001b[0m\u001b[1;33m)\u001b[0m\u001b[1;33m)\u001b[0m\u001b[1;33m\u001b[0m\u001b[1;33m\u001b[0m\u001b[0m\n\u001b[0m\u001b[0;32m     59\u001b[0m         \u001b[0mi\u001b[0m \u001b[1;33m+=\u001b[0m \u001b[1;36m1\u001b[0m\u001b[1;33m\u001b[0m\u001b[1;33m\u001b[0m\u001b[0m\n\u001b[0;32m     60\u001b[0m \u001b[1;33m\u001b[0m\u001b[0m\n",
      "\u001b[1;32mc:\\Users\\User\\Documents\\Project\\Plan\\plan_utils.py\u001b[0m in \u001b[0;36mget_two_coulums\u001b[1;34m(row, ind, dic, dict_index)\u001b[0m\n\u001b[0;32m     88\u001b[0m \u001b[1;33m\u001b[0m\u001b[0m\n\u001b[0;32m     89\u001b[0m     \u001b[1;32mif\u001b[0m \u001b[0mis_date\u001b[0m\u001b[1;33m(\u001b[0m\u001b[0mstring\u001b[0m\u001b[1;33m)\u001b[0m\u001b[1;33m:\u001b[0m\u001b[1;33m\u001b[0m\u001b[1;33m\u001b[0m\u001b[0m\n\u001b[1;32m---> 90\u001b[1;33m         \u001b[0ms\u001b[0m \u001b[1;33m=\u001b[0m \u001b[0mpd\u001b[0m\u001b[1;33m.\u001b[0m\u001b[0mSeries\u001b[0m\u001b[1;33m(\u001b[0m\u001b[0mget_two_dates\u001b[0m\u001b[1;33m(\u001b[0m\u001b[0mstring\u001b[0m\u001b[1;33m)\u001b[0m\u001b[1;33m)\u001b[0m\u001b[1;33m\u001b[0m\u001b[1;33m\u001b[0m\u001b[0m\n\u001b[0m\u001b[0;32m     91\u001b[0m     \u001b[1;32melse\u001b[0m\u001b[1;33m:\u001b[0m\u001b[1;33m\u001b[0m\u001b[1;33m\u001b[0m\u001b[0m\n\u001b[0;32m     92\u001b[0m         \u001b[0ms\u001b[0m \u001b[1;33m=\u001b[0m \u001b[0mpd\u001b[0m\u001b[1;33m.\u001b[0m\u001b[0mSeries\u001b[0m\u001b[1;33m(\u001b[0m\u001b[1;33m[\u001b[0m\u001b[0mstring\u001b[0m\u001b[1;33m,\u001b[0m \u001b[0mstring\u001b[0m\u001b[1;33m]\u001b[0m\u001b[1;33m)\u001b[0m\u001b[1;33m\u001b[0m\u001b[1;33m\u001b[0m\u001b[0m\n",
      "\u001b[1;32mc:\\Users\\User\\Documents\\Project\\Plan\\plan_utils.py\u001b[0m in \u001b[0;36mget_two_dates\u001b[1;34m(string)\u001b[0m\n\u001b[0;32m     12\u001b[0m     \u001b[1;32mif\u001b[0m \u001b[0mlen\u001b[0m\u001b[1;33m(\u001b[0m\u001b[0mss\u001b[0m\u001b[1;33m)\u001b[0m \u001b[1;33m==\u001b[0m \u001b[1;36m1\u001b[0m\u001b[1;33m:\u001b[0m\u001b[1;33m\u001b[0m\u001b[1;33m\u001b[0m\u001b[0m\n\u001b[0;32m     13\u001b[0m         \u001b[0mss\u001b[0m\u001b[1;33m.\u001b[0m\u001b[0mappend\u001b[0m\u001b[1;33m(\u001b[0m\u001b[0mss\u001b[0m\u001b[1;33m[\u001b[0m\u001b[1;36m0\u001b[0m\u001b[1;33m]\u001b[0m\u001b[1;33m)\u001b[0m\u001b[1;33m\u001b[0m\u001b[1;33m\u001b[0m\u001b[0m\n\u001b[1;32m---> 14\u001b[1;33m         \u001b[0md1\u001b[0m \u001b[1;33m=\u001b[0m \u001b[0mdt\u001b[0m\u001b[1;33m.\u001b[0m\u001b[0mstrptime\u001b[0m\u001b[1;33m(\u001b[0m\u001b[0mss\u001b[0m\u001b[1;33m[\u001b[0m\u001b[1;36m0\u001b[0m\u001b[1;33m]\u001b[0m\u001b[1;33m,\u001b[0m\u001b[1;34m'%d.%m'\u001b[0m\u001b[1;33m)\u001b[0m\u001b[1;33m\u001b[0m\u001b[1;33m\u001b[0m\u001b[0m\n\u001b[0m\u001b[0;32m     15\u001b[0m         \u001b[0md2\u001b[0m \u001b[1;33m=\u001b[0m \u001b[0md1\u001b[0m\u001b[1;33m\u001b[0m\u001b[1;33m\u001b[0m\u001b[0m\n\u001b[0;32m     16\u001b[0m     \u001b[1;32melse\u001b[0m\u001b[1;33m:\u001b[0m\u001b[1;33m\u001b[0m\u001b[1;33m\u001b[0m\u001b[0m\n",
      "\u001b[1;32m~\\.conda\\envs\\plan\\lib\\_strptime.py\u001b[0m in \u001b[0;36m_strptime_datetime\u001b[1;34m(cls, data_string, format)\u001b[0m\n\u001b[0;32m    566\u001b[0m     \"\"\"Return a class cls instance based on the input string and the\n\u001b[0;32m    567\u001b[0m     format string.\"\"\"\n\u001b[1;32m--> 568\u001b[1;33m     \u001b[0mtt\u001b[0m\u001b[1;33m,\u001b[0m \u001b[0mfraction\u001b[0m\u001b[1;33m,\u001b[0m \u001b[0mgmtoff_fraction\u001b[0m \u001b[1;33m=\u001b[0m \u001b[0m_strptime\u001b[0m\u001b[1;33m(\u001b[0m\u001b[0mdata_string\u001b[0m\u001b[1;33m,\u001b[0m \u001b[0mformat\u001b[0m\u001b[1;33m)\u001b[0m\u001b[1;33m\u001b[0m\u001b[1;33m\u001b[0m\u001b[0m\n\u001b[0m\u001b[0;32m    569\u001b[0m     \u001b[0mtzname\u001b[0m\u001b[1;33m,\u001b[0m \u001b[0mgmtoff\u001b[0m \u001b[1;33m=\u001b[0m \u001b[0mtt\u001b[0m\u001b[1;33m[\u001b[0m\u001b[1;33m-\u001b[0m\u001b[1;36m2\u001b[0m\u001b[1;33m:\u001b[0m\u001b[1;33m]\u001b[0m\u001b[1;33m\u001b[0m\u001b[1;33m\u001b[0m\u001b[0m\n\u001b[0;32m    570\u001b[0m     \u001b[0margs\u001b[0m \u001b[1;33m=\u001b[0m \u001b[0mtt\u001b[0m\u001b[1;33m[\u001b[0m\u001b[1;33m:\u001b[0m\u001b[1;36m6\u001b[0m\u001b[1;33m]\u001b[0m \u001b[1;33m+\u001b[0m \u001b[1;33m(\u001b[0m\u001b[0mfraction\u001b[0m\u001b[1;33m,\u001b[0m\u001b[1;33m)\u001b[0m\u001b[1;33m\u001b[0m\u001b[1;33m\u001b[0m\u001b[0m\n",
      "\u001b[1;32m~\\.conda\\envs\\plan\\lib\\_strptime.py\u001b[0m in \u001b[0;36m_strptime\u001b[1;34m(data_string, format)\u001b[0m\n\u001b[0;32m    347\u001b[0m     \u001b[0mfound\u001b[0m \u001b[1;33m=\u001b[0m \u001b[0mformat_regex\u001b[0m\u001b[1;33m.\u001b[0m\u001b[0mmatch\u001b[0m\u001b[1;33m(\u001b[0m\u001b[0mdata_string\u001b[0m\u001b[1;33m)\u001b[0m\u001b[1;33m\u001b[0m\u001b[1;33m\u001b[0m\u001b[0m\n\u001b[0;32m    348\u001b[0m     \u001b[1;32mif\u001b[0m \u001b[1;32mnot\u001b[0m \u001b[0mfound\u001b[0m\u001b[1;33m:\u001b[0m\u001b[1;33m\u001b[0m\u001b[1;33m\u001b[0m\u001b[0m\n\u001b[1;32m--> 349\u001b[1;33m         raise ValueError(\"time data %r does not match format %r\" %\n\u001b[0m\u001b[0;32m    350\u001b[0m                          (data_string, format))\n\u001b[0;32m    351\u001b[0m     \u001b[1;32mif\u001b[0m \u001b[0mlen\u001b[0m\u001b[1;33m(\u001b[0m\u001b[0mdata_string\u001b[0m\u001b[1;33m)\u001b[0m \u001b[1;33m!=\u001b[0m \u001b[0mfound\u001b[0m\u001b[1;33m.\u001b[0m\u001b[0mend\u001b[0m\u001b[1;33m(\u001b[0m\u001b[1;33m)\u001b[0m\u001b[1;33m:\u001b[0m\u001b[1;33m\u001b[0m\u001b[1;33m\u001b[0m\u001b[0m\n",
      "\u001b[1;31mValueError\u001b[0m: time data '23/23.09' does not match format '%d.%m'"
     ]
    }
   ],
   "source": [
    "%autoreload\n",
    "d = df.apply(lambda row: utils.reformat_dataframe(row),axis=1)\n",
    "d = d[V.get_FinalFinalColumnNames()]"
   ]
  },
  {
   "cell_type": "code",
   "execution_count": 34,
   "metadata": {},
   "outputs": [
    {
     "output_type": "execute_result",
     "data": {
      "text/plain": "(11, 38)"
     },
     "metadata": {},
     "execution_count": 34
    }
   ],
   "source": [
    "d.shape"
   ]
  },
  {
   "cell_type": "code",
   "execution_count": 35,
   "metadata": {
    "tags": []
   },
   "outputs": [
    {
     "output_type": "execute_result",
     "data": {
      "text/plain": "        Task      Start              Finish  zakaz\n0         Sn 2020-08-31 2020-09-01 23:59:00   1330\n1    ShinaTr 2020-08-26 2020-08-26 23:59:00   1330\n2         04 2020-08-26 2020-08-28 23:59:00   1330\n3      Sec04 2020-08-28 2020-08-31 23:59:00   1330\n4     Inst10 2020-08-31 2020-08-31 23:59:00   1330\n..       ...        ...                 ...    ...\n138    Sec10 2020-09-19 2020-10-10 23:59:00   1328\n139   Inst04 2020-10-30 2020-10-30 23:59:00   1328\n140   Inst10 2020-10-30 2020-10-30 23:59:00   1328\n141     Main 2020-10-12 2020-10-12 23:59:00   1328\n142    Compl 2020-10-14 2020-10-14 23:59:00   1328\n\n[143 rows x 4 columns]",
      "text/html": "<div>\n<style scoped>\n    .dataframe tbody tr th:only-of-type {\n        vertical-align: middle;\n    }\n\n    .dataframe tbody tr th {\n        vertical-align: top;\n    }\n\n    .dataframe thead th {\n        text-align: right;\n    }\n</style>\n<table border=\"1\" class=\"dataframe\">\n  <thead>\n    <tr style=\"text-align: right;\">\n      <th></th>\n      <th>Task</th>\n      <th>Start</th>\n      <th>Finish</th>\n      <th>zakaz</th>\n    </tr>\n  </thead>\n  <tbody>\n    <tr>\n      <th>0</th>\n      <td>Sn</td>\n      <td>2020-08-31</td>\n      <td>2020-09-01 23:59:00</td>\n      <td>1330</td>\n    </tr>\n    <tr>\n      <th>1</th>\n      <td>ShinaTr</td>\n      <td>2020-08-26</td>\n      <td>2020-08-26 23:59:00</td>\n      <td>1330</td>\n    </tr>\n    <tr>\n      <th>2</th>\n      <td>04</td>\n      <td>2020-08-26</td>\n      <td>2020-08-28 23:59:00</td>\n      <td>1330</td>\n    </tr>\n    <tr>\n      <th>3</th>\n      <td>Sec04</td>\n      <td>2020-08-28</td>\n      <td>2020-08-31 23:59:00</td>\n      <td>1330</td>\n    </tr>\n    <tr>\n      <th>4</th>\n      <td>Inst10</td>\n      <td>2020-08-31</td>\n      <td>2020-08-31 23:59:00</td>\n      <td>1330</td>\n    </tr>\n    <tr>\n      <th>...</th>\n      <td>...</td>\n      <td>...</td>\n      <td>...</td>\n      <td>...</td>\n    </tr>\n    <tr>\n      <th>138</th>\n      <td>Sec10</td>\n      <td>2020-09-19</td>\n      <td>2020-10-10 23:59:00</td>\n      <td>1328</td>\n    </tr>\n    <tr>\n      <th>139</th>\n      <td>Inst04</td>\n      <td>2020-10-30</td>\n      <td>2020-10-30 23:59:00</td>\n      <td>1328</td>\n    </tr>\n    <tr>\n      <th>140</th>\n      <td>Inst10</td>\n      <td>2020-10-30</td>\n      <td>2020-10-30 23:59:00</td>\n      <td>1328</td>\n    </tr>\n    <tr>\n      <th>141</th>\n      <td>Main</td>\n      <td>2020-10-12</td>\n      <td>2020-10-12 23:59:00</td>\n      <td>1328</td>\n    </tr>\n    <tr>\n      <th>142</th>\n      <td>Compl</td>\n      <td>2020-10-14</td>\n      <td>2020-10-14 23:59:00</td>\n      <td>1328</td>\n    </tr>\n  </tbody>\n</table>\n<p>143 rows × 4 columns</p>\n</div>"
     },
     "metadata": {},
     "execution_count": 35
    }
   ],
   "source": [
    "dd = d.iloc[0:10]\n",
    "\n",
    "data = pd.DataFrame()\n",
    "\n",
    "for ser in dd.iloc:\n",
    "    i = 0\n",
    "    while i < len(ser) - 2:\n",
    "        if type(ser[i]) == pd._libs.tslibs.timestamps.Timestamp:\n",
    "            data = data.append(pd.DataFrame([dict(Task=ser.index[i][2:],\n",
    "                                                Start=ser[i],\n",
    "                                                Finish=ser[i+1] + timedelta(hours=23, minutes=59),\n",
    "                                                zakaz=ser.name)]), ignore_index=True)\n",
    "            i+=1\n",
    "        i+=1\n",
    "\n",
    "data"
   ]
  },
  {
   "cell_type": "code",
   "execution_count": 36,
   "metadata": {},
   "outputs": [
    {
     "output_type": "display_data",
     "data": {
      "application/vnd.plotly.v1+json": {
       "config": {
        "plotlyServerURL": "https://plot.ly"
       },
       "data": [
        {
         "alignmentgroup": "True",
         "base": [
          "2020-08-31T00:00:00",
          "2020-08-26T00:00:00",
          "2020-08-26T00:00:00",
          "2020-08-28T00:00:00",
          "2020-08-31T00:00:00",
          "2020-08-31T00:00:00",
          "2020-09-01T00:00:00",
          "2020-08-31T00:00:00",
          "2020-08-28T00:00:00",
          "2020-08-28T00:00:00",
          "2020-09-01T00:00:00",
          "2020-08-28T00:00:00",
          "2020-09-02T00:00:00",
          "2020-08-27T00:00:00",
          "2020-08-27T00:00:00",
          "2020-08-28T00:00:00",
          "2020-09-01T00:00:00",
          "2020-09-02T00:00:00",
          "2020-09-02T00:00:00",
          "2020-09-02T00:00:00",
          "2020-09-09T00:00:00",
          "2020-09-10T00:00:00",
          "2020-08-12T00:00:00",
          "2020-08-28T00:00:00",
          "2020-09-02T00:00:00",
          "2020-09-07T00:00:00",
          "2020-09-01T00:00:00",
          "2020-09-07T00:00:00",
          "2020-09-01T00:00:00",
          "2020-08-31T00:00:00",
          "2020-09-02T00:00:00",
          "2020-09-01T00:00:00",
          "2020-09-07T00:00:00",
          "2020-09-07T00:00:00",
          "2020-09-02T00:00:00",
          "2020-09-10T00:00:00",
          "2020-09-11T00:00:00",
          "2020-09-07T00:00:00",
          "2020-09-07T00:00:00",
          "2020-09-10T00:00:00",
          "2020-09-04T00:00:00",
          "2020-09-10T00:00:00",
          "2020-09-04T00:00:00",
          "2020-09-04T00:00:00",
          "2020-09-07T00:00:00",
          "2020-09-09T00:00:00",
          "2020-09-01T00:00:00",
          "2020-09-14T00:00:00",
          "2020-09-10T00:00:00",
          "2020-09-17T00:00:00",
          "2020-09-18T00:00:00",
          "2020-09-11T00:00:00",
          "2020-09-11T00:00:00",
          "2020-09-17T00:00:00",
          "2020-09-10T00:00:00",
          "2020-09-17T00:00:00",
          "2020-09-14T00:00:00",
          "2020-09-14T00:00:00",
          "2020-09-14T00:00:00",
          "2020-09-17T00:00:00",
          "2020-09-21T00:00:00",
          "2020-09-21T00:00:00",
          "2020-09-18T00:00:00",
          "2020-09-25T00:00:00",
          "2020-09-25T00:00:00",
          "2020-08-17T00:00:00",
          "2020-08-24T00:00:00",
          "2020-09-17T00:00:00",
          "2020-09-17T00:00:00",
          "2020-09-22T00:00:00",
          "2020-09-16T00:00:00",
          "2020-09-22T00:00:00",
          "2020-09-01T00:00:00",
          "2020-09-01T00:00:00",
          "2020-09-23T00:00:00",
          "2020-09-23T00:00:00",
          "2020-09-27T00:00:00",
          "2020-09-29T00:00:00",
          "2020-08-24T00:00:00",
          "2020-09-04T00:00:00",
          "2020-09-24T00:00:00",
          "2020-09-24T00:00:00",
          "2020-09-28T00:00:00",
          "2020-09-23T00:00:00",
          "2020-09-28T00:00:00",
          "2020-09-21T00:00:00",
          "2020-09-21T00:00:00",
          "2020-09-21T00:00:00",
          "2020-09-25T00:00:00",
          "2020-09-24T00:00:00",
          "2020-09-24T00:00:00",
          "2020-10-24T00:00:00",
          "2020-10-02T00:00:00",
          "2020-10-02T00:00:00",
          "2020-08-26T00:00:00",
          "2020-09-08T00:00:00",
          "2020-09-29T00:00:00",
          "2020-09-29T00:00:00",
          "2020-10-01T00:00:00",
          "2020-09-29T00:00:00",
          "2020-10-01T00:00:00",
          "2020-09-24T00:00:00",
          "2020-09-24T00:00:00",
          "2020-09-24T00:00:00",
          "2020-09-30T00:00:00",
          "2020-10-02T00:00:00",
          "2020-10-02T00:00:00",
          "2020-10-02T00:00:00",
          "2020-10-08T00:00:00",
          "2020-10-09T00:00:00",
          "2020-09-01T00:00:00",
          "2020-09-13T00:00:00",
          "2020-10-06T00:00:00",
          "2020-10-06T00:00:00",
          "2020-10-07T00:00:00",
          "2020-10-05T00:00:00",
          "2020-10-07T00:00:00",
          "2020-10-02T00:00:00",
          "2020-10-02T00:00:00",
          "2020-10-02T00:00:00",
          "2020-10-08T00:00:00",
          "2020-10-07T00:00:00",
          "2020-10-07T00:00:00",
          "2020-10-07T00:00:00",
          "2020-10-14T00:00:00",
          "2020-10-13T00:00:00",
          "2020-09-03T00:00:00",
          "2020-09-14T00:00:00",
          "2020-10-09T00:00:00",
          "2020-10-09T00:00:00",
          "2020-10-12T00:00:00",
          "2020-10-08T00:00:00",
          "2020-10-12T00:00:00",
          "2020-10-07T00:00:00",
          "2020-10-07T00:00:00",
          "2020-10-07T00:00:00",
          "2020-10-08T00:00:00",
          "2020-09-19T00:00:00",
          "2020-09-19T00:00:00",
          "2020-10-30T00:00:00",
          "2020-10-30T00:00:00",
          "2020-10-12T00:00:00",
          "2020-10-14T00:00:00"
         ],
         "hovertemplate": "Start=%{base}<br>Finish=%{x}<br>Task=%{y}<br>zakaz=%{marker.color}<extra></extra>",
         "legendgroup": "",
         "marker": {
          "color": [
           1330,
           1330,
           1330,
           1330,
           1330,
           1330,
           1330,
           1330,
           1324,
           1324,
           1324,
           1324,
           1324,
           1324,
           1324,
           1324,
           1324,
           1324,
           1324,
           1324,
           1324,
           1324,
           1325,
           1325,
           1325,
           1325,
           1325,
           1325,
           1325,
           1325,
           1325,
           1325,
           1325,
           1325,
           1325,
           1325,
           1325,
           1320,
           1320,
           1320,
           1320,
           1320,
           1320,
           1320,
           1320,
           1320,
           1320,
           1320,
           1320,
           1320,
           1320,
           1321,
           1321,
           1321,
           1321,
           1321,
           1321,
           1321,
           1321,
           1321,
           1321,
           1321,
           1321,
           1321,
           1321,
           1317,
           1317,
           1317,
           1317,
           1317,
           1317,
           1317,
           1317,
           1317,
           1317,
           1317,
           1317,
           1317,
           1329,
           1329,
           1329,
           1329,
           1329,
           1329,
           1329,
           1329,
           1329,
           1329,
           1329,
           1329,
           1329,
           1329,
           1329,
           1329,
           1327,
           1327,
           1327,
           1327,
           1327,
           1327,
           1327,
           1327,
           1327,
           1327,
           1327,
           1327,
           1327,
           1327,
           1327,
           1327,
           1331,
           1331,
           1331,
           1331,
           1331,
           1331,
           1331,
           1331,
           1331,
           1331,
           1331,
           1331,
           1331,
           1331,
           1331,
           1331,
           1328,
           1328,
           1328,
           1328,
           1328,
           1328,
           1328,
           1328,
           1328,
           1328,
           1328,
           1328,
           1328,
           1328,
           1328,
           1328,
           1328
          ],
          "coloraxis": "coloraxis"
         },
         "name": "",
         "offsetgroup": "",
         "orientation": "h",
         "showlegend": false,
         "textposition": "auto",
         "type": "bar",
         "x": [
          172740000,
          86340000,
          259140000,
          345540000,
          86340000,
          86340000,
          86340000,
          86340000,
          86340000,
          431940000,
          86340000,
          86340000,
          259140000,
          431940000,
          431940000,
          431940000,
          691140000,
          86340000,
          86340000,
          86340000,
          86340000,
          86340000,
          1209540000,
          86340000,
          259140000,
          86340000,
          259140000,
          259140000,
          259140000,
          345540000,
          259140000,
          691140000,
          86340000,
          86340000,
          86340000,
          86340000,
          86340000,
          86340000,
          345540000,
          86340000,
          518340000,
          604740000,
          691140000,
          691140000,
          431940000,
          691140000,
          259140000,
          86340000,
          86340000,
          86340000,
          86340000,
          86340000,
          518340000,
          86340000,
          518340000,
          518340000,
          431940000,
          431940000,
          431940000,
          691140000,
          86340000,
          86340000,
          86340000,
          86340000,
          86340000,
          863940000,
          863940000,
          86340000,
          604740000,
          86340000,
          604740000,
          345540000,
          1382340000,
          2332740000,
          86340000,
          86340000,
          345540000,
          86340000,
          345540000,
          518340000,
          86340000,
          431940000,
          86340000,
          518340000,
          259140000,
          259140000,
          259140000,
          259140000,
          518340000,
          86340000,
          86340000,
          86340000,
          86340000,
          86340000,
          691140000,
          604740000,
          86340000,
          604740000,
          86340000,
          345540000,
          518340000,
          691140000,
          691140000,
          691140000,
          691140000,
          86340000,
          86340000,
          86340000,
          86340000,
          86340000,
          259140000,
          518340000,
          86340000,
          259140000,
          86340000,
          259140000,
          259140000,
          431940000,
          431940000,
          431940000,
          518340000,
          86340000,
          86340000,
          86340000,
          86340000,
          86340000,
          691140000,
          691140000,
          86340000,
          518340000,
          86340000,
          604740000,
          345540000,
          259140000,
          259140000,
          259140000,
          518340000,
          1036740000,
          1900740000,
          86340000,
          86340000,
          86340000,
          86340000
         ],
         "xaxis": "x",
         "y": [
          "Sn",
          "ShinaTr",
          "04",
          "Sec04",
          "Inst10",
          "Rm",
          "Main",
          "Compl",
          "MetBot",
          "MetTop",
          "Emu",
          "Shit",
          "Sn",
          "ShinaUvr",
          "ShinaTr",
          "04",
          "Sec04",
          "Inst04",
          "Inst10",
          "Rm",
          "Main",
          "Compl",
          "BuildTop",
          "MetBot",
          "MetTop",
          "Emu",
          "Shit",
          "Sn",
          "ShinaUvr",
          "ShinaTr",
          "04",
          "Sec04",
          "Inst04",
          "Inst10",
          "Rm",
          "Main",
          "Compl",
          "MetBot",
          "MetTop",
          "Emu",
          "Shit",
          "Sn",
          "ShinaUvr",
          "ShinaTr",
          "04",
          "Sec04",
          "Inst04",
          "Inst10",
          "Rm",
          "Main",
          "Compl",
          "MetBot",
          "MetTop",
          "Emu",
          "Shit",
          "Sn",
          "ShinaUvr",
          "ShinaTr",
          "04",
          "Sec04",
          "Inst04",
          "Inst10",
          "Rm",
          "Main",
          "Compl",
          "BuildBot",
          "BuildTop",
          "MetBot",
          "MetTop",
          "Emu",
          "Shit",
          "Sn",
          "10",
          "Sec10",
          "Inst04",
          "Inst10",
          "Main",
          "Compl",
          "BuildBot",
          "BuildTop",
          "MetBot",
          "MetTop",
          "Emu",
          "Shit",
          "Sn",
          "ShinaUvr",
          "ShinaTr",
          "04",
          "Sec04",
          "Inst04",
          "Inst10",
          "Rm",
          "Main",
          "Compl",
          "BuildBot",
          "BuildTop",
          "MetBot",
          "MetTop",
          "Emu",
          "Shit",
          "Sn",
          "ShinaUvr",
          "ShinaTr",
          "04",
          "Sec04",
          "Inst04",
          "Inst10",
          "Rm",
          "Main",
          "Compl",
          "BuildBot",
          "BuildTop",
          "MetBot",
          "MetTop",
          "Emu",
          "Shit",
          "Sn",
          "ShinaUvr",
          "ShinaTr",
          "04",
          "Sec04",
          "Inst04",
          "Inst10",
          "Rm",
          "Main",
          "Compl",
          "BuildBot",
          "BuildTop",
          "MetBot",
          "MetTop",
          "Emu",
          "Shit",
          "Sn",
          "ShinaUvr",
          "ShinaTr",
          "04",
          "Sec04",
          "10",
          "Sec10",
          "Inst04",
          "Inst10",
          "Main",
          "Compl"
         ],
         "yaxis": "y"
        }
       ],
       "layout": {
        "barmode": "overlay",
        "coloraxis": {
         "colorbar": {
          "title": {
           "text": "zakaz"
          }
         },
         "colorscale": [
          [
           0,
           "#0d0887"
          ],
          [
           0.1111111111111111,
           "#46039f"
          ],
          [
           0.2222222222222222,
           "#7201a8"
          ],
          [
           0.3333333333333333,
           "#9c179e"
          ],
          [
           0.4444444444444444,
           "#bd3786"
          ],
          [
           0.5555555555555556,
           "#d8576b"
          ],
          [
           0.6666666666666666,
           "#ed7953"
          ],
          [
           0.7777777777777778,
           "#fb9f3a"
          ],
          [
           0.8888888888888888,
           "#fdca26"
          ],
          [
           1,
           "#f0f921"
          ]
         ]
        },
        "legend": {
         "tracegroupgap": 0
        },
        "margin": {
         "t": 60
        },
        "template": {
         "data": {
          "bar": [
           {
            "error_x": {
             "color": "#2a3f5f"
            },
            "error_y": {
             "color": "#2a3f5f"
            },
            "marker": {
             "line": {
              "color": "#E5ECF6",
              "width": 0.5
             }
            },
            "type": "bar"
           }
          ],
          "barpolar": [
           {
            "marker": {
             "line": {
              "color": "#E5ECF6",
              "width": 0.5
             }
            },
            "type": "barpolar"
           }
          ],
          "carpet": [
           {
            "aaxis": {
             "endlinecolor": "#2a3f5f",
             "gridcolor": "white",
             "linecolor": "white",
             "minorgridcolor": "white",
             "startlinecolor": "#2a3f5f"
            },
            "baxis": {
             "endlinecolor": "#2a3f5f",
             "gridcolor": "white",
             "linecolor": "white",
             "minorgridcolor": "white",
             "startlinecolor": "#2a3f5f"
            },
            "type": "carpet"
           }
          ],
          "choropleth": [
           {
            "colorbar": {
             "outlinewidth": 0,
             "ticks": ""
            },
            "type": "choropleth"
           }
          ],
          "contour": [
           {
            "colorbar": {
             "outlinewidth": 0,
             "ticks": ""
            },
            "colorscale": [
             [
              0,
              "#0d0887"
             ],
             [
              0.1111111111111111,
              "#46039f"
             ],
             [
              0.2222222222222222,
              "#7201a8"
             ],
             [
              0.3333333333333333,
              "#9c179e"
             ],
             [
              0.4444444444444444,
              "#bd3786"
             ],
             [
              0.5555555555555556,
              "#d8576b"
             ],
             [
              0.6666666666666666,
              "#ed7953"
             ],
             [
              0.7777777777777778,
              "#fb9f3a"
             ],
             [
              0.8888888888888888,
              "#fdca26"
             ],
             [
              1,
              "#f0f921"
             ]
            ],
            "type": "contour"
           }
          ],
          "contourcarpet": [
           {
            "colorbar": {
             "outlinewidth": 0,
             "ticks": ""
            },
            "type": "contourcarpet"
           }
          ],
          "heatmap": [
           {
            "colorbar": {
             "outlinewidth": 0,
             "ticks": ""
            },
            "colorscale": [
             [
              0,
              "#0d0887"
             ],
             [
              0.1111111111111111,
              "#46039f"
             ],
             [
              0.2222222222222222,
              "#7201a8"
             ],
             [
              0.3333333333333333,
              "#9c179e"
             ],
             [
              0.4444444444444444,
              "#bd3786"
             ],
             [
              0.5555555555555556,
              "#d8576b"
             ],
             [
              0.6666666666666666,
              "#ed7953"
             ],
             [
              0.7777777777777778,
              "#fb9f3a"
             ],
             [
              0.8888888888888888,
              "#fdca26"
             ],
             [
              1,
              "#f0f921"
             ]
            ],
            "type": "heatmap"
           }
          ],
          "heatmapgl": [
           {
            "colorbar": {
             "outlinewidth": 0,
             "ticks": ""
            },
            "colorscale": [
             [
              0,
              "#0d0887"
             ],
             [
              0.1111111111111111,
              "#46039f"
             ],
             [
              0.2222222222222222,
              "#7201a8"
             ],
             [
              0.3333333333333333,
              "#9c179e"
             ],
             [
              0.4444444444444444,
              "#bd3786"
             ],
             [
              0.5555555555555556,
              "#d8576b"
             ],
             [
              0.6666666666666666,
              "#ed7953"
             ],
             [
              0.7777777777777778,
              "#fb9f3a"
             ],
             [
              0.8888888888888888,
              "#fdca26"
             ],
             [
              1,
              "#f0f921"
             ]
            ],
            "type": "heatmapgl"
           }
          ],
          "histogram": [
           {
            "marker": {
             "colorbar": {
              "outlinewidth": 0,
              "ticks": ""
             }
            },
            "type": "histogram"
           }
          ],
          "histogram2d": [
           {
            "colorbar": {
             "outlinewidth": 0,
             "ticks": ""
            },
            "colorscale": [
             [
              0,
              "#0d0887"
             ],
             [
              0.1111111111111111,
              "#46039f"
             ],
             [
              0.2222222222222222,
              "#7201a8"
             ],
             [
              0.3333333333333333,
              "#9c179e"
             ],
             [
              0.4444444444444444,
              "#bd3786"
             ],
             [
              0.5555555555555556,
              "#d8576b"
             ],
             [
              0.6666666666666666,
              "#ed7953"
             ],
             [
              0.7777777777777778,
              "#fb9f3a"
             ],
             [
              0.8888888888888888,
              "#fdca26"
             ],
             [
              1,
              "#f0f921"
             ]
            ],
            "type": "histogram2d"
           }
          ],
          "histogram2dcontour": [
           {
            "colorbar": {
             "outlinewidth": 0,
             "ticks": ""
            },
            "colorscale": [
             [
              0,
              "#0d0887"
             ],
             [
              0.1111111111111111,
              "#46039f"
             ],
             [
              0.2222222222222222,
              "#7201a8"
             ],
             [
              0.3333333333333333,
              "#9c179e"
             ],
             [
              0.4444444444444444,
              "#bd3786"
             ],
             [
              0.5555555555555556,
              "#d8576b"
             ],
             [
              0.6666666666666666,
              "#ed7953"
             ],
             [
              0.7777777777777778,
              "#fb9f3a"
             ],
             [
              0.8888888888888888,
              "#fdca26"
             ],
             [
              1,
              "#f0f921"
             ]
            ],
            "type": "histogram2dcontour"
           }
          ],
          "mesh3d": [
           {
            "colorbar": {
             "outlinewidth": 0,
             "ticks": ""
            },
            "type": "mesh3d"
           }
          ],
          "parcoords": [
           {
            "line": {
             "colorbar": {
              "outlinewidth": 0,
              "ticks": ""
             }
            },
            "type": "parcoords"
           }
          ],
          "pie": [
           {
            "automargin": true,
            "type": "pie"
           }
          ],
          "scatter": [
           {
            "marker": {
             "colorbar": {
              "outlinewidth": 0,
              "ticks": ""
             }
            },
            "type": "scatter"
           }
          ],
          "scatter3d": [
           {
            "line": {
             "colorbar": {
              "outlinewidth": 0,
              "ticks": ""
             }
            },
            "marker": {
             "colorbar": {
              "outlinewidth": 0,
              "ticks": ""
             }
            },
            "type": "scatter3d"
           }
          ],
          "scattercarpet": [
           {
            "marker": {
             "colorbar": {
              "outlinewidth": 0,
              "ticks": ""
             }
            },
            "type": "scattercarpet"
           }
          ],
          "scattergeo": [
           {
            "marker": {
             "colorbar": {
              "outlinewidth": 0,
              "ticks": ""
             }
            },
            "type": "scattergeo"
           }
          ],
          "scattergl": [
           {
            "marker": {
             "colorbar": {
              "outlinewidth": 0,
              "ticks": ""
             }
            },
            "type": "scattergl"
           }
          ],
          "scattermapbox": [
           {
            "marker": {
             "colorbar": {
              "outlinewidth": 0,
              "ticks": ""
             }
            },
            "type": "scattermapbox"
           }
          ],
          "scatterpolar": [
           {
            "marker": {
             "colorbar": {
              "outlinewidth": 0,
              "ticks": ""
             }
            },
            "type": "scatterpolar"
           }
          ],
          "scatterpolargl": [
           {
            "marker": {
             "colorbar": {
              "outlinewidth": 0,
              "ticks": ""
             }
            },
            "type": "scatterpolargl"
           }
          ],
          "scatterternary": [
           {
            "marker": {
             "colorbar": {
              "outlinewidth": 0,
              "ticks": ""
             }
            },
            "type": "scatterternary"
           }
          ],
          "surface": [
           {
            "colorbar": {
             "outlinewidth": 0,
             "ticks": ""
            },
            "colorscale": [
             [
              0,
              "#0d0887"
             ],
             [
              0.1111111111111111,
              "#46039f"
             ],
             [
              0.2222222222222222,
              "#7201a8"
             ],
             [
              0.3333333333333333,
              "#9c179e"
             ],
             [
              0.4444444444444444,
              "#bd3786"
             ],
             [
              0.5555555555555556,
              "#d8576b"
             ],
             [
              0.6666666666666666,
              "#ed7953"
             ],
             [
              0.7777777777777778,
              "#fb9f3a"
             ],
             [
              0.8888888888888888,
              "#fdca26"
             ],
             [
              1,
              "#f0f921"
             ]
            ],
            "type": "surface"
           }
          ],
          "table": [
           {
            "cells": {
             "fill": {
              "color": "#EBF0F8"
             },
             "line": {
              "color": "white"
             }
            },
            "header": {
             "fill": {
              "color": "#C8D4E3"
             },
             "line": {
              "color": "white"
             }
            },
            "type": "table"
           }
          ]
         },
         "layout": {
          "annotationdefaults": {
           "arrowcolor": "#2a3f5f",
           "arrowhead": 0,
           "arrowwidth": 1
          },
          "coloraxis": {
           "colorbar": {
            "outlinewidth": 0,
            "ticks": ""
           }
          },
          "colorscale": {
           "diverging": [
            [
             0,
             "#8e0152"
            ],
            [
             0.1,
             "#c51b7d"
            ],
            [
             0.2,
             "#de77ae"
            ],
            [
             0.3,
             "#f1b6da"
            ],
            [
             0.4,
             "#fde0ef"
            ],
            [
             0.5,
             "#f7f7f7"
            ],
            [
             0.6,
             "#e6f5d0"
            ],
            [
             0.7,
             "#b8e186"
            ],
            [
             0.8,
             "#7fbc41"
            ],
            [
             0.9,
             "#4d9221"
            ],
            [
             1,
             "#276419"
            ]
           ],
           "sequential": [
            [
             0,
             "#0d0887"
            ],
            [
             0.1111111111111111,
             "#46039f"
            ],
            [
             0.2222222222222222,
             "#7201a8"
            ],
            [
             0.3333333333333333,
             "#9c179e"
            ],
            [
             0.4444444444444444,
             "#bd3786"
            ],
            [
             0.5555555555555556,
             "#d8576b"
            ],
            [
             0.6666666666666666,
             "#ed7953"
            ],
            [
             0.7777777777777778,
             "#fb9f3a"
            ],
            [
             0.8888888888888888,
             "#fdca26"
            ],
            [
             1,
             "#f0f921"
            ]
           ],
           "sequentialminus": [
            [
             0,
             "#0d0887"
            ],
            [
             0.1111111111111111,
             "#46039f"
            ],
            [
             0.2222222222222222,
             "#7201a8"
            ],
            [
             0.3333333333333333,
             "#9c179e"
            ],
            [
             0.4444444444444444,
             "#bd3786"
            ],
            [
             0.5555555555555556,
             "#d8576b"
            ],
            [
             0.6666666666666666,
             "#ed7953"
            ],
            [
             0.7777777777777778,
             "#fb9f3a"
            ],
            [
             0.8888888888888888,
             "#fdca26"
            ],
            [
             1,
             "#f0f921"
            ]
           ]
          },
          "colorway": [
           "#636efa",
           "#EF553B",
           "#00cc96",
           "#ab63fa",
           "#FFA15A",
           "#19d3f3",
           "#FF6692",
           "#B6E880",
           "#FF97FF",
           "#FECB52"
          ],
          "font": {
           "color": "#2a3f5f"
          },
          "geo": {
           "bgcolor": "white",
           "lakecolor": "white",
           "landcolor": "#E5ECF6",
           "showlakes": true,
           "showland": true,
           "subunitcolor": "white"
          },
          "hoverlabel": {
           "align": "left"
          },
          "hovermode": "closest",
          "mapbox": {
           "style": "light"
          },
          "paper_bgcolor": "white",
          "plot_bgcolor": "#E5ECF6",
          "polar": {
           "angularaxis": {
            "gridcolor": "white",
            "linecolor": "white",
            "ticks": ""
           },
           "bgcolor": "#E5ECF6",
           "radialaxis": {
            "gridcolor": "white",
            "linecolor": "white",
            "ticks": ""
           }
          },
          "scene": {
           "xaxis": {
            "backgroundcolor": "#E5ECF6",
            "gridcolor": "white",
            "gridwidth": 2,
            "linecolor": "white",
            "showbackground": true,
            "ticks": "",
            "zerolinecolor": "white"
           },
           "yaxis": {
            "backgroundcolor": "#E5ECF6",
            "gridcolor": "white",
            "gridwidth": 2,
            "linecolor": "white",
            "showbackground": true,
            "ticks": "",
            "zerolinecolor": "white"
           },
           "zaxis": {
            "backgroundcolor": "#E5ECF6",
            "gridcolor": "white",
            "gridwidth": 2,
            "linecolor": "white",
            "showbackground": true,
            "ticks": "",
            "zerolinecolor": "white"
           }
          },
          "shapedefaults": {
           "line": {
            "color": "#2a3f5f"
           }
          },
          "ternary": {
           "aaxis": {
            "gridcolor": "white",
            "linecolor": "white",
            "ticks": ""
           },
           "baxis": {
            "gridcolor": "white",
            "linecolor": "white",
            "ticks": ""
           },
           "bgcolor": "#E5ECF6",
           "caxis": {
            "gridcolor": "white",
            "linecolor": "white",
            "ticks": ""
           }
          },
          "title": {
           "x": 0.05
          },
          "xaxis": {
           "automargin": true,
           "gridcolor": "white",
           "linecolor": "white",
           "ticks": "",
           "title": {
            "standoff": 15
           },
           "zerolinecolor": "white",
           "zerolinewidth": 2
          },
          "yaxis": {
           "automargin": true,
           "gridcolor": "white",
           "linecolor": "white",
           "ticks": "",
           "title": {
            "standoff": 15
           },
           "zerolinecolor": "white",
           "zerolinewidth": 2
          }
         }
        },
        "xaxis": {
         "anchor": "y",
         "domain": [
          0,
          1
         ],
         "type": "date"
        },
        "yaxis": {
         "anchor": "x",
         "autorange": "reversed",
         "domain": [
          0,
          1
         ],
         "title": {
          "text": "Task"
         }
        }
       }
      }
     },
     "metadata": {}
    }
   ],
   "source": [
    "fig = px.timeline(data, x_start=\"Start\", x_end=\"Finish\", y=\"Task\", color='zakaz')\n",
    "fig.update_yaxes(autorange=\"reversed\") # otherwise tasks are listed from the bottom up\n",
    "fig.show()"
   ]
  },
  {
   "cell_type": "code",
   "execution_count": null,
   "metadata": {},
   "outputs": [],
   "source": []
  }
 ]
}