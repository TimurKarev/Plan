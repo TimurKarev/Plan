{
 "cells": [
  {
   "cell_type": "code",
   "execution_count": 39,
   "metadata": {
    "tags": []
   },
   "outputs": [
    {
     "output_type": "stream",
     "name": "stdout",
     "text": "The autoreload extension is already loaded. To reload it, use:\n  %reload_ext autoreload\n"
    }
   ],
   "source": [
    "%load_ext autoreload"
   ]
  },
  {
   "cell_type": "code",
   "execution_count": 60,
   "metadata": {},
   "outputs": [],
   "source": [
    "import xlrd\n",
    "import plotly.express as px\n",
    "import pandas as pd\n",
    "from datetime import datetime as dt\n",
    "from datetime import timedelta\n",
    "import plan_utils as utils\n",
    "import plan_var as V\n",
    "from plan_loader import *\n",
    "from reformatter import *\n",
    "\n",
    "from plotly.subplots import make_subplots\n",
    "import plotly.graph_objects as go"
   ]
  },
  {
   "cell_type": "code",
   "execution_count": 41,
   "metadata": {},
   "outputs": [],
   "source": [
    "%autoreload\n",
    "plan_loader = PlanLoader('план.xlsx')\n",
    "plan_loader.delete_rows_ready()"
   ]
  },
  {
   "cell_type": "code",
   "execution_count": 42,
   "metadata": {
    "tags": []
   },
   "outputs": [
    {
     "output_type": "execute_result",
     "data": {
      "text/plain": "           Заливка_НМ_Нач       Заливка_НМ_Кон       Заливка_ВМ_Нач  \\\n1250                готов                готов                готов   \n1253                готов                готов                готов   \n1259                  нет                  нет                  нет   \n1255                готов                готов                готов   \n1256                готов                готов                готов   \n...                   ...                  ...                  ...   \n1337  2020-09-28 00:00:00  2020-09-30 00:00:00  2020-10-06 00:00:00   \n1338  2020-09-30 00:00:00  2020-10-02 00:00:00  2020-10-13 00:00:00   \n1335  2020-10-05 00:00:00  2020-10-13 00:00:00  2020-10-16 00:00:00   \n1339  2020-10-13 00:00:00  2020-10-16 00:00:00  2020-10-26 00:00:00   \n1340  2020-10-16 00:00:00  2020-10-21 00:00:00  2020-10-28 00:00:00   \n\n           Заливка_ВМ_Кон       Навеска_НМ_Нач       Навеска_НМ_Кон  \\\n1250                готов  2019-11-20 00:00:00  2019-11-20 00:00:00   \n1253                готов  2019-11-26 00:00:00  2019-11-26 00:00:00   \n1259                  нет                  нет                  нет   \n1255                готов  2019-11-28 00:00:00  2019-11-28 00:00:00   \n1256                готов  2019-12-02 00:00:00  2019-12-02 00:00:00   \n...                   ...                  ...                  ...   \n1337  2020-10-12 00:00:00  2020-10-28 00:00:00  2020-10-28 00:00:00   \n1338  2020-10-16 00:00:00                  нет                  нет   \n1335  2020-10-26 00:00:00  2020-11-02 00:00:00  2020-11-02 00:00:00   \n1339  2020-10-29 00:00:00                  нет                  нет   \n1340  2020-11-03 00:00:00                  нет                  нет   \n\n           Навеска_ВМ_Нач       Навеска_ВМ_Кон              ЭМУ_Нач  \\\n1250  2019-11-20 00:00:00  2019-11-25 00:00:00                готов   \n1253  2019-11-26 00:00:00  2019-11-27 00:00:00  2019-11-25 00:00:00   \n1259                  нет                  нет                  нет   \n1255  2019-11-28 00:00:00  2019-11-30 00:00:00  2019-11-26 00:00:00   \n1256  2019-12-02 00:00:00  2019-12-04 00:00:00  2019-11-29 00:00:00   \n...                   ...                  ...                  ...   \n1337  2020-10-28 00:00:00  2020-10-30 00:00:00  2020-10-28 00:00:00   \n1338                  нет                  нет                  нет   \n1335  2020-11-02 00:00:00  2020-11-06 00:00:00  2020-11-03 00:00:00   \n1339                  нет                  нет                  нет   \n1340                  нет                  нет                  нет   \n\n                  ЭМУ_Кон  ...          УсткаВВ_Нач          УсткаВВ_Кон  \\\n1250                готов  ...  2019-11-19 00:00:00  2019-11-19 00:00:00   \n1253  2019-11-25 00:00:00  ...  2019-12-25 00:00:00  2019-12-25 00:00:00   \n1259                  нет  ...                  нет                  нет   \n1255  2019-11-26 00:00:00  ...  2019-11-29 00:00:00  2019-11-29 00:00:00   \n1256  2019-11-29 00:00:00  ...  2019-12-03 00:00:00  2019-12-03 00:00:00   \n...                   ...  ...                  ...                  ...   \n1337  2020-10-28 00:00:00  ...  2020-10-30 00:00:00  2020-10-30 00:00:00   \n1338                  нет  ...                  нет                  нет   \n1335  2020-11-03 00:00:00  ...  2020-10-05 00:00:00  2020-11-02 00:00:00   \n1339                  нет  ...                  нет                  нет   \n1340                  нет  ...                  нет                  нет   \n\n              УсткаRM_Нач          УсткаRM_Кон          Наладка_Нач  \\\n1250  2019-11-20 00:00:00  2019-11-20 00:00:00  2019-12-05 00:00:00   \n1253  2019-12-27 00:00:00  2019-12-27 00:00:00  2019-12-05 00:00:00   \n1259                  нет                  нет  2019-12-09 00:00:00   \n1255  2019-12-03 00:00:00  2019-12-03 00:00:00  2019-12-09 00:00:00   \n1256  2019-12-03 00:00:00  2019-12-03 00:00:00  2019-12-10 00:00:00   \n...                   ...                  ...                  ...   \n1337  2020-10-30 00:00:00  2020-10-30 00:00:00  2020-11-06 00:00:00   \n1338                  нет                  нет                  нет   \n1335                  нет                  нет  2020-11-17 00:00:00   \n1339                  нет                  нет                  нет   \n1340                  нет                  нет                  нет   \n\n              Наладка_Кон         Комплект_Нач         Комплект_Кон  \\\n1250  2019-12-05 00:00:00  2019-12-06 00:00:00  2019-12-06 00:00:00   \n1253  2019-12-05 00:00:00  2019-12-06 00:00:00  2019-12-06 00:00:00   \n1259  2019-12-09 00:00:00  2019-12-09 00:00:00  2019-12-09 00:00:00   \n1255  2019-12-09 00:00:00  2019-12-10 00:00:00  2019-12-10 00:00:00   \n1256  2019-12-10 00:00:00  2019-12-11 00:00:00  2019-12-11 00:00:00   \n...                   ...                  ...                  ...   \n1337  2020-11-06 00:00:00  2020-11-09 00:00:00  2020-11-09 00:00:00   \n1338                  нет                  нет                  нет   \n1335  2020-11-19 00:00:00  2020-11-19 00:00:00  2020-11-19 00:00:00   \n1339                  нет                  нет                  нет   \n1340                  нет                  нет                  нет   \n\n       ОТГРУЗКА ОТГРУЗКА_1  \n1250 2019-12-06        нет  \n1253 2019-12-10        нет  \n1259 2019-12-10        нет  \n1255 2019-12-11        нет  \n1256 2019-12-12        нет  \n...         ...        ...  \n1337 2020-11-10        нет  \n1338 2020-11-18        нет  \n1335 2020-11-20        нет  \n1339 2020-11-26        нет  \n1340 2020-11-27        нет  \n\n[68 rows x 38 columns]",
      "text/html": "<div>\n<style scoped>\n    .dataframe tbody tr th:only-of-type {\n        vertical-align: middle;\n    }\n\n    .dataframe tbody tr th {\n        vertical-align: top;\n    }\n\n    .dataframe thead th {\n        text-align: right;\n    }\n</style>\n<table border=\"1\" class=\"dataframe\">\n  <thead>\n    <tr style=\"text-align: right;\">\n      <th></th>\n      <th>Заливка_НМ_Нач</th>\n      <th>Заливка_НМ_Кон</th>\n      <th>Заливка_ВМ_Нач</th>\n      <th>Заливка_ВМ_Кон</th>\n      <th>Навеска_НМ_Нач</th>\n      <th>Навеска_НМ_Кон</th>\n      <th>Навеска_ВМ_Нач</th>\n      <th>Навеска_ВМ_Кон</th>\n      <th>ЭМУ_Нач</th>\n      <th>ЭМУ_Кон</th>\n      <th>...</th>\n      <th>УсткаВВ_Нач</th>\n      <th>УсткаВВ_Кон</th>\n      <th>УсткаRM_Нач</th>\n      <th>УсткаRM_Кон</th>\n      <th>Наладка_Нач</th>\n      <th>Наладка_Кон</th>\n      <th>Комплект_Нач</th>\n      <th>Комплект_Кон</th>\n      <th>ОТГРУЗКА</th>\n      <th>ОТГРУЗКА_1</th>\n    </tr>\n  </thead>\n  <tbody>\n    <tr>\n      <th>1250</th>\n      <td>готов</td>\n      <td>готов</td>\n      <td>готов</td>\n      <td>готов</td>\n      <td>2019-11-20 00:00:00</td>\n      <td>2019-11-20 00:00:00</td>\n      <td>2019-11-20 00:00:00</td>\n      <td>2019-11-25 00:00:00</td>\n      <td>готов</td>\n      <td>готов</td>\n      <td>...</td>\n      <td>2019-11-19 00:00:00</td>\n      <td>2019-11-19 00:00:00</td>\n      <td>2019-11-20 00:00:00</td>\n      <td>2019-11-20 00:00:00</td>\n      <td>2019-12-05 00:00:00</td>\n      <td>2019-12-05 00:00:00</td>\n      <td>2019-12-06 00:00:00</td>\n      <td>2019-12-06 00:00:00</td>\n      <td>2019-12-06</td>\n      <td>нет</td>\n    </tr>\n    <tr>\n      <th>1253</th>\n      <td>готов</td>\n      <td>готов</td>\n      <td>готов</td>\n      <td>готов</td>\n      <td>2019-11-26 00:00:00</td>\n      <td>2019-11-26 00:00:00</td>\n      <td>2019-11-26 00:00:00</td>\n      <td>2019-11-27 00:00:00</td>\n      <td>2019-11-25 00:00:00</td>\n      <td>2019-11-25 00:00:00</td>\n      <td>...</td>\n      <td>2019-12-25 00:00:00</td>\n      <td>2019-12-25 00:00:00</td>\n      <td>2019-12-27 00:00:00</td>\n      <td>2019-12-27 00:00:00</td>\n      <td>2019-12-05 00:00:00</td>\n      <td>2019-12-05 00:00:00</td>\n      <td>2019-12-06 00:00:00</td>\n      <td>2019-12-06 00:00:00</td>\n      <td>2019-12-10</td>\n      <td>нет</td>\n    </tr>\n    <tr>\n      <th>1259</th>\n      <td>нет</td>\n      <td>нет</td>\n      <td>нет</td>\n      <td>нет</td>\n      <td>нет</td>\n      <td>нет</td>\n      <td>нет</td>\n      <td>нет</td>\n      <td>нет</td>\n      <td>нет</td>\n      <td>...</td>\n      <td>нет</td>\n      <td>нет</td>\n      <td>нет</td>\n      <td>нет</td>\n      <td>2019-12-09 00:00:00</td>\n      <td>2019-12-09 00:00:00</td>\n      <td>2019-12-09 00:00:00</td>\n      <td>2019-12-09 00:00:00</td>\n      <td>2019-12-10</td>\n      <td>нет</td>\n    </tr>\n    <tr>\n      <th>1255</th>\n      <td>готов</td>\n      <td>готов</td>\n      <td>готов</td>\n      <td>готов</td>\n      <td>2019-11-28 00:00:00</td>\n      <td>2019-11-28 00:00:00</td>\n      <td>2019-11-28 00:00:00</td>\n      <td>2019-11-30 00:00:00</td>\n      <td>2019-11-26 00:00:00</td>\n      <td>2019-11-26 00:00:00</td>\n      <td>...</td>\n      <td>2019-11-29 00:00:00</td>\n      <td>2019-11-29 00:00:00</td>\n      <td>2019-12-03 00:00:00</td>\n      <td>2019-12-03 00:00:00</td>\n      <td>2019-12-09 00:00:00</td>\n      <td>2019-12-09 00:00:00</td>\n      <td>2019-12-10 00:00:00</td>\n      <td>2019-12-10 00:00:00</td>\n      <td>2019-12-11</td>\n      <td>нет</td>\n    </tr>\n    <tr>\n      <th>1256</th>\n      <td>готов</td>\n      <td>готов</td>\n      <td>готов</td>\n      <td>готов</td>\n      <td>2019-12-02 00:00:00</td>\n      <td>2019-12-02 00:00:00</td>\n      <td>2019-12-02 00:00:00</td>\n      <td>2019-12-04 00:00:00</td>\n      <td>2019-11-29 00:00:00</td>\n      <td>2019-11-29 00:00:00</td>\n      <td>...</td>\n      <td>2019-12-03 00:00:00</td>\n      <td>2019-12-03 00:00:00</td>\n      <td>2019-12-03 00:00:00</td>\n      <td>2019-12-03 00:00:00</td>\n      <td>2019-12-10 00:00:00</td>\n      <td>2019-12-10 00:00:00</td>\n      <td>2019-12-11 00:00:00</td>\n      <td>2019-12-11 00:00:00</td>\n      <td>2019-12-12</td>\n      <td>нет</td>\n    </tr>\n    <tr>\n      <th>...</th>\n      <td>...</td>\n      <td>...</td>\n      <td>...</td>\n      <td>...</td>\n      <td>...</td>\n      <td>...</td>\n      <td>...</td>\n      <td>...</td>\n      <td>...</td>\n      <td>...</td>\n      <td>...</td>\n      <td>...</td>\n      <td>...</td>\n      <td>...</td>\n      <td>...</td>\n      <td>...</td>\n      <td>...</td>\n      <td>...</td>\n      <td>...</td>\n      <td>...</td>\n      <td>...</td>\n    </tr>\n    <tr>\n      <th>1337</th>\n      <td>2020-09-28 00:00:00</td>\n      <td>2020-09-30 00:00:00</td>\n      <td>2020-10-06 00:00:00</td>\n      <td>2020-10-12 00:00:00</td>\n      <td>2020-10-28 00:00:00</td>\n      <td>2020-10-28 00:00:00</td>\n      <td>2020-10-28 00:00:00</td>\n      <td>2020-10-30 00:00:00</td>\n      <td>2020-10-28 00:00:00</td>\n      <td>2020-10-28 00:00:00</td>\n      <td>...</td>\n      <td>2020-10-30 00:00:00</td>\n      <td>2020-10-30 00:00:00</td>\n      <td>2020-10-30 00:00:00</td>\n      <td>2020-10-30 00:00:00</td>\n      <td>2020-11-06 00:00:00</td>\n      <td>2020-11-06 00:00:00</td>\n      <td>2020-11-09 00:00:00</td>\n      <td>2020-11-09 00:00:00</td>\n      <td>2020-11-10</td>\n      <td>нет</td>\n    </tr>\n    <tr>\n      <th>1338</th>\n      <td>2020-09-30 00:00:00</td>\n      <td>2020-10-02 00:00:00</td>\n      <td>2020-10-13 00:00:00</td>\n      <td>2020-10-16 00:00:00</td>\n      <td>нет</td>\n      <td>нет</td>\n      <td>нет</td>\n      <td>нет</td>\n      <td>нет</td>\n      <td>нет</td>\n      <td>...</td>\n      <td>нет</td>\n      <td>нет</td>\n      <td>нет</td>\n      <td>нет</td>\n      <td>нет</td>\n      <td>нет</td>\n      <td>нет</td>\n      <td>нет</td>\n      <td>2020-11-18</td>\n      <td>нет</td>\n    </tr>\n    <tr>\n      <th>1335</th>\n      <td>2020-10-05 00:00:00</td>\n      <td>2020-10-13 00:00:00</td>\n      <td>2020-10-16 00:00:00</td>\n      <td>2020-10-26 00:00:00</td>\n      <td>2020-11-02 00:00:00</td>\n      <td>2020-11-02 00:00:00</td>\n      <td>2020-11-02 00:00:00</td>\n      <td>2020-11-06 00:00:00</td>\n      <td>2020-11-03 00:00:00</td>\n      <td>2020-11-03 00:00:00</td>\n      <td>...</td>\n      <td>2020-10-05 00:00:00</td>\n      <td>2020-11-02 00:00:00</td>\n      <td>нет</td>\n      <td>нет</td>\n      <td>2020-11-17 00:00:00</td>\n      <td>2020-11-19 00:00:00</td>\n      <td>2020-11-19 00:00:00</td>\n      <td>2020-11-19 00:00:00</td>\n      <td>2020-11-20</td>\n      <td>нет</td>\n    </tr>\n    <tr>\n      <th>1339</th>\n      <td>2020-10-13 00:00:00</td>\n      <td>2020-10-16 00:00:00</td>\n      <td>2020-10-26 00:00:00</td>\n      <td>2020-10-29 00:00:00</td>\n      <td>нет</td>\n      <td>нет</td>\n      <td>нет</td>\n      <td>нет</td>\n      <td>нет</td>\n      <td>нет</td>\n      <td>...</td>\n      <td>нет</td>\n      <td>нет</td>\n      <td>нет</td>\n      <td>нет</td>\n      <td>нет</td>\n      <td>нет</td>\n      <td>нет</td>\n      <td>нет</td>\n      <td>2020-11-26</td>\n      <td>нет</td>\n    </tr>\n    <tr>\n      <th>1340</th>\n      <td>2020-10-16 00:00:00</td>\n      <td>2020-10-21 00:00:00</td>\n      <td>2020-10-28 00:00:00</td>\n      <td>2020-11-03 00:00:00</td>\n      <td>нет</td>\n      <td>нет</td>\n      <td>нет</td>\n      <td>нет</td>\n      <td>нет</td>\n      <td>нет</td>\n      <td>...</td>\n      <td>нет</td>\n      <td>нет</td>\n      <td>нет</td>\n      <td>нет</td>\n      <td>нет</td>\n      <td>нет</td>\n      <td>нет</td>\n      <td>нет</td>\n      <td>2020-11-27</td>\n      <td>нет</td>\n    </tr>\n  </tbody>\n</table>\n<p>68 rows × 38 columns</p>\n</div>"
     },
     "metadata": {},
     "execution_count": 42
    }
   ],
   "source": [
    "%autoreload\n",
    "ref = PlanReformatter(plan_loader.df)\n",
    "ref.r_df"
   ]
  },
  {
   "cell_type": "code",
   "execution_count": 43,
   "metadata": {},
   "outputs": [
    {
     "output_type": "execute_result",
     "data": {
      "text/plain": "['Заливка_НМ',\n 'Заливка_ВМ',\n 'Навеска_НМ',\n 'Навеска_ВМ',\n 'ЭМУ',\n 'СборкаЩитов',\n 'Монтаж_СН',\n 'ШинаУВР',\n 'Шина_ТР',\n 'СборкаНН',\n 'ВторНН',\n 'СборкаВВ',\n 'ВторВВ',\n 'УсткаНН',\n 'УсткаВВ',\n 'УсткаRM',\n 'Наладка',\n 'Комплект']"
     },
     "metadata": {},
     "execution_count": 43
    }
   ],
   "source": [
    "i=0\n",
    "l = []\n",
    "while i < len(ColumnNames)-2:\n",
    "    l.append(ColumnNames[i][:-4])\n",
    "    i+=2\n",
    "l"
   ]
  },
  {
   "cell_type": "code",
   "execution_count": 78,
   "metadata": {},
   "outputs": [
    {
     "output_type": "execute_result",
     "data": {
      "text/plain": "           Task               Start              Finish zakaz\n0    Заливка_НМ 2020-09-16 08:20:00 2020-09-21 16:20:00  1342\n1    Навеска_НМ 2020-09-18 08:20:00 2020-09-21 16:20:00  1342\n2    Заливка_НМ 2020-09-09 08:20:00 2020-09-10 16:20:00  1328\n3    Заливка_ВМ 2020-09-16 08:20:00 2020-09-24 16:20:00  1328\n4    Навеска_НМ 2020-10-09 08:20:00 2020-10-09 16:20:00  1328\n..          ...                 ...                 ...   ...\n125    Комплект 2020-11-19 08:20:00 2020-11-19 16:20:00  1335\n126  Заливка_НМ 2020-10-13 08:20:00 2020-10-16 16:20:00  1339\n127  Заливка_ВМ 2020-10-26 08:20:00 2020-10-29 16:20:00  1339\n128  Заливка_НМ 2020-10-16 08:20:00 2020-10-21 16:20:00  1340\n129  Заливка_ВМ 2020-10-28 08:20:00 2020-11-03 16:20:00  1340\n\n[130 rows x 4 columns]",
      "text/html": "<div>\n<style scoped>\n    .dataframe tbody tr th:only-of-type {\n        vertical-align: middle;\n    }\n\n    .dataframe tbody tr th {\n        vertical-align: top;\n    }\n\n    .dataframe thead th {\n        text-align: right;\n    }\n</style>\n<table border=\"1\" class=\"dataframe\">\n  <thead>\n    <tr style=\"text-align: right;\">\n      <th></th>\n      <th>Task</th>\n      <th>Start</th>\n      <th>Finish</th>\n      <th>zakaz</th>\n    </tr>\n  </thead>\n  <tbody>\n    <tr>\n      <th>0</th>\n      <td>Заливка_НМ</td>\n      <td>2020-09-16 08:20:00</td>\n      <td>2020-09-21 16:20:00</td>\n      <td>1342</td>\n    </tr>\n    <tr>\n      <th>1</th>\n      <td>Навеска_НМ</td>\n      <td>2020-09-18 08:20:00</td>\n      <td>2020-09-21 16:20:00</td>\n      <td>1342</td>\n    </tr>\n    <tr>\n      <th>2</th>\n      <td>Заливка_НМ</td>\n      <td>2020-09-09 08:20:00</td>\n      <td>2020-09-10 16:20:00</td>\n      <td>1328</td>\n    </tr>\n    <tr>\n      <th>3</th>\n      <td>Заливка_ВМ</td>\n      <td>2020-09-16 08:20:00</td>\n      <td>2020-09-24 16:20:00</td>\n      <td>1328</td>\n    </tr>\n    <tr>\n      <th>4</th>\n      <td>Навеска_НМ</td>\n      <td>2020-10-09 08:20:00</td>\n      <td>2020-10-09 16:20:00</td>\n      <td>1328</td>\n    </tr>\n    <tr>\n      <th>...</th>\n      <td>...</td>\n      <td>...</td>\n      <td>...</td>\n      <td>...</td>\n    </tr>\n    <tr>\n      <th>125</th>\n      <td>Комплект</td>\n      <td>2020-11-19 08:20:00</td>\n      <td>2020-11-19 16:20:00</td>\n      <td>1335</td>\n    </tr>\n    <tr>\n      <th>126</th>\n      <td>Заливка_НМ</td>\n      <td>2020-10-13 08:20:00</td>\n      <td>2020-10-16 16:20:00</td>\n      <td>1339</td>\n    </tr>\n    <tr>\n      <th>127</th>\n      <td>Заливка_ВМ</td>\n      <td>2020-10-26 08:20:00</td>\n      <td>2020-10-29 16:20:00</td>\n      <td>1339</td>\n    </tr>\n    <tr>\n      <th>128</th>\n      <td>Заливка_НМ</td>\n      <td>2020-10-16 08:20:00</td>\n      <td>2020-10-21 16:20:00</td>\n      <td>1340</td>\n    </tr>\n    <tr>\n      <th>129</th>\n      <td>Заливка_ВМ</td>\n      <td>2020-10-28 08:20:00</td>\n      <td>2020-11-03 16:20:00</td>\n      <td>1340</td>\n    </tr>\n  </tbody>\n</table>\n<p>130 rows × 4 columns</p>\n</div>"
     },
     "metadata": {},
     "execution_count": 78
    }
   ],
   "source": [
    "%autoreload\n",
    "data = ref.get_df_for_gantt(13)\n",
    "data"
   ]
  },
  {
   "cell_type": "code",
   "execution_count": 79,
   "metadata": {},
   "outputs": [
    {
     "output_type": "display_data",
     "data": {
      "application/vnd.plotly.v1+json": {
       "config": {
        "plotlyServerURL": "https://plot.ly"
       },
       "data": [
        {
         "alignmentgroup": "True",
         "base": [
          "2020-09-16T08:20:00"
         ],
         "hovertemplate": "Task=%{y}<br>zakaz=1342<br>Start=%{base}<br>Finish=%{x}<extra></extra>",
         "legendgroup": "Заливка_НМ",
         "marker": {
          "color": "#636efa"
         },
         "name": "Заливка_НМ",
         "offsetgroup": "Заливка_НМ",
         "orientation": "h",
         "showlegend": true,
         "textposition": "auto",
         "type": "bar",
         "x": [
          460800000
         ],
         "xaxis": "x13",
         "y": [
          "Заливка_НМ"
         ],
         "yaxis": "y13"
        },
        {
         "alignmentgroup": "True",
         "base": [
          "2020-09-09T08:20:00"
         ],
         "hovertemplate": "Task=%{y}<br>zakaz=1328<br>Start=%{base}<br>Finish=%{x}<extra></extra>",
         "legendgroup": "Заливка_НМ",
         "marker": {
          "color": "#636efa"
         },
         "name": "Заливка_НМ",
         "offsetgroup": "Заливка_НМ",
         "orientation": "h",
         "showlegend": false,
         "textposition": "auto",
         "type": "bar",
         "x": [
          115200000
         ],
         "xaxis": "x12",
         "y": [
          "Заливка_НМ"
         ],
         "yaxis": "y12"
        },
        {
         "alignmentgroup": "True",
         "base": [
          "2020-09-11T08:20:00"
         ],
         "hovertemplate": "Task=%{y}<br>zakaz=1332<br>Start=%{base}<br>Finish=%{x}<extra></extra>",
         "legendgroup": "Заливка_НМ",
         "marker": {
          "color": "#636efa"
         },
         "name": "Заливка_НМ",
         "offsetgroup": "Заливка_НМ",
         "orientation": "h",
         "showlegend": false,
         "textposition": "auto",
         "type": "bar",
         "x": [
          460800000
         ],
         "xaxis": "x11",
         "y": [
          "Заливка_НМ"
         ],
         "yaxis": "y11"
        },
        {
         "alignmentgroup": "True",
         "base": [
          "2020-09-18T08:20:00"
         ],
         "hovertemplate": "Task=%{y}<br>zakaz=1333<br>Start=%{base}<br>Finish=%{x}<extra></extra>",
         "legendgroup": "Заливка_НМ",
         "marker": {
          "color": "#636efa"
         },
         "name": "Заливка_НМ",
         "offsetgroup": "Заливка_НМ",
         "orientation": "h",
         "showlegend": false,
         "textposition": "auto",
         "type": "bar",
         "x": [
          460800000
         ],
         "xaxis": "x9",
         "y": [
          "Заливка_НМ"
         ],
         "yaxis": "y9"
        },
        {
         "alignmentgroup": "True",
         "base": [
          "2020-09-22T08:20:00"
         ],
         "hovertemplate": "Task=%{y}<br>zakaz=1326<br>Start=%{base}<br>Finish=%{x}<extra></extra>",
         "legendgroup": "Заливка_НМ",
         "marker": {
          "color": "#636efa"
         },
         "name": "Заливка_НМ",
         "offsetgroup": "Заливка_НМ",
         "orientation": "h",
         "showlegend": false,
         "textposition": "auto",
         "type": "bar",
         "x": [
          288000000
         ],
         "xaxis": "x8",
         "y": [
          "Заливка_НМ"
         ],
         "yaxis": "y8"
        },
        {
         "alignmentgroup": "True",
         "base": [
          "2020-09-24T08:20:00"
         ],
         "hovertemplate": "Task=%{y}<br>zakaz=1334<br>Start=%{base}<br>Finish=%{x}<extra></extra>",
         "legendgroup": "Заливка_НМ",
         "marker": {
          "color": "#636efa"
         },
         "name": "Заливка_НМ",
         "offsetgroup": "Заливка_НМ",
         "orientation": "h",
         "showlegend": false,
         "textposition": "auto",
         "type": "bar",
         "x": [
          374400000
         ],
         "xaxis": "x6",
         "y": [
          "Заливка_НМ"
         ],
         "yaxis": "y6"
        },
        {
         "alignmentgroup": "True",
         "base": [
          "2020-09-28T08:20:00"
         ],
         "hovertemplate": "Task=%{y}<br>zakaz=1337<br>Start=%{base}<br>Finish=%{x}<extra></extra>",
         "legendgroup": "Заливка_НМ",
         "marker": {
          "color": "#636efa"
         },
         "name": "Заливка_НМ",
         "offsetgroup": "Заливка_НМ",
         "orientation": "h",
         "showlegend": false,
         "textposition": "auto",
         "type": "bar",
         "x": [
          201600000
         ],
         "xaxis": "x5",
         "y": [
          "Заливка_НМ"
         ],
         "yaxis": "y5"
        },
        {
         "alignmentgroup": "True",
         "base": [
          "2020-09-30T08:20:00"
         ],
         "hovertemplate": "Task=%{y}<br>zakaz=1338<br>Start=%{base}<br>Finish=%{x}<extra></extra>",
         "legendgroup": "Заливка_НМ",
         "marker": {
          "color": "#636efa"
         },
         "name": "Заливка_НМ",
         "offsetgroup": "Заливка_НМ",
         "orientation": "h",
         "showlegend": false,
         "textposition": "auto",
         "type": "bar",
         "x": [
          201600000
         ],
         "xaxis": "x4",
         "y": [
          "Заливка_НМ"
         ],
         "yaxis": "y4"
        },
        {
         "alignmentgroup": "True",
         "base": [
          "2020-10-05T08:20:00"
         ],
         "hovertemplate": "Task=%{y}<br>zakaz=1335<br>Start=%{base}<br>Finish=%{x}<extra></extra>",
         "legendgroup": "Заливка_НМ",
         "marker": {
          "color": "#636efa"
         },
         "name": "Заливка_НМ",
         "offsetgroup": "Заливка_НМ",
         "orientation": "h",
         "showlegend": false,
         "textposition": "auto",
         "type": "bar",
         "x": [
          720000000
         ],
         "xaxis": "x3",
         "y": [
          "Заливка_НМ"
         ],
         "yaxis": "y3"
        },
        {
         "alignmentgroup": "True",
         "base": [
          "2020-10-13T08:20:00"
         ],
         "hovertemplate": "Task=%{y}<br>zakaz=1339<br>Start=%{base}<br>Finish=%{x}<extra></extra>",
         "legendgroup": "Заливка_НМ",
         "marker": {
          "color": "#636efa"
         },
         "name": "Заливка_НМ",
         "offsetgroup": "Заливка_НМ",
         "orientation": "h",
         "showlegend": false,
         "textposition": "auto",
         "type": "bar",
         "x": [
          288000000
         ],
         "xaxis": "x2",
         "y": [
          "Заливка_НМ"
         ],
         "yaxis": "y2"
        },
        {
         "alignmentgroup": "True",
         "base": [
          "2020-10-16T08:20:00"
         ],
         "hovertemplate": "Task=%{y}<br>zakaz=1340<br>Start=%{base}<br>Finish=%{x}<extra></extra>",
         "legendgroup": "Заливка_НМ",
         "marker": {
          "color": "#636efa"
         },
         "name": "Заливка_НМ",
         "offsetgroup": "Заливка_НМ",
         "orientation": "h",
         "showlegend": false,
         "textposition": "auto",
         "type": "bar",
         "x": [
          460800000
         ],
         "xaxis": "x",
         "y": [
          "Заливка_НМ"
         ],
         "yaxis": "y"
        },
        {
         "alignmentgroup": "True",
         "base": [
          "2020-09-16T08:20:00"
         ],
         "hovertemplate": "Task=%{y}<br>zakaz=1328<br>Start=%{base}<br>Finish=%{x}<extra></extra>",
         "legendgroup": "Заливка_ВМ",
         "marker": {
          "color": "#EF553B"
         },
         "name": "Заливка_ВМ",
         "offsetgroup": "Заливка_ВМ",
         "orientation": "h",
         "showlegend": true,
         "textposition": "auto",
         "type": "bar",
         "x": [
          720000000
         ],
         "xaxis": "x12",
         "y": [
          "Заливка_ВМ"
         ],
         "yaxis": "y12"
        },
        {
         "alignmentgroup": "True",
         "base": [
          "2020-09-22T08:20:00"
         ],
         "hovertemplate": "Task=%{y}<br>zakaz=1332<br>Start=%{base}<br>Finish=%{x}<extra></extra>",
         "legendgroup": "Заливка_ВМ",
         "marker": {
          "color": "#EF553B"
         },
         "name": "Заливка_ВМ",
         "offsetgroup": "Заливка_ВМ",
         "orientation": "h",
         "showlegend": false,
         "textposition": "auto",
         "type": "bar",
         "x": [
          547200000
         ],
         "xaxis": "x11",
         "y": [
          "Заливка_ВМ"
         ],
         "yaxis": "y11"
        },
        {
         "alignmentgroup": "True",
         "base": [
          "2020-09-24T08:20:00"
         ],
         "hovertemplate": "Task=%{y}<br>zakaz=1333<br>Start=%{base}<br>Finish=%{x}<extra></extra>",
         "legendgroup": "Заливка_ВМ",
         "marker": {
          "color": "#EF553B"
         },
         "name": "Заливка_ВМ",
         "offsetgroup": "Заливка_ВМ",
         "orientation": "h",
         "showlegend": false,
         "textposition": "auto",
         "type": "bar",
         "x": [
          633600000
         ],
         "xaxis": "x9",
         "y": [
          "Заливка_ВМ"
         ],
         "yaxis": "y9"
        },
        {
         "alignmentgroup": "True",
         "base": [
          "2020-09-29T08:20:00"
         ],
         "hovertemplate": "Task=%{y}<br>zakaz=1326<br>Start=%{base}<br>Finish=%{x}<extra></extra>",
         "legendgroup": "Заливка_ВМ",
         "marker": {
          "color": "#EF553B"
         },
         "name": "Заливка_ВМ",
         "offsetgroup": "Заливка_ВМ",
         "orientation": "h",
         "showlegend": false,
         "textposition": "auto",
         "type": "bar",
         "x": [
          547200000
         ],
         "xaxis": "x8",
         "y": [
          "Заливка_ВМ"
         ],
         "yaxis": "y8"
        },
        {
         "alignmentgroup": "True",
         "base": [
          "2020-10-01T08:20:00"
         ],
         "hovertemplate": "Task=%{y}<br>zakaz=1334<br>Start=%{base}<br>Finish=%{x}<extra></extra>",
         "legendgroup": "Заливка_ВМ",
         "marker": {
          "color": "#EF553B"
         },
         "name": "Заливка_ВМ",
         "offsetgroup": "Заливка_ВМ",
         "orientation": "h",
         "showlegend": false,
         "textposition": "auto",
         "type": "bar",
         "x": [
          547200000
         ],
         "xaxis": "x6",
         "y": [
          "Заливка_ВМ"
         ],
         "yaxis": "y6"
        },
        {
         "alignmentgroup": "True",
         "base": [
          "2020-10-06T08:20:00"
         ],
         "hovertemplate": "Task=%{y}<br>zakaz=1337<br>Start=%{base}<br>Finish=%{x}<extra></extra>",
         "legendgroup": "Заливка_ВМ",
         "marker": {
          "color": "#EF553B"
         },
         "name": "Заливка_ВМ",
         "offsetgroup": "Заливка_ВМ",
         "orientation": "h",
         "showlegend": false,
         "textposition": "auto",
         "type": "bar",
         "x": [
          547200000
         ],
         "xaxis": "x5",
         "y": [
          "Заливка_ВМ"
         ],
         "yaxis": "y5"
        },
        {
         "alignmentgroup": "True",
         "base": [
          "2020-10-13T08:20:00"
         ],
         "hovertemplate": "Task=%{y}<br>zakaz=1338<br>Start=%{base}<br>Finish=%{x}<extra></extra>",
         "legendgroup": "Заливка_ВМ",
         "marker": {
          "color": "#EF553B"
         },
         "name": "Заливка_ВМ",
         "offsetgroup": "Заливка_ВМ",
         "orientation": "h",
         "showlegend": false,
         "textposition": "auto",
         "type": "bar",
         "x": [
          288000000
         ],
         "xaxis": "x4",
         "y": [
          "Заливка_ВМ"
         ],
         "yaxis": "y4"
        },
        {
         "alignmentgroup": "True",
         "base": [
          "2020-10-16T08:20:00"
         ],
         "hovertemplate": "Task=%{y}<br>zakaz=1335<br>Start=%{base}<br>Finish=%{x}<extra></extra>",
         "legendgroup": "Заливка_ВМ",
         "marker": {
          "color": "#EF553B"
         },
         "name": "Заливка_ВМ",
         "offsetgroup": "Заливка_ВМ",
         "orientation": "h",
         "showlegend": false,
         "textposition": "auto",
         "type": "bar",
         "x": [
          892800000
         ],
         "xaxis": "x3",
         "y": [
          "Заливка_ВМ"
         ],
         "yaxis": "y3"
        },
        {
         "alignmentgroup": "True",
         "base": [
          "2020-10-26T08:20:00"
         ],
         "hovertemplate": "Task=%{y}<br>zakaz=1339<br>Start=%{base}<br>Finish=%{x}<extra></extra>",
         "legendgroup": "Заливка_ВМ",
         "marker": {
          "color": "#EF553B"
         },
         "name": "Заливка_ВМ",
         "offsetgroup": "Заливка_ВМ",
         "orientation": "h",
         "showlegend": false,
         "textposition": "auto",
         "type": "bar",
         "x": [
          288000000
         ],
         "xaxis": "x2",
         "y": [
          "Заливка_ВМ"
         ],
         "yaxis": "y2"
        },
        {
         "alignmentgroup": "True",
         "base": [
          "2020-10-28T08:20:00"
         ],
         "hovertemplate": "Task=%{y}<br>zakaz=1340<br>Start=%{base}<br>Finish=%{x}<extra></extra>",
         "legendgroup": "Заливка_ВМ",
         "marker": {
          "color": "#EF553B"
         },
         "name": "Заливка_ВМ",
         "offsetgroup": "Заливка_ВМ",
         "orientation": "h",
         "showlegend": false,
         "textposition": "auto",
         "type": "bar",
         "x": [
          547200000
         ],
         "xaxis": "x",
         "y": [
          "Заливка_ВМ"
         ],
         "yaxis": "y"
        },
        {
         "alignmentgroup": "True",
         "base": [
          "2020-09-18T08:20:00"
         ],
         "hovertemplate": "Task=%{y}<br>zakaz=1342<br>Start=%{base}<br>Finish=%{x}<extra></extra>",
         "legendgroup": "Навеска_НМ",
         "marker": {
          "color": "#00cc96"
         },
         "name": "Навеска_НМ",
         "offsetgroup": "Навеска_НМ",
         "orientation": "h",
         "showlegend": true,
         "textposition": "auto",
         "type": "bar",
         "x": [
          288000000
         ],
         "xaxis": "x13",
         "y": [
          "Навеска_НМ"
         ],
         "yaxis": "y13"
        },
        {
         "alignmentgroup": "True",
         "base": [
          "2020-10-09T08:20:00"
         ],
         "hovertemplate": "Task=%{y}<br>zakaz=1328<br>Start=%{base}<br>Finish=%{x}<extra></extra>",
         "legendgroup": "Навеска_НМ",
         "marker": {
          "color": "#00cc96"
         },
         "name": "Навеска_НМ",
         "offsetgroup": "Навеска_НМ",
         "orientation": "h",
         "showlegend": false,
         "textposition": "auto",
         "type": "bar",
         "x": [
          28800000
         ],
         "xaxis": "x12",
         "y": [
          "Навеска_НМ"
         ],
         "yaxis": "y12"
        },
        {
         "alignmentgroup": "True",
         "base": [
          "2020-10-15T08:20:00"
         ],
         "hovertemplate": "Task=%{y}<br>zakaz=1332<br>Start=%{base}<br>Finish=%{x}<extra></extra>",
         "legendgroup": "Навеска_НМ",
         "marker": {
          "color": "#00cc96"
         },
         "name": "Навеска_НМ",
         "offsetgroup": "Навеска_НМ",
         "orientation": "h",
         "showlegend": false,
         "textposition": "auto",
         "type": "bar",
         "x": [
          28800000
         ],
         "xaxis": "x11",
         "y": [
          "Навеска_НМ"
         ],
         "yaxis": "y11"
        },
        {
         "alignmentgroup": "True",
         "base": [
          "2020-10-15T08:20:00"
         ],
         "hovertemplate": "Task=%{y}<br>zakaz=1333<br>Start=%{base}<br>Finish=%{x}<extra></extra>",
         "legendgroup": "Навеска_НМ",
         "marker": {
          "color": "#00cc96"
         },
         "name": "Навеска_НМ",
         "offsetgroup": "Навеска_НМ",
         "orientation": "h",
         "showlegend": false,
         "textposition": "auto",
         "type": "bar",
         "x": [
          28800000
         ],
         "xaxis": "x9",
         "y": [
          "Навеска_НМ"
         ],
         "yaxis": "y9"
        },
        {
         "alignmentgroup": "True",
         "base": [
          "2020-10-21T08:20:00"
         ],
         "hovertemplate": "Task=%{y}<br>zakaz=1326<br>Start=%{base}<br>Finish=%{x}<extra></extra>",
         "legendgroup": "Навеска_НМ",
         "marker": {
          "color": "#00cc96"
         },
         "name": "Навеска_НМ",
         "offsetgroup": "Навеска_НМ",
         "orientation": "h",
         "showlegend": false,
         "textposition": "auto",
         "type": "bar",
         "x": [
          28800000
         ],
         "xaxis": "x8",
         "y": [
          "Навеска_НМ"
         ],
         "yaxis": "y8"
        },
        {
         "alignmentgroup": "True",
         "base": [
          "2020-10-23T08:20:00"
         ],
         "hovertemplate": "Task=%{y}<br>zakaz=1334<br>Start=%{base}<br>Finish=%{x}<extra></extra>",
         "legendgroup": "Навеска_НМ",
         "marker": {
          "color": "#00cc96"
         },
         "name": "Навеска_НМ",
         "offsetgroup": "Навеска_НМ",
         "orientation": "h",
         "showlegend": false,
         "textposition": "auto",
         "type": "bar",
         "x": [
          28800000
         ],
         "xaxis": "x6",
         "y": [
          "Навеска_НМ"
         ],
         "yaxis": "y6"
        },
        {
         "alignmentgroup": "True",
         "base": [
          "2020-10-28T08:20:00"
         ],
         "hovertemplate": "Task=%{y}<br>zakaz=1337<br>Start=%{base}<br>Finish=%{x}<extra></extra>",
         "legendgroup": "Навеска_НМ",
         "marker": {
          "color": "#00cc96"
         },
         "name": "Навеска_НМ",
         "offsetgroup": "Навеска_НМ",
         "orientation": "h",
         "showlegend": false,
         "textposition": "auto",
         "type": "bar",
         "x": [
          28800000
         ],
         "xaxis": "x5",
         "y": [
          "Навеска_НМ"
         ],
         "yaxis": "y5"
        },
        {
         "alignmentgroup": "True",
         "base": [
          "2020-11-02T08:20:00"
         ],
         "hovertemplate": "Task=%{y}<br>zakaz=1335<br>Start=%{base}<br>Finish=%{x}<extra></extra>",
         "legendgroup": "Навеска_НМ",
         "marker": {
          "color": "#00cc96"
         },
         "name": "Навеска_НМ",
         "offsetgroup": "Навеска_НМ",
         "orientation": "h",
         "showlegend": false,
         "textposition": "auto",
         "type": "bar",
         "x": [
          28800000
         ],
         "xaxis": "x3",
         "y": [
          "Навеска_НМ"
         ],
         "yaxis": "y3"
        },
        {
         "alignmentgroup": "True",
         "base": [
          "2020-10-08T08:20:00"
         ],
         "hovertemplate": "Task=%{y}<br>zakaz=1328<br>Start=%{base}<br>Finish=%{x}<extra></extra>",
         "legendgroup": "Навеска_ВМ",
         "marker": {
          "color": "#ab63fa"
         },
         "name": "Навеска_ВМ",
         "offsetgroup": "Навеска_ВМ",
         "orientation": "h",
         "showlegend": true,
         "textposition": "auto",
         "type": "bar",
         "x": [
          374400000
         ],
         "xaxis": "x12",
         "y": [
          "Навеска_ВМ"
         ],
         "yaxis": "y12"
        },
        {
         "alignmentgroup": "True",
         "base": [
          "2020-10-12T08:20:00"
         ],
         "hovertemplate": "Task=%{y}<br>zakaz=1332<br>Start=%{base}<br>Finish=%{x}<extra></extra>",
         "legendgroup": "Навеска_ВМ",
         "marker": {
          "color": "#ab63fa"
         },
         "name": "Навеска_ВМ",
         "offsetgroup": "Навеска_ВМ",
         "orientation": "h",
         "showlegend": false,
         "textposition": "auto",
         "type": "bar",
         "x": [
          201600000
         ],
         "xaxis": "x11",
         "y": [
          "Навеска_ВМ"
         ],
         "yaxis": "y11"
        },
        {
         "alignmentgroup": "True",
         "base": [
          "2020-10-15T08:20:00"
         ],
         "hovertemplate": "Task=%{y}<br>zakaz=1333<br>Start=%{base}<br>Finish=%{x}<extra></extra>",
         "legendgroup": "Навеска_ВМ",
         "marker": {
          "color": "#ab63fa"
         },
         "name": "Навеска_ВМ",
         "offsetgroup": "Навеска_ВМ",
         "orientation": "h",
         "showlegend": false,
         "textposition": "auto",
         "type": "bar",
         "x": [
          460800000
         ],
         "xaxis": "x9",
         "y": [
          "Навеска_ВМ"
         ],
         "yaxis": "y9"
        },
        {
         "alignmentgroup": "True",
         "base": [
          "2020-09-21T08:20:00"
         ],
         "hovertemplate": "Task=%{y}<br>zakaz=1326<br>Start=%{base}<br>Finish=%{x}<extra></extra>",
         "legendgroup": "Навеска_ВМ",
         "marker": {
          "color": "#ab63fa"
         },
         "name": "Навеска_ВМ",
         "offsetgroup": "Навеска_ВМ",
         "orientation": "h",
         "showlegend": false,
         "textposition": "auto",
         "type": "bar",
         "x": [
          115200000
         ],
         "xaxis": "x8",
         "y": [
          "Навеска_ВМ"
         ],
         "yaxis": "y8"
        },
        {
         "alignmentgroup": "True",
         "base": [
          "2020-10-23T08:20:00"
         ],
         "hovertemplate": "Task=%{y}<br>zakaz=1334<br>Start=%{base}<br>Finish=%{x}<extra></extra>",
         "legendgroup": "Навеска_ВМ",
         "marker": {
          "color": "#ab63fa"
         },
         "name": "Навеска_ВМ",
         "offsetgroup": "Навеска_ВМ",
         "orientation": "h",
         "showlegend": false,
         "textposition": "auto",
         "type": "bar",
         "x": [
          374400000
         ],
         "xaxis": "x6",
         "y": [
          "Навеска_ВМ"
         ],
         "yaxis": "y6"
        },
        {
         "alignmentgroup": "True",
         "base": [
          "2020-10-28T08:20:00"
         ],
         "hovertemplate": "Task=%{y}<br>zakaz=1337<br>Start=%{base}<br>Finish=%{x}<extra></extra>",
         "legendgroup": "Навеска_ВМ",
         "marker": {
          "color": "#ab63fa"
         },
         "name": "Навеска_ВМ",
         "offsetgroup": "Навеска_ВМ",
         "orientation": "h",
         "showlegend": false,
         "textposition": "auto",
         "type": "bar",
         "x": [
          201600000
         ],
         "xaxis": "x5",
         "y": [
          "Навеска_ВМ"
         ],
         "yaxis": "y5"
        },
        {
         "alignmentgroup": "True",
         "base": [
          "2020-11-02T08:20:00"
         ],
         "hovertemplate": "Task=%{y}<br>zakaz=1335<br>Start=%{base}<br>Finish=%{x}<extra></extra>",
         "legendgroup": "Навеска_ВМ",
         "marker": {
          "color": "#ab63fa"
         },
         "name": "Навеска_ВМ",
         "offsetgroup": "Навеска_ВМ",
         "orientation": "h",
         "showlegend": false,
         "textposition": "auto",
         "type": "bar",
         "x": [
          374400000
         ],
         "xaxis": "x3",
         "y": [
          "Навеска_ВМ"
         ],
         "yaxis": "y3"
        },
        {
         "alignmentgroup": "True",
         "base": [
          "2020-10-10T08:20:00"
         ],
         "hovertemplate": "Task=%{y}<br>zakaz=1328<br>Start=%{base}<br>Finish=%{x}<extra></extra>",
         "legendgroup": "ЭМУ",
         "marker": {
          "color": "#FFA15A"
         },
         "name": "ЭМУ",
         "offsetgroup": "ЭМУ",
         "orientation": "h",
         "showlegend": true,
         "textposition": "auto",
         "type": "bar",
         "x": [
          28800000
         ],
         "xaxis": "x12",
         "y": [
          "ЭМУ"
         ],
         "yaxis": "y12"
        },
        {
         "alignmentgroup": "True",
         "base": [
          "2020-10-13T08:20:00"
         ],
         "hovertemplate": "Task=%{y}<br>zakaz=1332<br>Start=%{base}<br>Finish=%{x}<extra></extra>",
         "legendgroup": "ЭМУ",
         "marker": {
          "color": "#FFA15A"
         },
         "name": "ЭМУ",
         "offsetgroup": "ЭМУ",
         "orientation": "h",
         "showlegend": false,
         "textposition": "auto",
         "type": "bar",
         "x": [
          28800000
         ],
         "xaxis": "x11",
         "y": [
          "ЭМУ"
         ],
         "yaxis": "y11"
        },
        {
         "alignmentgroup": "True",
         "base": [
          "2020-10-19T08:20:00"
         ],
         "hovertemplate": "Task=%{y}<br>zakaz=1333<br>Start=%{base}<br>Finish=%{x}<extra></extra>",
         "legendgroup": "ЭМУ",
         "marker": {
          "color": "#FFA15A"
         },
         "name": "ЭМУ",
         "offsetgroup": "ЭМУ",
         "orientation": "h",
         "showlegend": false,
         "textposition": "auto",
         "type": "bar",
         "x": [
          28800000
         ],
         "xaxis": "x9",
         "y": [
          "ЭМУ"
         ],
         "yaxis": "y9"
        },
        {
         "alignmentgroup": "True",
         "base": [
          "2020-10-23T08:20:00"
         ],
         "hovertemplate": "Task=%{y}<br>zakaz=1326<br>Start=%{base}<br>Finish=%{x}<extra></extra>",
         "legendgroup": "ЭМУ",
         "marker": {
          "color": "#FFA15A"
         },
         "name": "ЭМУ",
         "offsetgroup": "ЭМУ",
         "orientation": "h",
         "showlegend": false,
         "textposition": "auto",
         "type": "bar",
         "x": [
          28800000
         ],
         "xaxis": "x8",
         "y": [
          "ЭМУ"
         ],
         "yaxis": "y8"
        },
        {
         "alignmentgroup": "True",
         "base": [
          "2020-10-23T08:20:00"
         ],
         "hovertemplate": "Task=%{y}<br>zakaz=1334<br>Start=%{base}<br>Finish=%{x}<extra></extra>",
         "legendgroup": "ЭМУ",
         "marker": {
          "color": "#FFA15A"
         },
         "name": "ЭМУ",
         "offsetgroup": "ЭМУ",
         "orientation": "h",
         "showlegend": false,
         "textposition": "auto",
         "type": "bar",
         "x": [
          28800000
         ],
         "xaxis": "x6",
         "y": [
          "ЭМУ"
         ],
         "yaxis": "y6"
        },
        {
         "alignmentgroup": "True",
         "base": [
          "2020-10-28T08:20:00"
         ],
         "hovertemplate": "Task=%{y}<br>zakaz=1337<br>Start=%{base}<br>Finish=%{x}<extra></extra>",
         "legendgroup": "ЭМУ",
         "marker": {
          "color": "#FFA15A"
         },
         "name": "ЭМУ",
         "offsetgroup": "ЭМУ",
         "orientation": "h",
         "showlegend": false,
         "textposition": "auto",
         "type": "bar",
         "x": [
          28800000
         ],
         "xaxis": "x5",
         "y": [
          "ЭМУ"
         ],
         "yaxis": "y5"
        },
        {
         "alignmentgroup": "True",
         "base": [
          "2020-11-03T08:20:00"
         ],
         "hovertemplate": "Task=%{y}<br>zakaz=1335<br>Start=%{base}<br>Finish=%{x}<extra></extra>",
         "legendgroup": "ЭМУ",
         "marker": {
          "color": "#FFA15A"
         },
         "name": "ЭМУ",
         "offsetgroup": "ЭМУ",
         "orientation": "h",
         "showlegend": false,
         "textposition": "auto",
         "type": "bar",
         "x": [
          28800000
         ],
         "xaxis": "x3",
         "y": [
          "ЭМУ"
         ],
         "yaxis": "y3"
        },
        {
         "alignmentgroup": "True",
         "base": [
          "2020-10-08T08:20:00"
         ],
         "hovertemplate": "Task=%{y}<br>zakaz=1328<br>Start=%{base}<br>Finish=%{x}<extra></extra>",
         "legendgroup": "СборкаЩитов",
         "marker": {
          "color": "#19d3f3"
         },
         "name": "СборкаЩитов",
         "offsetgroup": "СборкаЩитов",
         "orientation": "h",
         "showlegend": true,
         "textposition": "auto",
         "type": "bar",
         "x": [
          547200000
         ],
         "xaxis": "x12",
         "y": [
          "СборкаЩитов"
         ],
         "yaxis": "y12"
        },
        {
         "alignmentgroup": "True",
         "base": [
          "2020-10-15T08:20:00"
         ],
         "hovertemplate": "Task=%{y}<br>zakaz=1332<br>Start=%{base}<br>Finish=%{x}<extra></extra>",
         "legendgroup": "СборкаЩитов",
         "marker": {
          "color": "#19d3f3"
         },
         "name": "СборкаЩитов",
         "offsetgroup": "СборкаЩитов",
         "orientation": "h",
         "showlegend": false,
         "textposition": "auto",
         "type": "bar",
         "x": [
          374400000
         ],
         "xaxis": "x11",
         "y": [
          "СборкаЩитов"
         ],
         "yaxis": "y11"
        },
        {
         "alignmentgroup": "True",
         "base": [
          "2020-10-20T08:20:00"
         ],
         "hovertemplate": "Task=%{y}<br>zakaz=1336<br>Start=%{base}<br>Finish=%{x}<extra></extra>",
         "legendgroup": "СборкаЩитов",
         "marker": {
          "color": "#19d3f3"
         },
         "name": "СборкаЩитов",
         "offsetgroup": "СборкаЩитов",
         "orientation": "h",
         "showlegend": false,
         "textposition": "auto",
         "type": "bar",
         "x": [
          201600000
         ],
         "xaxis": "x10",
         "y": [
          "СборкаЩитов"
         ],
         "yaxis": "y10"
        },
        {
         "alignmentgroup": "True",
         "base": [
          "2020-10-23T08:20:00"
         ],
         "hovertemplate": "Task=%{y}<br>zakaz=1333<br>Start=%{base}<br>Finish=%{x}<extra></extra>",
         "legendgroup": "СборкаЩитов",
         "marker": {
          "color": "#19d3f3"
         },
         "name": "СборкаЩитов",
         "offsetgroup": "СборкаЩитов",
         "orientation": "h",
         "showlegend": false,
         "textposition": "auto",
         "type": "bar",
         "x": [
          374400000
         ],
         "xaxis": "x9",
         "y": [
          "СборкаЩитов"
         ],
         "yaxis": "y9"
        },
        {
         "alignmentgroup": "True",
         "base": [
          "2020-10-23T08:20:00"
         ],
         "hovertemplate": "Task=%{y}<br>zakaz=1326<br>Start=%{base}<br>Finish=%{x}<extra></extra>",
         "legendgroup": "СборкаЩитов",
         "marker": {
          "color": "#19d3f3"
         },
         "name": "СборкаЩитов",
         "offsetgroup": "СборкаЩитов",
         "orientation": "h",
         "showlegend": false,
         "textposition": "auto",
         "type": "bar",
         "x": [
          374400000
         ],
         "xaxis": "x8",
         "y": [
          "СборкаЩитов"
         ],
         "yaxis": "y8"
        },
        {
         "alignmentgroup": "True",
         "base": [
          "2020-10-28T08:20:00"
         ],
         "hovertemplate": "Task=%{y}<br>zakaz=1334<br>Start=%{base}<br>Finish=%{x}<extra></extra>",
         "legendgroup": "СборкаЩитов",
         "marker": {
          "color": "#19d3f3"
         },
         "name": "СборкаЩитов",
         "offsetgroup": "СборкаЩитов",
         "orientation": "h",
         "showlegend": false,
         "textposition": "auto",
         "type": "bar",
         "x": [
          201600000
         ],
         "xaxis": "x6",
         "y": [
          "СборкаЩитов"
         ],
         "yaxis": "y6"
        },
        {
         "alignmentgroup": "True",
         "base": [
          "2020-11-02T08:20:00"
         ],
         "hovertemplate": "Task=%{y}<br>zakaz=1337<br>Start=%{base}<br>Finish=%{x}<extra></extra>",
         "legendgroup": "СборкаЩитов",
         "marker": {
          "color": "#19d3f3"
         },
         "name": "СборкаЩитов",
         "offsetgroup": "СборкаЩитов",
         "orientation": "h",
         "showlegend": false,
         "textposition": "auto",
         "type": "bar",
         "x": [
          374400000
         ],
         "xaxis": "x5",
         "y": [
          "СборкаЩитов"
         ],
         "yaxis": "y5"
        },
        {
         "alignmentgroup": "True",
         "base": [
          "2020-11-09T08:20:00"
         ],
         "hovertemplate": "Task=%{y}<br>zakaz=1335<br>Start=%{base}<br>Finish=%{x}<extra></extra>",
         "legendgroup": "СборкаЩитов",
         "marker": {
          "color": "#19d3f3"
         },
         "name": "СборкаЩитов",
         "offsetgroup": "СборкаЩитов",
         "orientation": "h",
         "showlegend": false,
         "textposition": "auto",
         "type": "bar",
         "x": [
          374400000
         ],
         "xaxis": "x3",
         "y": [
          "СборкаЩитов"
         ],
         "yaxis": "y3"
        },
        {
         "alignmentgroup": "True",
         "base": [
          "2020-10-09T08:20:00"
         ],
         "hovertemplate": "Task=%{y}<br>zakaz=1328<br>Start=%{base}<br>Finish=%{x}<extra></extra>",
         "legendgroup": "Монтаж_СН",
         "marker": {
          "color": "#FF6692"
         },
         "name": "Монтаж_СН",
         "offsetgroup": "Монтаж_СН",
         "orientation": "h",
         "showlegend": true,
         "textposition": "auto",
         "type": "bar",
         "x": [
          201600000
         ],
         "xaxis": "x12",
         "y": [
          "Монтаж_СН"
         ],
         "yaxis": "y12"
        },
        {
         "alignmentgroup": "True",
         "base": [
          "2020-10-13T08:20:00"
         ],
         "hovertemplate": "Task=%{y}<br>zakaz=1332<br>Start=%{base}<br>Finish=%{x}<extra></extra>",
         "legendgroup": "Монтаж_СН",
         "marker": {
          "color": "#FF6692"
         },
         "name": "Монтаж_СН",
         "offsetgroup": "Монтаж_СН",
         "orientation": "h",
         "showlegend": false,
         "textposition": "auto",
         "type": "bar",
         "x": [
          288000000
         ],
         "xaxis": "x11",
         "y": [
          "Монтаж_СН"
         ],
         "yaxis": "y11"
        },
        {
         "alignmentgroup": "True",
         "base": [
          "2020-10-19T08:20:00"
         ],
         "hovertemplate": "Task=%{y}<br>zakaz=1333<br>Start=%{base}<br>Finish=%{x}<extra></extra>",
         "legendgroup": "Монтаж_СН",
         "marker": {
          "color": "#FF6692"
         },
         "name": "Монтаж_СН",
         "offsetgroup": "Монтаж_СН",
         "orientation": "h",
         "showlegend": false,
         "textposition": "auto",
         "type": "bar",
         "x": [
          288000000
         ],
         "xaxis": "x9",
         "y": [
          "Монтаж_СН"
         ],
         "yaxis": "y9"
        },
        {
         "alignmentgroup": "True",
         "base": [
          "2020-10-23T08:20:00"
         ],
         "hovertemplate": "Task=%{y}<br>zakaz=1326<br>Start=%{base}<br>Finish=%{x}<extra></extra>",
         "legendgroup": "Монтаж_СН",
         "marker": {
          "color": "#FF6692"
         },
         "name": "Монтаж_СН",
         "offsetgroup": "Монтаж_СН",
         "orientation": "h",
         "showlegend": false,
         "textposition": "auto",
         "type": "bar",
         "x": [
          374400000
         ],
         "xaxis": "x8",
         "y": [
          "Монтаж_СН"
         ],
         "yaxis": "y8"
        },
        {
         "alignmentgroup": "True",
         "base": [
          "2020-10-23T08:20:00"
         ],
         "hovertemplate": "Task=%{y}<br>zakaz=1334<br>Start=%{base}<br>Finish=%{x}<extra></extra>",
         "legendgroup": "Монтаж_СН",
         "marker": {
          "color": "#FF6692"
         },
         "name": "Монтаж_СН",
         "offsetgroup": "Монтаж_СН",
         "orientation": "h",
         "showlegend": false,
         "textposition": "auto",
         "type": "bar",
         "x": [
          460800000
         ],
         "xaxis": "x6",
         "y": [
          "Монтаж_СН"
         ],
         "yaxis": "y6"
        },
        {
         "alignmentgroup": "True",
         "base": [
          "2020-10-28T08:20:00"
         ],
         "hovertemplate": "Task=%{y}<br>zakaz=1337<br>Start=%{base}<br>Finish=%{x}<extra></extra>",
         "legendgroup": "Монтаж_СН",
         "marker": {
          "color": "#FF6692"
         },
         "name": "Монтаж_СН",
         "offsetgroup": "Монтаж_СН",
         "orientation": "h",
         "showlegend": false,
         "textposition": "auto",
         "type": "bar",
         "x": [
          460800000
         ],
         "xaxis": "x5",
         "y": [
          "Монтаж_СН"
         ],
         "yaxis": "y5"
        },
        {
         "alignmentgroup": "True",
         "base": [
          "2020-11-03T08:20:00"
         ],
         "hovertemplate": "Task=%{y}<br>zakaz=1335<br>Start=%{base}<br>Finish=%{x}<extra></extra>",
         "legendgroup": "Монтаж_СН",
         "marker": {
          "color": "#FF6692"
         },
         "name": "Монтаж_СН",
         "offsetgroup": "Монтаж_СН",
         "orientation": "h",
         "showlegend": false,
         "textposition": "auto",
         "type": "bar",
         "x": [
          720000000
         ],
         "xaxis": "x3",
         "y": [
          "Монтаж_СН"
         ],
         "yaxis": "y3"
        },
        {
         "alignmentgroup": "True",
         "base": [
          "2020-10-09T08:20:00"
         ],
         "hovertemplate": "Task=%{y}<br>zakaz=1328<br>Start=%{base}<br>Finish=%{x}<extra></extra>",
         "legendgroup": "ШинаУВР",
         "marker": {
          "color": "#B6E880"
         },
         "name": "ШинаУВР",
         "offsetgroup": "ШинаУВР",
         "orientation": "h",
         "showlegend": true,
         "textposition": "auto",
         "type": "bar",
         "x": [
          374400000
         ],
         "xaxis": "x12",
         "y": [
          "ШинаУВР"
         ],
         "yaxis": "y12"
        },
        {
         "alignmentgroup": "True",
         "base": [
          "2020-10-14T08:20:00"
         ],
         "hovertemplate": "Task=%{y}<br>zakaz=1332<br>Start=%{base}<br>Finish=%{x}<extra></extra>",
         "legendgroup": "ШинаУВР",
         "marker": {
          "color": "#B6E880"
         },
         "name": "ШинаУВР",
         "offsetgroup": "ШинаУВР",
         "orientation": "h",
         "showlegend": false,
         "textposition": "auto",
         "type": "bar",
         "x": [
          201600000
         ],
         "xaxis": "x11",
         "y": [
          "ШинаУВР"
         ],
         "yaxis": "y11"
        },
        {
         "alignmentgroup": "True",
         "base": [
          "2020-10-21T08:20:00"
         ],
         "hovertemplate": "Task=%{y}<br>zakaz=1336<br>Start=%{base}<br>Finish=%{x}<extra></extra>",
         "legendgroup": "ШинаУВР",
         "marker": {
          "color": "#B6E880"
         },
         "name": "ШинаУВР",
         "offsetgroup": "ШинаУВР",
         "orientation": "h",
         "showlegend": false,
         "textposition": "auto",
         "type": "bar",
         "x": [
          28800000
         ],
         "xaxis": "x10",
         "y": [
          "ШинаУВР"
         ],
         "yaxis": "y10"
        },
        {
         "alignmentgroup": "True",
         "base": [
          "2020-10-17T08:20:00"
         ],
         "hovertemplate": "Task=%{y}<br>zakaz=1333<br>Start=%{base}<br>Finish=%{x}<extra></extra>",
         "legendgroup": "ШинаУВР",
         "marker": {
          "color": "#B6E880"
         },
         "name": "ШинаУВР",
         "offsetgroup": "ШинаУВР",
         "orientation": "h",
         "showlegend": false,
         "textposition": "auto",
         "type": "bar",
         "x": [
          288000000
         ],
         "xaxis": "x9",
         "y": [
          "ШинаУВР"
         ],
         "yaxis": "y9"
        },
        {
         "alignmentgroup": "True",
         "base": [
          "2020-10-21T08:20:00"
         ],
         "hovertemplate": "Task=%{y}<br>zakaz=1334<br>Start=%{base}<br>Finish=%{x}<extra></extra>",
         "legendgroup": "ШинаУВР",
         "marker": {
          "color": "#B6E880"
         },
         "name": "ШинаУВР",
         "offsetgroup": "ШинаУВР",
         "orientation": "h",
         "showlegend": false,
         "textposition": "auto",
         "type": "bar",
         "x": [
          201600000
         ],
         "xaxis": "x6",
         "y": [
          "ШинаУВР"
         ],
         "yaxis": "y6"
        },
        {
         "alignmentgroup": "True",
         "base": [
          "2020-10-26T08:20:00"
         ],
         "hovertemplate": "Task=%{y}<br>zakaz=1337<br>Start=%{base}<br>Finish=%{x}<extra></extra>",
         "legendgroup": "ШинаУВР",
         "marker": {
          "color": "#B6E880"
         },
         "name": "ШинаУВР",
         "offsetgroup": "ШинаУВР",
         "orientation": "h",
         "showlegend": false,
         "textposition": "auto",
         "type": "bar",
         "x": [
          201600000
         ],
         "xaxis": "x5",
         "y": [
          "ШинаУВР"
         ],
         "yaxis": "y5"
        },
        {
         "alignmentgroup": "True",
         "base": [
          "2020-10-29T08:20:00"
         ],
         "hovertemplate": "Task=%{y}<br>zakaz=1335<br>Start=%{base}<br>Finish=%{x}<extra></extra>",
         "legendgroup": "ШинаУВР",
         "marker": {
          "color": "#B6E880"
         },
         "name": "ШинаУВР",
         "offsetgroup": "ШинаУВР",
         "orientation": "h",
         "showlegend": false,
         "textposition": "auto",
         "type": "bar",
         "x": [
          374400000
         ],
         "xaxis": "x3",
         "y": [
          "ШинаУВР"
         ],
         "yaxis": "y3"
        },
        {
         "alignmentgroup": "True",
         "base": [
          "2020-10-09T08:20:00"
         ],
         "hovertemplate": "Task=%{y}<br>zakaz=1328<br>Start=%{base}<br>Finish=%{x}<extra></extra>",
         "legendgroup": "Шина_ТР",
         "marker": {
          "color": "#FF97FF"
         },
         "name": "Шина_ТР",
         "offsetgroup": "Шина_ТР",
         "orientation": "h",
         "showlegend": true,
         "textposition": "auto",
         "type": "bar",
         "x": [
          374400000
         ],
         "xaxis": "x12",
         "y": [
          "Шина_ТР"
         ],
         "yaxis": "y12"
        },
        {
         "alignmentgroup": "True",
         "base": [
          "2020-10-14T08:20:00"
         ],
         "hovertemplate": "Task=%{y}<br>zakaz=1332<br>Start=%{base}<br>Finish=%{x}<extra></extra>",
         "legendgroup": "Шина_ТР",
         "marker": {
          "color": "#FF97FF"
         },
         "name": "Шина_ТР",
         "offsetgroup": "Шина_ТР",
         "orientation": "h",
         "showlegend": false,
         "textposition": "auto",
         "type": "bar",
         "x": [
          201600000
         ],
         "xaxis": "x11",
         "y": [
          "Шина_ТР"
         ],
         "yaxis": "y11"
        },
        {
         "alignmentgroup": "True",
         "base": [
          "2020-10-21T08:20:00"
         ],
         "hovertemplate": "Task=%{y}<br>zakaz=1336<br>Start=%{base}<br>Finish=%{x}<extra></extra>",
         "legendgroup": "Шина_ТР",
         "marker": {
          "color": "#FF97FF"
         },
         "name": "Шина_ТР",
         "offsetgroup": "Шина_ТР",
         "orientation": "h",
         "showlegend": false,
         "textposition": "auto",
         "type": "bar",
         "x": [
          28800000
         ],
         "xaxis": "x10",
         "y": [
          "Шина_ТР"
         ],
         "yaxis": "y10"
        },
        {
         "alignmentgroup": "True",
         "base": [
          "2020-10-17T08:20:00"
         ],
         "hovertemplate": "Task=%{y}<br>zakaz=1333<br>Start=%{base}<br>Finish=%{x}<extra></extra>",
         "legendgroup": "Шина_ТР",
         "marker": {
          "color": "#FF97FF"
         },
         "name": "Шина_ТР",
         "offsetgroup": "Шина_ТР",
         "orientation": "h",
         "showlegend": false,
         "textposition": "auto",
         "type": "bar",
         "x": [
          288000000
         ],
         "xaxis": "x9",
         "y": [
          "Шина_ТР"
         ],
         "yaxis": "y9"
        },
        {
         "alignmentgroup": "True",
         "base": [
          "2020-10-21T08:20:00"
         ],
         "hovertemplate": "Task=%{y}<br>zakaz=1334<br>Start=%{base}<br>Finish=%{x}<extra></extra>",
         "legendgroup": "Шина_ТР",
         "marker": {
          "color": "#FF97FF"
         },
         "name": "Шина_ТР",
         "offsetgroup": "Шина_ТР",
         "orientation": "h",
         "showlegend": false,
         "textposition": "auto",
         "type": "bar",
         "x": [
          201600000
         ],
         "xaxis": "x6",
         "y": [
          "Шина_ТР"
         ],
         "yaxis": "y6"
        },
        {
         "alignmentgroup": "True",
         "base": [
          "2020-10-26T08:20:00"
         ],
         "hovertemplate": "Task=%{y}<br>zakaz=1337<br>Start=%{base}<br>Finish=%{x}<extra></extra>",
         "legendgroup": "Шина_ТР",
         "marker": {
          "color": "#FF97FF"
         },
         "name": "Шина_ТР",
         "offsetgroup": "Шина_ТР",
         "orientation": "h",
         "showlegend": false,
         "textposition": "auto",
         "type": "bar",
         "x": [
          201600000
         ],
         "xaxis": "x5",
         "y": [
          "Шина_ТР"
         ],
         "yaxis": "y5"
        },
        {
         "alignmentgroup": "True",
         "base": [
          "2020-10-29T08:20:00"
         ],
         "hovertemplate": "Task=%{y}<br>zakaz=1335<br>Start=%{base}<br>Finish=%{x}<extra></extra>",
         "legendgroup": "Шина_ТР",
         "marker": {
          "color": "#FF97FF"
         },
         "name": "Шина_ТР",
         "offsetgroup": "Шина_ТР",
         "orientation": "h",
         "showlegend": false,
         "textposition": "auto",
         "type": "bar",
         "x": [
          374400000
         ],
         "xaxis": "x3",
         "y": [
          "Шина_ТР"
         ],
         "yaxis": "y3"
        },
        {
         "alignmentgroup": "True",
         "base": [
          "2020-10-09T08:20:00"
         ],
         "hovertemplate": "Task=%{y}<br>zakaz=1328<br>Start=%{base}<br>Finish=%{x}<extra></extra>",
         "legendgroup": "СборкаНН",
         "marker": {
          "color": "#FECB52"
         },
         "name": "СборкаНН",
         "offsetgroup": "СборкаНН",
         "orientation": "h",
         "showlegend": true,
         "textposition": "auto",
         "type": "bar",
         "x": [
          374400000
         ],
         "xaxis": "x12",
         "y": [
          "СборкаНН"
         ],
         "yaxis": "y12"
        },
        {
         "alignmentgroup": "True",
         "base": [
          "2020-10-14T08:20:00"
         ],
         "hovertemplate": "Task=%{y}<br>zakaz=1332<br>Start=%{base}<br>Finish=%{x}<extra></extra>",
         "legendgroup": "СборкаНН",
         "marker": {
          "color": "#FECB52"
         },
         "name": "СборкаНН",
         "offsetgroup": "СборкаНН",
         "orientation": "h",
         "showlegend": false,
         "textposition": "auto",
         "type": "bar",
         "x": [
          201600000
         ],
         "xaxis": "x11",
         "y": [
          "СборкаНН"
         ],
         "yaxis": "y11"
        },
        {
         "alignmentgroup": "True",
         "base": [
          "2020-10-23T08:20:00"
         ],
         "hovertemplate": "Task=%{y}<br>zakaz=1336<br>Start=%{base}<br>Finish=%{x}<extra></extra>",
         "legendgroup": "СборкаНН",
         "marker": {
          "color": "#FECB52"
         },
         "name": "СборкаНН",
         "offsetgroup": "СборкаНН",
         "orientation": "h",
         "showlegend": false,
         "textposition": "auto",
         "type": "bar",
         "x": [
          201600000
         ],
         "xaxis": "x10",
         "y": [
          "СборкаНН"
         ],
         "yaxis": "y10"
        },
        {
         "alignmentgroup": "True",
         "base": [
          "2020-10-17T08:20:00"
         ],
         "hovertemplate": "Task=%{y}<br>zakaz=1333<br>Start=%{base}<br>Finish=%{x}<extra></extra>",
         "legendgroup": "СборкаНН",
         "marker": {
          "color": "#FECB52"
         },
         "name": "СборкаНН",
         "offsetgroup": "СборкаНН",
         "orientation": "h",
         "showlegend": false,
         "textposition": "auto",
         "type": "bar",
         "x": [
          374400000
         ],
         "xaxis": "x9",
         "y": [
          "СборкаНН"
         ],
         "yaxis": "y9"
        },
        {
         "alignmentgroup": "True",
         "base": [
          "2020-10-22T08:20:00"
         ],
         "hovertemplate": "Task=%{y}<br>zakaz=1334<br>Start=%{base}<br>Finish=%{x}<extra></extra>",
         "legendgroup": "СборкаНН",
         "marker": {
          "color": "#FECB52"
         },
         "name": "СборкаНН",
         "offsetgroup": "СборкаНН",
         "orientation": "h",
         "showlegend": false,
         "textposition": "auto",
         "type": "bar",
         "x": [
          374400000
         ],
         "xaxis": "x6",
         "y": [
          "СборкаНН"
         ],
         "yaxis": "y6"
        },
        {
         "alignmentgroup": "True",
         "base": [
          "2020-10-27T08:20:00"
         ],
         "hovertemplate": "Task=%{y}<br>zakaz=1337<br>Start=%{base}<br>Finish=%{x}<extra></extra>",
         "legendgroup": "СборкаНН",
         "marker": {
          "color": "#FECB52"
         },
         "name": "СборкаНН",
         "offsetgroup": "СборкаНН",
         "orientation": "h",
         "showlegend": false,
         "textposition": "auto",
         "type": "bar",
         "x": [
          201600000
         ],
         "xaxis": "x5",
         "y": [
          "СборкаНН"
         ],
         "yaxis": "y5"
        },
        {
         "alignmentgroup": "True",
         "base": [
          "2020-10-30T08:20:00"
         ],
         "hovertemplate": "Task=%{y}<br>zakaz=1335<br>Start=%{base}<br>Finish=%{x}<extra></extra>",
         "legendgroup": "СборкаНН",
         "marker": {
          "color": "#FECB52"
         },
         "name": "СборкаНН",
         "offsetgroup": "СборкаНН",
         "orientation": "h",
         "showlegend": false,
         "textposition": "auto",
         "type": "bar",
         "x": [
          374400000
         ],
         "xaxis": "x3",
         "y": [
          "СборкаНН"
         ],
         "yaxis": "y3"
        },
        {
         "alignmentgroup": "True",
         "base": [
          "2020-10-12T08:20:00"
         ],
         "hovertemplate": "Task=%{y}<br>zakaz=1328<br>Start=%{base}<br>Finish=%{x}<extra></extra>",
         "legendgroup": "ВторНН",
         "marker": {
          "color": "#636efa"
         },
         "name": "ВторНН",
         "offsetgroup": "ВторНН",
         "orientation": "h",
         "showlegend": true,
         "textposition": "auto",
         "type": "bar",
         "x": [
          201600000
         ],
         "xaxis": "x12",
         "y": [
          "ВторНН"
         ],
         "yaxis": "y12"
        },
        {
         "alignmentgroup": "True",
         "base": [
          "2020-10-15T08:20:00"
         ],
         "hovertemplate": "Task=%{y}<br>zakaz=1332<br>Start=%{base}<br>Finish=%{x}<extra></extra>",
         "legendgroup": "ВторНН",
         "marker": {
          "color": "#636efa"
         },
         "name": "ВторНН",
         "offsetgroup": "ВторНН",
         "orientation": "h",
         "showlegend": false,
         "textposition": "auto",
         "type": "bar",
         "x": [
          633600000
         ],
         "xaxis": "x11",
         "y": [
          "ВторНН"
         ],
         "yaxis": "y11"
        },
        {
         "alignmentgroup": "True",
         "base": [
          "2020-10-27T08:20:00"
         ],
         "hovertemplate": "Task=%{y}<br>zakaz=1336<br>Start=%{base}<br>Finish=%{x}<extra></extra>",
         "legendgroup": "ВторНН",
         "marker": {
          "color": "#636efa"
         },
         "name": "ВторНН",
         "offsetgroup": "ВторНН",
         "orientation": "h",
         "showlegend": false,
         "textposition": "auto",
         "type": "bar",
         "x": [
          28800000
         ],
         "xaxis": "x10",
         "y": [
          "ВторНН"
         ],
         "yaxis": "y10"
        },
        {
         "alignmentgroup": "True",
         "base": [
          "2020-10-15T08:20:00"
         ],
         "hovertemplate": "Task=%{y}<br>zakaz=1333<br>Start=%{base}<br>Finish=%{x}<extra></extra>",
         "legendgroup": "ВторНН",
         "marker": {
          "color": "#636efa"
         },
         "name": "ВторНН",
         "offsetgroup": "ВторНН",
         "orientation": "h",
         "showlegend": false,
         "textposition": "auto",
         "type": "bar",
         "x": [
          1065600000
         ],
         "xaxis": "x9",
         "y": [
          "ВторНН"
         ],
         "yaxis": "y9"
        },
        {
         "alignmentgroup": "True",
         "base": [
          "2020-10-28T08:20:00"
         ],
         "hovertemplate": "Task=%{y}<br>zakaz=1334<br>Start=%{base}<br>Finish=%{x}<extra></extra>",
         "legendgroup": "ВторНН",
         "marker": {
          "color": "#636efa"
         },
         "name": "ВторНН",
         "offsetgroup": "ВторНН",
         "orientation": "h",
         "showlegend": false,
         "textposition": "auto",
         "type": "bar",
         "x": [
          633600000
         ],
         "xaxis": "x6",
         "y": [
          "ВторНН"
         ],
         "yaxis": "y6"
        },
        {
         "alignmentgroup": "True",
         "base": [
          "2020-10-28T08:20:00"
         ],
         "hovertemplate": "Task=%{y}<br>zakaz=1337<br>Start=%{base}<br>Finish=%{x}<extra></extra>",
         "legendgroup": "ВторНН",
         "marker": {
          "color": "#636efa"
         },
         "name": "ВторНН",
         "offsetgroup": "ВторНН",
         "orientation": "h",
         "showlegend": false,
         "textposition": "auto",
         "type": "bar",
         "x": [
          633600000
         ],
         "xaxis": "x5",
         "y": [
          "ВторНН"
         ],
         "yaxis": "y5"
        },
        {
         "alignmentgroup": "True",
         "base": [
          "2020-11-05T08:20:00"
         ],
         "hovertemplate": "Task=%{y}<br>zakaz=1335<br>Start=%{base}<br>Finish=%{x}<extra></extra>",
         "legendgroup": "ВторНН",
         "marker": {
          "color": "#636efa"
         },
         "name": "ВторНН",
         "offsetgroup": "ВторНН",
         "orientation": "h",
         "showlegend": false,
         "textposition": "auto",
         "type": "bar",
         "x": [
          460800000
         ],
         "xaxis": "x3",
         "y": [
          "ВторНН"
         ],
         "yaxis": "y3"
        },
        {
         "alignmentgroup": "True",
         "base": [
          "2020-09-19T08:20:00"
         ],
         "hovertemplate": "Task=%{y}<br>zakaz=1328<br>Start=%{base}<br>Finish=%{x}<extra></extra>",
         "legendgroup": "СборкаВВ",
         "marker": {
          "color": "#EF553B"
         },
         "name": "СборкаВВ",
         "offsetgroup": "СборкаВВ",
         "orientation": "h",
         "showlegend": true,
         "textposition": "auto",
         "type": "bar",
         "x": [
          979200000
         ],
         "xaxis": "x12",
         "y": [
          "СборкаВВ"
         ],
         "yaxis": "y12"
        },
        {
         "alignmentgroup": "True",
         "base": [
          "2020-10-02T08:20:00"
         ],
         "hovertemplate": "Task=%{y}<br>zakaz=1326<br>Start=%{base}<br>Finish=%{x}<extra></extra>",
         "legendgroup": "СборкаВВ",
         "marker": {
          "color": "#EF553B"
         },
         "name": "СборкаВВ",
         "offsetgroup": "СборкаВВ",
         "orientation": "h",
         "showlegend": false,
         "textposition": "auto",
         "type": "bar",
         "x": [
          979200000
         ],
         "xaxis": "x8",
         "y": [
          "СборкаВВ"
         ],
         "yaxis": "y8"
        },
        {
         "alignmentgroup": "True",
         "base": [
          "2020-10-12T08:20:00"
         ],
         "hovertemplate": "Task=%{y}<br>zakaz=1341<br>Start=%{base}<br>Finish=%{x}<extra></extra>",
         "legendgroup": "СборкаВВ",
         "marker": {
          "color": "#EF553B"
         },
         "name": "СборкаВВ",
         "offsetgroup": "СборкаВВ",
         "orientation": "h",
         "showlegend": false,
         "textposition": "auto",
         "type": "bar",
         "x": [
          1411200000
         ],
         "xaxis": "x7",
         "y": [
          "СборкаВВ"
         ],
         "yaxis": "y7"
        },
        {
         "alignmentgroup": "True",
         "base": [
          "2020-10-12T08:20:00"
         ],
         "hovertemplate": "Task=%{y}<br>zakaz=1335<br>Start=%{base}<br>Finish=%{x}<extra></extra>",
         "legendgroup": "СборкаВВ",
         "marker": {
          "color": "#EF553B"
         },
         "name": "СборкаВВ",
         "offsetgroup": "СборкаВВ",
         "orientation": "h",
         "showlegend": false,
         "textposition": "auto",
         "type": "bar",
         "x": [
          1584000000
         ],
         "xaxis": "x3",
         "y": [
          "СборкаВВ"
         ],
         "yaxis": "y3"
        },
        {
         "alignmentgroup": "True",
         "base": [
          "2020-09-19T08:20:00"
         ],
         "hovertemplate": "Task=%{y}<br>zakaz=1328<br>Start=%{base}<br>Finish=%{x}<extra></extra>",
         "legendgroup": "ВторВВ",
         "marker": {
          "color": "#00cc96"
         },
         "name": "ВторВВ",
         "offsetgroup": "ВторВВ",
         "orientation": "h",
         "showlegend": true,
         "textposition": "auto",
         "type": "bar",
         "x": [
          1843200000
         ],
         "xaxis": "x12",
         "y": [
          "ВторВВ"
         ],
         "yaxis": "y12"
        },
        {
         "alignmentgroup": "True",
         "base": [
          "2020-10-11T08:20:00"
         ],
         "hovertemplate": "Task=%{y}<br>zakaz=1326<br>Start=%{base}<br>Finish=%{x}<extra></extra>",
         "legendgroup": "ВторВВ",
         "marker": {
          "color": "#00cc96"
         },
         "name": "ВторВВ",
         "offsetgroup": "ВторВВ",
         "orientation": "h",
         "showlegend": false,
         "textposition": "auto",
         "type": "bar",
         "x": [
          1238400000
         ],
         "xaxis": "x8",
         "y": [
          "ВторВВ"
         ],
         "yaxis": "y8"
        },
        {
         "alignmentgroup": "True",
         "base": [
          "2020-10-12T08:20:00"
         ],
         "hovertemplate": "Task=%{y}<br>zakaz=1341<br>Start=%{base}<br>Finish=%{x}<extra></extra>",
         "legendgroup": "ВторВВ",
         "marker": {
          "color": "#00cc96"
         },
         "name": "ВторВВ",
         "offsetgroup": "ВторВВ",
         "orientation": "h",
         "showlegend": false,
         "textposition": "auto",
         "type": "bar",
         "x": [
          1411200000
         ],
         "xaxis": "x7",
         "y": [
          "ВторВВ"
         ],
         "yaxis": "y7"
        },
        {
         "alignmentgroup": "True",
         "base": [
          "2020-10-12T08:20:00"
         ],
         "hovertemplate": "Task=%{y}<br>zakaz=1335<br>Start=%{base}<br>Finish=%{x}<extra></extra>",
         "legendgroup": "ВторВВ",
         "marker": {
          "color": "#00cc96"
         },
         "name": "ВторВВ",
         "offsetgroup": "ВторВВ",
         "orientation": "h",
         "showlegend": false,
         "textposition": "auto",
         "type": "bar",
         "x": [
          3052800000
         ],
         "xaxis": "x3",
         "y": [
          "ВторВВ"
         ],
         "yaxis": "y3"
        },
        {
         "alignmentgroup": "True",
         "base": [
          "2020-09-14T08:20:00"
         ],
         "hovertemplate": "Task=%{y}<br>zakaz=1328<br>Start=%{base}<br>Finish=%{x}<extra></extra>",
         "legendgroup": "УсткаНН",
         "marker": {
          "color": "#ab63fa"
         },
         "name": "УсткаНН",
         "offsetgroup": "УсткаНН",
         "orientation": "h",
         "showlegend": true,
         "textposition": "auto",
         "type": "bar",
         "x": [
          1497600000
         ],
         "xaxis": "x12",
         "y": [
          "УсткаНН"
         ],
         "yaxis": "y12"
        },
        {
         "alignmentgroup": "True",
         "base": [
          "2020-10-17T08:20:00"
         ],
         "hovertemplate": "Task=%{y}<br>zakaz=1332<br>Start=%{base}<br>Finish=%{x}<extra></extra>",
         "legendgroup": "УсткаНН",
         "marker": {
          "color": "#ab63fa"
         },
         "name": "УсткаНН",
         "offsetgroup": "УсткаНН",
         "orientation": "h",
         "showlegend": false,
         "textposition": "auto",
         "type": "bar",
         "x": [
          28800000
         ],
         "xaxis": "x11",
         "y": [
          "УсткаНН"
         ],
         "yaxis": "y11"
        },
        {
         "alignmentgroup": "True",
         "base": [
          "2020-10-20T08:20:00"
         ],
         "hovertemplate": "Task=%{y}<br>zakaz=1333<br>Start=%{base}<br>Finish=%{x}<extra></extra>",
         "legendgroup": "УсткаНН",
         "marker": {
          "color": "#ab63fa"
         },
         "name": "УсткаНН",
         "offsetgroup": "УсткаНН",
         "orientation": "h",
         "showlegend": false,
         "textposition": "auto",
         "type": "bar",
         "x": [
          201600000
         ],
         "xaxis": "x9",
         "y": [
          "УсткаНН"
         ],
         "yaxis": "y9"
        },
        {
         "alignmentgroup": "True",
         "base": [
          "2020-10-14T08:20:00"
         ],
         "hovertemplate": "Task=%{y}<br>zakaz=1326<br>Start=%{base}<br>Finish=%{x}<extra></extra>",
         "legendgroup": "УсткаНН",
         "marker": {
          "color": "#ab63fa"
         },
         "name": "УсткаНН",
         "offsetgroup": "УсткаНН",
         "orientation": "h",
         "showlegend": false,
         "textposition": "auto",
         "type": "bar",
         "x": [
          28800000
         ],
         "xaxis": "x8",
         "y": [
          "УсткаНН"
         ],
         "yaxis": "y8"
        },
        {
         "alignmentgroup": "True",
         "base": [
          "2020-10-27T08:20:00"
         ],
         "hovertemplate": "Task=%{y}<br>zakaz=1334<br>Start=%{base}<br>Finish=%{x}<extra></extra>",
         "legendgroup": "УсткаНН",
         "marker": {
          "color": "#ab63fa"
         },
         "name": "УсткаНН",
         "offsetgroup": "УсткаНН",
         "orientation": "h",
         "showlegend": false,
         "textposition": "auto",
         "type": "bar",
         "x": [
          28800000
         ],
         "xaxis": "x6",
         "y": [
          "УсткаНН"
         ],
         "yaxis": "y6"
        },
        {
         "alignmentgroup": "True",
         "base": [
          "2020-10-30T08:20:00"
         ],
         "hovertemplate": "Task=%{y}<br>zakaz=1337<br>Start=%{base}<br>Finish=%{x}<extra></extra>",
         "legendgroup": "УсткаНН",
         "marker": {
          "color": "#ab63fa"
         },
         "name": "УсткаНН",
         "offsetgroup": "УсткаНН",
         "orientation": "h",
         "showlegend": false,
         "textposition": "auto",
         "type": "bar",
         "x": [
          28800000
         ],
         "xaxis": "x5",
         "y": [
          "УсткаНН"
         ],
         "yaxis": "y5"
        },
        {
         "alignmentgroup": "True",
         "base": [
          "2020-10-05T08:20:00"
         ],
         "hovertemplate": "Task=%{y}<br>zakaz=1335<br>Start=%{base}<br>Finish=%{x}<extra></extra>",
         "legendgroup": "УсткаНН",
         "marker": {
          "color": "#ab63fa"
         },
         "name": "УсткаНН",
         "offsetgroup": "УсткаНН",
         "orientation": "h",
         "showlegend": false,
         "textposition": "auto",
         "type": "bar",
         "x": [
          2448000000
         ],
         "xaxis": "x3",
         "y": [
          "УсткаНН"
         ],
         "yaxis": "y3"
        },
        {
         "alignmentgroup": "True",
         "base": [
          "2020-09-14T08:20:00"
         ],
         "hovertemplate": "Task=%{y}<br>zakaz=1328<br>Start=%{base}<br>Finish=%{x}<extra></extra>",
         "legendgroup": "УсткаВВ",
         "marker": {
          "color": "#FFA15A"
         },
         "name": "УсткаВВ",
         "offsetgroup": "УсткаВВ",
         "orientation": "h",
         "showlegend": true,
         "textposition": "auto",
         "type": "bar",
         "x": [
          1497600000
         ],
         "xaxis": "x12",
         "y": [
          "УсткаВВ"
         ],
         "yaxis": "y12"
        },
        {
         "alignmentgroup": "True",
         "base": [
          "2020-10-17T08:20:00"
         ],
         "hovertemplate": "Task=%{y}<br>zakaz=1332<br>Start=%{base}<br>Finish=%{x}<extra></extra>",
         "legendgroup": "УсткаВВ",
         "marker": {
          "color": "#FFA15A"
         },
         "name": "УсткаВВ",
         "offsetgroup": "УсткаВВ",
         "orientation": "h",
         "showlegend": false,
         "textposition": "auto",
         "type": "bar",
         "x": [
          28800000
         ],
         "xaxis": "x11",
         "y": [
          "УсткаВВ"
         ],
         "yaxis": "y11"
        },
        {
         "alignmentgroup": "True",
         "base": [
          "2020-10-20T08:20:00"
         ],
         "hovertemplate": "Task=%{y}<br>zakaz=1333<br>Start=%{base}<br>Finish=%{x}<extra></extra>",
         "legendgroup": "УсткаВВ",
         "marker": {
          "color": "#FFA15A"
         },
         "name": "УсткаВВ",
         "offsetgroup": "УсткаВВ",
         "orientation": "h",
         "showlegend": false,
         "textposition": "auto",
         "type": "bar",
         "x": [
          201600000
         ],
         "xaxis": "x9",
         "y": [
          "УсткаВВ"
         ],
         "yaxis": "y9"
        },
        {
         "alignmentgroup": "True",
         "base": [
          "2020-10-14T08:20:00"
         ],
         "hovertemplate": "Task=%{y}<br>zakaz=1326<br>Start=%{base}<br>Finish=%{x}<extra></extra>",
         "legendgroup": "УсткаВВ",
         "marker": {
          "color": "#FFA15A"
         },
         "name": "УсткаВВ",
         "offsetgroup": "УсткаВВ",
         "orientation": "h",
         "showlegend": false,
         "textposition": "auto",
         "type": "bar",
         "x": [
          28800000
         ],
         "xaxis": "x8",
         "y": [
          "УсткаВВ"
         ],
         "yaxis": "y8"
        },
        {
         "alignmentgroup": "True",
         "base": [
          "2020-10-27T08:20:00"
         ],
         "hovertemplate": "Task=%{y}<br>zakaz=1334<br>Start=%{base}<br>Finish=%{x}<extra></extra>",
         "legendgroup": "УсткаВВ",
         "marker": {
          "color": "#FFA15A"
         },
         "name": "УсткаВВ",
         "offsetgroup": "УсткаВВ",
         "orientation": "h",
         "showlegend": false,
         "textposition": "auto",
         "type": "bar",
         "x": [
          28800000
         ],
         "xaxis": "x6",
         "y": [
          "УсткаВВ"
         ],
         "yaxis": "y6"
        },
        {
         "alignmentgroup": "True",
         "base": [
          "2020-10-30T08:20:00"
         ],
         "hovertemplate": "Task=%{y}<br>zakaz=1337<br>Start=%{base}<br>Finish=%{x}<extra></extra>",
         "legendgroup": "УсткаВВ",
         "marker": {
          "color": "#FFA15A"
         },
         "name": "УсткаВВ",
         "offsetgroup": "УсткаВВ",
         "orientation": "h",
         "showlegend": false,
         "textposition": "auto",
         "type": "bar",
         "x": [
          28800000
         ],
         "xaxis": "x5",
         "y": [
          "УсткаВВ"
         ],
         "yaxis": "y5"
        },
        {
         "alignmentgroup": "True",
         "base": [
          "2020-10-05T08:20:00"
         ],
         "hovertemplate": "Task=%{y}<br>zakaz=1335<br>Start=%{base}<br>Finish=%{x}<extra></extra>",
         "legendgroup": "УсткаВВ",
         "marker": {
          "color": "#FFA15A"
         },
         "name": "УсткаВВ",
         "offsetgroup": "УсткаВВ",
         "orientation": "h",
         "showlegend": false,
         "textposition": "auto",
         "type": "bar",
         "x": [
          2448000000
         ],
         "xaxis": "x3",
         "y": [
          "УсткаВВ"
         ],
         "yaxis": "y3"
        },
        {
         "alignmentgroup": "True",
         "base": [
          "2020-10-17T08:20:00"
         ],
         "hovertemplate": "Task=%{y}<br>zakaz=1332<br>Start=%{base}<br>Finish=%{x}<extra></extra>",
         "legendgroup": "УсткаRM",
         "marker": {
          "color": "#19d3f3"
         },
         "name": "УсткаRM",
         "offsetgroup": "УсткаRM",
         "orientation": "h",
         "showlegend": true,
         "textposition": "auto",
         "type": "bar",
         "x": [
          28800000
         ],
         "xaxis": "x11",
         "y": [
          "УсткаRM"
         ],
         "yaxis": "y11"
        },
        {
         "alignmentgroup": "True",
         "base": [
          "2020-10-19T08:20:00"
         ],
         "hovertemplate": "Task=%{y}<br>zakaz=1333<br>Start=%{base}<br>Finish=%{x}<extra></extra>",
         "legendgroup": "УсткаRM",
         "marker": {
          "color": "#19d3f3"
         },
         "name": "УсткаRM",
         "offsetgroup": "УсткаRM",
         "orientation": "h",
         "showlegend": false,
         "textposition": "auto",
         "type": "bar",
         "x": [
          28800000
         ],
         "xaxis": "x9",
         "y": [
          "УсткаRM"
         ],
         "yaxis": "y9"
        },
        {
         "alignmentgroup": "True",
         "base": [
          "2020-10-27T08:20:00"
         ],
         "hovertemplate": "Task=%{y}<br>zakaz=1334<br>Start=%{base}<br>Finish=%{x}<extra></extra>",
         "legendgroup": "УсткаRM",
         "marker": {
          "color": "#19d3f3"
         },
         "name": "УсткаRM",
         "offsetgroup": "УсткаRM",
         "orientation": "h",
         "showlegend": false,
         "textposition": "auto",
         "type": "bar",
         "x": [
          28800000
         ],
         "xaxis": "x6",
         "y": [
          "УсткаRM"
         ],
         "yaxis": "y6"
        },
        {
         "alignmentgroup": "True",
         "base": [
          "2020-10-30T08:20:00"
         ],
         "hovertemplate": "Task=%{y}<br>zakaz=1337<br>Start=%{base}<br>Finish=%{x}<extra></extra>",
         "legendgroup": "УсткаRM",
         "marker": {
          "color": "#19d3f3"
         },
         "name": "УсткаRM",
         "offsetgroup": "УсткаRM",
         "orientation": "h",
         "showlegend": false,
         "textposition": "auto",
         "type": "bar",
         "x": [
          28800000
         ],
         "xaxis": "x5",
         "y": [
          "УсткаRM"
         ],
         "yaxis": "y5"
        },
        {
         "alignmentgroup": "True",
         "base": [
          "2020-10-12T08:20:00"
         ],
         "hovertemplate": "Task=%{y}<br>zakaz=1328<br>Start=%{base}<br>Finish=%{x}<extra></extra>",
         "legendgroup": "Наладка",
         "marker": {
          "color": "#FF6692"
         },
         "name": "Наладка",
         "offsetgroup": "Наладка",
         "orientation": "h",
         "showlegend": true,
         "textposition": "auto",
         "type": "bar",
         "x": [
          201600000
         ],
         "xaxis": "x12",
         "y": [
          "Наладка"
         ],
         "yaxis": "y12"
        },
        {
         "alignmentgroup": "True",
         "base": [
          "2020-10-23T08:20:00"
         ],
         "hovertemplate": "Task=%{y}<br>zakaz=1332<br>Start=%{base}<br>Finish=%{x}<extra></extra>",
         "legendgroup": "Наладка",
         "marker": {
          "color": "#FF6692"
         },
         "name": "Наладка",
         "offsetgroup": "Наладка",
         "orientation": "h",
         "showlegend": false,
         "textposition": "auto",
         "type": "bar",
         "x": [
          28800000
         ],
         "xaxis": "x11",
         "y": [
          "Наладка"
         ],
         "yaxis": "y11"
        },
        {
         "alignmentgroup": "True",
         "base": [
          "2020-10-25T08:20:00"
         ],
         "hovertemplate": "Task=%{y}<br>zakaz=1336<br>Start=%{base}<br>Finish=%{x}<extra></extra>",
         "legendgroup": "Наладка",
         "marker": {
          "color": "#FF6692"
         },
         "name": "Наладка",
         "offsetgroup": "Наладка",
         "orientation": "h",
         "showlegend": false,
         "textposition": "auto",
         "type": "bar",
         "x": [
          28800000
         ],
         "xaxis": "x10",
         "y": [
          "Наладка"
         ],
         "yaxis": "y10"
        },
        {
         "alignmentgroup": "True",
         "base": [
          "2020-10-28T08:20:00"
         ],
         "hovertemplate": "Task=%{y}<br>zakaz=1333<br>Start=%{base}<br>Finish=%{x}<extra></extra>",
         "legendgroup": "Наладка",
         "marker": {
          "color": "#FF6692"
         },
         "name": "Наладка",
         "offsetgroup": "Наладка",
         "orientation": "h",
         "showlegend": false,
         "textposition": "auto",
         "type": "bar",
         "x": [
          28800000
         ],
         "xaxis": "x9",
         "y": [
          "Наладка"
         ],
         "yaxis": "y9"
        },
        {
         "alignmentgroup": "True",
         "base": [
          "2020-10-25T08:20:00"
         ],
         "hovertemplate": "Task=%{y}<br>zakaz=1326<br>Start=%{base}<br>Finish=%{x}<extra></extra>",
         "legendgroup": "Наладка",
         "marker": {
          "color": "#FF6692"
         },
         "name": "Наладка",
         "offsetgroup": "Наладка",
         "orientation": "h",
         "showlegend": false,
         "textposition": "auto",
         "type": "bar",
         "x": [
          374400000
         ],
         "xaxis": "x8",
         "y": [
          "Наладка"
         ],
         "yaxis": "y8"
        },
        {
         "alignmentgroup": "True",
         "base": [
          "2020-10-29T08:20:00"
         ],
         "hovertemplate": "Task=%{y}<br>zakaz=1341<br>Start=%{base}<br>Finish=%{x}<extra></extra>",
         "legendgroup": "Наладка",
         "marker": {
          "color": "#FF6692"
         },
         "name": "Наладка",
         "offsetgroup": "Наладка",
         "orientation": "h",
         "showlegend": false,
         "textposition": "auto",
         "type": "bar",
         "x": [
          28800000
         ],
         "xaxis": "x7",
         "y": [
          "Наладка"
         ],
         "yaxis": "y7"
        },
        {
         "alignmentgroup": "True",
         "base": [
          "2020-11-05T08:20:00"
         ],
         "hovertemplate": "Task=%{y}<br>zakaz=1334<br>Start=%{base}<br>Finish=%{x}<extra></extra>",
         "legendgroup": "Наладка",
         "marker": {
          "color": "#FF6692"
         },
         "name": "Наладка",
         "offsetgroup": "Наладка",
         "orientation": "h",
         "showlegend": false,
         "textposition": "auto",
         "type": "bar",
         "x": [
          28800000
         ],
         "xaxis": "x6",
         "y": [
          "Наладка"
         ],
         "yaxis": "y6"
        },
        {
         "alignmentgroup": "True",
         "base": [
          "2020-11-06T08:20:00"
         ],
         "hovertemplate": "Task=%{y}<br>zakaz=1337<br>Start=%{base}<br>Finish=%{x}<extra></extra>",
         "legendgroup": "Наладка",
         "marker": {
          "color": "#FF6692"
         },
         "name": "Наладка",
         "offsetgroup": "Наладка",
         "orientation": "h",
         "showlegend": false,
         "textposition": "auto",
         "type": "bar",
         "x": [
          28800000
         ],
         "xaxis": "x5",
         "y": [
          "Наладка"
         ],
         "yaxis": "y5"
        },
        {
         "alignmentgroup": "True",
         "base": [
          "2020-11-17T08:20:00"
         ],
         "hovertemplate": "Task=%{y}<br>zakaz=1335<br>Start=%{base}<br>Finish=%{x}<extra></extra>",
         "legendgroup": "Наладка",
         "marker": {
          "color": "#FF6692"
         },
         "name": "Наладка",
         "offsetgroup": "Наладка",
         "orientation": "h",
         "showlegend": false,
         "textposition": "auto",
         "type": "bar",
         "x": [
          201600000
         ],
         "xaxis": "x3",
         "y": [
          "Наладка"
         ],
         "yaxis": "y3"
        },
        {
         "alignmentgroup": "True",
         "base": [
          "2020-10-14T08:20:00"
         ],
         "hovertemplate": "Task=%{y}<br>zakaz=1328<br>Start=%{base}<br>Finish=%{x}<extra></extra>",
         "legendgroup": "Комплект",
         "marker": {
          "color": "#B6E880"
         },
         "name": "Комплект",
         "offsetgroup": "Комплект",
         "orientation": "h",
         "showlegend": true,
         "textposition": "auto",
         "type": "bar",
         "x": [
          28800000
         ],
         "xaxis": "x12",
         "y": [
          "Комплект"
         ],
         "yaxis": "y12"
        },
        {
         "alignmentgroup": "True",
         "base": [
          "2020-10-22T08:20:00"
         ],
         "hovertemplate": "Task=%{y}<br>zakaz=1332<br>Start=%{base}<br>Finish=%{x}<extra></extra>",
         "legendgroup": "Комплект",
         "marker": {
          "color": "#B6E880"
         },
         "name": "Комплект",
         "offsetgroup": "Комплект",
         "orientation": "h",
         "showlegend": false,
         "textposition": "auto",
         "type": "bar",
         "x": [
          28800000
         ],
         "xaxis": "x11",
         "y": [
          "Комплект"
         ],
         "yaxis": "y11"
        },
        {
         "alignmentgroup": "True",
         "base": [
          "2020-10-28T08:20:00"
         ],
         "hovertemplate": "Task=%{y}<br>zakaz=1336<br>Start=%{base}<br>Finish=%{x}<extra></extra>",
         "legendgroup": "Комплект",
         "marker": {
          "color": "#B6E880"
         },
         "name": "Комплект",
         "offsetgroup": "Комплект",
         "orientation": "h",
         "showlegend": false,
         "textposition": "auto",
         "type": "bar",
         "x": [
          28800000
         ],
         "xaxis": "x10",
         "y": [
          "Комплект"
         ],
         "yaxis": "y10"
        },
        {
         "alignmentgroup": "True",
         "base": [
          "2020-10-30T08:20:00"
         ],
         "hovertemplate": "Task=%{y}<br>zakaz=1333<br>Start=%{base}<br>Finish=%{x}<extra></extra>",
         "legendgroup": "Комплект",
         "marker": {
          "color": "#B6E880"
         },
         "name": "Комплект",
         "offsetgroup": "Комплект",
         "orientation": "h",
         "showlegend": false,
         "textposition": "auto",
         "type": "bar",
         "x": [
          28800000
         ],
         "xaxis": "x9",
         "y": [
          "Комплект"
         ],
         "yaxis": "y9"
        },
        {
         "alignmentgroup": "True",
         "base": [
          "2020-10-29T08:20:00"
         ],
         "hovertemplate": "Task=%{y}<br>zakaz=1326<br>Start=%{base}<br>Finish=%{x}<extra></extra>",
         "legendgroup": "Комплект",
         "marker": {
          "color": "#B6E880"
         },
         "name": "Комплект",
         "offsetgroup": "Комплект",
         "orientation": "h",
         "showlegend": false,
         "textposition": "auto",
         "type": "bar",
         "x": [
          28800000
         ],
         "xaxis": "x8",
         "y": [
          "Комплект"
         ],
         "yaxis": "y8"
        },
        {
         "alignmentgroup": "True",
         "base": [
          "2020-10-29T08:20:00"
         ],
         "hovertemplate": "Task=%{y}<br>zakaz=1341<br>Start=%{base}<br>Finish=%{x}<extra></extra>",
         "legendgroup": "Комплект",
         "marker": {
          "color": "#B6E880"
         },
         "name": "Комплект",
         "offsetgroup": "Комплект",
         "orientation": "h",
         "showlegend": false,
         "textposition": "auto",
         "type": "bar",
         "x": [
          28800000
         ],
         "xaxis": "x7",
         "y": [
          "Комплект"
         ],
         "yaxis": "y7"
        },
        {
         "alignmentgroup": "True",
         "base": [
          "2020-11-05T08:20:00"
         ],
         "hovertemplate": "Task=%{y}<br>zakaz=1334<br>Start=%{base}<br>Finish=%{x}<extra></extra>",
         "legendgroup": "Комплект",
         "marker": {
          "color": "#B6E880"
         },
         "name": "Комплект",
         "offsetgroup": "Комплект",
         "orientation": "h",
         "showlegend": false,
         "textposition": "auto",
         "type": "bar",
         "x": [
          28800000
         ],
         "xaxis": "x6",
         "y": [
          "Комплект"
         ],
         "yaxis": "y6"
        },
        {
         "alignmentgroup": "True",
         "base": [
          "2020-11-09T08:20:00"
         ],
         "hovertemplate": "Task=%{y}<br>zakaz=1337<br>Start=%{base}<br>Finish=%{x}<extra></extra>",
         "legendgroup": "Комплект",
         "marker": {
          "color": "#B6E880"
         },
         "name": "Комплект",
         "offsetgroup": "Комплект",
         "orientation": "h",
         "showlegend": false,
         "textposition": "auto",
         "type": "bar",
         "x": [
          28800000
         ],
         "xaxis": "x5",
         "y": [
          "Комплект"
         ],
         "yaxis": "y5"
        },
        {
         "alignmentgroup": "True",
         "base": [
          "2020-11-19T08:20:00"
         ],
         "hovertemplate": "Task=%{y}<br>zakaz=1335<br>Start=%{base}<br>Finish=%{x}<extra></extra>",
         "legendgroup": "Комплект",
         "marker": {
          "color": "#B6E880"
         },
         "name": "Комплект",
         "offsetgroup": "Комплект",
         "orientation": "h",
         "showlegend": false,
         "textposition": "auto",
         "type": "bar",
         "x": [
          28800000
         ],
         "xaxis": "x3",
         "y": [
          "Комплект"
         ],
         "yaxis": "y3"
        }
       ],
       "layout": {
        "annotations": [
         {
          "font": {},
          "showarrow": false,
          "text": "zakaz=1340",
          "textangle": 90,
          "x": 0.98,
          "xanchor": "left",
          "xref": "paper",
          "y": 0.02461538461538462,
          "yanchor": "middle",
          "yref": "paper"
         },
         {
          "font": {},
          "showarrow": false,
          "text": "zakaz=1339",
          "textangle": 90,
          "x": 0.98,
          "xanchor": "left",
          "xref": "paper",
          "y": 0.10384615384615387,
          "yanchor": "middle",
          "yref": "paper"
         },
         {
          "font": {},
          "showarrow": false,
          "text": "zakaz=1335",
          "textangle": 90,
          "x": 0.98,
          "xanchor": "left",
          "xref": "paper",
          "y": 0.1830769230769231,
          "yanchor": "middle",
          "yref": "paper"
         },
         {
          "font": {},
          "showarrow": false,
          "text": "zakaz=1338",
          "textangle": 90,
          "x": 0.98,
          "xanchor": "left",
          "xref": "paper",
          "y": 0.26230769230769235,
          "yanchor": "middle",
          "yref": "paper"
         },
         {
          "font": {},
          "showarrow": false,
          "text": "zakaz=1337",
          "textangle": 90,
          "x": 0.98,
          "xanchor": "left",
          "xref": "paper",
          "y": 0.34153846153846157,
          "yanchor": "middle",
          "yref": "paper"
         },
         {
          "font": {},
          "showarrow": false,
          "text": "zakaz=1334",
          "textangle": 90,
          "x": 0.98,
          "xanchor": "left",
          "xref": "paper",
          "y": 0.4207692307692308,
          "yanchor": "middle",
          "yref": "paper"
         },
         {
          "font": {},
          "showarrow": false,
          "text": "zakaz=1341",
          "textangle": 90,
          "x": 0.98,
          "xanchor": "left",
          "xref": "paper",
          "y": 0.5,
          "yanchor": "middle",
          "yref": "paper"
         },
         {
          "font": {},
          "showarrow": false,
          "text": "zakaz=1326",
          "textangle": 90,
          "x": 0.98,
          "xanchor": "left",
          "xref": "paper",
          "y": 0.5792307692307692,
          "yanchor": "middle",
          "yref": "paper"
         },
         {
          "font": {},
          "showarrow": false,
          "text": "zakaz=1333",
          "textangle": 90,
          "x": 0.98,
          "xanchor": "left",
          "xref": "paper",
          "y": 0.6584615384615385,
          "yanchor": "middle",
          "yref": "paper"
         },
         {
          "font": {},
          "showarrow": false,
          "text": "zakaz=1336",
          "textangle": 90,
          "x": 0.98,
          "xanchor": "left",
          "xref": "paper",
          "y": 0.7376923076923078,
          "yanchor": "middle",
          "yref": "paper"
         },
         {
          "font": {},
          "showarrow": false,
          "text": "zakaz=1332",
          "textangle": 90,
          "x": 0.98,
          "xanchor": "left",
          "xref": "paper",
          "y": 0.816923076923077,
          "yanchor": "middle",
          "yref": "paper"
         },
         {
          "font": {},
          "showarrow": false,
          "text": "zakaz=1328",
          "textangle": 90,
          "x": 0.98,
          "xanchor": "left",
          "xref": "paper",
          "y": 0.8961538461538462,
          "yanchor": "middle",
          "yref": "paper"
         },
         {
          "font": {},
          "showarrow": false,
          "text": "zakaz=1342",
          "textangle": 90,
          "x": 0.98,
          "xanchor": "left",
          "xref": "paper",
          "y": 0.9753846153846154,
          "yanchor": "middle",
          "yref": "paper"
         }
        ],
        "barmode": "overlay",
        "legend": {
         "title": {
          "text": "Task"
         },
         "tracegroupgap": 0
        },
        "margin": {
         "t": 60
        },
        "template": {
         "data": {
          "bar": [
           {
            "error_x": {
             "color": "#2a3f5f"
            },
            "error_y": {
             "color": "#2a3f5f"
            },
            "marker": {
             "line": {
              "color": "#E5ECF6",
              "width": 0.5
             }
            },
            "type": "bar"
           }
          ],
          "barpolar": [
           {
            "marker": {
             "line": {
              "color": "#E5ECF6",
              "width": 0.5
             }
            },
            "type": "barpolar"
           }
          ],
          "carpet": [
           {
            "aaxis": {
             "endlinecolor": "#2a3f5f",
             "gridcolor": "white",
             "linecolor": "white",
             "minorgridcolor": "white",
             "startlinecolor": "#2a3f5f"
            },
            "baxis": {
             "endlinecolor": "#2a3f5f",
             "gridcolor": "white",
             "linecolor": "white",
             "minorgridcolor": "white",
             "startlinecolor": "#2a3f5f"
            },
            "type": "carpet"
           }
          ],
          "choropleth": [
           {
            "colorbar": {
             "outlinewidth": 0,
             "ticks": ""
            },
            "type": "choropleth"
           }
          ],
          "contour": [
           {
            "colorbar": {
             "outlinewidth": 0,
             "ticks": ""
            },
            "colorscale": [
             [
              0,
              "#0d0887"
             ],
             [
              0.1111111111111111,
              "#46039f"
             ],
             [
              0.2222222222222222,
              "#7201a8"
             ],
             [
              0.3333333333333333,
              "#9c179e"
             ],
             [
              0.4444444444444444,
              "#bd3786"
             ],
             [
              0.5555555555555556,
              "#d8576b"
             ],
             [
              0.6666666666666666,
              "#ed7953"
             ],
             [
              0.7777777777777778,
              "#fb9f3a"
             ],
             [
              0.8888888888888888,
              "#fdca26"
             ],
             [
              1,
              "#f0f921"
             ]
            ],
            "type": "contour"
           }
          ],
          "contourcarpet": [
           {
            "colorbar": {
             "outlinewidth": 0,
             "ticks": ""
            },
            "type": "contourcarpet"
           }
          ],
          "heatmap": [
           {
            "colorbar": {
             "outlinewidth": 0,
             "ticks": ""
            },
            "colorscale": [
             [
              0,
              "#0d0887"
             ],
             [
              0.1111111111111111,
              "#46039f"
             ],
             [
              0.2222222222222222,
              "#7201a8"
             ],
             [
              0.3333333333333333,
              "#9c179e"
             ],
             [
              0.4444444444444444,
              "#bd3786"
             ],
             [
              0.5555555555555556,
              "#d8576b"
             ],
             [
              0.6666666666666666,
              "#ed7953"
             ],
             [
              0.7777777777777778,
              "#fb9f3a"
             ],
             [
              0.8888888888888888,
              "#fdca26"
             ],
             [
              1,
              "#f0f921"
             ]
            ],
            "type": "heatmap"
           }
          ],
          "heatmapgl": [
           {
            "colorbar": {
             "outlinewidth": 0,
             "ticks": ""
            },
            "colorscale": [
             [
              0,
              "#0d0887"
             ],
             [
              0.1111111111111111,
              "#46039f"
             ],
             [
              0.2222222222222222,
              "#7201a8"
             ],
             [
              0.3333333333333333,
              "#9c179e"
             ],
             [
              0.4444444444444444,
              "#bd3786"
             ],
             [
              0.5555555555555556,
              "#d8576b"
             ],
             [
              0.6666666666666666,
              "#ed7953"
             ],
             [
              0.7777777777777778,
              "#fb9f3a"
             ],
             [
              0.8888888888888888,
              "#fdca26"
             ],
             [
              1,
              "#f0f921"
             ]
            ],
            "type": "heatmapgl"
           }
          ],
          "histogram": [
           {
            "marker": {
             "colorbar": {
              "outlinewidth": 0,
              "ticks": ""
             }
            },
            "type": "histogram"
           }
          ],
          "histogram2d": [
           {
            "colorbar": {
             "outlinewidth": 0,
             "ticks": ""
            },
            "colorscale": [
             [
              0,
              "#0d0887"
             ],
             [
              0.1111111111111111,
              "#46039f"
             ],
             [
              0.2222222222222222,
              "#7201a8"
             ],
             [
              0.3333333333333333,
              "#9c179e"
             ],
             [
              0.4444444444444444,
              "#bd3786"
             ],
             [
              0.5555555555555556,
              "#d8576b"
             ],
             [
              0.6666666666666666,
              "#ed7953"
             ],
             [
              0.7777777777777778,
              "#fb9f3a"
             ],
             [
              0.8888888888888888,
              "#fdca26"
             ],
             [
              1,
              "#f0f921"
             ]
            ],
            "type": "histogram2d"
           }
          ],
          "histogram2dcontour": [
           {
            "colorbar": {
             "outlinewidth": 0,
             "ticks": ""
            },
            "colorscale": [
             [
              0,
              "#0d0887"
             ],
             [
              0.1111111111111111,
              "#46039f"
             ],
             [
              0.2222222222222222,
              "#7201a8"
             ],
             [
              0.3333333333333333,
              "#9c179e"
             ],
             [
              0.4444444444444444,
              "#bd3786"
             ],
             [
              0.5555555555555556,
              "#d8576b"
             ],
             [
              0.6666666666666666,
              "#ed7953"
             ],
             [
              0.7777777777777778,
              "#fb9f3a"
             ],
             [
              0.8888888888888888,
              "#fdca26"
             ],
             [
              1,
              "#f0f921"
             ]
            ],
            "type": "histogram2dcontour"
           }
          ],
          "mesh3d": [
           {
            "colorbar": {
             "outlinewidth": 0,
             "ticks": ""
            },
            "type": "mesh3d"
           }
          ],
          "parcoords": [
           {
            "line": {
             "colorbar": {
              "outlinewidth": 0,
              "ticks": ""
             }
            },
            "type": "parcoords"
           }
          ],
          "pie": [
           {
            "automargin": true,
            "type": "pie"
           }
          ],
          "scatter": [
           {
            "marker": {
             "colorbar": {
              "outlinewidth": 0,
              "ticks": ""
             }
            },
            "type": "scatter"
           }
          ],
          "scatter3d": [
           {
            "line": {
             "colorbar": {
              "outlinewidth": 0,
              "ticks": ""
             }
            },
            "marker": {
             "colorbar": {
              "outlinewidth": 0,
              "ticks": ""
             }
            },
            "type": "scatter3d"
           }
          ],
          "scattercarpet": [
           {
            "marker": {
             "colorbar": {
              "outlinewidth": 0,
              "ticks": ""
             }
            },
            "type": "scattercarpet"
           }
          ],
          "scattergeo": [
           {
            "marker": {
             "colorbar": {
              "outlinewidth": 0,
              "ticks": ""
             }
            },
            "type": "scattergeo"
           }
          ],
          "scattergl": [
           {
            "marker": {
             "colorbar": {
              "outlinewidth": 0,
              "ticks": ""
             }
            },
            "type": "scattergl"
           }
          ],
          "scattermapbox": [
           {
            "marker": {
             "colorbar": {
              "outlinewidth": 0,
              "ticks": ""
             }
            },
            "type": "scattermapbox"
           }
          ],
          "scatterpolar": [
           {
            "marker": {
             "colorbar": {
              "outlinewidth": 0,
              "ticks": ""
             }
            },
            "type": "scatterpolar"
           }
          ],
          "scatterpolargl": [
           {
            "marker": {
             "colorbar": {
              "outlinewidth": 0,
              "ticks": ""
             }
            },
            "type": "scatterpolargl"
           }
          ],
          "scatterternary": [
           {
            "marker": {
             "colorbar": {
              "outlinewidth": 0,
              "ticks": ""
             }
            },
            "type": "scatterternary"
           }
          ],
          "surface": [
           {
            "colorbar": {
             "outlinewidth": 0,
             "ticks": ""
            },
            "colorscale": [
             [
              0,
              "#0d0887"
             ],
             [
              0.1111111111111111,
              "#46039f"
             ],
             [
              0.2222222222222222,
              "#7201a8"
             ],
             [
              0.3333333333333333,
              "#9c179e"
             ],
             [
              0.4444444444444444,
              "#bd3786"
             ],
             [
              0.5555555555555556,
              "#d8576b"
             ],
             [
              0.6666666666666666,
              "#ed7953"
             ],
             [
              0.7777777777777778,
              "#fb9f3a"
             ],
             [
              0.8888888888888888,
              "#fdca26"
             ],
             [
              1,
              "#f0f921"
             ]
            ],
            "type": "surface"
           }
          ],
          "table": [
           {
            "cells": {
             "fill": {
              "color": "#EBF0F8"
             },
             "line": {
              "color": "white"
             }
            },
            "header": {
             "fill": {
              "color": "#C8D4E3"
             },
             "line": {
              "color": "white"
             }
            },
            "type": "table"
           }
          ]
         },
         "layout": {
          "annotationdefaults": {
           "arrowcolor": "#2a3f5f",
           "arrowhead": 0,
           "arrowwidth": 1
          },
          "coloraxis": {
           "colorbar": {
            "outlinewidth": 0,
            "ticks": ""
           }
          },
          "colorscale": {
           "diverging": [
            [
             0,
             "#8e0152"
            ],
            [
             0.1,
             "#c51b7d"
            ],
            [
             0.2,
             "#de77ae"
            ],
            [
             0.3,
             "#f1b6da"
            ],
            [
             0.4,
             "#fde0ef"
            ],
            [
             0.5,
             "#f7f7f7"
            ],
            [
             0.6,
             "#e6f5d0"
            ],
            [
             0.7,
             "#b8e186"
            ],
            [
             0.8,
             "#7fbc41"
            ],
            [
             0.9,
             "#4d9221"
            ],
            [
             1,
             "#276419"
            ]
           ],
           "sequential": [
            [
             0,
             "#0d0887"
            ],
            [
             0.1111111111111111,
             "#46039f"
            ],
            [
             0.2222222222222222,
             "#7201a8"
            ],
            [
             0.3333333333333333,
             "#9c179e"
            ],
            [
             0.4444444444444444,
             "#bd3786"
            ],
            [
             0.5555555555555556,
             "#d8576b"
            ],
            [
             0.6666666666666666,
             "#ed7953"
            ],
            [
             0.7777777777777778,
             "#fb9f3a"
            ],
            [
             0.8888888888888888,
             "#fdca26"
            ],
            [
             1,
             "#f0f921"
            ]
           ],
           "sequentialminus": [
            [
             0,
             "#0d0887"
            ],
            [
             0.1111111111111111,
             "#46039f"
            ],
            [
             0.2222222222222222,
             "#7201a8"
            ],
            [
             0.3333333333333333,
             "#9c179e"
            ],
            [
             0.4444444444444444,
             "#bd3786"
            ],
            [
             0.5555555555555556,
             "#d8576b"
            ],
            [
             0.6666666666666666,
             "#ed7953"
            ],
            [
             0.7777777777777778,
             "#fb9f3a"
            ],
            [
             0.8888888888888888,
             "#fdca26"
            ],
            [
             1,
             "#f0f921"
            ]
           ]
          },
          "colorway": [
           "#636efa",
           "#EF553B",
           "#00cc96",
           "#ab63fa",
           "#FFA15A",
           "#19d3f3",
           "#FF6692",
           "#B6E880",
           "#FF97FF",
           "#FECB52"
          ],
          "font": {
           "color": "#2a3f5f"
          },
          "geo": {
           "bgcolor": "white",
           "lakecolor": "white",
           "landcolor": "#E5ECF6",
           "showlakes": true,
           "showland": true,
           "subunitcolor": "white"
          },
          "hoverlabel": {
           "align": "left"
          },
          "hovermode": "closest",
          "mapbox": {
           "style": "light"
          },
          "paper_bgcolor": "white",
          "plot_bgcolor": "#E5ECF6",
          "polar": {
           "angularaxis": {
            "gridcolor": "white",
            "linecolor": "white",
            "ticks": ""
           },
           "bgcolor": "#E5ECF6",
           "radialaxis": {
            "gridcolor": "white",
            "linecolor": "white",
            "ticks": ""
           }
          },
          "scene": {
           "xaxis": {
            "backgroundcolor": "#E5ECF6",
            "gridcolor": "white",
            "gridwidth": 2,
            "linecolor": "white",
            "showbackground": true,
            "ticks": "",
            "zerolinecolor": "white"
           },
           "yaxis": {
            "backgroundcolor": "#E5ECF6",
            "gridcolor": "white",
            "gridwidth": 2,
            "linecolor": "white",
            "showbackground": true,
            "ticks": "",
            "zerolinecolor": "white"
           },
           "zaxis": {
            "backgroundcolor": "#E5ECF6",
            "gridcolor": "white",
            "gridwidth": 2,
            "linecolor": "white",
            "showbackground": true,
            "ticks": "",
            "zerolinecolor": "white"
           }
          },
          "shapedefaults": {
           "line": {
            "color": "#2a3f5f"
           }
          },
          "ternary": {
           "aaxis": {
            "gridcolor": "white",
            "linecolor": "white",
            "ticks": ""
           },
           "baxis": {
            "gridcolor": "white",
            "linecolor": "white",
            "ticks": ""
           },
           "bgcolor": "#E5ECF6",
           "caxis": {
            "gridcolor": "white",
            "linecolor": "white",
            "ticks": ""
           }
          },
          "title": {
           "x": 0.05
          },
          "xaxis": {
           "automargin": true,
           "gridcolor": "white",
           "linecolor": "white",
           "ticks": "",
           "title": {
            "standoff": 15
           },
           "zerolinecolor": "white",
           "zerolinewidth": 2
          },
          "yaxis": {
           "automargin": true,
           "gridcolor": "white",
           "linecolor": "white",
           "ticks": "",
           "title": {
            "standoff": 15
           },
           "zerolinecolor": "white",
           "zerolinewidth": 2
          }
         }
        },
        "xaxis": {
         "anchor": "y",
         "domain": [
          0,
          0.98
         ],
         "dtick": "D1",
         "type": "date"
        },
        "xaxis10": {
         "anchor": "y10",
         "domain": [
          0,
          0.98
         ],
         "dtick": "D1",
         "matches": "x",
         "showticklabels": false,
         "type": "date"
        },
        "xaxis11": {
         "anchor": "y11",
         "domain": [
          0,
          0.98
         ],
         "dtick": "D1",
         "matches": "x",
         "showticklabels": false,
         "type": "date"
        },
        "xaxis12": {
         "anchor": "y12",
         "domain": [
          0,
          0.98
         ],
         "dtick": "D1",
         "matches": "x",
         "showticklabels": false,
         "type": "date"
        },
        "xaxis13": {
         "anchor": "y13",
         "domain": [
          0,
          0.98
         ],
         "dtick": "D1",
         "matches": "x",
         "showticklabels": false,
         "type": "date"
        },
        "xaxis2": {
         "anchor": "y2",
         "domain": [
          0,
          0.98
         ],
         "dtick": "D1",
         "matches": "x",
         "showticklabels": false,
         "type": "date"
        },
        "xaxis3": {
         "anchor": "y3",
         "domain": [
          0,
          0.98
         ],
         "dtick": "D1",
         "matches": "x",
         "showticklabels": false,
         "type": "date"
        },
        "xaxis4": {
         "anchor": "y4",
         "domain": [
          0,
          0.98
         ],
         "dtick": "D1",
         "matches": "x",
         "showticklabels": false,
         "type": "date"
        },
        "xaxis5": {
         "anchor": "y5",
         "domain": [
          0,
          0.98
         ],
         "dtick": "D1",
         "matches": "x",
         "showticklabels": false,
         "type": "date"
        },
        "xaxis6": {
         "anchor": "y6",
         "domain": [
          0,
          0.98
         ],
         "dtick": "D1",
         "matches": "x",
         "showticklabels": false,
         "type": "date"
        },
        "xaxis7": {
         "anchor": "y7",
         "domain": [
          0,
          0.98
         ],
         "dtick": "D1",
         "matches": "x",
         "showticklabels": false,
         "type": "date"
        },
        "xaxis8": {
         "anchor": "y8",
         "domain": [
          0,
          0.98
         ],
         "dtick": "D1",
         "matches": "x",
         "showticklabels": false,
         "type": "date"
        },
        "xaxis9": {
         "anchor": "y9",
         "domain": [
          0,
          0.98
         ],
         "dtick": "D1",
         "matches": "x",
         "showticklabels": false,
         "type": "date"
        },
        "yaxis": {
         "anchor": "x",
         "categoryarray": [
          "Комплект",
          "Наладка",
          "УсткаRM",
          "УсткаВВ",
          "УсткаНН",
          "ВторВВ",
          "СборкаВВ",
          "ВторНН",
          "СборкаНН",
          "Шина_ТР",
          "ШинаУВР",
          "Монтаж_СН",
          "СборкаЩитов",
          "ЭМУ",
          "Навеска_ВМ",
          "Навеска_НМ",
          "Заливка_ВМ",
          "Заливка_НМ"
         ],
         "categoryorder": "array",
         "domain": [
          0,
          0.04923076923076924
         ],
         "title": {
          "text": "Task"
         }
        },
        "yaxis10": {
         "anchor": "x10",
         "categoryarray": [
          "Комплект",
          "Наладка",
          "УсткаRM",
          "УсткаВВ",
          "УсткаНН",
          "ВторВВ",
          "СборкаВВ",
          "ВторНН",
          "СборкаНН",
          "Шина_ТР",
          "ШинаУВР",
          "Монтаж_СН",
          "СборкаЩитов",
          "ЭМУ",
          "Навеска_ВМ",
          "Навеска_НМ",
          "Заливка_ВМ",
          "Заливка_НМ"
         ],
         "categoryorder": "array",
         "domain": [
          0.7130769230769232,
          0.7623076923076924
         ],
         "matches": "y",
         "title": {
          "text": "Task"
         }
        },
        "yaxis11": {
         "anchor": "x11",
         "categoryarray": [
          "Комплект",
          "Наладка",
          "УсткаRM",
          "УсткаВВ",
          "УсткаНН",
          "ВторВВ",
          "СборкаВВ",
          "ВторНН",
          "СборкаНН",
          "Шина_ТР",
          "ШинаУВР",
          "Монтаж_СН",
          "СборкаЩитов",
          "ЭМУ",
          "Навеска_ВМ",
          "Навеска_НМ",
          "Заливка_ВМ",
          "Заливка_НМ"
         ],
         "categoryorder": "array",
         "domain": [
          0.7923076923076924,
          0.8415384615384616
         ],
         "matches": "y",
         "title": {
          "text": "Task"
         }
        },
        "yaxis12": {
         "anchor": "x12",
         "categoryarray": [
          "Комплект",
          "Наладка",
          "УсткаRM",
          "УсткаВВ",
          "УсткаНН",
          "ВторВВ",
          "СборкаВВ",
          "ВторНН",
          "СборкаНН",
          "Шина_ТР",
          "ШинаУВР",
          "Монтаж_СН",
          "СборкаЩитов",
          "ЭМУ",
          "Навеска_ВМ",
          "Навеска_НМ",
          "Заливка_ВМ",
          "Заливка_НМ"
         ],
         "categoryorder": "array",
         "domain": [
          0.8715384615384616,
          0.9207692307692308
         ],
         "matches": "y",
         "title": {
          "text": "Task"
         }
        },
        "yaxis13": {
         "anchor": "x13",
         "categoryarray": [
          "Комплект",
          "Наладка",
          "УсткаRM",
          "УсткаВВ",
          "УсткаНН",
          "ВторВВ",
          "СборкаВВ",
          "ВторНН",
          "СборкаНН",
          "Шина_ТР",
          "ШинаУВР",
          "Монтаж_СН",
          "СборкаЩитов",
          "ЭМУ",
          "Навеска_ВМ",
          "Навеска_НМ",
          "Заливка_ВМ",
          "Заливка_НМ"
         ],
         "categoryorder": "array",
         "domain": [
          0.9507692307692308,
          1
         ],
         "matches": "y",
         "title": {
          "text": "Task"
         }
        },
        "yaxis2": {
         "anchor": "x2",
         "categoryarray": [
          "Комплект",
          "Наладка",
          "УсткаRM",
          "УсткаВВ",
          "УсткаНН",
          "ВторВВ",
          "СборкаВВ",
          "ВторНН",
          "СборкаНН",
          "Шина_ТР",
          "ШинаУВР",
          "Монтаж_СН",
          "СборкаЩитов",
          "ЭМУ",
          "Навеска_ВМ",
          "Навеска_НМ",
          "Заливка_ВМ",
          "Заливка_НМ"
         ],
         "categoryorder": "array",
         "domain": [
          0.07923076923076924,
          0.1284615384615385
         ],
         "matches": "y",
         "title": {
          "text": "Task"
         }
        },
        "yaxis3": {
         "anchor": "x3",
         "categoryarray": [
          "Комплект",
          "Наладка",
          "УсткаRM",
          "УсткаВВ",
          "УсткаНН",
          "ВторВВ",
          "СборкаВВ",
          "ВторНН",
          "СборкаНН",
          "Шина_ТР",
          "ШинаУВР",
          "Монтаж_СН",
          "СборкаЩитов",
          "ЭМУ",
          "Навеска_ВМ",
          "Навеска_НМ",
          "Заливка_ВМ",
          "Заливка_НМ"
         ],
         "categoryorder": "array",
         "domain": [
          0.1584615384615385,
          0.20769230769230773
         ],
         "matches": "y",
         "title": {
          "text": "Task"
         }
        },
        "yaxis4": {
         "anchor": "x4",
         "categoryarray": [
          "Комплект",
          "Наладка",
          "УсткаRM",
          "УсткаВВ",
          "УсткаНН",
          "ВторВВ",
          "СборкаВВ",
          "ВторНН",
          "СборкаНН",
          "Шина_ТР",
          "ШинаУВР",
          "Монтаж_СН",
          "СборкаЩитов",
          "ЭМУ",
          "Навеска_ВМ",
          "Навеска_НМ",
          "Заливка_ВМ",
          "Заливка_НМ"
         ],
         "categoryorder": "array",
         "domain": [
          0.2376923076923077,
          0.28692307692307695
         ],
         "matches": "y",
         "title": {
          "text": "Task"
         }
        },
        "yaxis5": {
         "anchor": "x5",
         "categoryarray": [
          "Комплект",
          "Наладка",
          "УсткаRM",
          "УсткаВВ",
          "УсткаНН",
          "ВторВВ",
          "СборкаВВ",
          "ВторНН",
          "СборкаНН",
          "Шина_ТР",
          "ШинаУВР",
          "Монтаж_СН",
          "СборкаЩитов",
          "ЭМУ",
          "Навеска_ВМ",
          "Навеска_НМ",
          "Заливка_ВМ",
          "Заливка_НМ"
         ],
         "categoryorder": "array",
         "domain": [
          0.316923076923077,
          0.3661538461538462
         ],
         "matches": "y",
         "title": {
          "text": "Task"
         }
        },
        "yaxis6": {
         "anchor": "x6",
         "categoryarray": [
          "Комплект",
          "Наладка",
          "УсткаRM",
          "УсткаВВ",
          "УсткаНН",
          "ВторВВ",
          "СборкаВВ",
          "ВторНН",
          "СборкаНН",
          "Шина_ТР",
          "ШинаУВР",
          "Монтаж_СН",
          "СборкаЩитов",
          "ЭМУ",
          "Навеска_ВМ",
          "Навеска_НМ",
          "Заливка_ВМ",
          "Заливка_НМ"
         ],
         "categoryorder": "array",
         "domain": [
          0.3961538461538462,
          0.44538461538461543
         ],
         "matches": "y",
         "title": {
          "text": "Task"
         }
        },
        "yaxis7": {
         "anchor": "x7",
         "categoryarray": [
          "Комплект",
          "Наладка",
          "УсткаRM",
          "УсткаВВ",
          "УсткаНН",
          "ВторВВ",
          "СборкаВВ",
          "ВторНН",
          "СборкаНН",
          "Шина_ТР",
          "ШинаУВР",
          "Монтаж_СН",
          "СборкаЩитов",
          "ЭМУ",
          "Навеска_ВМ",
          "Навеска_НМ",
          "Заливка_ВМ",
          "Заливка_НМ"
         ],
         "categoryorder": "array",
         "domain": [
          0.4753846153846154,
          0.5246153846153846
         ],
         "matches": "y",
         "title": {
          "text": "Task"
         }
        },
        "yaxis8": {
         "anchor": "x8",
         "categoryarray": [
          "Комплект",
          "Наладка",
          "УсткаRM",
          "УсткаВВ",
          "УсткаНН",
          "ВторВВ",
          "СборкаВВ",
          "ВторНН",
          "СборкаНН",
          "Шина_ТР",
          "ШинаУВР",
          "Монтаж_СН",
          "СборкаЩитов",
          "ЭМУ",
          "Навеска_ВМ",
          "Навеска_НМ",
          "Заливка_ВМ",
          "Заливка_НМ"
         ],
         "categoryorder": "array",
         "domain": [
          0.5546153846153846,
          0.6038461538461538
         ],
         "matches": "y",
         "title": {
          "text": "Task"
         }
        },
        "yaxis9": {
         "anchor": "x9",
         "categoryarray": [
          "Комплект",
          "Наладка",
          "УсткаRM",
          "УсткаВВ",
          "УсткаНН",
          "ВторВВ",
          "СборкаВВ",
          "ВторНН",
          "СборкаНН",
          "Шина_ТР",
          "ШинаУВР",
          "Монтаж_СН",
          "СборкаЩитов",
          "ЭМУ",
          "Навеска_ВМ",
          "Навеска_НМ",
          "Заливка_ВМ",
          "Заливка_НМ"
         ],
         "categoryorder": "array",
         "domain": [
          0.633846153846154,
          0.6830769230769231
         ],
         "matches": "y",
         "title": {
          "text": "Task"
         }
        }
       }
      }
     },
     "metadata": {}
    }
   ],
   "source": [
    "fig = px.timeline(data, x_start=\"Start\", x_end=\"Finish\", y=\"Task\", color='Task', category_orders={'Task':l}, facet_row=\"zakaz\")\n",
    "#fig.update_yaxes(autorange=\"reversed\") # otherwise tasks are listed from the bottom up\n",
    "fig.update_xaxes(\n",
    "    dtick='D1',\n",
    "    )\n",
    "fig.show()"
   ]
  },
  {
   "cell_type": "code",
   "execution_count": 66,
   "metadata": {},
   "outputs": [
    {
     "output_type": "execute_result",
     "data": {
      "text/plain": "        Task               Start              Finish zakaz\n0  Монтаж_СН 2020-09-07 08:20:00 2020-09-08 16:20:00  1324\n1     ВторНН 2020-09-01 08:20:00 2020-09-08 16:20:00  1324\n2    УсткаНН 2020-09-02 08:20:00 2020-09-02 16:20:00  1324\n3    УсткаВВ 2020-09-02 08:20:00 2020-09-02 16:20:00  1324\n4    УсткаRM 2020-09-02 08:20:00 2020-09-02 16:20:00  1324\n5    Наладка 2020-09-09 08:20:00 2020-09-09 16:20:00  1324\n6   Комплект 2020-09-10 08:20:00 2020-09-10 16:20:00  1324",
      "text/html": "<div>\n<style scoped>\n    .dataframe tbody tr th:only-of-type {\n        vertical-align: middle;\n    }\n\n    .dataframe tbody tr th {\n        vertical-align: top;\n    }\n\n    .dataframe thead th {\n        text-align: right;\n    }\n</style>\n<table border=\"1\" class=\"dataframe\">\n  <thead>\n    <tr style=\"text-align: right;\">\n      <th></th>\n      <th>Task</th>\n      <th>Start</th>\n      <th>Finish</th>\n      <th>zakaz</th>\n    </tr>\n  </thead>\n  <tbody>\n    <tr>\n      <th>0</th>\n      <td>Монтаж_СН</td>\n      <td>2020-09-07 08:20:00</td>\n      <td>2020-09-08 16:20:00</td>\n      <td>1324</td>\n    </tr>\n    <tr>\n      <th>1</th>\n      <td>ВторНН</td>\n      <td>2020-09-01 08:20:00</td>\n      <td>2020-09-08 16:20:00</td>\n      <td>1324</td>\n    </tr>\n    <tr>\n      <th>2</th>\n      <td>УсткаНН</td>\n      <td>2020-09-02 08:20:00</td>\n      <td>2020-09-02 16:20:00</td>\n      <td>1324</td>\n    </tr>\n    <tr>\n      <th>3</th>\n      <td>УсткаВВ</td>\n      <td>2020-09-02 08:20:00</td>\n      <td>2020-09-02 16:20:00</td>\n      <td>1324</td>\n    </tr>\n    <tr>\n      <th>4</th>\n      <td>УсткаRM</td>\n      <td>2020-09-02 08:20:00</td>\n      <td>2020-09-02 16:20:00</td>\n      <td>1324</td>\n    </tr>\n    <tr>\n      <th>5</th>\n      <td>Наладка</td>\n      <td>2020-09-09 08:20:00</td>\n      <td>2020-09-09 16:20:00</td>\n      <td>1324</td>\n    </tr>\n    <tr>\n      <th>6</th>\n      <td>Комплект</td>\n      <td>2020-09-10 08:20:00</td>\n      <td>2020-09-10 16:20:00</td>\n      <td>1324</td>\n    </tr>\n  </tbody>\n</table>\n</div>"
     },
     "metadata": {},
     "execution_count": 66
    }
   ],
   "source": [
    "data[data['zakaz'] == data['zakaz'].unique()[0]]"
   ]
  },
  {
   "cell_type": "code",
   "execution_count": 75,
   "metadata": {},
   "outputs": [
    {
     "output_type": "error",
     "ename": "Exception",
     "evalue": "Row value is out of range. Note: the starting cell is (1, 1)",
     "traceback": [
      "\u001b[0;31m---------------------------------------------------------------------------\u001b[0m",
      "\u001b[0;31mException\u001b[0m                                 Traceback (most recent call last)",
      "\u001b[0;32m<ipython-input-75-ec41bf98125c>\u001b[0m in \u001b[0;36m<module>\u001b[0;34m\u001b[0m\n\u001b[1;32m      6\u001b[0m \u001b[0;32mfor\u001b[0m \u001b[0mj\u001b[0m \u001b[0;32min\u001b[0m \u001b[0mrange\u001b[0m\u001b[0;34m(\u001b[0m\u001b[0mi\u001b[0m\u001b[0;34m)\u001b[0m\u001b[0;34m:\u001b[0m\u001b[0;34m\u001b[0m\u001b[0;34m\u001b[0m\u001b[0m\n\u001b[1;32m      7\u001b[0m     \u001b[0md\u001b[0m \u001b[0;34m=\u001b[0m \u001b[0mdata\u001b[0m\u001b[0;34m[\u001b[0m\u001b[0mdata\u001b[0m\u001b[0;34m[\u001b[0m\u001b[0;34m'zakaz'\u001b[0m\u001b[0;34m]\u001b[0m \u001b[0;34m==\u001b[0m \u001b[0mdata\u001b[0m\u001b[0;34m[\u001b[0m\u001b[0;34m'zakaz'\u001b[0m\u001b[0;34m]\u001b[0m\u001b[0;34m.\u001b[0m\u001b[0munique\u001b[0m\u001b[0;34m(\u001b[0m\u001b[0;34m)\u001b[0m\u001b[0;34m[\u001b[0m\u001b[0;36m0\u001b[0m\u001b[0;34m]\u001b[0m\u001b[0;34m]\u001b[0m\u001b[0;34m\u001b[0m\u001b[0;34m\u001b[0m\u001b[0m\n\u001b[0;32m----> 8\u001b[0;31m     fig.add_trace(go.Scatter(y = d['Task'], x = d.index),\n\u001b[0m\u001b[1;32m      9\u001b[0m                                             j,1)\n\u001b[1;32m     10\u001b[0m \u001b[0mfig\u001b[0m\u001b[0;34m.\u001b[0m\u001b[0mshow\u001b[0m\u001b[0;34m(\u001b[0m\u001b[0;34m)\u001b[0m\u001b[0;34m\u001b[0m\u001b[0;34m\u001b[0m\u001b[0m\n",
      "\u001b[0;32m~/anaconda3/envs/plan/lib/python3.8/site-packages/plotly/basedatatypes.py\u001b[0m in \u001b[0;36madd_trace\u001b[0;34m(self, trace, row, col, secondary_y)\u001b[0m\n\u001b[1;32m   1646\u001b[0m             )\n\u001b[1;32m   1647\u001b[0m \u001b[0;34m\u001b[0m\u001b[0m\n\u001b[0;32m-> 1648\u001b[0;31m         return self.add_traces(\n\u001b[0m\u001b[1;32m   1649\u001b[0m             \u001b[0mdata\u001b[0m\u001b[0;34m=\u001b[0m\u001b[0;34m[\u001b[0m\u001b[0mtrace\u001b[0m\u001b[0;34m]\u001b[0m\u001b[0;34m,\u001b[0m\u001b[0;34m\u001b[0m\u001b[0;34m\u001b[0m\u001b[0m\n\u001b[1;32m   1650\u001b[0m             \u001b[0mrows\u001b[0m\u001b[0;34m=\u001b[0m\u001b[0;34m[\u001b[0m\u001b[0mrow\u001b[0m\u001b[0;34m]\u001b[0m \u001b[0;32mif\u001b[0m \u001b[0mrow\u001b[0m \u001b[0;32mis\u001b[0m \u001b[0;32mnot\u001b[0m \u001b[0;32mNone\u001b[0m \u001b[0;32melse\u001b[0m \u001b[0;32mNone\u001b[0m\u001b[0;34m,\u001b[0m\u001b[0;34m\u001b[0m\u001b[0;34m\u001b[0m\u001b[0m\n",
      "\u001b[0;32m~/anaconda3/envs/plan/lib/python3.8/site-packages/plotly/basedatatypes.py\u001b[0m in \u001b[0;36madd_traces\u001b[0;34m(self, data, rows, cols, secondary_ys)\u001b[0m\n\u001b[1;32m   1764\u001b[0m         \u001b[0;32mif\u001b[0m \u001b[0mrows\u001b[0m \u001b[0;32mis\u001b[0m \u001b[0;32mnot\u001b[0m \u001b[0;32mNone\u001b[0m\u001b[0;34m:\u001b[0m\u001b[0;34m\u001b[0m\u001b[0;34m\u001b[0m\u001b[0m\n\u001b[1;32m   1765\u001b[0m             \u001b[0;32mfor\u001b[0m \u001b[0mtrace\u001b[0m\u001b[0;34m,\u001b[0m \u001b[0mrow\u001b[0m\u001b[0;34m,\u001b[0m \u001b[0mcol\u001b[0m\u001b[0;34m,\u001b[0m \u001b[0msecondary_y\u001b[0m \u001b[0;32min\u001b[0m \u001b[0mzip\u001b[0m\u001b[0;34m(\u001b[0m\u001b[0mdata\u001b[0m\u001b[0;34m,\u001b[0m \u001b[0mrows\u001b[0m\u001b[0;34m,\u001b[0m \u001b[0mcols\u001b[0m\u001b[0;34m,\u001b[0m \u001b[0msecondary_ys\u001b[0m\u001b[0;34m)\u001b[0m\u001b[0;34m:\u001b[0m\u001b[0;34m\u001b[0m\u001b[0;34m\u001b[0m\u001b[0m\n\u001b[0;32m-> 1766\u001b[0;31m                 \u001b[0mself\u001b[0m\u001b[0;34m.\u001b[0m\u001b[0m_set_trace_grid_position\u001b[0m\u001b[0;34m(\u001b[0m\u001b[0mtrace\u001b[0m\u001b[0;34m,\u001b[0m \u001b[0mrow\u001b[0m\u001b[0;34m,\u001b[0m \u001b[0mcol\u001b[0m\u001b[0;34m,\u001b[0m \u001b[0msecondary_y\u001b[0m\u001b[0;34m)\u001b[0m\u001b[0;34m\u001b[0m\u001b[0;34m\u001b[0m\u001b[0m\n\u001b[0m\u001b[1;32m   1767\u001b[0m \u001b[0;34m\u001b[0m\u001b[0m\n\u001b[1;32m   1768\u001b[0m         \u001b[0;31m# Make deep copy of trace data (Optimize later if needed)\u001b[0m\u001b[0;34m\u001b[0m\u001b[0;34m\u001b[0m\u001b[0;34m\u001b[0m\u001b[0m\n",
      "\u001b[0;32m~/anaconda3/envs/plan/lib/python3.8/site-packages/plotly/basedatatypes.py\u001b[0m in \u001b[0;36m_set_trace_grid_position\u001b[0;34m(self, trace, row, col, secondary_y)\u001b[0m\n\u001b[1;32m   1846\u001b[0m \u001b[0;34m\u001b[0m\u001b[0m\n\u001b[1;32m   1847\u001b[0m         \u001b[0mgrid_ref\u001b[0m \u001b[0;34m=\u001b[0m \u001b[0mself\u001b[0m\u001b[0;34m.\u001b[0m\u001b[0m_validate_get_grid_ref\u001b[0m\u001b[0;34m(\u001b[0m\u001b[0;34m)\u001b[0m\u001b[0;34m\u001b[0m\u001b[0;34m\u001b[0m\u001b[0m\n\u001b[0;32m-> 1848\u001b[0;31m         return _set_trace_grid_reference(\n\u001b[0m\u001b[1;32m   1849\u001b[0m             \u001b[0mtrace\u001b[0m\u001b[0;34m,\u001b[0m \u001b[0mself\u001b[0m\u001b[0;34m.\u001b[0m\u001b[0mlayout\u001b[0m\u001b[0;34m,\u001b[0m \u001b[0mgrid_ref\u001b[0m\u001b[0;34m,\u001b[0m \u001b[0mrow\u001b[0m\u001b[0;34m,\u001b[0m \u001b[0mcol\u001b[0m\u001b[0;34m,\u001b[0m \u001b[0msecondary_y\u001b[0m\u001b[0;34m\u001b[0m\u001b[0;34m\u001b[0m\u001b[0m\n\u001b[1;32m   1850\u001b[0m         )\n",
      "\u001b[0;32m~/anaconda3/envs/plan/lib/python3.8/site-packages/plotly/subplots.py\u001b[0m in \u001b[0;36m_set_trace_grid_reference\u001b[0;34m(trace, layout, grid_ref, row, col, secondary_y)\u001b[0m\n\u001b[1;32m   1309\u001b[0m \u001b[0;34m\u001b[0m\u001b[0m\n\u001b[1;32m   1310\u001b[0m     \u001b[0;32mif\u001b[0m \u001b[0mrow\u001b[0m \u001b[0;34m<=\u001b[0m \u001b[0;36m0\u001b[0m\u001b[0;34m:\u001b[0m\u001b[0;34m\u001b[0m\u001b[0;34m\u001b[0m\u001b[0m\n\u001b[0;32m-> 1311\u001b[0;31m         raise Exception(\n\u001b[0m\u001b[1;32m   1312\u001b[0m             \u001b[0;34m\"Row value is out of range. \"\u001b[0m \u001b[0;34m\"Note: the starting cell is (1, 1)\"\u001b[0m\u001b[0;34m\u001b[0m\u001b[0;34m\u001b[0m\u001b[0m\n\u001b[1;32m   1313\u001b[0m         )\n",
      "\u001b[0;31mException\u001b[0m: Row value is out of range. Note: the starting cell is (1, 1)"
     ]
    }
   ],
   "source": [
    "i = 5\n",
    "fig = make_subplots(rows=5, cols=1,\n",
    "                    shared_xaxes=True,\n",
    "                    vertical_spacing=0.02)\n",
    "\n",
    "for j in range(i):\n",
    "    d = data[data['zakaz'] == data['zakaz'].unique()[0]]\n",
    "    fig.add_trace(go.Scatter(y = d['Task'], x = d.index),\n",
    "                                            j,1)\n",
    "fig.show()\n",
    "                                "
   ]
  },
  {
   "cell_type": "code",
   "execution_count": 47,
   "metadata": {},
   "outputs": [
    {
     "output_type": "execute_result",
     "data": {
      "text/plain": "        Task               Start              Finish  zakaz\n4    УсткаRM 2020-09-02 08:20:00 2020-09-02 16:20:00   1324\n11   УсткаRM 2020-09-02 08:20:00 2020-09-02 16:20:00   1325\n15   УсткаRM 2020-09-10 08:20:00 2020-09-10 16:20:00   1322\n27   УсткаRM 2020-09-11 08:20:00 2020-09-11 16:20:00   1320\n41   УсткаRM 2020-09-18 08:20:00 2020-09-18 16:20:00   1321\n70   УсткаRM 2020-09-29 08:20:00 2020-09-29 16:20:00   1329\n85   УсткаRM 2020-10-02 08:20:00 2020-10-02 16:20:00   1327\n101  УсткаRM 2020-10-09 08:20:00 2020-10-09 16:20:00   1331\n136  УсткаRM 2020-10-17 08:20:00 2020-10-17 16:20:00   1332\n159  УсткаRM 2020-10-19 08:20:00 2020-10-19 16:20:00   1333\n192  УсткаRM 2020-10-27 08:20:00 2020-10-27 16:20:00   1334\n208  УсткаRM 2020-10-30 08:20:00 2020-10-30 16:20:00   1337",
      "text/html": "<div>\n<style scoped>\n    .dataframe tbody tr th:only-of-type {\n        vertical-align: middle;\n    }\n\n    .dataframe tbody tr th {\n        vertical-align: top;\n    }\n\n    .dataframe thead th {\n        text-align: right;\n    }\n</style>\n<table border=\"1\" class=\"dataframe\">\n  <thead>\n    <tr style=\"text-align: right;\">\n      <th></th>\n      <th>Task</th>\n      <th>Start</th>\n      <th>Finish</th>\n      <th>zakaz</th>\n    </tr>\n  </thead>\n  <tbody>\n    <tr>\n      <th>4</th>\n      <td>УсткаRM</td>\n      <td>2020-09-02 08:20:00</td>\n      <td>2020-09-02 16:20:00</td>\n      <td>1324</td>\n    </tr>\n    <tr>\n      <th>11</th>\n      <td>УсткаRM</td>\n      <td>2020-09-02 08:20:00</td>\n      <td>2020-09-02 16:20:00</td>\n      <td>1325</td>\n    </tr>\n    <tr>\n      <th>15</th>\n      <td>УсткаRM</td>\n      <td>2020-09-10 08:20:00</td>\n      <td>2020-09-10 16:20:00</td>\n      <td>1322</td>\n    </tr>\n    <tr>\n      <th>27</th>\n      <td>УсткаRM</td>\n      <td>2020-09-11 08:20:00</td>\n      <td>2020-09-11 16:20:00</td>\n      <td>1320</td>\n    </tr>\n    <tr>\n      <th>41</th>\n      <td>УсткаRM</td>\n      <td>2020-09-18 08:20:00</td>\n      <td>2020-09-18 16:20:00</td>\n      <td>1321</td>\n    </tr>\n    <tr>\n      <th>70</th>\n      <td>УсткаRM</td>\n      <td>2020-09-29 08:20:00</td>\n      <td>2020-09-29 16:20:00</td>\n      <td>1329</td>\n    </tr>\n    <tr>\n      <th>85</th>\n      <td>УсткаRM</td>\n      <td>2020-10-02 08:20:00</td>\n      <td>2020-10-02 16:20:00</td>\n      <td>1327</td>\n    </tr>\n    <tr>\n      <th>101</th>\n      <td>УсткаRM</td>\n      <td>2020-10-09 08:20:00</td>\n      <td>2020-10-09 16:20:00</td>\n      <td>1331</td>\n    </tr>\n    <tr>\n      <th>136</th>\n      <td>УсткаRM</td>\n      <td>2020-10-17 08:20:00</td>\n      <td>2020-10-17 16:20:00</td>\n      <td>1332</td>\n    </tr>\n    <tr>\n      <th>159</th>\n      <td>УсткаRM</td>\n      <td>2020-10-19 08:20:00</td>\n      <td>2020-10-19 16:20:00</td>\n      <td>1333</td>\n    </tr>\n    <tr>\n      <th>192</th>\n      <td>УсткаRM</td>\n      <td>2020-10-27 08:20:00</td>\n      <td>2020-10-27 16:20:00</td>\n      <td>1334</td>\n    </tr>\n    <tr>\n      <th>208</th>\n      <td>УсткаRM</td>\n      <td>2020-10-30 08:20:00</td>\n      <td>2020-10-30 16:20:00</td>\n      <td>1337</td>\n    </tr>\n  </tbody>\n</table>\n</div>"
     },
     "metadata": {},
     "execution_count": 47
    }
   ],
   "source": [
    "data[data['Task'] == 'УсткаRM']"
   ]
  },
  {
   "cell_type": "code",
   "execution_count": 48,
   "metadata": {},
   "outputs": [
    {
     "output_type": "execute_result",
     "data": {
      "text/plain": "           Task               Start              Finish  zakaz\n104  Заливка_НМ 2020-09-16 08:20:00 2020-09-21 16:20:00   1342\n105  Навеска_НМ 2020-09-18 08:20:00 2020-09-21 16:20:00   1342",
      "text/html": "<div>\n<style scoped>\n    .dataframe tbody tr th:only-of-type {\n        vertical-align: middle;\n    }\n\n    .dataframe tbody tr th {\n        vertical-align: top;\n    }\n\n    .dataframe thead th {\n        text-align: right;\n    }\n</style>\n<table border=\"1\" class=\"dataframe\">\n  <thead>\n    <tr style=\"text-align: right;\">\n      <th></th>\n      <th>Task</th>\n      <th>Start</th>\n      <th>Finish</th>\n      <th>zakaz</th>\n    </tr>\n  </thead>\n  <tbody>\n    <tr>\n      <th>104</th>\n      <td>Заливка_НМ</td>\n      <td>2020-09-16 08:20:00</td>\n      <td>2020-09-21 16:20:00</td>\n      <td>1342</td>\n    </tr>\n    <tr>\n      <th>105</th>\n      <td>Навеска_НМ</td>\n      <td>2020-09-18 08:20:00</td>\n      <td>2020-09-21 16:20:00</td>\n      <td>1342</td>\n    </tr>\n  </tbody>\n</table>\n</div>"
     },
     "metadata": {},
     "execution_count": 48
    }
   ],
   "source": [
    "data[data['zakaz'] == 1342]"
   ]
  },
  {
   "cell_type": "code",
   "execution_count": 49,
   "metadata": {
    "tags": []
   },
   "outputs": [
    {
     "output_type": "execute_result",
     "data": {
      "text/plain": "Empty DataFrame\nColumns: [Task, Start, Finish, zakaz]\nIndex: []",
      "text/html": "<div>\n<style scoped>\n    .dataframe tbody tr th:only-of-type {\n        vertical-align: middle;\n    }\n\n    .dataframe tbody tr th {\n        vertical-align: top;\n    }\n\n    .dataframe thead th {\n        text-align: right;\n    }\n</style>\n<table border=\"1\" class=\"dataframe\">\n  <thead>\n    <tr style=\"text-align: right;\">\n      <th></th>\n      <th>Task</th>\n      <th>Start</th>\n      <th>Finish</th>\n      <th>zakaz</th>\n    </tr>\n  </thead>\n  <tbody>\n  </tbody>\n</table>\n</div>"
     },
     "metadata": {},
     "execution_count": 49
    }
   ],
   "source": [
    "data.iloc[104]['zakaz'] = 1342\n",
    "data[data['zakaz'] == '1342 НМ']"
   ]
  }
 ],
 "metadata": {
  "language_info": {
   "codemirror_mode": {
    "name": "ipython",
    "version": 3
   },
   "file_extension": ".py",
   "mimetype": "text/x-python",
   "name": "python",
   "nbconvert_exporter": "python",
   "pygments_lexer": "ipython3",
   "version": "3.8.5-final"
  },
  "orig_nbformat": 2,
  "kernelspec": {
   "name": "python38564bitplanconda8c1da408d8b3417e8d206fec9508f480",
   "display_name": "Python 3.8.5 64-bit ('plan': conda)"
  }
 },
 "nbformat": 4,
 "nbformat_minor": 2
}