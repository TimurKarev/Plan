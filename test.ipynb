{
 "metadata": {
  "language_info": {
   "codemirror_mode": {
    "name": "ipython",
    "version": 3
   },
   "file_extension": ".py",
   "mimetype": "text/x-python",
   "name": "python",
   "nbconvert_exporter": "python",
   "pygments_lexer": "ipython3",
   "version": "3.8.5-final"
  },
  "orig_nbformat": 2,
  "kernelspec": {
   "name": "python_defaultSpec_1599550116711",
   "display_name": "Python 3.8.5 64-bit ('Plan': conda)"
  }
 },
 "nbformat": 4,
 "nbformat_minor": 2,
 "cells": [
  {
   "cell_type": "code",
   "execution_count": 186,
   "metadata": {
    "tags": []
   },
   "outputs": [
    {
     "output_type": "stream",
     "name": "stdout",
     "text": "The autoreload extension is already loaded. To reload it, use:\n  %reload_ext autoreload\n"
    }
   ],
   "source": [
    "%load_ext autoreload"
   ]
  },
  {
   "cell_type": "code",
   "execution_count": 187,
   "metadata": {},
   "outputs": [],
   "source": [
    "%autoreload"
   ]
  },
  {
   "cell_type": "code",
   "execution_count": 188,
   "metadata": {},
   "outputs": [],
   "source": [
    "import xlrd\n",
    "import plotly.express as px\n",
    "import pandas as pd\n",
    "from datetime import datetime as dt\n",
    "import plan_utils as utils\n",
    "import plan_var as V"
   ]
  },
  {
   "cell_type": "code",
   "execution_count": 189,
   "metadata": {},
   "outputs": [],
   "source": [
    "#ПП 25.08.2020"
   ]
  },
  {
   "cell_type": "code",
   "execution_count": 190,
   "metadata": {},
   "outputs": [
    {
     "output_type": "execute_result",
     "data": {
      "text/plain": "         Unnamed: 0 Unnamed: 2 Unnamed: 3 Unnamed: 4 Производственный план  \\\nNaN             NaN        NaN        NaN        NaN                   NaN   \n№ з/з           NaN    Заливка        NaN    Навеска                   NaN   \nNaN             NaN         НМ         ВМ         НМ                    ВМ   \nдекабрь         NaN        NaN        NaN        NaN                   NaN   \n1250            NaN      готов      готов      20.11              20-25.11   \n1253            NaN      готов      готов      26.11              26-27.11   \n1259            NaN        нет        нет        нет                   нет   \n1255            NaN      готов      готов      28.11              28-30.11   \n1256            NaN      готов      готов      02.12              02-04.12   \n1251            NaN      готов      готов      05.12              05-07.12   \n1260            NaN        нет        нет        нет                   нет   \n1257            NaN      готов      готов      09.12              09-11.12   \n1258            NaN        нет        нет        нет                   нет   \n1264            NaN      готов      готов      готов                 готов   \n1252            NaN      готов      готов      12.12              12-17.12   \n\n           Unnamed: 6    Unnamed: 7 Unnamed: 8     Unnamed: 9    Unnamed: 10  \\\nNaN               NaN           NaN        NaN            NaN            NaN   \n№ з/з    Передача ЭМУ  Сборка щитов  Монтаж СН  Шина УВР/ТР-Р  Сборка 0,4 кВ   \nNaN               NaN           NaN        NaN            NaN            NaN   \nдекабрь           NaN           NaN        NaN            NaN            NaN   \n1250            готов      20-25.11   20-23.11          готов          готов   \n1253            25.11      26-28.11   25-26.11          готов          готов   \n1259              нет      02-05.12        нет            нет            нет   \n1255            26.11      05-07.12   27-29.11    20.11/22.11       25-27.11   \n1256            29.11      07-10.12   30-31.11    25.11/27.11    28.11-30.11   \n1251            02.12      07-10.12   02-04.12    28.11/02.12       02-04.12   \n1260              нет      07-10.12        нет            нет            нет   \n1257            04.12      05-10.12   05-07.12    03.12/05.12       05-07.12   \n1258              нет           нет        нет            нет            нет   \n1264            готов      10-12.12      09.12    05.12/07.12       05-07.12   \n1252            09.12      13-19.12   10-17.12    06.12/10.12       09-16.12   \n\n            Unnamed: 11     Unnamed: 12      Unnamed: 13       Unnamed: 14  \\\nNaN                 NaN             NaN              NaN               NaN   \n№ з/з    Втор-ка 0,4 кВ  Сборка 6/10 кВ  Втор-ка 6/10 кВ  Уст-ка 0,4/10 кВ   \nNaN                 NaN             NaN              NaN               NaN   \nдекабрь             NaN             NaN              NaN               NaN   \n1250           27-29.11             нет              нет             19.11   \n1253           02-04.13             нет              нет             25.12   \n1259                нет             нет              нет               нет   \n1255           05-09.12             нет              нет             29.11   \n1256           06-10.12             нет              нет             03.12   \n1251           06-10.12             нет              нет             05.12   \n1260                нет             нет              нет               нет   \n1257           10-13.12             нет              нет             05.12   \n1258                нет             нет              нет               нет   \n1264           16-18.12             нет              нет             09.12   \n1252           16-20.12           10.12         11-19.12          16/19.12   \n\n             Unnamed: 15 Unnamed: 16    Unnamed: 17  2020-09-08 00:00:00  \\\nNaN                  NaN         NaN            NaN                  NaN   \n№ з/з    Установ-ка RM-6     Наладка  Комплек-тация             ОТГРУЗКА   \nNaN                  NaN         NaN            NaN                  NaN   \nдекабрь              NaN         NaN            NaN                  NaN   \n1250               20.11       05.12          06.12  2019-12-06 00:00:00   \n1253               27.12       05.13          06.13  2019-12-10 00:00:00   \n1259                 нет       09.12          09.12  2019-12-10 00:00:00   \n1255               03.12       09.12          10.12  2019-12-11 00:00:00   \n1256               03.12       10.12          11.12  2019-12-12 00:00:00   \n1251               03.12       11.12          11.12  2019-12-12 00:00:00   \n1260                 нет       11.12          12.12  2019-12-13 00:00:00   \n1257               03.12       13.12          13.12  2019-12-16 00:00:00   \n1258               11.12       16.12          17.12  2019-12-18 00:00:00   \n1264               12.12       19.12          20.12  2019-12-23 00:00:00   \n1252                 нет    20-23.12          23.12  2019-12-24 00:00:00   \n\n        Unnamed: 19  \nNaN             NaT  \n№ з/з           NaT  \nNaN             NaT  \nдекабрь         NaT  \n1250            NaT  \n1253            NaT  \n1259            NaT  \n1255            NaT  \n1256            NaT  \n1251            NaT  \n1260            NaT  \n1257            NaT  \n1258            NaT  \n1264            NaT  \n1252            NaT  ",
      "text/html": "<div>\n<style scoped>\n    .dataframe tbody tr th:only-of-type {\n        vertical-align: middle;\n    }\n\n    .dataframe tbody tr th {\n        vertical-align: top;\n    }\n\n    .dataframe thead th {\n        text-align: right;\n    }\n</style>\n<table border=\"1\" class=\"dataframe\">\n  <thead>\n    <tr style=\"text-align: right;\">\n      <th></th>\n      <th>Unnamed: 0</th>\n      <th>Unnamed: 2</th>\n      <th>Unnamed: 3</th>\n      <th>Unnamed: 4</th>\n      <th>Производственный план</th>\n      <th>Unnamed: 6</th>\n      <th>Unnamed: 7</th>\n      <th>Unnamed: 8</th>\n      <th>Unnamed: 9</th>\n      <th>Unnamed: 10</th>\n      <th>Unnamed: 11</th>\n      <th>Unnamed: 12</th>\n      <th>Unnamed: 13</th>\n      <th>Unnamed: 14</th>\n      <th>Unnamed: 15</th>\n      <th>Unnamed: 16</th>\n      <th>Unnamed: 17</th>\n      <th>2020-09-08 00:00:00</th>\n      <th>Unnamed: 19</th>\n    </tr>\n  </thead>\n  <tbody>\n    <tr>\n      <th>NaN</th>\n      <td>NaN</td>\n      <td>NaN</td>\n      <td>NaN</td>\n      <td>NaN</td>\n      <td>NaN</td>\n      <td>NaN</td>\n      <td>NaN</td>\n      <td>NaN</td>\n      <td>NaN</td>\n      <td>NaN</td>\n      <td>NaN</td>\n      <td>NaN</td>\n      <td>NaN</td>\n      <td>NaN</td>\n      <td>NaN</td>\n      <td>NaN</td>\n      <td>NaN</td>\n      <td>NaN</td>\n      <td>NaT</td>\n    </tr>\n    <tr>\n      <th>№ з/з</th>\n      <td>NaN</td>\n      <td>Заливка</td>\n      <td>NaN</td>\n      <td>Навеска</td>\n      <td>NaN</td>\n      <td>Передача ЭМУ</td>\n      <td>Сборка щитов</td>\n      <td>Монтаж СН</td>\n      <td>Шина УВР/ТР-Р</td>\n      <td>Сборка 0,4 кВ</td>\n      <td>Втор-ка 0,4 кВ</td>\n      <td>Сборка 6/10 кВ</td>\n      <td>Втор-ка 6/10 кВ</td>\n      <td>Уст-ка 0,4/10 кВ</td>\n      <td>Установ-ка RM-6</td>\n      <td>Наладка</td>\n      <td>Комплек-тация</td>\n      <td>ОТГРУЗКА</td>\n      <td>NaT</td>\n    </tr>\n    <tr>\n      <th>NaN</th>\n      <td>NaN</td>\n      <td>НМ</td>\n      <td>ВМ</td>\n      <td>НМ</td>\n      <td>ВМ</td>\n      <td>NaN</td>\n      <td>NaN</td>\n      <td>NaN</td>\n      <td>NaN</td>\n      <td>NaN</td>\n      <td>NaN</td>\n      <td>NaN</td>\n      <td>NaN</td>\n      <td>NaN</td>\n      <td>NaN</td>\n      <td>NaN</td>\n      <td>NaN</td>\n      <td>NaN</td>\n      <td>NaT</td>\n    </tr>\n    <tr>\n      <th>декабрь</th>\n      <td>NaN</td>\n      <td>NaN</td>\n      <td>NaN</td>\n      <td>NaN</td>\n      <td>NaN</td>\n      <td>NaN</td>\n      <td>NaN</td>\n      <td>NaN</td>\n      <td>NaN</td>\n      <td>NaN</td>\n      <td>NaN</td>\n      <td>NaN</td>\n      <td>NaN</td>\n      <td>NaN</td>\n      <td>NaN</td>\n      <td>NaN</td>\n      <td>NaN</td>\n      <td>NaN</td>\n      <td>NaT</td>\n    </tr>\n    <tr>\n      <th>1250</th>\n      <td>NaN</td>\n      <td>готов</td>\n      <td>готов</td>\n      <td>20.11</td>\n      <td>20-25.11</td>\n      <td>готов</td>\n      <td>20-25.11</td>\n      <td>20-23.11</td>\n      <td>готов</td>\n      <td>готов</td>\n      <td>27-29.11</td>\n      <td>нет</td>\n      <td>нет</td>\n      <td>19.11</td>\n      <td>20.11</td>\n      <td>05.12</td>\n      <td>06.12</td>\n      <td>2019-12-06 00:00:00</td>\n      <td>NaT</td>\n    </tr>\n    <tr>\n      <th>1253</th>\n      <td>NaN</td>\n      <td>готов</td>\n      <td>готов</td>\n      <td>26.11</td>\n      <td>26-27.11</td>\n      <td>25.11</td>\n      <td>26-28.11</td>\n      <td>25-26.11</td>\n      <td>готов</td>\n      <td>готов</td>\n      <td>02-04.13</td>\n      <td>нет</td>\n      <td>нет</td>\n      <td>25.12</td>\n      <td>27.12</td>\n      <td>05.13</td>\n      <td>06.13</td>\n      <td>2019-12-10 00:00:00</td>\n      <td>NaT</td>\n    </tr>\n    <tr>\n      <th>1259</th>\n      <td>NaN</td>\n      <td>нет</td>\n      <td>нет</td>\n      <td>нет</td>\n      <td>нет</td>\n      <td>нет</td>\n      <td>02-05.12</td>\n      <td>нет</td>\n      <td>нет</td>\n      <td>нет</td>\n      <td>нет</td>\n      <td>нет</td>\n      <td>нет</td>\n      <td>нет</td>\n      <td>нет</td>\n      <td>09.12</td>\n      <td>09.12</td>\n      <td>2019-12-10 00:00:00</td>\n      <td>NaT</td>\n    </tr>\n    <tr>\n      <th>1255</th>\n      <td>NaN</td>\n      <td>готов</td>\n      <td>готов</td>\n      <td>28.11</td>\n      <td>28-30.11</td>\n      <td>26.11</td>\n      <td>05-07.12</td>\n      <td>27-29.11</td>\n      <td>20.11/22.11</td>\n      <td>25-27.11</td>\n      <td>05-09.12</td>\n      <td>нет</td>\n      <td>нет</td>\n      <td>29.11</td>\n      <td>03.12</td>\n      <td>09.12</td>\n      <td>10.12</td>\n      <td>2019-12-11 00:00:00</td>\n      <td>NaT</td>\n    </tr>\n    <tr>\n      <th>1256</th>\n      <td>NaN</td>\n      <td>готов</td>\n      <td>готов</td>\n      <td>02.12</td>\n      <td>02-04.12</td>\n      <td>29.11</td>\n      <td>07-10.12</td>\n      <td>30-31.11</td>\n      <td>25.11/27.11</td>\n      <td>28.11-30.11</td>\n      <td>06-10.12</td>\n      <td>нет</td>\n      <td>нет</td>\n      <td>03.12</td>\n      <td>03.12</td>\n      <td>10.12</td>\n      <td>11.12</td>\n      <td>2019-12-12 00:00:00</td>\n      <td>NaT</td>\n    </tr>\n    <tr>\n      <th>1251</th>\n      <td>NaN</td>\n      <td>готов</td>\n      <td>готов</td>\n      <td>05.12</td>\n      <td>05-07.12</td>\n      <td>02.12</td>\n      <td>07-10.12</td>\n      <td>02-04.12</td>\n      <td>28.11/02.12</td>\n      <td>02-04.12</td>\n      <td>06-10.12</td>\n      <td>нет</td>\n      <td>нет</td>\n      <td>05.12</td>\n      <td>03.12</td>\n      <td>11.12</td>\n      <td>11.12</td>\n      <td>2019-12-12 00:00:00</td>\n      <td>NaT</td>\n    </tr>\n    <tr>\n      <th>1260</th>\n      <td>NaN</td>\n      <td>нет</td>\n      <td>нет</td>\n      <td>нет</td>\n      <td>нет</td>\n      <td>нет</td>\n      <td>07-10.12</td>\n      <td>нет</td>\n      <td>нет</td>\n      <td>нет</td>\n      <td>нет</td>\n      <td>нет</td>\n      <td>нет</td>\n      <td>нет</td>\n      <td>нет</td>\n      <td>11.12</td>\n      <td>12.12</td>\n      <td>2019-12-13 00:00:00</td>\n      <td>NaT</td>\n    </tr>\n    <tr>\n      <th>1257</th>\n      <td>NaN</td>\n      <td>готов</td>\n      <td>готов</td>\n      <td>09.12</td>\n      <td>09-11.12</td>\n      <td>04.12</td>\n      <td>05-10.12</td>\n      <td>05-07.12</td>\n      <td>03.12/05.12</td>\n      <td>05-07.12</td>\n      <td>10-13.12</td>\n      <td>нет</td>\n      <td>нет</td>\n      <td>05.12</td>\n      <td>03.12</td>\n      <td>13.12</td>\n      <td>13.12</td>\n      <td>2019-12-16 00:00:00</td>\n      <td>NaT</td>\n    </tr>\n    <tr>\n      <th>1258</th>\n      <td>NaN</td>\n      <td>нет</td>\n      <td>нет</td>\n      <td>нет</td>\n      <td>нет</td>\n      <td>нет</td>\n      <td>нет</td>\n      <td>нет</td>\n      <td>нет</td>\n      <td>нет</td>\n      <td>нет</td>\n      <td>нет</td>\n      <td>нет</td>\n      <td>нет</td>\n      <td>11.12</td>\n      <td>16.12</td>\n      <td>17.12</td>\n      <td>2019-12-18 00:00:00</td>\n      <td>NaT</td>\n    </tr>\n    <tr>\n      <th>1264</th>\n      <td>NaN</td>\n      <td>готов</td>\n      <td>готов</td>\n      <td>готов</td>\n      <td>готов</td>\n      <td>готов</td>\n      <td>10-12.12</td>\n      <td>09.12</td>\n      <td>05.12/07.12</td>\n      <td>05-07.12</td>\n      <td>16-18.12</td>\n      <td>нет</td>\n      <td>нет</td>\n      <td>09.12</td>\n      <td>12.12</td>\n      <td>19.12</td>\n      <td>20.12</td>\n      <td>2019-12-23 00:00:00</td>\n      <td>NaT</td>\n    </tr>\n    <tr>\n      <th>1252</th>\n      <td>NaN</td>\n      <td>готов</td>\n      <td>готов</td>\n      <td>12.12</td>\n      <td>12-17.12</td>\n      <td>09.12</td>\n      <td>13-19.12</td>\n      <td>10-17.12</td>\n      <td>06.12/10.12</td>\n      <td>09-16.12</td>\n      <td>16-20.12</td>\n      <td>10.12</td>\n      <td>11-19.12</td>\n      <td>16/19.12</td>\n      <td>нет</td>\n      <td>20-23.12</td>\n      <td>23.12</td>\n      <td>2019-12-24 00:00:00</td>\n      <td>NaT</td>\n    </tr>\n  </tbody>\n</table>\n</div>"
     },
     "metadata": {},
     "execution_count": 190
    }
   ],
   "source": [
    "data = pd.read_excel('ПП 25.08.2020.xlsx', sheet_name='2020', index_col=1)\n",
    "data.head(15)"
   ]
  },
  {
   "cell_type": "code",
   "execution_count": 191,
   "metadata": {},
   "outputs": [
    {
     "output_type": "execute_result",
     "data": {
      "text/plain": "         Unnamed: 0 Unnamed: 2 Unnamed: 3 Unnamed: 4 Производственный план  \\\nNaN             NaN        NaN        NaN        NaN                   NaN   \n№ з/з           NaN    Заливка        NaN    Навеска                   NaN   \nNaN             NaN         НМ         ВМ         НМ                    ВМ   \nдекабрь         NaN        NaN        NaN        NaN                   NaN   \n1250            NaN      готов      готов      20.11              20-25.11   \n\n           Unnamed: 6    Unnamed: 7 Unnamed: 8     Unnamed: 9    Unnamed: 10  \\\nNaN               NaN           NaN        NaN            NaN            NaN   \n№ з/з    Передача ЭМУ  Сборка щитов  Монтаж СН  Шина УВР/ТР-Р  Сборка 0,4 кВ   \nNaN               NaN           NaN        NaN            NaN            NaN   \nдекабрь           NaN           NaN        NaN            NaN            NaN   \n1250            готов      20-25.11   20-23.11          готов          готов   \n\n            Unnamed: 11     Unnamed: 12      Unnamed: 13       Unnamed: 14  \\\nNaN                 NaN             NaN              NaN               NaN   \n№ з/з    Втор-ка 0,4 кВ  Сборка 6/10 кВ  Втор-ка 6/10 кВ  Уст-ка 0,4/10 кВ   \nNaN                 NaN             NaN              NaN               NaN   \nдекабрь             NaN             NaN              NaN               NaN   \n1250           27-29.11             нет              нет             19.11   \n\n             Unnamed: 15 Unnamed: 16    Unnamed: 17  2020-09-08 00:00:00  \\\nNaN                  NaN         NaN            NaN                  NaN   \n№ з/з    Установ-ка RM-6     Наладка  Комплек-тация             ОТГРУЗКА   \nNaN                  NaN         NaN            NaN                  NaN   \nдекабрь              NaN         NaN            NaN                  NaN   \n1250               20.11       05.12          06.12  2019-12-06 00:00:00   \n\n        Unnamed: 19  \nNaN             NaT  \n№ з/з           NaT  \nNaN             NaT  \nдекабрь         NaT  \n1250            NaT  ",
      "text/html": "<div>\n<style scoped>\n    .dataframe tbody tr th:only-of-type {\n        vertical-align: middle;\n    }\n\n    .dataframe tbody tr th {\n        vertical-align: top;\n    }\n\n    .dataframe thead th {\n        text-align: right;\n    }\n</style>\n<table border=\"1\" class=\"dataframe\">\n  <thead>\n    <tr style=\"text-align: right;\">\n      <th></th>\n      <th>Unnamed: 0</th>\n      <th>Unnamed: 2</th>\n      <th>Unnamed: 3</th>\n      <th>Unnamed: 4</th>\n      <th>Производственный план</th>\n      <th>Unnamed: 6</th>\n      <th>Unnamed: 7</th>\n      <th>Unnamed: 8</th>\n      <th>Unnamed: 9</th>\n      <th>Unnamed: 10</th>\n      <th>Unnamed: 11</th>\n      <th>Unnamed: 12</th>\n      <th>Unnamed: 13</th>\n      <th>Unnamed: 14</th>\n      <th>Unnamed: 15</th>\n      <th>Unnamed: 16</th>\n      <th>Unnamed: 17</th>\n      <th>2020-09-08 00:00:00</th>\n      <th>Unnamed: 19</th>\n    </tr>\n  </thead>\n  <tbody>\n    <tr>\n      <th>NaN</th>\n      <td>NaN</td>\n      <td>NaN</td>\n      <td>NaN</td>\n      <td>NaN</td>\n      <td>NaN</td>\n      <td>NaN</td>\n      <td>NaN</td>\n      <td>NaN</td>\n      <td>NaN</td>\n      <td>NaN</td>\n      <td>NaN</td>\n      <td>NaN</td>\n      <td>NaN</td>\n      <td>NaN</td>\n      <td>NaN</td>\n      <td>NaN</td>\n      <td>NaN</td>\n      <td>NaN</td>\n      <td>NaT</td>\n    </tr>\n    <tr>\n      <th>№ з/з</th>\n      <td>NaN</td>\n      <td>Заливка</td>\n      <td>NaN</td>\n      <td>Навеска</td>\n      <td>NaN</td>\n      <td>Передача ЭМУ</td>\n      <td>Сборка щитов</td>\n      <td>Монтаж СН</td>\n      <td>Шина УВР/ТР-Р</td>\n      <td>Сборка 0,4 кВ</td>\n      <td>Втор-ка 0,4 кВ</td>\n      <td>Сборка 6/10 кВ</td>\n      <td>Втор-ка 6/10 кВ</td>\n      <td>Уст-ка 0,4/10 кВ</td>\n      <td>Установ-ка RM-6</td>\n      <td>Наладка</td>\n      <td>Комплек-тация</td>\n      <td>ОТГРУЗКА</td>\n      <td>NaT</td>\n    </tr>\n    <tr>\n      <th>NaN</th>\n      <td>NaN</td>\n      <td>НМ</td>\n      <td>ВМ</td>\n      <td>НМ</td>\n      <td>ВМ</td>\n      <td>NaN</td>\n      <td>NaN</td>\n      <td>NaN</td>\n      <td>NaN</td>\n      <td>NaN</td>\n      <td>NaN</td>\n      <td>NaN</td>\n      <td>NaN</td>\n      <td>NaN</td>\n      <td>NaN</td>\n      <td>NaN</td>\n      <td>NaN</td>\n      <td>NaN</td>\n      <td>NaT</td>\n    </tr>\n    <tr>\n      <th>декабрь</th>\n      <td>NaN</td>\n      <td>NaN</td>\n      <td>NaN</td>\n      <td>NaN</td>\n      <td>NaN</td>\n      <td>NaN</td>\n      <td>NaN</td>\n      <td>NaN</td>\n      <td>NaN</td>\n      <td>NaN</td>\n      <td>NaN</td>\n      <td>NaN</td>\n      <td>NaN</td>\n      <td>NaN</td>\n      <td>NaN</td>\n      <td>NaN</td>\n      <td>NaN</td>\n      <td>NaN</td>\n      <td>NaT</td>\n    </tr>\n    <tr>\n      <th>1250</th>\n      <td>NaN</td>\n      <td>готов</td>\n      <td>готов</td>\n      <td>20.11</td>\n      <td>20-25.11</td>\n      <td>готов</td>\n      <td>20-25.11</td>\n      <td>20-23.11</td>\n      <td>готов</td>\n      <td>готов</td>\n      <td>27-29.11</td>\n      <td>нет</td>\n      <td>нет</td>\n      <td>19.11</td>\n      <td>20.11</td>\n      <td>05.12</td>\n      <td>06.12</td>\n      <td>2019-12-06 00:00:00</td>\n      <td>NaT</td>\n    </tr>\n  </tbody>\n</table>\n</div>"
     },
     "metadata": {},
     "execution_count": 191
    }
   ],
   "source": [
    "data.head(5)"
   ]
  },
  {
   "cell_type": "code",
   "execution_count": 192,
   "metadata": {},
   "outputs": [
    {
     "output_type": "execute_result",
     "data": {
      "text/plain": "str"
     },
     "metadata": {},
     "execution_count": 192
    }
   ],
   "source": [
    "type(data.iloc[3].name)"
   ]
  },
  {
   "cell_type": "code",
   "execution_count": 193,
   "metadata": {},
   "outputs": [
    {
     "output_type": "execute_result",
     "data": {
      "text/plain": "85"
     },
     "metadata": {},
     "execution_count": 193
    }
   ],
   "source": [
    "data.index.get_loc('сентябрь')"
   ]
  },
  {
   "cell_type": "code",
   "execution_count": 194,
   "metadata": {},
   "outputs": [
    {
     "output_type": "execute_result",
     "data": {
      "text/plain": "98"
     },
     "metadata": {},
     "execution_count": 194
    }
   ],
   "source": [
    "data.shape[0]"
   ]
  },
  {
   "cell_type": "code",
   "execution_count": 195,
   "metadata": {},
   "outputs": [
    {
     "output_type": "execute_result",
     "data": {
      "text/plain": "     Unnamed: 2 Unnamed: 3 Unnamed: 4 Производственный план Unnamed: 6  \\\n1330      готов      готов      готов                 готов      готов   \n1324      готов      готов      28.08              28-01.09      01.09   \n1325      готов   12-25.08      28.08              02-04.09      07.09   \n\n     Unnamed: 7 Unnamed: 8            Unnamed: 9 Unnamed: 10 Unnamed: 11  \\\n1330      готов   31-01.09             нет/26.08    26-28.08    28-31.08   \n1324      28.08   02-04.09              27-31.08    28-01.09  01-08.09 А   \n1325   01-03.09   07-09.09  01.09-03.09/31-03.09    02-04.09    01-08.09   \n\n     Unnamed: 12 Unnamed: 13  Unnamed: 14 Unnamed: 15 Unnamed: 16 Unnamed: 17  \\\n1330         нет         нет  готов/31.08       31.08       01.09       31.08   \n1324         нет         нет        02.09       02.09       09.09       10.09   \n1325         нет         нет        07.09       02.09       10.09       11.09   \n\n      2020-09-08 00:00:00 Unnamed: 19  \n1330  2020-09-10 00:00:00         NaT  \n1324  2020-09-15 00:00:00         NaT  \n1325  2020-09-15 00:00:00         NaT  ",
      "text/html": "<div>\n<style scoped>\n    .dataframe tbody tr th:only-of-type {\n        vertical-align: middle;\n    }\n\n    .dataframe tbody tr th {\n        vertical-align: top;\n    }\n\n    .dataframe thead th {\n        text-align: right;\n    }\n</style>\n<table border=\"1\" class=\"dataframe\">\n  <thead>\n    <tr style=\"text-align: right;\">\n      <th></th>\n      <th>Unnamed: 2</th>\n      <th>Unnamed: 3</th>\n      <th>Unnamed: 4</th>\n      <th>Производственный план</th>\n      <th>Unnamed: 6</th>\n      <th>Unnamed: 7</th>\n      <th>Unnamed: 8</th>\n      <th>Unnamed: 9</th>\n      <th>Unnamed: 10</th>\n      <th>Unnamed: 11</th>\n      <th>Unnamed: 12</th>\n      <th>Unnamed: 13</th>\n      <th>Unnamed: 14</th>\n      <th>Unnamed: 15</th>\n      <th>Unnamed: 16</th>\n      <th>Unnamed: 17</th>\n      <th>2020-09-08 00:00:00</th>\n      <th>Unnamed: 19</th>\n    </tr>\n  </thead>\n  <tbody>\n    <tr>\n      <th>1330</th>\n      <td>готов</td>\n      <td>готов</td>\n      <td>готов</td>\n      <td>готов</td>\n      <td>готов</td>\n      <td>готов</td>\n      <td>31-01.09</td>\n      <td>нет/26.08</td>\n      <td>26-28.08</td>\n      <td>28-31.08</td>\n      <td>нет</td>\n      <td>нет</td>\n      <td>готов/31.08</td>\n      <td>31.08</td>\n      <td>01.09</td>\n      <td>31.08</td>\n      <td>2020-09-10 00:00:00</td>\n      <td>NaT</td>\n    </tr>\n    <tr>\n      <th>1324</th>\n      <td>готов</td>\n      <td>готов</td>\n      <td>28.08</td>\n      <td>28-01.09</td>\n      <td>01.09</td>\n      <td>28.08</td>\n      <td>02-04.09</td>\n      <td>27-31.08</td>\n      <td>28-01.09</td>\n      <td>01-08.09 А</td>\n      <td>нет</td>\n      <td>нет</td>\n      <td>02.09</td>\n      <td>02.09</td>\n      <td>09.09</td>\n      <td>10.09</td>\n      <td>2020-09-15 00:00:00</td>\n      <td>NaT</td>\n    </tr>\n    <tr>\n      <th>1325</th>\n      <td>готов</td>\n      <td>12-25.08</td>\n      <td>28.08</td>\n      <td>02-04.09</td>\n      <td>07.09</td>\n      <td>01-03.09</td>\n      <td>07-09.09</td>\n      <td>01.09-03.09/31-03.09</td>\n      <td>02-04.09</td>\n      <td>01-08.09</td>\n      <td>нет</td>\n      <td>нет</td>\n      <td>07.09</td>\n      <td>02.09</td>\n      <td>10.09</td>\n      <td>11.09</td>\n      <td>2020-09-15 00:00:00</td>\n      <td>NaT</td>\n    </tr>\n  </tbody>\n</table>\n</div>"
     },
     "metadata": {},
     "execution_count": 195
    }
   ],
   "source": [
    "df = data.iloc[data.index.get_loc('сентябрь'):data.shape[0]]\n",
    "df = df.iloc[:,1:]\n",
    "%autoreload\n",
    "df = utils.delete_rows(df)\n",
    "df.head(3)"
   ]
  },
  {
   "cell_type": "code",
   "execution_count": 196,
   "metadata": {},
   "outputs": [
    {
     "output_type": "execute_result",
     "data": {
      "text/plain": "7"
     },
     "metadata": {},
     "execution_count": 196
    }
   ],
   "source": [
    "D = {7 : ['StShinaUvr', 'FnShinaUvr', 'StShinaTr', 'FnShinaTr'],\n",
    "                 12: ['StInst04', 'FnInst04', 'StInst10', 'FnInst10']}\n",
    "list(D.keys())[0]\n"
   ]
  },
  {
   "cell_type": "code",
   "execution_count": 197,
   "metadata": {
    "tags": []
   },
   "outputs": [
    {
     "output_type": "execute_result",
     "data": {
      "text/plain": "['StBuildBot',\n 'FnBuildBot',\n 'StBuildTop',\n 'FnBuildTop',\n 'StMetBot',\n 'FnMetBot',\n 'StMetTop',\n 'FnMetTop',\n 'StEmu',\n 'FnEmu',\n 'StShit',\n 'FnShit',\n 'StSn',\n 'FnSn',\n 'StShinaUvr',\n 'FnShinaUvr',\n 'StShinaTr',\n 'FnShinaTr',\n 'St04',\n 'Fn04',\n 'StSec04',\n 'FnSec04',\n 'St10',\n 'Fn10',\n 'StSec10',\n 'FnSec10',\n 'StInst04',\n 'FnInst04',\n 'StInst10',\n 'FnInst10',\n 'StRm',\n 'FnRm',\n 'StMain',\n 'FnMain',\n 'StCompl',\n 'FnCompl',\n 'Fin',\n 'NewFin']"
     },
     "metadata": {},
     "execution_count": 197
    }
   ],
   "source": [
    "%autoreload\n",
    "V.get_FinalFinalColumnNames()"
   ]
  },
  {
   "cell_type": "code",
   "execution_count": 198,
   "metadata": {},
   "outputs": [
    {
     "output_type": "execute_result",
     "data": {
      "text/plain": "['27-31.08']"
     },
     "metadata": {},
     "execution_count": 198
    }
   ],
   "source": [
    "'27-31.08'.split('/')"
   ]
  },
  {
   "cell_type": "code",
   "execution_count": 209,
   "metadata": {
    "tags": []
   },
   "outputs": [
    {
     "output_type": "execute_result",
     "data": {
      "text/plain": "               StBuildBot           FnBuildBot           StBuildTop  \\\n1330                готов                готов                готов   \n1324                готов                готов                готов   \n1325                готов                готов  2020-08-12 00:00:00   \n1320                готов                готов                готов   \n1321                готов                готов                готов   \n1317  2020-08-17 00:00:00  2020-08-26 00:00:00  2020-08-24 00:00:00   \n1329  2020-08-24 00:00:00  2020-08-27 00:00:00  2020-09-04 00:00:00   \n1327  2020-08-26 00:00:00  2020-09-02 00:00:00  2020-09-08 00:00:00   \n1331  2020-09-01 00:00:00  2020-09-03 00:00:00  2020-09-13 00:00:00   \n1328  2020-09-03 00:00:00  2020-09-10 00:00:00  2020-09-14 00:00:00   \n1326  2020-09-09 00:00:00  2020-09-14 00:00:00  2020-09-20 00:00:00   \n\n               FnBuildTop             StMetBot             FnMetBot  \\\n1330                готов                готов                готов   \n1324                готов  2020-08-28 00:00:00  2020-08-28 00:00:00   \n1325  2020-08-25 00:00:00  2020-08-28 00:00:00  2020-08-28 00:00:00   \n1320                готов  2020-09-07 00:00:00  2020-09-07 00:00:00   \n1321                готов  2020-09-11 00:00:00  2020-09-11 00:00:00   \n1317  2020-09-02 00:00:00  2020-09-17 00:00:00  2020-09-17 00:00:00   \n1329  2020-09-09 00:00:00  2020-09-24 00:00:00  2020-09-24 00:00:00   \n1327  2020-09-14 00:00:00  2020-09-29 00:00:00  2020-09-29 00:00:00   \n1331  2020-09-18 00:00:00  2020-10-06 00:00:00  2020-10-06 00:00:00   \n1328  2020-09-21 00:00:00  2020-10-09 00:00:00  2020-10-09 00:00:00   \n1326  2020-09-25 00:00:00  2020-10-15 00:00:00  2020-10-15 00:00:00   \n\n                 StMetTop             FnMetTop                StEmu  \\\n1330                готов                готов                готов   \n1324  2020-08-28 00:00:00  2020-09-01 00:00:00  2020-09-01 00:00:00   \n1325  2020-09-02 00:00:00  2020-09-04 00:00:00  2020-09-07 00:00:00   \n1320  2020-09-07 00:00:00  2020-09-10 00:00:00  2020-09-10 00:00:00   \n1321  2020-09-11 00:00:00  2020-09-16 00:00:00  2020-09-17 00:00:00   \n1317  2020-09-17 00:00:00  2020-09-23 00:00:00  2020-09-22 00:00:00   \n1329  2020-09-24 00:00:00  2020-09-28 00:00:00  2020-09-28 00:00:00   \n1327  2020-09-29 00:00:00  2020-10-05 00:00:00  2020-10-01 00:00:00   \n1331  2020-10-06 00:00:00  2020-10-08 00:00:00  2020-10-07 00:00:00   \n1328  2020-10-09 00:00:00  2020-10-14 00:00:00  2020-10-12 00:00:00   \n1326  2020-10-15 00:00:00  2020-10-19 00:00:00  2020-10-16 00:00:00   \n\n                    FnEmu  ...   StInst10   FnInst10                 StRm  \\\n1330                готов  ... 2020-08-31 2020-08-31  2020-08-31 00:00:00   \n1324  2020-09-01 00:00:00  ... 2020-09-02 2020-09-02  2020-09-02 00:00:00   \n1325  2020-09-07 00:00:00  ... 2020-09-07 2020-09-07  2020-09-02 00:00:00   \n1320  2020-09-10 00:00:00  ... 2020-09-14 2020-09-14  2020-09-10 00:00:00   \n1321  2020-09-17 00:00:00  ... 2020-09-21 2020-09-21  2020-09-18 00:00:00   \n1317  2020-09-22 00:00:00  ... 2020-09-23 2020-09-23                  нет   \n1329  2020-09-28 00:00:00  ... 2020-09-24 2020-09-24  2020-10-24 00:00:00   \n1327  2020-10-01 00:00:00  ... 2020-10-02 2020-10-02  2020-10-02 00:00:00   \n1331  2020-10-07 00:00:00  ... 2020-10-07 2020-10-07  2020-10-07 00:00:00   \n1328  2020-10-12 00:00:00  ... 2020-10-30 2020-10-30                  нет   \n1326  2020-10-16 00:00:00  ... 2020-10-14 2020-10-14                  нет   \n\n                     FnRm     StMain     FnMain    StCompl    FnCompl  \\\n1330  2020-08-31 00:00:00 2020-09-01 2020-09-01 2020-08-31 2020-08-31   \n1324  2020-09-02 00:00:00 2020-09-09 2020-09-09 2020-09-10 2020-09-10   \n1325  2020-09-02 00:00:00 2020-09-10 2020-09-10 2020-09-11 2020-09-11   \n1320  2020-09-10 00:00:00 2020-09-17 2020-09-17 2020-09-18 2020-09-18   \n1321  2020-09-18 00:00:00 2020-09-25 2020-09-25 2020-09-25 2020-09-25   \n1317                  нет 2020-09-27 2020-09-30 2020-09-29 2020-09-29   \n1329  2020-10-24 00:00:00 2020-10-02 2020-10-02 2020-10-02 2020-10-02   \n1327  2020-10-02 00:00:00 2020-10-08 2020-10-08 2020-10-09 2020-10-09   \n1331  2020-10-07 00:00:00 2020-10-14 2020-10-14 2020-10-13 2020-10-13   \n1328                  нет 2020-10-12 2020-10-12 2020-10-14 2020-10-14   \n1326                  нет 2020-10-27 2020-10-27 2020-10-28 2020-10-28   \n\n            Fin NewFin  \n1330 2020-09-10    NaT  \n1324 2020-09-15    NaT  \n1325 2020-09-15    NaT  \n1320 2020-09-22    NaT  \n1321 2020-09-28    NaT  \n1317 2020-09-30    NaT  \n1329 2020-10-05    NaT  \n1327 2020-10-12    NaT  \n1331 2020-10-15    NaT  \n1328 2020-10-15    NaT  \n1326 2020-10-30    NaT  \n\n[11 rows x 38 columns]",
      "text/html": "<div>\n<style scoped>\n    .dataframe tbody tr th:only-of-type {\n        vertical-align: middle;\n    }\n\n    .dataframe tbody tr th {\n        vertical-align: top;\n    }\n\n    .dataframe thead th {\n        text-align: right;\n    }\n</style>\n<table border=\"1\" class=\"dataframe\">\n  <thead>\n    <tr style=\"text-align: right;\">\n      <th></th>\n      <th>StBuildBot</th>\n      <th>FnBuildBot</th>\n      <th>StBuildTop</th>\n      <th>FnBuildTop</th>\n      <th>StMetBot</th>\n      <th>FnMetBot</th>\n      <th>StMetTop</th>\n      <th>FnMetTop</th>\n      <th>StEmu</th>\n      <th>FnEmu</th>\n      <th>...</th>\n      <th>StInst10</th>\n      <th>FnInst10</th>\n      <th>StRm</th>\n      <th>FnRm</th>\n      <th>StMain</th>\n      <th>FnMain</th>\n      <th>StCompl</th>\n      <th>FnCompl</th>\n      <th>Fin</th>\n      <th>NewFin</th>\n    </tr>\n  </thead>\n  <tbody>\n    <tr>\n      <th>1330</th>\n      <td>готов</td>\n      <td>готов</td>\n      <td>готов</td>\n      <td>готов</td>\n      <td>готов</td>\n      <td>готов</td>\n      <td>готов</td>\n      <td>готов</td>\n      <td>готов</td>\n      <td>готов</td>\n      <td>...</td>\n      <td>2020-08-31</td>\n      <td>2020-08-31</td>\n      <td>2020-08-31 00:00:00</td>\n      <td>2020-08-31 00:00:00</td>\n      <td>2020-09-01</td>\n      <td>2020-09-01</td>\n      <td>2020-08-31</td>\n      <td>2020-08-31</td>\n      <td>2020-09-10</td>\n      <td>NaT</td>\n    </tr>\n    <tr>\n      <th>1324</th>\n      <td>готов</td>\n      <td>готов</td>\n      <td>готов</td>\n      <td>готов</td>\n      <td>2020-08-28 00:00:00</td>\n      <td>2020-08-28 00:00:00</td>\n      <td>2020-08-28 00:00:00</td>\n      <td>2020-09-01 00:00:00</td>\n      <td>2020-09-01 00:00:00</td>\n      <td>2020-09-01 00:00:00</td>\n      <td>...</td>\n      <td>2020-09-02</td>\n      <td>2020-09-02</td>\n      <td>2020-09-02 00:00:00</td>\n      <td>2020-09-02 00:00:00</td>\n      <td>2020-09-09</td>\n      <td>2020-09-09</td>\n      <td>2020-09-10</td>\n      <td>2020-09-10</td>\n      <td>2020-09-15</td>\n      <td>NaT</td>\n    </tr>\n    <tr>\n      <th>1325</th>\n      <td>готов</td>\n      <td>готов</td>\n      <td>2020-08-12 00:00:00</td>\n      <td>2020-08-25 00:00:00</td>\n      <td>2020-08-28 00:00:00</td>\n      <td>2020-08-28 00:00:00</td>\n      <td>2020-09-02 00:00:00</td>\n      <td>2020-09-04 00:00:00</td>\n      <td>2020-09-07 00:00:00</td>\n      <td>2020-09-07 00:00:00</td>\n      <td>...</td>\n      <td>2020-09-07</td>\n      <td>2020-09-07</td>\n      <td>2020-09-02 00:00:00</td>\n      <td>2020-09-02 00:00:00</td>\n      <td>2020-09-10</td>\n      <td>2020-09-10</td>\n      <td>2020-09-11</td>\n      <td>2020-09-11</td>\n      <td>2020-09-15</td>\n      <td>NaT</td>\n    </tr>\n    <tr>\n      <th>1320</th>\n      <td>готов</td>\n      <td>готов</td>\n      <td>готов</td>\n      <td>готов</td>\n      <td>2020-09-07 00:00:00</td>\n      <td>2020-09-07 00:00:00</td>\n      <td>2020-09-07 00:00:00</td>\n      <td>2020-09-10 00:00:00</td>\n      <td>2020-09-10 00:00:00</td>\n      <td>2020-09-10 00:00:00</td>\n      <td>...</td>\n      <td>2020-09-14</td>\n      <td>2020-09-14</td>\n      <td>2020-09-10 00:00:00</td>\n      <td>2020-09-10 00:00:00</td>\n      <td>2020-09-17</td>\n      <td>2020-09-17</td>\n      <td>2020-09-18</td>\n      <td>2020-09-18</td>\n      <td>2020-09-22</td>\n      <td>NaT</td>\n    </tr>\n    <tr>\n      <th>1321</th>\n      <td>готов</td>\n      <td>готов</td>\n      <td>готов</td>\n      <td>готов</td>\n      <td>2020-09-11 00:00:00</td>\n      <td>2020-09-11 00:00:00</td>\n      <td>2020-09-11 00:00:00</td>\n      <td>2020-09-16 00:00:00</td>\n      <td>2020-09-17 00:00:00</td>\n      <td>2020-09-17 00:00:00</td>\n      <td>...</td>\n      <td>2020-09-21</td>\n      <td>2020-09-21</td>\n      <td>2020-09-18 00:00:00</td>\n      <td>2020-09-18 00:00:00</td>\n      <td>2020-09-25</td>\n      <td>2020-09-25</td>\n      <td>2020-09-25</td>\n      <td>2020-09-25</td>\n      <td>2020-09-28</td>\n      <td>NaT</td>\n    </tr>\n    <tr>\n      <th>1317</th>\n      <td>2020-08-17 00:00:00</td>\n      <td>2020-08-26 00:00:00</td>\n      <td>2020-08-24 00:00:00</td>\n      <td>2020-09-02 00:00:00</td>\n      <td>2020-09-17 00:00:00</td>\n      <td>2020-09-17 00:00:00</td>\n      <td>2020-09-17 00:00:00</td>\n      <td>2020-09-23 00:00:00</td>\n      <td>2020-09-22 00:00:00</td>\n      <td>2020-09-22 00:00:00</td>\n      <td>...</td>\n      <td>2020-09-23</td>\n      <td>2020-09-23</td>\n      <td>нет</td>\n      <td>нет</td>\n      <td>2020-09-27</td>\n      <td>2020-09-30</td>\n      <td>2020-09-29</td>\n      <td>2020-09-29</td>\n      <td>2020-09-30</td>\n      <td>NaT</td>\n    </tr>\n    <tr>\n      <th>1329</th>\n      <td>2020-08-24 00:00:00</td>\n      <td>2020-08-27 00:00:00</td>\n      <td>2020-09-04 00:00:00</td>\n      <td>2020-09-09 00:00:00</td>\n      <td>2020-09-24 00:00:00</td>\n      <td>2020-09-24 00:00:00</td>\n      <td>2020-09-24 00:00:00</td>\n      <td>2020-09-28 00:00:00</td>\n      <td>2020-09-28 00:00:00</td>\n      <td>2020-09-28 00:00:00</td>\n      <td>...</td>\n      <td>2020-09-24</td>\n      <td>2020-09-24</td>\n      <td>2020-10-24 00:00:00</td>\n      <td>2020-10-24 00:00:00</td>\n      <td>2020-10-02</td>\n      <td>2020-10-02</td>\n      <td>2020-10-02</td>\n      <td>2020-10-02</td>\n      <td>2020-10-05</td>\n      <td>NaT</td>\n    </tr>\n    <tr>\n      <th>1327</th>\n      <td>2020-08-26 00:00:00</td>\n      <td>2020-09-02 00:00:00</td>\n      <td>2020-09-08 00:00:00</td>\n      <td>2020-09-14 00:00:00</td>\n      <td>2020-09-29 00:00:00</td>\n      <td>2020-09-29 00:00:00</td>\n      <td>2020-09-29 00:00:00</td>\n      <td>2020-10-05 00:00:00</td>\n      <td>2020-10-01 00:00:00</td>\n      <td>2020-10-01 00:00:00</td>\n      <td>...</td>\n      <td>2020-10-02</td>\n      <td>2020-10-02</td>\n      <td>2020-10-02 00:00:00</td>\n      <td>2020-10-02 00:00:00</td>\n      <td>2020-10-08</td>\n      <td>2020-10-08</td>\n      <td>2020-10-09</td>\n      <td>2020-10-09</td>\n      <td>2020-10-12</td>\n      <td>NaT</td>\n    </tr>\n    <tr>\n      <th>1331</th>\n      <td>2020-09-01 00:00:00</td>\n      <td>2020-09-03 00:00:00</td>\n      <td>2020-09-13 00:00:00</td>\n      <td>2020-09-18 00:00:00</td>\n      <td>2020-10-06 00:00:00</td>\n      <td>2020-10-06 00:00:00</td>\n      <td>2020-10-06 00:00:00</td>\n      <td>2020-10-08 00:00:00</td>\n      <td>2020-10-07 00:00:00</td>\n      <td>2020-10-07 00:00:00</td>\n      <td>...</td>\n      <td>2020-10-07</td>\n      <td>2020-10-07</td>\n      <td>2020-10-07 00:00:00</td>\n      <td>2020-10-07 00:00:00</td>\n      <td>2020-10-14</td>\n      <td>2020-10-14</td>\n      <td>2020-10-13</td>\n      <td>2020-10-13</td>\n      <td>2020-10-15</td>\n      <td>NaT</td>\n    </tr>\n    <tr>\n      <th>1328</th>\n      <td>2020-09-03 00:00:00</td>\n      <td>2020-09-10 00:00:00</td>\n      <td>2020-09-14 00:00:00</td>\n      <td>2020-09-21 00:00:00</td>\n      <td>2020-10-09 00:00:00</td>\n      <td>2020-10-09 00:00:00</td>\n      <td>2020-10-09 00:00:00</td>\n      <td>2020-10-14 00:00:00</td>\n      <td>2020-10-12 00:00:00</td>\n      <td>2020-10-12 00:00:00</td>\n      <td>...</td>\n      <td>2020-10-30</td>\n      <td>2020-10-30</td>\n      <td>нет</td>\n      <td>нет</td>\n      <td>2020-10-12</td>\n      <td>2020-10-12</td>\n      <td>2020-10-14</td>\n      <td>2020-10-14</td>\n      <td>2020-10-15</td>\n      <td>NaT</td>\n    </tr>\n    <tr>\n      <th>1326</th>\n      <td>2020-09-09 00:00:00</td>\n      <td>2020-09-14 00:00:00</td>\n      <td>2020-09-20 00:00:00</td>\n      <td>2020-09-25 00:00:00</td>\n      <td>2020-10-15 00:00:00</td>\n      <td>2020-10-15 00:00:00</td>\n      <td>2020-10-15 00:00:00</td>\n      <td>2020-10-19 00:00:00</td>\n      <td>2020-10-16 00:00:00</td>\n      <td>2020-10-16 00:00:00</td>\n      <td>...</td>\n      <td>2020-10-14</td>\n      <td>2020-10-14</td>\n      <td>нет</td>\n      <td>нет</td>\n      <td>2020-10-27</td>\n      <td>2020-10-27</td>\n      <td>2020-10-28</td>\n      <td>2020-10-28</td>\n      <td>2020-10-30</td>\n      <td>NaT</td>\n    </tr>\n  </tbody>\n</table>\n<p>11 rows × 38 columns</p>\n</div>"
     },
     "metadata": {},
     "execution_count": 209
    }
   ],
   "source": [
    "%autoreload\n",
    "d = df.apply(lambda row: utils.reformat_dataframe(row),axis=1)\n",
    "d = d[V.get_FinalFinalColumnNames()]\n",
    "d"
   ]
  },
  {
   "cell_type": "code",
   "execution_count": 201,
   "metadata": {},
   "outputs": [
    {
     "output_type": "execute_result",
     "data": {
      "text/plain": "    Task       Start      Finish\n0  Job A  2009-01-01  2009-02-28\n1  Job B  2009-03-05  2009-04-15\n2  Job C  2009-02-20  2009-05-30",
      "text/html": "<div>\n<style scoped>\n    .dataframe tbody tr th:only-of-type {\n        vertical-align: middle;\n    }\n\n    .dataframe tbody tr th {\n        vertical-align: top;\n    }\n\n    .dataframe thead th {\n        text-align: right;\n    }\n</style>\n<table border=\"1\" class=\"dataframe\">\n  <thead>\n    <tr style=\"text-align: right;\">\n      <th></th>\n      <th>Task</th>\n      <th>Start</th>\n      <th>Finish</th>\n    </tr>\n  </thead>\n  <tbody>\n    <tr>\n      <th>0</th>\n      <td>Job A</td>\n      <td>2009-01-01</td>\n      <td>2009-02-28</td>\n    </tr>\n    <tr>\n      <th>1</th>\n      <td>Job B</td>\n      <td>2009-03-05</td>\n      <td>2009-04-15</td>\n    </tr>\n    <tr>\n      <th>2</th>\n      <td>Job C</td>\n      <td>2009-02-20</td>\n      <td>2009-05-30</td>\n    </tr>\n  </tbody>\n</table>\n</div>"
     },
     "metadata": {},
     "execution_count": 201
    }
   ],
   "source": [
    "tdf = pd.DataFrame([\n",
    "    dict(Task=\"Job A\", Start='2009-01-01', Finish='2009-02-28'),\n",
    "    dict(Task=\"Job B\", Start='2009-03-05', Finish='2009-04-15'),\n",
    "    dict(Task=\"Job C\", Start='2009-02-20', Finish='2009-05-30')\n",
    "])\n",
    "tdf"
   ]
  },
  {
   "cell_type": "code",
   "execution_count": 202,
   "metadata": {},
   "outputs": [
    {
     "output_type": "display_data",
     "data": {
      "application/vnd.plotly.v1+json": {
       "config": {
        "plotlyServerURL": "https://plot.ly"
       },
       "data": [
        {
         "alignmentgroup": "True",
         "base": [
          "2009-01-01",
          "2009-03-05",
          "2009-02-20"
         ],
         "hovertemplate": "Start=%{base}<br>Finish=%{x}<br>Task=%{y}<extra></extra>",
         "legendgroup": "",
         "marker": {
          "color": "#636efa"
         },
         "name": "",
         "offsetgroup": "",
         "orientation": "h",
         "showlegend": false,
         "textposition": "auto",
         "type": "bar",
         "x": [
          5011200000,
          3542400000,
          8553600000
         ],
         "xaxis": "x",
         "y": [
          "Job A",
          "Job B",
          "Job C"
         ],
         "yaxis": "y"
        }
       ],
       "layout": {
        "barmode": "overlay",
        "legend": {
         "tracegroupgap": 0
        },
        "margin": {
         "t": 60
        },
        "template": {
         "data": {
          "bar": [
           {
            "error_x": {
             "color": "#2a3f5f"
            },
            "error_y": {
             "color": "#2a3f5f"
            },
            "marker": {
             "line": {
              "color": "#E5ECF6",
              "width": 0.5
             }
            },
            "type": "bar"
           }
          ],
          "barpolar": [
           {
            "marker": {
             "line": {
              "color": "#E5ECF6",
              "width": 0.5
             }
            },
            "type": "barpolar"
           }
          ],
          "carpet": [
           {
            "aaxis": {
             "endlinecolor": "#2a3f5f",
             "gridcolor": "white",
             "linecolor": "white",
             "minorgridcolor": "white",
             "startlinecolor": "#2a3f5f"
            },
            "baxis": {
             "endlinecolor": "#2a3f5f",
             "gridcolor": "white",
             "linecolor": "white",
             "minorgridcolor": "white",
             "startlinecolor": "#2a3f5f"
            },
            "type": "carpet"
           }
          ],
          "choropleth": [
           {
            "colorbar": {
             "outlinewidth": 0,
             "ticks": ""
            },
            "type": "choropleth"
           }
          ],
          "contour": [
           {
            "colorbar": {
             "outlinewidth": 0,
             "ticks": ""
            },
            "colorscale": [
             [
              0,
              "#0d0887"
             ],
             [
              0.1111111111111111,
              "#46039f"
             ],
             [
              0.2222222222222222,
              "#7201a8"
             ],
             [
              0.3333333333333333,
              "#9c179e"
             ],
             [
              0.4444444444444444,
              "#bd3786"
             ],
             [
              0.5555555555555556,
              "#d8576b"
             ],
             [
              0.6666666666666666,
              "#ed7953"
             ],
             [
              0.7777777777777778,
              "#fb9f3a"
             ],
             [
              0.8888888888888888,
              "#fdca26"
             ],
             [
              1,
              "#f0f921"
             ]
            ],
            "type": "contour"
           }
          ],
          "contourcarpet": [
           {
            "colorbar": {
             "outlinewidth": 0,
             "ticks": ""
            },
            "type": "contourcarpet"
           }
          ],
          "heatmap": [
           {
            "colorbar": {
             "outlinewidth": 0,
             "ticks": ""
            },
            "colorscale": [
             [
              0,
              "#0d0887"
             ],
             [
              0.1111111111111111,
              "#46039f"
             ],
             [
              0.2222222222222222,
              "#7201a8"
             ],
             [
              0.3333333333333333,
              "#9c179e"
             ],
             [
              0.4444444444444444,
              "#bd3786"
             ],
             [
              0.5555555555555556,
              "#d8576b"
             ],
             [
              0.6666666666666666,
              "#ed7953"
             ],
             [
              0.7777777777777778,
              "#fb9f3a"
             ],
             [
              0.8888888888888888,
              "#fdca26"
             ],
             [
              1,
              "#f0f921"
             ]
            ],
            "type": "heatmap"
           }
          ],
          "heatmapgl": [
           {
            "colorbar": {
             "outlinewidth": 0,
             "ticks": ""
            },
            "colorscale": [
             [
              0,
              "#0d0887"
             ],
             [
              0.1111111111111111,
              "#46039f"
             ],
             [
              0.2222222222222222,
              "#7201a8"
             ],
             [
              0.3333333333333333,
              "#9c179e"
             ],
             [
              0.4444444444444444,
              "#bd3786"
             ],
             [
              0.5555555555555556,
              "#d8576b"
             ],
             [
              0.6666666666666666,
              "#ed7953"
             ],
             [
              0.7777777777777778,
              "#fb9f3a"
             ],
             [
              0.8888888888888888,
              "#fdca26"
             ],
             [
              1,
              "#f0f921"
             ]
            ],
            "type": "heatmapgl"
           }
          ],
          "histogram": [
           {
            "marker": {
             "colorbar": {
              "outlinewidth": 0,
              "ticks": ""
             }
            },
            "type": "histogram"
           }
          ],
          "histogram2d": [
           {
            "colorbar": {
             "outlinewidth": 0,
             "ticks": ""
            },
            "colorscale": [
             [
              0,
              "#0d0887"
             ],
             [
              0.1111111111111111,
              "#46039f"
             ],
             [
              0.2222222222222222,
              "#7201a8"
             ],
             [
              0.3333333333333333,
              "#9c179e"
             ],
             [
              0.4444444444444444,
              "#bd3786"
             ],
             [
              0.5555555555555556,
              "#d8576b"
             ],
             [
              0.6666666666666666,
              "#ed7953"
             ],
             [
              0.7777777777777778,
              "#fb9f3a"
             ],
             [
              0.8888888888888888,
              "#fdca26"
             ],
             [
              1,
              "#f0f921"
             ]
            ],
            "type": "histogram2d"
           }
          ],
          "histogram2dcontour": [
           {
            "colorbar": {
             "outlinewidth": 0,
             "ticks": ""
            },
            "colorscale": [
             [
              0,
              "#0d0887"
             ],
             [
              0.1111111111111111,
              "#46039f"
             ],
             [
              0.2222222222222222,
              "#7201a8"
             ],
             [
              0.3333333333333333,
              "#9c179e"
             ],
             [
              0.4444444444444444,
              "#bd3786"
             ],
             [
              0.5555555555555556,
              "#d8576b"
             ],
             [
              0.6666666666666666,
              "#ed7953"
             ],
             [
              0.7777777777777778,
              "#fb9f3a"
             ],
             [
              0.8888888888888888,
              "#fdca26"
             ],
             [
              1,
              "#f0f921"
             ]
            ],
            "type": "histogram2dcontour"
           }
          ],
          "mesh3d": [
           {
            "colorbar": {
             "outlinewidth": 0,
             "ticks": ""
            },
            "type": "mesh3d"
           }
          ],
          "parcoords": [
           {
            "line": {
             "colorbar": {
              "outlinewidth": 0,
              "ticks": ""
             }
            },
            "type": "parcoords"
           }
          ],
          "pie": [
           {
            "automargin": true,
            "type": "pie"
           }
          ],
          "scatter": [
           {
            "marker": {
             "colorbar": {
              "outlinewidth": 0,
              "ticks": ""
             }
            },
            "type": "scatter"
           }
          ],
          "scatter3d": [
           {
            "line": {
             "colorbar": {
              "outlinewidth": 0,
              "ticks": ""
             }
            },
            "marker": {
             "colorbar": {
              "outlinewidth": 0,
              "ticks": ""
             }
            },
            "type": "scatter3d"
           }
          ],
          "scattercarpet": [
           {
            "marker": {
             "colorbar": {
              "outlinewidth": 0,
              "ticks": ""
             }
            },
            "type": "scattercarpet"
           }
          ],
          "scattergeo": [
           {
            "marker": {
             "colorbar": {
              "outlinewidth": 0,
              "ticks": ""
             }
            },
            "type": "scattergeo"
           }
          ],
          "scattergl": [
           {
            "marker": {
             "colorbar": {
              "outlinewidth": 0,
              "ticks": ""
             }
            },
            "type": "scattergl"
           }
          ],
          "scattermapbox": [
           {
            "marker": {
             "colorbar": {
              "outlinewidth": 0,
              "ticks": ""
             }
            },
            "type": "scattermapbox"
           }
          ],
          "scatterpolar": [
           {
            "marker": {
             "colorbar": {
              "outlinewidth": 0,
              "ticks": ""
             }
            },
            "type": "scatterpolar"
           }
          ],
          "scatterpolargl": [
           {
            "marker": {
             "colorbar": {
              "outlinewidth": 0,
              "ticks": ""
             }
            },
            "type": "scatterpolargl"
           }
          ],
          "scatterternary": [
           {
            "marker": {
             "colorbar": {
              "outlinewidth": 0,
              "ticks": ""
             }
            },
            "type": "scatterternary"
           }
          ],
          "surface": [
           {
            "colorbar": {
             "outlinewidth": 0,
             "ticks": ""
            },
            "colorscale": [
             [
              0,
              "#0d0887"
             ],
             [
              0.1111111111111111,
              "#46039f"
             ],
             [
              0.2222222222222222,
              "#7201a8"
             ],
             [
              0.3333333333333333,
              "#9c179e"
             ],
             [
              0.4444444444444444,
              "#bd3786"
             ],
             [
              0.5555555555555556,
              "#d8576b"
             ],
             [
              0.6666666666666666,
              "#ed7953"
             ],
             [
              0.7777777777777778,
              "#fb9f3a"
             ],
             [
              0.8888888888888888,
              "#fdca26"
             ],
             [
              1,
              "#f0f921"
             ]
            ],
            "type": "surface"
           }
          ],
          "table": [
           {
            "cells": {
             "fill": {
              "color": "#EBF0F8"
             },
             "line": {
              "color": "white"
             }
            },
            "header": {
             "fill": {
              "color": "#C8D4E3"
             },
             "line": {
              "color": "white"
             }
            },
            "type": "table"
           }
          ]
         },
         "layout": {
          "annotationdefaults": {
           "arrowcolor": "#2a3f5f",
           "arrowhead": 0,
           "arrowwidth": 1
          },
          "coloraxis": {
           "colorbar": {
            "outlinewidth": 0,
            "ticks": ""
           }
          },
          "colorscale": {
           "diverging": [
            [
             0,
             "#8e0152"
            ],
            [
             0.1,
             "#c51b7d"
            ],
            [
             0.2,
             "#de77ae"
            ],
            [
             0.3,
             "#f1b6da"
            ],
            [
             0.4,
             "#fde0ef"
            ],
            [
             0.5,
             "#f7f7f7"
            ],
            [
             0.6,
             "#e6f5d0"
            ],
            [
             0.7,
             "#b8e186"
            ],
            [
             0.8,
             "#7fbc41"
            ],
            [
             0.9,
             "#4d9221"
            ],
            [
             1,
             "#276419"
            ]
           ],
           "sequential": [
            [
             0,
             "#0d0887"
            ],
            [
             0.1111111111111111,
             "#46039f"
            ],
            [
             0.2222222222222222,
             "#7201a8"
            ],
            [
             0.3333333333333333,
             "#9c179e"
            ],
            [
             0.4444444444444444,
             "#bd3786"
            ],
            [
             0.5555555555555556,
             "#d8576b"
            ],
            [
             0.6666666666666666,
             "#ed7953"
            ],
            [
             0.7777777777777778,
             "#fb9f3a"
            ],
            [
             0.8888888888888888,
             "#fdca26"
            ],
            [
             1,
             "#f0f921"
            ]
           ],
           "sequentialminus": [
            [
             0,
             "#0d0887"
            ],
            [
             0.1111111111111111,
             "#46039f"
            ],
            [
             0.2222222222222222,
             "#7201a8"
            ],
            [
             0.3333333333333333,
             "#9c179e"
            ],
            [
             0.4444444444444444,
             "#bd3786"
            ],
            [
             0.5555555555555556,
             "#d8576b"
            ],
            [
             0.6666666666666666,
             "#ed7953"
            ],
            [
             0.7777777777777778,
             "#fb9f3a"
            ],
            [
             0.8888888888888888,
             "#fdca26"
            ],
            [
             1,
             "#f0f921"
            ]
           ]
          },
          "colorway": [
           "#636efa",
           "#EF553B",
           "#00cc96",
           "#ab63fa",
           "#FFA15A",
           "#19d3f3",
           "#FF6692",
           "#B6E880",
           "#FF97FF",
           "#FECB52"
          ],
          "font": {
           "color": "#2a3f5f"
          },
          "geo": {
           "bgcolor": "white",
           "lakecolor": "white",
           "landcolor": "#E5ECF6",
           "showlakes": true,
           "showland": true,
           "subunitcolor": "white"
          },
          "hoverlabel": {
           "align": "left"
          },
          "hovermode": "closest",
          "mapbox": {
           "style": "light"
          },
          "paper_bgcolor": "white",
          "plot_bgcolor": "#E5ECF6",
          "polar": {
           "angularaxis": {
            "gridcolor": "white",
            "linecolor": "white",
            "ticks": ""
           },
           "bgcolor": "#E5ECF6",
           "radialaxis": {
            "gridcolor": "white",
            "linecolor": "white",
            "ticks": ""
           }
          },
          "scene": {
           "xaxis": {
            "backgroundcolor": "#E5ECF6",
            "gridcolor": "white",
            "gridwidth": 2,
            "linecolor": "white",
            "showbackground": true,
            "ticks": "",
            "zerolinecolor": "white"
           },
           "yaxis": {
            "backgroundcolor": "#E5ECF6",
            "gridcolor": "white",
            "gridwidth": 2,
            "linecolor": "white",
            "showbackground": true,
            "ticks": "",
            "zerolinecolor": "white"
           },
           "zaxis": {
            "backgroundcolor": "#E5ECF6",
            "gridcolor": "white",
            "gridwidth": 2,
            "linecolor": "white",
            "showbackground": true,
            "ticks": "",
            "zerolinecolor": "white"
           }
          },
          "shapedefaults": {
           "line": {
            "color": "#2a3f5f"
           }
          },
          "ternary": {
           "aaxis": {
            "gridcolor": "white",
            "linecolor": "white",
            "ticks": ""
           },
           "baxis": {
            "gridcolor": "white",
            "linecolor": "white",
            "ticks": ""
           },
           "bgcolor": "#E5ECF6",
           "caxis": {
            "gridcolor": "white",
            "linecolor": "white",
            "ticks": ""
           }
          },
          "title": {
           "x": 0.05
          },
          "xaxis": {
           "automargin": true,
           "gridcolor": "white",
           "linecolor": "white",
           "ticks": "",
           "title": {
            "standoff": 15
           },
           "zerolinecolor": "white",
           "zerolinewidth": 2
          },
          "yaxis": {
           "automargin": true,
           "gridcolor": "white",
           "linecolor": "white",
           "ticks": "",
           "title": {
            "standoff": 15
           },
           "zerolinecolor": "white",
           "zerolinewidth": 2
          }
         }
        },
        "xaxis": {
         "anchor": "y",
         "domain": [
          0,
          1
         ],
         "type": "date"
        },
        "yaxis": {
         "anchor": "x",
         "autorange": "reversed",
         "domain": [
          0,
          1
         ],
         "title": {
          "text": "Task"
         }
        }
       }
      }
     },
     "metadata": {}
    }
   ],
   "source": [
    "fig = px.timeline(tdf, x_start=\"Start\", x_end=\"Finish\", y=\"Task\")\n",
    "fig.update_yaxes(autorange=\"reversed\") # otherwise tasks are listed from the bottom up"
   ]
  },
  {
   "cell_type": "code",
   "execution_count": null,
   "metadata": {},
   "outputs": [],
   "source": []
  }
 ]
}