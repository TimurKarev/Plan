{
 "cells": [
  {
   "cell_type": "code",
   "execution_count": 1,
   "metadata": {
    "tags": []
   },
   "outputs": [],
   "source": [
    "%load_ext autoreload"
   ]
  },
  {
   "cell_type": "code",
   "execution_count": 4,
   "metadata": {},
   "outputs": [],
   "source": [
    "import xlrd\n",
    "import pandas as pd\n",
    "\n",
    "from datetime import datetime as dt\n",
    "from datetime import timedelta\n",
    "from dateutil.relativedelta import relativedelta\n",
    "\n",
    "from model import plan_var as V\n",
    "from model import plan_loader as P\n",
    "from model import reformatter as R\n",
    "\n",
    "from plotly.subplots import make_subplots\n",
    "import plotly.graph_objects as go\n",
    "\n",
    "from gantt_bar import *\n",
    "\n",
    "import holidays"
   ]
  },
  {
   "cell_type": "code",
   "execution_count": 3,
   "metadata": {},
   "outputs": [
    {
     "output_type": "execute_result",
     "data": {
      "text/plain": "4"
     },
     "metadata": {},
     "execution_count": 3
    }
   ],
   "source": [
    "d = dt.today()\n",
    "d.weekday()"
   ]
  },
  {
   "cell_type": "code",
   "execution_count": 11,
   "metadata": {
    "tags": []
   },
   "outputs": [
    {
     "output_type": "stream",
     "name": "stdout",
     "text": "2020-01-01 00:00:00\n2020-01-02 00:00:00\n2020-01-03 00:00:00\n2020-01-04 00:00:00\n2020-01-05 00:00:00\n2020-01-06 00:00:00\n2020-01-07 00:00:00\n2020-01-08 00:00:00\n2020-02-23 00:00:00\n2020-03-08 00:00:00\n2020-05-01 00:00:00\n2020-05-09 00:00:00\n2020-06-12 00:00:00\n2020-11-04 00:00:00\n2021-01-01 00:00:00\n2021-01-02 00:00:00\n2021-01-03 00:00:00\n2021-01-04 00:00:00\n"
    }
   ],
   "source": [
    "d = dt(year=2020, month=1, day=1)\n",
    "ru_hollidays = holidays.RU()\n",
    "for i in range(370):\n",
    "    if d in ru_hollidays:\n",
    "        print(d)\n",
    "    d = d + relativedelta(days=1)\n",
    "    "
   ]
  },
  {
   "cell_type": "code",
   "execution_count": 21,
   "metadata": {},
   "outputs": [
    {
     "output_type": "execute_result",
     "data": {
      "text/plain": "{1: 1, 2: 2, 'x0': datetime.datetime(2020, 9, 12, 0, 0)}"
     },
     "metadata": {},
     "execution_count": 21
    }
   ],
   "source": [
    "dct = {1:1, 2:2}\n",
    "d = dt.today() - relativedelta(days=14)\n",
    "d = d.replace(hour=0,minute=0,second=0, microsecond=0)\n",
    "dct['x0'] = d + relativedelta(days=1)\n",
    "dct"
   ]
  },
  {
   "cell_type": "code",
   "execution_count": 3,
   "metadata": {
    "tags": []
   },
   "outputs": [],
   "source": [
    "%autoreload\n",
    "plan_loader = P.PlanLoader('план.xlsx')\n",
    "plan_loader.delete_rows_ready()"
   ]
  },
  {
   "cell_type": "code",
   "execution_count": 4,
   "metadata": {},
   "outputs": [
    {
     "output_type": "execute_result",
     "data": {
      "text/plain": "     Заливка Заливка_1 Навеска Навеска_1 Передача ЭМУ Сборка щитов Монтаж СН  \\\n1250   готов     готов   20.11  20-25.11        готов     20-25.11  20-23.11   \n1253   готов     готов   26.11  26-27.11        25.11     26-28.11  25-26.11   \n\n     Шина УВР/ТР-Р Сборка 0,4 кВ Втор-ка 0,4 кВ Сборка 6/10 кВ  \\\n1250         готов         готов       27-29.11            нет   \n1253         готов         готов       02-04.13            нет   \n\n     Втор-ка 6/10 кВ Уст-ка 0,4/10кВ Установ-ка RM-6 Наладка Комплек-тация  \\\n1250             нет           19.11           20.11   05.12         06.12   \n1253             нет           25.12           27.12   05.13         06.13   \n\n       ОТГРУЗКА ОТГРУЗКА_1  \n1250 2019-12-06        нет  \n1253 2019-12-10        нет  ",
      "text/html": "<div>\n<style scoped>\n    .dataframe tbody tr th:only-of-type {\n        vertical-align: middle;\n    }\n\n    .dataframe tbody tr th {\n        vertical-align: top;\n    }\n\n    .dataframe thead th {\n        text-align: right;\n    }\n</style>\n<table border=\"1\" class=\"dataframe\">\n  <thead>\n    <tr style=\"text-align: right;\">\n      <th></th>\n      <th>Заливка</th>\n      <th>Заливка_1</th>\n      <th>Навеска</th>\n      <th>Навеска_1</th>\n      <th>Передача ЭМУ</th>\n      <th>Сборка щитов</th>\n      <th>Монтаж СН</th>\n      <th>Шина УВР/ТР-Р</th>\n      <th>Сборка 0,4 кВ</th>\n      <th>Втор-ка 0,4 кВ</th>\n      <th>Сборка 6/10 кВ</th>\n      <th>Втор-ка 6/10 кВ</th>\n      <th>Уст-ка 0,4/10кВ</th>\n      <th>Установ-ка RM-6</th>\n      <th>Наладка</th>\n      <th>Комплек-тация</th>\n      <th>ОТГРУЗКА</th>\n      <th>ОТГРУЗКА_1</th>\n    </tr>\n  </thead>\n  <tbody>\n    <tr>\n      <th>1250</th>\n      <td>готов</td>\n      <td>готов</td>\n      <td>20.11</td>\n      <td>20-25.11</td>\n      <td>готов</td>\n      <td>20-25.11</td>\n      <td>20-23.11</td>\n      <td>готов</td>\n      <td>готов</td>\n      <td>27-29.11</td>\n      <td>нет</td>\n      <td>нет</td>\n      <td>19.11</td>\n      <td>20.11</td>\n      <td>05.12</td>\n      <td>06.12</td>\n      <td>2019-12-06</td>\n      <td>нет</td>\n    </tr>\n    <tr>\n      <th>1253</th>\n      <td>готов</td>\n      <td>готов</td>\n      <td>26.11</td>\n      <td>26-27.11</td>\n      <td>25.11</td>\n      <td>26-28.11</td>\n      <td>25-26.11</td>\n      <td>готов</td>\n      <td>готов</td>\n      <td>02-04.13</td>\n      <td>нет</td>\n      <td>нет</td>\n      <td>25.12</td>\n      <td>27.12</td>\n      <td>05.13</td>\n      <td>06.13</td>\n      <td>2019-12-10</td>\n      <td>нет</td>\n    </tr>\n  </tbody>\n</table>\n</div>"
     },
     "metadata": {},
     "execution_count": 4
    }
   ],
   "source": [
    "plan_loader.df.head(2)"
   ]
  },
  {
   "cell_type": "code",
   "execution_count": 5,
   "metadata": {
    "tags": []
   },
   "outputs": [
    {
     "output_type": "stream",
     "name": "stdout",
     "text": "В зз 1253 столбец Втор-ка 0,4 кВ имеет неверное значение\nВ зз 1253 столбец Наладка имеет неверное значение\nВ зз 1253 столбец Комплек-тация имеет неверное значение\nВ зз 1256 столбец Монтаж СН имеет неверное значение\n"
    },
    {
     "output_type": "execute_result",
     "data": {
      "text/plain": "           Task               Start              Finish zakaz\n0    Заливка_НМ 2020-09-18 08:20:00 2020-09-23 16:20:00  1333\n1    Заливка_ВМ 2020-09-24 08:20:00 2020-10-01 16:20:00  1333\n2    Навеска_НМ 2020-10-15 08:20:00 2020-10-15 16:20:00  1333\n3    Навеска_ВМ 2020-10-15 08:20:00 2020-10-20 16:20:00  1333\n4           ЭМУ 2020-10-19 08:20:00 2020-10-19 16:20:00  1333\n..          ...                 ...                 ...   ...\n139     УсткаНН 2020-11-23 08:20:00 2020-11-23 16:20:00  1340\n140     УсткаВВ 2020-11-23 08:20:00 2020-11-23 16:20:00  1340\n141     УсткаRM 2020-11-23 08:20:00 2020-11-23 16:20:00  1340\n142     Наладка 2020-11-25 08:20:00 2020-11-25 16:20:00  1340\n143    Комплект 2020-11-26 08:20:00 2020-11-26 16:20:00  1340\n\n[144 rows x 4 columns]",
      "text/html": "<div>\n<style scoped>\n    .dataframe tbody tr th:only-of-type {\n        vertical-align: middle;\n    }\n\n    .dataframe tbody tr th {\n        vertical-align: top;\n    }\n\n    .dataframe thead th {\n        text-align: right;\n    }\n</style>\n<table border=\"1\" class=\"dataframe\">\n  <thead>\n    <tr style=\"text-align: right;\">\n      <th></th>\n      <th>Task</th>\n      <th>Start</th>\n      <th>Finish</th>\n      <th>zakaz</th>\n    </tr>\n  </thead>\n  <tbody>\n    <tr>\n      <th>0</th>\n      <td>Заливка_НМ</td>\n      <td>2020-09-18 08:20:00</td>\n      <td>2020-09-23 16:20:00</td>\n      <td>1333</td>\n    </tr>\n    <tr>\n      <th>1</th>\n      <td>Заливка_ВМ</td>\n      <td>2020-09-24 08:20:00</td>\n      <td>2020-10-01 16:20:00</td>\n      <td>1333</td>\n    </tr>\n    <tr>\n      <th>2</th>\n      <td>Навеска_НМ</td>\n      <td>2020-10-15 08:20:00</td>\n      <td>2020-10-15 16:20:00</td>\n      <td>1333</td>\n    </tr>\n    <tr>\n      <th>3</th>\n      <td>Навеска_ВМ</td>\n      <td>2020-10-15 08:20:00</td>\n      <td>2020-10-20 16:20:00</td>\n      <td>1333</td>\n    </tr>\n    <tr>\n      <th>4</th>\n      <td>ЭМУ</td>\n      <td>2020-10-19 08:20:00</td>\n      <td>2020-10-19 16:20:00</td>\n      <td>1333</td>\n    </tr>\n    <tr>\n      <th>...</th>\n      <td>...</td>\n      <td>...</td>\n      <td>...</td>\n      <td>...</td>\n    </tr>\n    <tr>\n      <th>139</th>\n      <td>УсткаНН</td>\n      <td>2020-11-23 08:20:00</td>\n      <td>2020-11-23 16:20:00</td>\n      <td>1340</td>\n    </tr>\n    <tr>\n      <th>140</th>\n      <td>УсткаВВ</td>\n      <td>2020-11-23 08:20:00</td>\n      <td>2020-11-23 16:20:00</td>\n      <td>1340</td>\n    </tr>\n    <tr>\n      <th>141</th>\n      <td>УсткаRM</td>\n      <td>2020-11-23 08:20:00</td>\n      <td>2020-11-23 16:20:00</td>\n      <td>1340</td>\n    </tr>\n    <tr>\n      <th>142</th>\n      <td>Наладка</td>\n      <td>2020-11-25 08:20:00</td>\n      <td>2020-11-25 16:20:00</td>\n      <td>1340</td>\n    </tr>\n    <tr>\n      <th>143</th>\n      <td>Комплект</td>\n      <td>2020-11-26 08:20:00</td>\n      <td>2020-11-26 16:20:00</td>\n      <td>1340</td>\n    </tr>\n  </tbody>\n</table>\n<p>144 rows × 4 columns</p>\n</div>"
     },
     "metadata": {},
     "execution_count": 5
    }
   ],
   "source": [
    "%autoreload\n",
    "ref = R.PlanReformatter(plan_loader.df)\n",
    "gant = ref.get_df_for_gantt()\n",
    "gant"
   ]
  },
  {
   "cell_type": "code",
   "execution_count": 13,
   "metadata": {},
   "outputs": [
    {
     "output_type": "execute_result",
     "data": {
      "text/plain": "           Task               Start              Finish zakaz\n0    Заливка_НМ 2020-09-18 08:20:00 2020-09-23 16:20:00  1333\n1    Заливка_ВМ 2020-09-24 08:20:00 2020-10-01 16:20:00  1333\n2    Навеска_НМ 2020-10-15 08:20:00 2020-10-15 16:20:00  1333\n3    Навеска_ВМ 2020-10-15 08:20:00 2020-10-20 16:20:00  1333\n4           ЭМУ 2020-10-19 08:20:00 2020-10-19 16:20:00  1333\n..          ...                 ...                 ...   ...\n139     УсткаНН 2020-11-23 08:20:00 2020-11-23 16:20:00  1340\n140     УсткаВВ 2020-11-23 08:20:00 2020-11-23 16:20:00  1340\n141     УсткаRM 2020-11-23 08:20:00 2020-11-23 16:20:00  1340\n142     Наладка 2020-11-25 08:20:00 2020-11-25 16:20:00  1340\n143    Комплект 2020-11-26 08:20:00 2020-11-26 16:20:00  1340\n\n[144 rows x 4 columns]",
      "text/html": "<div>\n<style scoped>\n    .dataframe tbody tr th:only-of-type {\n        vertical-align: middle;\n    }\n\n    .dataframe tbody tr th {\n        vertical-align: top;\n    }\n\n    .dataframe thead th {\n        text-align: right;\n    }\n</style>\n<table border=\"1\" class=\"dataframe\">\n  <thead>\n    <tr style=\"text-align: right;\">\n      <th></th>\n      <th>Task</th>\n      <th>Start</th>\n      <th>Finish</th>\n      <th>zakaz</th>\n    </tr>\n  </thead>\n  <tbody>\n    <tr>\n      <th>0</th>\n      <td>Заливка_НМ</td>\n      <td>2020-09-18 08:20:00</td>\n      <td>2020-09-23 16:20:00</td>\n      <td>1333</td>\n    </tr>\n    <tr>\n      <th>1</th>\n      <td>Заливка_ВМ</td>\n      <td>2020-09-24 08:20:00</td>\n      <td>2020-10-01 16:20:00</td>\n      <td>1333</td>\n    </tr>\n    <tr>\n      <th>2</th>\n      <td>Навеска_НМ</td>\n      <td>2020-10-15 08:20:00</td>\n      <td>2020-10-15 16:20:00</td>\n      <td>1333</td>\n    </tr>\n    <tr>\n      <th>3</th>\n      <td>Навеска_ВМ</td>\n      <td>2020-10-15 08:20:00</td>\n      <td>2020-10-20 16:20:00</td>\n      <td>1333</td>\n    </tr>\n    <tr>\n      <th>4</th>\n      <td>ЭМУ</td>\n      <td>2020-10-19 08:20:00</td>\n      <td>2020-10-19 16:20:00</td>\n      <td>1333</td>\n    </tr>\n    <tr>\n      <th>...</th>\n      <td>...</td>\n      <td>...</td>\n      <td>...</td>\n      <td>...</td>\n    </tr>\n    <tr>\n      <th>139</th>\n      <td>УсткаНН</td>\n      <td>2020-11-23 08:20:00</td>\n      <td>2020-11-23 16:20:00</td>\n      <td>1340</td>\n    </tr>\n    <tr>\n      <th>140</th>\n      <td>УсткаВВ</td>\n      <td>2020-11-23 08:20:00</td>\n      <td>2020-11-23 16:20:00</td>\n      <td>1340</td>\n    </tr>\n    <tr>\n      <th>141</th>\n      <td>УсткаRM</td>\n      <td>2020-11-23 08:20:00</td>\n      <td>2020-11-23 16:20:00</td>\n      <td>1340</td>\n    </tr>\n    <tr>\n      <th>142</th>\n      <td>Наладка</td>\n      <td>2020-11-25 08:20:00</td>\n      <td>2020-11-25 16:20:00</td>\n      <td>1340</td>\n    </tr>\n    <tr>\n      <th>143</th>\n      <td>Комплект</td>\n      <td>2020-11-26 08:20:00</td>\n      <td>2020-11-26 16:20:00</td>\n      <td>1340</td>\n    </tr>\n  </tbody>\n</table>\n<p>144 rows × 4 columns</p>\n</div>"
     },
     "metadata": {},
     "execution_count": 13
    }
   ],
   "source": [
    "gant"
   ]
  },
  {
   "cell_type": "code",
   "execution_count": 16,
   "metadata": {
    "tags": []
   },
   "outputs": [
    {
     "output_type": "stream",
     "name": "stdout",
     "text": "Task               Заливка_НМ\nStart     2020-09-18 08:20:00\nFinish    2020-09-23 16:20:00\nzakaz                    1333\nName: 0, dtype: object\nTask               Заливка_ВМ\nStart     2020-09-24 08:20:00\nFinish    2020-10-01 16:20:00\nzakaz                    1333\nName: 1, dtype: object\nTask               Навеска_НМ\nStart     2020-10-15 08:20:00\nFinish    2020-10-15 16:20:00\nzakaz                    1333\nName: 2, dtype: object\nTask               Навеска_ВМ\nStart     2020-10-15 08:20:00\nFinish    2020-10-20 16:20:00\nzakaz                    1333\nName: 3, dtype: object\nTask                      ЭМУ\nStart     2020-10-19 08:20:00\nFinish    2020-10-19 16:20:00\nzakaz                    1333\nName: 4, dtype: object\n"
    }
   ],
   "source": [
    "for _, i in gant.head(5).iterrows():\n",
    "    print(i)"
   ]
  },
  {
   "cell_type": "code",
   "execution_count": 28,
   "metadata": {
    "tags": []
   },
   "outputs": [
    {
     "output_type": "stream",
     "name": "stdout",
     "text": "0 Комплект\n"
    }
   ],
   "source": [
    "l1 = ['Комплект', 'Наладка', 'УсткаRM', 'УсткаВВ', 'УсткаНН', 'ВторВВ', 'СборкаВВ', 'ВторНН', 'СборкаНН', 'Шина_ТР', 'ШинаУВР', 'Монтаж_СН', 'СборкаЩитов', 'ЭМУ', 'Навеска_ВМ', 'Навеска_НМ', 'Заливка_ВМ', 'Заливка_НМ']\n",
    "l2 = ['Наладка', 'УсткаRM', 'УсткаВВ', 'УсткаНН', 'ВторВВ', 'СборкаВВ', 'ВторНН', 'СборкаНН', 'Шина_ТР', 'ШинаУВР', 'Монтаж_СН', 'СборкаЩитов', 'ЭМУ', 'Навеска_ВМ', 'Навеска_НМ', 'Заливка_ВМ', 'Заливка_НМ']\n",
    "i=0\n",
    "while i < len(l1):\n",
    "            if l1[i] not in l2:\n",
    "                print(i, l1[i])\n",
    "                l1.pop(i)\n",
    "            i+=1"
   ]
  },
  {
   "cell_type": "code",
   "execution_count": null,
   "metadata": {},
   "outputs": [],
   "source": []
  },
  {
   "cell_type": "code",
   "execution_count": 21,
   "metadata": {},
   "outputs": [
    {
     "output_type": "execute_result",
     "data": {
      "text/plain": "['Комплект',\n 'Наладка',\n 'УсткаRM',\n 'УсткаВВ',\n 'УсткаНН',\n 'ВторВВ',\n 'СборкаВВ',\n 'ВторНН',\n 'СборкаНН',\n 'Шина_ТР',\n 'ШинаУВР',\n 'Монтаж_СН',\n 'СборкаЩитов',\n 'ЭМУ',\n 'Навеска_ВМ',\n 'Навеска_НМ',\n 'Заливка_ВМ',\n 'Заливка_НМ']"
     },
     "metadata": {},
     "execution_count": 21
    }
   ],
   "source": [
    "full_y_list = ref.get_jobs_names()[::-1]\n",
    "full_y_list"
   ]
  },
  {
   "cell_type": "code",
   "execution_count": 29,
   "metadata": {},
   "outputs": [
    {
     "output_type": "execute_result",
     "data": {
      "text/plain": "         Task               Start              Finish zakaz\n14    Наладка 2020-10-28 08:20:00 2020-10-28 16:20:00  1333\n15   Комплект 2020-10-30 08:20:00 2020-10-30 16:20:00  1333\n27    Наладка 2020-10-25 08:20:00 2020-10-29 16:20:00  1326\n28   Комплект 2020-10-29 08:20:00 2020-10-29 16:20:00  1326\n31    Наладка 2020-10-29 08:20:00 2020-10-29 16:20:00  1341\n32   Комплект 2020-10-29 08:20:00 2020-10-29 16:20:00  1341\n47    Наладка 2020-11-05 08:20:00 2020-11-05 16:20:00  1334\n48   Комплект 2020-11-05 08:20:00 2020-11-05 16:20:00  1334\n63    Наладка 2020-11-06 08:20:00 2020-11-06 16:20:00  1337\n64   Комплект 2020-11-09 08:20:00 2020-11-09 16:20:00  1337\n77    Наладка 2020-11-12 08:20:00 2020-11-12 16:20:00  1342\n78   Комплект 2020-11-13 08:20:00 2020-11-13 16:20:00  1342\n93    Наладка 2020-11-13 08:20:00 2020-11-13 16:20:00  1338\n94   Комплект 2020-11-17 08:20:00 2020-11-17 16:20:00  1338\n110   Наладка 2020-11-17 08:20:00 2020-11-19 16:20:00  1335\n111  Комплект 2020-11-19 08:20:00 2020-11-19 16:20:00  1335\n126   Наладка 2020-11-23 08:20:00 2020-11-23 16:20:00  1339\n127  Комплект 2020-11-24 08:20:00 2020-11-24 16:20:00  1339\n142   Наладка 2020-11-25 08:20:00 2020-11-25 16:20:00  1340\n143  Комплект 2020-11-26 08:20:00 2020-11-26 16:20:00  1340",
      "text/html": "<div>\n<style scoped>\n    .dataframe tbody tr th:only-of-type {\n        vertical-align: middle;\n    }\n\n    .dataframe tbody tr th {\n        vertical-align: top;\n    }\n\n    .dataframe thead th {\n        text-align: right;\n    }\n</style>\n<table border=\"1\" class=\"dataframe\">\n  <thead>\n    <tr style=\"text-align: right;\">\n      <th></th>\n      <th>Task</th>\n      <th>Start</th>\n      <th>Finish</th>\n      <th>zakaz</th>\n    </tr>\n  </thead>\n  <tbody>\n    <tr>\n      <th>14</th>\n      <td>Наладка</td>\n      <td>2020-10-28 08:20:00</td>\n      <td>2020-10-28 16:20:00</td>\n      <td>1333</td>\n    </tr>\n    <tr>\n      <th>15</th>\n      <td>Комплект</td>\n      <td>2020-10-30 08:20:00</td>\n      <td>2020-10-30 16:20:00</td>\n      <td>1333</td>\n    </tr>\n    <tr>\n      <th>27</th>\n      <td>Наладка</td>\n      <td>2020-10-25 08:20:00</td>\n      <td>2020-10-29 16:20:00</td>\n      <td>1326</td>\n    </tr>\n    <tr>\n      <th>28</th>\n      <td>Комплект</td>\n      <td>2020-10-29 08:20:00</td>\n      <td>2020-10-29 16:20:00</td>\n      <td>1326</td>\n    </tr>\n    <tr>\n      <th>31</th>\n      <td>Наладка</td>\n      <td>2020-10-29 08:20:00</td>\n      <td>2020-10-29 16:20:00</td>\n      <td>1341</td>\n    </tr>\n    <tr>\n      <th>32</th>\n      <td>Комплект</td>\n      <td>2020-10-29 08:20:00</td>\n      <td>2020-10-29 16:20:00</td>\n      <td>1341</td>\n    </tr>\n    <tr>\n      <th>47</th>\n      <td>Наладка</td>\n      <td>2020-11-05 08:20:00</td>\n      <td>2020-11-05 16:20:00</td>\n      <td>1334</td>\n    </tr>\n    <tr>\n      <th>48</th>\n      <td>Комплект</td>\n      <td>2020-11-05 08:20:00</td>\n      <td>2020-11-05 16:20:00</td>\n      <td>1334</td>\n    </tr>\n    <tr>\n      <th>63</th>\n      <td>Наладка</td>\n      <td>2020-11-06 08:20:00</td>\n      <td>2020-11-06 16:20:00</td>\n      <td>1337</td>\n    </tr>\n    <tr>\n      <th>64</th>\n      <td>Комплект</td>\n      <td>2020-11-09 08:20:00</td>\n      <td>2020-11-09 16:20:00</td>\n      <td>1337</td>\n    </tr>\n    <tr>\n      <th>77</th>\n      <td>Наладка</td>\n      <td>2020-11-12 08:20:00</td>\n      <td>2020-11-12 16:20:00</td>\n      <td>1342</td>\n    </tr>\n    <tr>\n      <th>78</th>\n      <td>Комплект</td>\n      <td>2020-11-13 08:20:00</td>\n      <td>2020-11-13 16:20:00</td>\n      <td>1342</td>\n    </tr>\n    <tr>\n      <th>93</th>\n      <td>Наладка</td>\n      <td>2020-11-13 08:20:00</td>\n      <td>2020-11-13 16:20:00</td>\n      <td>1338</td>\n    </tr>\n    <tr>\n      <th>94</th>\n      <td>Комплект</td>\n      <td>2020-11-17 08:20:00</td>\n      <td>2020-11-17 16:20:00</td>\n      <td>1338</td>\n    </tr>\n    <tr>\n      <th>110</th>\n      <td>Наладка</td>\n      <td>2020-11-17 08:20:00</td>\n      <td>2020-11-19 16:20:00</td>\n      <td>1335</td>\n    </tr>\n    <tr>\n      <th>111</th>\n      <td>Комплект</td>\n      <td>2020-11-19 08:20:00</td>\n      <td>2020-11-19 16:20:00</td>\n      <td>1335</td>\n    </tr>\n    <tr>\n      <th>126</th>\n      <td>Наладка</td>\n      <td>2020-11-23 08:20:00</td>\n      <td>2020-11-23 16:20:00</td>\n      <td>1339</td>\n    </tr>\n    <tr>\n      <th>127</th>\n      <td>Комплект</td>\n      <td>2020-11-24 08:20:00</td>\n      <td>2020-11-24 16:20:00</td>\n      <td>1339</td>\n    </tr>\n    <tr>\n      <th>142</th>\n      <td>Наладка</td>\n      <td>2020-11-25 08:20:00</td>\n      <td>2020-11-25 16:20:00</td>\n      <td>1340</td>\n    </tr>\n    <tr>\n      <th>143</th>\n      <td>Комплект</td>\n      <td>2020-11-26 08:20:00</td>\n      <td>2020-11-26 16:20:00</td>\n      <td>1340</td>\n    </tr>\n  </tbody>\n</table>\n</div>"
     },
     "metadata": {},
     "execution_count": 29
    }
   ],
   "source": [
    "gant[gant['Task'].isin(full_y_list[0:2])]"
   ]
  },
  {
   "cell_type": "code",
   "execution_count": 11,
   "metadata": {},
   "outputs": [
    {
     "output_type": "error",
     "ename": "NameError",
     "evalue": "name 'ref' is not defined",
     "traceback": [
      "\u001b[1;31m---------------------------------------------------------------------------\u001b[0m",
      "\u001b[1;31mNameError\u001b[0m                                 Traceback (most recent call last)",
      "\u001b[1;32m<ipython-input-11-931d1324c516>\u001b[0m in \u001b[0;36m<module>\u001b[1;34m\u001b[0m\n\u001b[0;32m      1\u001b[0m \u001b[0mget_ipython\u001b[0m\u001b[1;33m(\u001b[0m\u001b[1;33m)\u001b[0m\u001b[1;33m.\u001b[0m\u001b[0mrun_line_magic\u001b[0m\u001b[1;33m(\u001b[0m\u001b[1;34m'autoreload'\u001b[0m\u001b[1;33m,\u001b[0m \u001b[1;34m''\u001b[0m\u001b[1;33m)\u001b[0m\u001b[1;33m\u001b[0m\u001b[1;33m\u001b[0m\u001b[0m\n\u001b[1;32m----> 2\u001b[1;33m \u001b[0mdd\u001b[0m \u001b[1;33m=\u001b[0m \u001b[0mdata\u001b[0m \u001b[1;33m=\u001b[0m \u001b[0mref\u001b[0m\u001b[1;33m.\u001b[0m\u001b[0mget_df_for_gantt\u001b[0m\u001b[1;33m(\u001b[0m\u001b[1;36m2\u001b[0m\u001b[1;33m,\u001b[0m\u001b[1;36m1100\u001b[0m\u001b[1;33m)\u001b[0m\u001b[1;33m\u001b[0m\u001b[1;33m\u001b[0m\u001b[0m\n\u001b[0m\u001b[0;32m      3\u001b[0m \u001b[0mdd\u001b[0m\u001b[1;33m\u001b[0m\u001b[1;33m\u001b[0m\u001b[0m\n",
      "\u001b[1;31mNameError\u001b[0m: name 'ref' is not defined"
     ]
    }
   ],
   "source": [
    "%autoreload\n",
    "dd = data = ref.get_df_for_gantt(2,1100)\n",
    "dd"
   ]
  },
  {
   "cell_type": "code",
   "execution_count": 12,
   "metadata": {
    "tags": []
   },
   "outputs": [
    {
     "output_type": "error",
     "ename": "NameError",
     "evalue": "name 'go' is not defined",
     "traceback": [
      "\u001b[1;31m---------------------------------------------------------------------------\u001b[0m",
      "\u001b[1;31mNameError\u001b[0m                                 Traceback (most recent call last)",
      "\u001b[1;32m<ipython-input-12-6e17864dd6f9>\u001b[0m in \u001b[0;36m<module>\u001b[1;34m\u001b[0m\n\u001b[0;32m      1\u001b[0m \u001b[0mget_ipython\u001b[0m\u001b[1;33m(\u001b[0m\u001b[1;33m)\u001b[0m\u001b[1;33m.\u001b[0m\u001b[0mrun_line_magic\u001b[0m\u001b[1;33m(\u001b[0m\u001b[1;34m'autoreload'\u001b[0m\u001b[1;33m,\u001b[0m \u001b[1;34m''\u001b[0m\u001b[1;33m)\u001b[0m\u001b[1;33m\u001b[0m\u001b[1;33m\u001b[0m\u001b[0m\n\u001b[1;32m----> 2\u001b[1;33m \u001b[0mfig\u001b[0m \u001b[1;33m=\u001b[0m \u001b[0mgo\u001b[0m\u001b[1;33m.\u001b[0m\u001b[0mFigure\u001b[0m\u001b[1;33m(\u001b[0m\u001b[1;33m)\u001b[0m\u001b[1;33m\u001b[0m\u001b[1;33m\u001b[0m\u001b[0m\n\u001b[0m\u001b[0;32m      3\u001b[0m \u001b[0mb\u001b[0m \u001b[1;33m=\u001b[0m \u001b[0mGanttBar\u001b[0m\u001b[1;33m(\u001b[0m\u001b[1;33m)\u001b[0m\u001b[1;33m\u001b[0m\u001b[1;33m\u001b[0m\u001b[0m\n\u001b[0;32m      4\u001b[0m \u001b[1;33m\u001b[0m\u001b[0m\n\u001b[0;32m      5\u001b[0m \u001b[0mdata\u001b[0m \u001b[1;33m=\u001b[0m \u001b[0mref\u001b[0m\u001b[1;33m.\u001b[0m\u001b[0mget_df_for_gantt\u001b[0m\u001b[1;33m(\u001b[0m\u001b[1;36m17\u001b[0m\u001b[1;33m,\u001b[0m\u001b[1;36m10\u001b[0m\u001b[1;33m)\u001b[0m\u001b[1;33m\u001b[0m\u001b[1;33m\u001b[0m\u001b[0m\n",
      "\u001b[1;31mNameError\u001b[0m: name 'go' is not defined"
     ]
    }
   ],
   "source": [
    "%autoreload\n",
    "fig = go.Figure()\n",
    "b = GanttBar()\n",
    "\n",
    "data = ref.get_df_for_gantt(17,10)\n",
    "for i in range(data.shape[0]):\n",
    "    fig.add_trace(b.get_bar(data['Start'][i], data['Finish'][i],\n",
    "                    l.index(data['Task'][i]), group=int(data['zakaz'][i])))\n",
    "    \n",
    "fig.update_layout(\n",
    "    yaxis = dict(\n",
    "        tickmode = 'array',\n",
    "        tickvals = [n for n in range(len(l))],\n",
    "        ticktext = l\n",
    "    )\n",
    ")\n",
    "\n",
    "fig.update_xaxes(\n",
    "    dtick='D1',\n",
    "    range=[dt.today() - timedelta(days=7),\n",
    "          dt.today() + timedelta(days=30),]\n",
    "    )\n",
    "fig.show()"
   ]
  },
  {
   "cell_type": "code",
   "execution_count": 13,
   "metadata": {},
   "outputs": [
    {
     "output_type": "execute_result",
     "data": {
      "text/plain": "datetime.datetime(2020, 9, 11, 12, 4, 47, 820685)"
     },
     "metadata": {},
     "execution_count": 13
    }
   ],
   "source": [
    "dt.today() - timedelta(days=10)"
   ]
  },
  {
   "cell_type": "code",
   "execution_count": 14,
   "metadata": {},
   "outputs": [
    {
     "output_type": "error",
     "ename": "NameError",
     "evalue": "name 'data' is not defined",
     "traceback": [
      "\u001b[1;31m---------------------------------------------------------------------------\u001b[0m",
      "\u001b[1;31mNameError\u001b[0m                                 Traceback (most recent call last)",
      "\u001b[1;32m<ipython-input-14-7e5f70b1695f>\u001b[0m in \u001b[0;36m<module>\u001b[1;34m\u001b[0m\n\u001b[1;32m----> 1\u001b[1;33m \u001b[0mdata\u001b[0m\u001b[1;33m[\u001b[0m\u001b[0mdata\u001b[0m\u001b[1;33m[\u001b[0m\u001b[1;34m'Task'\u001b[0m\u001b[1;33m]\u001b[0m \u001b[1;33m==\u001b[0m \u001b[1;34m'УсткаRM'\u001b[0m\u001b[1;33m]\u001b[0m\u001b[1;33m\u001b[0m\u001b[1;33m\u001b[0m\u001b[0m\n\u001b[0m",
      "\u001b[1;31mNameError\u001b[0m: name 'data' is not defined"
     ]
    }
   ],
   "source": [
    "data[data['Task'] == 'УсткаRM']"
   ]
  }
 ],
 "metadata": {
  "language_info": {
   "codemirror_mode": {
    "name": "ipython",
    "version": 3
   },
   "file_extension": ".py",
   "mimetype": "text/x-python",
   "name": "python",
   "nbconvert_exporter": "python",
   "pygments_lexer": "ipython3",
   "version": "3.8.5-final"
  },
  "orig_nbformat": 2,
  "kernelspec": {
   "name": "Python 3.8.5 64-bit",
   "display_name": "Python 3.8.5 64-bit",
   "metadata": {
    "interpreter": {
     "hash": "185bd22558903725d8754fa441ed9315d71e9fcdde3b8ce209d153c620f61594"
    }
   }
  }
 },
 "nbformat": 4,
 "nbformat_minor": 2
}