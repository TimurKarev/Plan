{
 "metadata": {
  "language_info": {
   "codemirror_mode": {
    "name": "ipython",
    "version": 3
   },
   "file_extension": ".py",
   "mimetype": "text/x-python",
   "name": "python",
   "nbconvert_exporter": "python",
   "pygments_lexer": "ipython3",
   "version": "3.8.5-final"
  },
  "orig_nbformat": 2,
  "kernelspec": {
   "name": "python_defaultSpec_1600429036021",
   "display_name": "Python 3.8.5 64-bit"
  }
 },
 "nbformat": 4,
 "nbformat_minor": 2,
 "cells": [
  {
   "cell_type": "code",
   "execution_count": 15,
   "metadata": {},
   "outputs": [],
   "source": [
    "%load_ext autoreload"
   ]
  },
  {
   "cell_type": "code",
   "execution_count": 2,
   "metadata": {},
   "outputs": [],
   "source": [
    "from controller import *"
   ]
  },
  {
   "cell_type": "code",
   "execution_count": 3,
   "metadata": {
    "tags": []
   },
   "outputs": [
    {
     "output_type": "stream",
     "name": "stdout",
     "text": "В зз 1253 столбец Втор-ка 0,4 кВ имеет неверное значение\nВ зз 1253 столбец Наладка имеет неверное значение\nВ зз 1253 столбец Комплек-тация имеет неверное значение\nВ зз 1256 столбец Монтаж СН имеет неверное значение\n"
    }
   ],
   "source": [
    "ctrl = Controller('план.xlsx')"
   ]
  },
  {
   "cell_type": "code",
   "execution_count": 11,
   "metadata": {},
   "outputs": [
    {
     "output_type": "execute_result",
     "data": {
      "text/plain": "           Task               Start              Finish zakaz\n0    Заливка_НМ 2020-09-16 08:20:00 2020-09-21 16:20:00  1342\n1    Навеска_НМ 2020-09-18 08:20:00 2020-09-21 16:20:00  1342\n2    Заливка_НМ 2020-09-09 08:20:00 2020-09-10 16:20:00  1328\n3    Заливка_ВМ 2020-09-16 08:20:00 2020-09-24 16:20:00  1328\n4    Навеска_НМ 2020-10-09 08:20:00 2020-10-09 16:20:00  1328\n..          ...                 ...                 ...   ...\n192     УсткаНН 2020-11-23 08:20:00 2020-11-23 16:20:00  1340\n193     УсткаВВ 2020-11-23 08:20:00 2020-11-23 16:20:00  1340\n194     УсткаRM 2020-11-23 08:20:00 2020-11-23 16:20:00  1340\n195     Наладка 2020-11-25 08:20:00 2020-11-25 16:20:00  1340\n196    Комплект 2020-11-26 08:20:00 2020-11-26 16:20:00  1340\n\n[197 rows x 4 columns]",
      "text/html": "<div>\n<style scoped>\n    .dataframe tbody tr th:only-of-type {\n        vertical-align: middle;\n    }\n\n    .dataframe tbody tr th {\n        vertical-align: top;\n    }\n\n    .dataframe thead th {\n        text-align: right;\n    }\n</style>\n<table border=\"1\" class=\"dataframe\">\n  <thead>\n    <tr style=\"text-align: right;\">\n      <th></th>\n      <th>Task</th>\n      <th>Start</th>\n      <th>Finish</th>\n      <th>zakaz</th>\n    </tr>\n  </thead>\n  <tbody>\n    <tr>\n      <th>0</th>\n      <td>Заливка_НМ</td>\n      <td>2020-09-16 08:20:00</td>\n      <td>2020-09-21 16:20:00</td>\n      <td>1342</td>\n    </tr>\n    <tr>\n      <th>1</th>\n      <td>Навеска_НМ</td>\n      <td>2020-09-18 08:20:00</td>\n      <td>2020-09-21 16:20:00</td>\n      <td>1342</td>\n    </tr>\n    <tr>\n      <th>2</th>\n      <td>Заливка_НМ</td>\n      <td>2020-09-09 08:20:00</td>\n      <td>2020-09-10 16:20:00</td>\n      <td>1328</td>\n    </tr>\n    <tr>\n      <th>3</th>\n      <td>Заливка_ВМ</td>\n      <td>2020-09-16 08:20:00</td>\n      <td>2020-09-24 16:20:00</td>\n      <td>1328</td>\n    </tr>\n    <tr>\n      <th>4</th>\n      <td>Навеска_НМ</td>\n      <td>2020-10-09 08:20:00</td>\n      <td>2020-10-09 16:20:00</td>\n      <td>1328</td>\n    </tr>\n    <tr>\n      <th>...</th>\n      <td>...</td>\n      <td>...</td>\n      <td>...</td>\n      <td>...</td>\n    </tr>\n    <tr>\n      <th>192</th>\n      <td>УсткаНН</td>\n      <td>2020-11-23 08:20:00</td>\n      <td>2020-11-23 16:20:00</td>\n      <td>1340</td>\n    </tr>\n    <tr>\n      <th>193</th>\n      <td>УсткаВВ</td>\n      <td>2020-11-23 08:20:00</td>\n      <td>2020-11-23 16:20:00</td>\n      <td>1340</td>\n    </tr>\n    <tr>\n      <th>194</th>\n      <td>УсткаRM</td>\n      <td>2020-11-23 08:20:00</td>\n      <td>2020-11-23 16:20:00</td>\n      <td>1340</td>\n    </tr>\n    <tr>\n      <th>195</th>\n      <td>Наладка</td>\n      <td>2020-11-25 08:20:00</td>\n      <td>2020-11-25 16:20:00</td>\n      <td>1340</td>\n    </tr>\n    <tr>\n      <th>196</th>\n      <td>Комплект</td>\n      <td>2020-11-26 08:20:00</td>\n      <td>2020-11-26 16:20:00</td>\n      <td>1340</td>\n    </tr>\n  </tbody>\n</table>\n<p>197 rows × 4 columns</p>\n</div>"
     },
     "metadata": {},
     "execution_count": 11
    }
   ],
   "source": [
    "ctrl.model.get_df_for_gantt(15)"
   ]
  },
  {
   "cell_type": "code",
   "execution_count": 18,
   "metadata": {},
   "outputs": [
    {
     "output_type": "display_data",
     "data": {
      "application/vnd.plotly.v1+json": {
       "config": {
        "plotlyServerURL": "https://plot.ly"
       },
       "data": [
        {
         "legendgroup": "1333",
         "line": {
          "color": "#0D2A63",
          "shape": "hv",
          "width": 2.5
         },
         "marker": {
          "opacity": 0
         },
         "name": "1333",
         "opacity": 0.5,
         "showlegend": true,
         "type": "scatter",
         "x": [
          "2020-09-18T08:20:00",
          "2020-09-18T08:20:00",
          "2020-09-23T16:20:00",
          "2020-09-23T16:20:00"
         ],
         "y": [
          17.4,
          17,
          17,
          16.6
         ]
        },
        {
         "legendgroup": "1333",
         "line": {
          "color": "#0D2A63",
          "shape": "hv",
          "width": 2.5
         },
         "marker": {
          "opacity": 0
         },
         "name": "1333",
         "opacity": 0.5,
         "showlegend": false,
         "type": "scatter",
         "x": [
          "2020-09-24T08:20:00",
          "2020-09-24T08:20:00",
          "2020-10-01T16:20:00",
          "2020-10-01T16:20:00"
         ],
         "y": [
          16.4,
          16,
          16,
          15.6
         ]
        },
        {
         "legendgroup": "1333",
         "line": {
          "color": "#0D2A63",
          "shape": "hv",
          "width": 2.5
         },
         "marker": {
          "opacity": 0
         },
         "name": "1333",
         "opacity": 0.5,
         "showlegend": false,
         "type": "scatter",
         "x": [
          "2020-10-15T08:20:00",
          "2020-10-15T08:20:00",
          "2020-10-15T16:20:00",
          "2020-10-15T16:20:00"
         ],
         "y": [
          15.4,
          15,
          15,
          14.6
         ]
        },
        {
         "legendgroup": "1333",
         "line": {
          "color": "#0D2A63",
          "shape": "hv",
          "width": 2.5
         },
         "marker": {
          "opacity": 0
         },
         "name": "1333",
         "opacity": 0.5,
         "showlegend": false,
         "type": "scatter",
         "x": [
          "2020-10-15T08:20:00",
          "2020-10-15T08:20:00",
          "2020-10-20T16:20:00",
          "2020-10-20T16:20:00"
         ],
         "y": [
          14.4,
          14,
          14,
          13.6
         ]
        },
        {
         "legendgroup": "1333",
         "line": {
          "color": "#0D2A63",
          "shape": "hv",
          "width": 2.5
         },
         "marker": {
          "opacity": 0
         },
         "name": "1333",
         "opacity": 0.5,
         "showlegend": false,
         "type": "scatter",
         "x": [
          "2020-10-19T08:20:00",
          "2020-10-19T08:20:00",
          "2020-10-19T16:20:00",
          "2020-10-19T16:20:00"
         ],
         "y": [
          13.4,
          13,
          13,
          12.6
         ]
        },
        {
         "legendgroup": "1333",
         "line": {
          "color": "#0D2A63",
          "shape": "hv",
          "width": 2.5
         },
         "marker": {
          "opacity": 0
         },
         "name": "1333",
         "opacity": 0.5,
         "showlegend": false,
         "type": "scatter",
         "x": [
          "2020-10-23T08:20:00",
          "2020-10-23T08:20:00",
          "2020-10-27T16:20:00",
          "2020-10-27T16:20:00"
         ],
         "y": [
          12.4,
          12,
          12,
          11.6
         ]
        },
        {
         "legendgroup": "1333",
         "line": {
          "color": "#0D2A63",
          "shape": "hv",
          "width": 2.5
         },
         "marker": {
          "opacity": 0
         },
         "name": "1333",
         "opacity": 0.5,
         "showlegend": false,
         "type": "scatter",
         "x": [
          "2020-10-19T08:20:00",
          "2020-10-19T08:20:00",
          "2020-10-22T16:20:00",
          "2020-10-22T16:20:00"
         ],
         "y": [
          11.4,
          11,
          11,
          10.6
         ]
        },
        {
         "legendgroup": "1333",
         "line": {
          "color": "#0D2A63",
          "shape": "hv",
          "width": 2.5
         },
         "marker": {
          "opacity": 0
         },
         "name": "1333",
         "opacity": 0.5,
         "showlegend": false,
         "type": "scatter",
         "x": [
          "2020-10-17T08:20:00",
          "2020-10-17T08:20:00",
          "2020-10-17T16:20:00",
          "2020-10-17T16:20:00"
         ],
         "y": [
          10.4,
          10,
          10,
          9.6
         ]
        },
        {
         "legendgroup": "1333",
         "line": {
          "color": "#0D2A63",
          "shape": "hv",
          "width": 2.5
         },
         "marker": {
          "opacity": 0
         },
         "name": "1333",
         "opacity": 0.5,
         "showlegend": false,
         "type": "scatter",
         "x": [
          "2020-10-20T08:20:00",
          "2020-10-20T08:20:00",
          "2020-10-20T16:20:00",
          "2020-10-20T16:20:00"
         ],
         "y": [
          9.4,
          9,
          9,
          8.6
         ]
        },
        {
         "legendgroup": "1333",
         "line": {
          "color": "#0D2A63",
          "shape": "hv",
          "width": 2.5
         },
         "marker": {
          "opacity": 0
         },
         "name": "1333",
         "opacity": 0.5,
         "showlegend": false,
         "type": "scatter",
         "x": [
          "2020-10-17T08:20:00",
          "2020-10-17T08:20:00",
          "2020-10-21T16:20:00",
          "2020-10-21T16:20:00"
         ],
         "y": [
          8.4,
          8,
          8,
          7.6
         ]
        },
        {
         "legendgroup": "1333",
         "line": {
          "color": "#0D2A63",
          "shape": "hv",
          "width": 2.5
         },
         "marker": {
          "opacity": 0
         },
         "name": "1333",
         "opacity": 0.5,
         "showlegend": false,
         "type": "scatter",
         "x": [
          "2020-10-15T08:20:00",
          "2020-10-15T08:20:00",
          "2020-10-27T16:20:00",
          "2020-10-27T16:20:00"
         ],
         "y": [
          7.4,
          7,
          7,
          6.6
         ]
        },
        {
         "legendgroup": "1333",
         "line": {
          "color": "#0D2A63",
          "shape": "hv",
          "width": 2.5
         },
         "marker": {
          "opacity": 0
         },
         "name": "1333",
         "opacity": 0.5,
         "showlegend": false,
         "type": "scatter",
         "x": [
          "2020-10-20T08:20:00",
          "2020-10-20T08:20:00",
          "2020-10-20T16:20:00",
          "2020-10-20T16:20:00"
         ],
         "y": [
          4.4,
          4,
          4,
          3.6
         ]
        },
        {
         "legendgroup": "1333",
         "line": {
          "color": "#0D2A63",
          "shape": "hv",
          "width": 2.5
         },
         "marker": {
          "opacity": 0
         },
         "name": "1333",
         "opacity": 0.5,
         "showlegend": false,
         "type": "scatter",
         "x": [
          "2020-10-22T08:20:00",
          "2020-10-22T08:20:00",
          "2020-10-22T16:20:00",
          "2020-10-22T16:20:00"
         ],
         "y": [
          3.4,
          3,
          3,
          2.6
         ]
        },
        {
         "legendgroup": "1333",
         "line": {
          "color": "#0D2A63",
          "shape": "hv",
          "width": 2.5
         },
         "marker": {
          "opacity": 0
         },
         "name": "1333",
         "opacity": 0.5,
         "showlegend": false,
         "type": "scatter",
         "x": [
          "2020-10-19T08:20:00",
          "2020-10-19T08:20:00",
          "2020-10-19T16:20:00",
          "2020-10-19T16:20:00"
         ],
         "y": [
          2.4,
          2,
          2,
          1.6
         ]
        },
        {
         "legendgroup": "1333",
         "line": {
          "color": "#0D2A63",
          "shape": "hv",
          "width": 2.5
         },
         "marker": {
          "opacity": 0
         },
         "name": "1333",
         "opacity": 0.5,
         "showlegend": false,
         "type": "scatter",
         "x": [
          "2020-10-28T08:20:00",
          "2020-10-28T08:20:00",
          "2020-10-28T16:20:00",
          "2020-10-28T16:20:00"
         ],
         "y": [
          1.4,
          1,
          1,
          0.6
         ]
        },
        {
         "legendgroup": "1333",
         "line": {
          "color": "#0D2A63",
          "shape": "hv",
          "width": 2.5
         },
         "marker": {
          "opacity": 0
         },
         "name": "1333",
         "opacity": 0.5,
         "showlegend": false,
         "type": "scatter",
         "x": [
          "2020-10-30T08:20:00",
          "2020-10-30T08:20:00",
          "2020-10-30T16:20:00",
          "2020-10-30T16:20:00"
         ],
         "y": [
          0.4,
          0,
          0,
          -0.4
         ]
        },
        {
         "legendgroup": "1326",
         "line": {
          "color": "#778AAE",
          "shape": "hv",
          "width": 2.5
         },
         "marker": {
          "opacity": 0
         },
         "name": "1326",
         "opacity": 0.5,
         "showlegend": true,
         "type": "scatter",
         "x": [
          "2020-09-22T08:20:00",
          "2020-09-22T08:20:00",
          "2020-09-25T16:20:00",
          "2020-09-25T16:20:00"
         ],
         "y": [
          17.4,
          17,
          17,
          16.6
         ]
        },
        {
         "legendgroup": "1326",
         "line": {
          "color": "#778AAE",
          "shape": "hv",
          "width": 2.5
         },
         "marker": {
          "opacity": 0
         },
         "name": "1326",
         "opacity": 0.5,
         "showlegend": false,
         "type": "scatter",
         "x": [
          "2020-09-29T08:20:00",
          "2020-09-29T08:20:00",
          "2020-10-05T16:20:00",
          "2020-10-05T16:20:00"
         ],
         "y": [
          16.4,
          16,
          16,
          15.6
         ]
        },
        {
         "legendgroup": "1326",
         "line": {
          "color": "#778AAE",
          "shape": "hv",
          "width": 2.5
         },
         "marker": {
          "opacity": 0
         },
         "name": "1326",
         "opacity": 0.5,
         "showlegend": false,
         "type": "scatter",
         "x": [
          "2020-10-21T08:20:00",
          "2020-10-21T08:20:00",
          "2020-10-21T16:20:00",
          "2020-10-21T16:20:00"
         ],
         "y": [
          15.4,
          15,
          15,
          14.6
         ]
        },
        {
         "legendgroup": "1326",
         "line": {
          "color": "#778AAE",
          "shape": "hv",
          "width": 2.5
         },
         "marker": {
          "opacity": 0
         },
         "name": "1326",
         "opacity": 0.5,
         "showlegend": false,
         "type": "scatter",
         "x": [
          "2020-09-21T08:20:00",
          "2020-09-21T08:20:00",
          "2020-09-22T16:20:00",
          "2020-09-22T16:20:00"
         ],
         "y": [
          14.4,
          14,
          14,
          13.6
         ]
        },
        {
         "legendgroup": "1326",
         "line": {
          "color": "#778AAE",
          "shape": "hv",
          "width": 2.5
         },
         "marker": {
          "opacity": 0
         },
         "name": "1326",
         "opacity": 0.5,
         "showlegend": false,
         "type": "scatter",
         "x": [
          "2020-10-23T08:20:00",
          "2020-10-23T08:20:00",
          "2020-10-23T16:20:00",
          "2020-10-23T16:20:00"
         ],
         "y": [
          13.4,
          13,
          13,
          12.6
         ]
        },
        {
         "legendgroup": "1326",
         "line": {
          "color": "#778AAE",
          "shape": "hv",
          "width": 2.5
         },
         "marker": {
          "opacity": 0
         },
         "name": "1326",
         "opacity": 0.5,
         "showlegend": false,
         "type": "scatter",
         "x": [
          "2020-10-23T08:20:00",
          "2020-10-23T08:20:00",
          "2020-10-27T16:20:00",
          "2020-10-27T16:20:00"
         ],
         "y": [
          12.4,
          12,
          12,
          11.6
         ]
        },
        {
         "legendgroup": "1326",
         "line": {
          "color": "#778AAE",
          "shape": "hv",
          "width": 2.5
         },
         "marker": {
          "opacity": 0
         },
         "name": "1326",
         "opacity": 0.5,
         "showlegend": false,
         "type": "scatter",
         "x": [
          "2020-10-23T08:20:00",
          "2020-10-23T08:20:00",
          "2020-10-27T16:20:00",
          "2020-10-27T16:20:00"
         ],
         "y": [
          11.4,
          11,
          11,
          10.6
         ]
        },
        {
         "legendgroup": "1326",
         "line": {
          "color": "#778AAE",
          "shape": "hv",
          "width": 2.5
         },
         "marker": {
          "opacity": 0
         },
         "name": "1326",
         "opacity": 0.5,
         "showlegend": false,
         "type": "scatter",
         "x": [
          "2020-10-02T08:20:00",
          "2020-10-02T08:20:00",
          "2020-10-13T16:20:00",
          "2020-10-13T16:20:00"
         ],
         "y": [
          6.4,
          6,
          6,
          5.6
         ]
        },
        {
         "legendgroup": "1326",
         "line": {
          "color": "#778AAE",
          "shape": "hv",
          "width": 2.5
         },
         "marker": {
          "opacity": 0
         },
         "name": "1326",
         "opacity": 0.5,
         "showlegend": false,
         "type": "scatter",
         "x": [
          "2020-10-11T08:20:00",
          "2020-10-11T08:20:00",
          "2020-10-25T16:20:00",
          "2020-10-25T16:20:00"
         ],
         "y": [
          5.4,
          5,
          5,
          4.6
         ]
        },
        {
         "legendgroup": "1326",
         "line": {
          "color": "#778AAE",
          "shape": "hv",
          "width": 2.5
         },
         "marker": {
          "opacity": 0
         },
         "name": "1326",
         "opacity": 0.5,
         "showlegend": false,
         "type": "scatter",
         "x": [
          "2020-10-14T08:20:00",
          "2020-10-14T08:20:00",
          "2020-10-14T16:20:00",
          "2020-10-14T16:20:00"
         ],
         "y": [
          4.4,
          4,
          4,
          3.6
         ]
        },
        {
         "legendgroup": "1326",
         "line": {
          "color": "#778AAE",
          "shape": "hv",
          "width": 2.5
         },
         "marker": {
          "opacity": 0
         },
         "name": "1326",
         "opacity": 0.5,
         "showlegend": false,
         "type": "scatter",
         "x": [
          "2020-10-14T08:20:00",
          "2020-10-14T08:20:00",
          "2020-10-14T16:20:00",
          "2020-10-14T16:20:00"
         ],
         "y": [
          3.4,
          3,
          3,
          2.6
         ]
        },
        {
         "legendgroup": "1326",
         "line": {
          "color": "#778AAE",
          "shape": "hv",
          "width": 2.5
         },
         "marker": {
          "opacity": 0
         },
         "name": "1326",
         "opacity": 0.5,
         "showlegend": false,
         "type": "scatter",
         "x": [
          "2020-10-25T08:20:00",
          "2020-10-25T08:20:00",
          "2020-10-29T16:20:00",
          "2020-10-29T16:20:00"
         ],
         "y": [
          1.4,
          1,
          1,
          0.6
         ]
        },
        {
         "legendgroup": "1326",
         "line": {
          "color": "#778AAE",
          "shape": "hv",
          "width": 2.5
         },
         "marker": {
          "opacity": 0
         },
         "name": "1326",
         "opacity": 0.5,
         "showlegend": false,
         "type": "scatter",
         "x": [
          "2020-10-29T08:20:00",
          "2020-10-29T08:20:00",
          "2020-10-29T16:20:00",
          "2020-10-29T16:20:00"
         ],
         "y": [
          0.4,
          0,
          0,
          -0.4
         ]
        },
        {
         "legendgroup": "1341",
         "line": {
          "color": "#750D86",
          "shape": "hv",
          "width": 2.5
         },
         "marker": {
          "opacity": 0
         },
         "name": "1341",
         "opacity": 0.5,
         "showlegend": true,
         "type": "scatter",
         "x": [
          "2020-10-12T08:20:00",
          "2020-10-12T08:20:00",
          "2020-10-28T16:20:00",
          "2020-10-28T16:20:00"
         ],
         "y": [
          6.4,
          6,
          6,
          5.6
         ]
        },
        {
         "legendgroup": "1341",
         "line": {
          "color": "#750D86",
          "shape": "hv",
          "width": 2.5
         },
         "marker": {
          "opacity": 0
         },
         "name": "1341",
         "opacity": 0.5,
         "showlegend": false,
         "type": "scatter",
         "x": [
          "2020-10-12T08:20:00",
          "2020-10-12T08:20:00",
          "2020-10-28T16:20:00",
          "2020-10-28T16:20:00"
         ],
         "y": [
          5.4,
          5,
          5,
          4.6
         ]
        },
        {
         "legendgroup": "1341",
         "line": {
          "color": "#750D86",
          "shape": "hv",
          "width": 2.5
         },
         "marker": {
          "opacity": 0
         },
         "name": "1341",
         "opacity": 0.5,
         "showlegend": false,
         "type": "scatter",
         "x": [
          "2020-10-29T08:20:00",
          "2020-10-29T08:20:00",
          "2020-10-29T16:20:00",
          "2020-10-29T16:20:00"
         ],
         "y": [
          1.4,
          1,
          1,
          0.6
         ]
        },
        {
         "legendgroup": "1341",
         "line": {
          "color": "#750D86",
          "shape": "hv",
          "width": 2.5
         },
         "marker": {
          "opacity": 0
         },
         "name": "1341",
         "opacity": 0.5,
         "showlegend": false,
         "type": "scatter",
         "x": [
          "2020-10-29T08:20:00",
          "2020-10-29T08:20:00",
          "2020-10-29T16:20:00",
          "2020-10-29T16:20:00"
         ],
         "y": [
          0.4,
          0,
          0,
          -0.4
         ]
        },
        {
         "legendgroup": "1334",
         "line": {
          "color": "#2E91E5",
          "shape": "hv",
          "width": 2.5
         },
         "marker": {
          "opacity": 0
         },
         "name": "1334",
         "opacity": 0.5,
         "showlegend": true,
         "type": "scatter",
         "x": [
          "2020-09-24T08:20:00",
          "2020-09-24T08:20:00",
          "2020-09-28T16:20:00",
          "2020-09-28T16:20:00"
         ],
         "y": [
          17.4,
          17,
          17,
          16.6
         ]
        },
        {
         "legendgroup": "1334",
         "line": {
          "color": "#2E91E5",
          "shape": "hv",
          "width": 2.5
         },
         "marker": {
          "opacity": 0
         },
         "name": "1334",
         "opacity": 0.5,
         "showlegend": false,
         "type": "scatter",
         "x": [
          "2020-10-01T08:20:00",
          "2020-10-01T08:20:00",
          "2020-10-07T16:20:00",
          "2020-10-07T16:20:00"
         ],
         "y": [
          16.4,
          16,
          16,
          15.6
         ]
        },
        {
         "legendgroup": "1334",
         "line": {
          "color": "#2E91E5",
          "shape": "hv",
          "width": 2.5
         },
         "marker": {
          "opacity": 0
         },
         "name": "1334",
         "opacity": 0.5,
         "showlegend": false,
         "type": "scatter",
         "x": [
          "2020-10-23T08:20:00",
          "2020-10-23T08:20:00",
          "2020-10-23T16:20:00",
          "2020-10-23T16:20:00"
         ],
         "y": [
          15.4,
          15,
          15,
          14.6
         ]
        },
        {
         "legendgroup": "1334",
         "line": {
          "color": "#2E91E5",
          "shape": "hv",
          "width": 2.5
         },
         "marker": {
          "opacity": 0
         },
         "name": "1334",
         "opacity": 0.5,
         "showlegend": false,
         "type": "scatter",
         "x": [
          "2020-10-23T08:20:00",
          "2020-10-23T08:20:00",
          "2020-10-27T16:20:00",
          "2020-10-27T16:20:00"
         ],
         "y": [
          14.4,
          14,
          14,
          13.6
         ]
        },
        {
         "legendgroup": "1334",
         "line": {
          "color": "#2E91E5",
          "shape": "hv",
          "width": 2.5
         },
         "marker": {
          "opacity": 0
         },
         "name": "1334",
         "opacity": 0.5,
         "showlegend": false,
         "type": "scatter",
         "x": [
          "2020-10-23T08:20:00",
          "2020-10-23T08:20:00",
          "2020-10-23T16:20:00",
          "2020-10-23T16:20:00"
         ],
         "y": [
          13.4,
          13,
          13,
          12.6
         ]
        },
        {
         "legendgroup": "1334",
         "line": {
          "color": "#2E91E5",
          "shape": "hv",
          "width": 2.5
         },
         "marker": {
          "opacity": 0
         },
         "name": "1334",
         "opacity": 0.5,
         "showlegend": false,
         "type": "scatter",
         "x": [
          "2020-10-28T08:20:00",
          "2020-10-28T08:20:00",
          "2020-10-30T16:20:00",
          "2020-10-30T16:20:00"
         ],
         "y": [
          12.4,
          12,
          12,
          11.6
         ]
        },
        {
         "legendgroup": "1334",
         "line": {
          "color": "#2E91E5",
          "shape": "hv",
          "width": 2.5
         },
         "marker": {
          "opacity": 0
         },
         "name": "1334",
         "opacity": 0.5,
         "showlegend": false,
         "type": "scatter",
         "x": [
          "2020-10-23T08:20:00",
          "2020-10-23T08:20:00",
          "2020-10-28T16:20:00",
          "2020-10-28T16:20:00"
         ],
         "y": [
          11.4,
          11,
          11,
          10.6
         ]
        },
        {
         "legendgroup": "1334",
         "line": {
          "color": "#2E91E5",
          "shape": "hv",
          "width": 2.5
         },
         "marker": {
          "opacity": 0
         },
         "name": "1334",
         "opacity": 0.5,
         "showlegend": false,
         "type": "scatter",
         "x": [
          "2020-10-21T08:20:00",
          "2020-10-21T08:20:00",
          "2020-10-21T16:20:00",
          "2020-10-21T16:20:00"
         ],
         "y": [
          10.4,
          10,
          10,
          9.6
         ]
        },
        {
         "legendgroup": "1334",
         "line": {
          "color": "#2E91E5",
          "shape": "hv",
          "width": 2.5
         },
         "marker": {
          "opacity": 0
         },
         "name": "1334",
         "opacity": 0.5,
         "showlegend": false,
         "type": "scatter",
         "x": [
          "2020-10-23T08:20:00",
          "2020-10-23T08:20:00",
          "2020-10-23T16:20:00",
          "2020-10-23T16:20:00"
         ],
         "y": [
          9.4,
          9,
          9,
          8.6
         ]
        },
        {
         "legendgroup": "1334",
         "line": {
          "color": "#2E91E5",
          "shape": "hv",
          "width": 2.5
         },
         "marker": {
          "opacity": 0
         },
         "name": "1334",
         "opacity": 0.5,
         "showlegend": false,
         "type": "scatter",
         "x": [
          "2020-10-22T08:20:00",
          "2020-10-22T08:20:00",
          "2020-10-26T16:20:00",
          "2020-10-26T16:20:00"
         ],
         "y": [
          8.4,
          8,
          8,
          7.6
         ]
        },
        {
         "legendgroup": "1334",
         "line": {
          "color": "#2E91E5",
          "shape": "hv",
          "width": 2.5
         },
         "marker": {
          "opacity": 0
         },
         "name": "1334",
         "opacity": 0.5,
         "showlegend": false,
         "type": "scatter",
         "x": [
          "2020-10-28T08:20:00",
          "2020-10-28T08:20:00",
          "2020-11-04T16:20:00",
          "2020-11-04T16:20:00"
         ],
         "y": [
          7.4,
          7,
          7,
          6.6
         ]
        },
        {
         "legendgroup": "1334",
         "line": {
          "color": "#2E91E5",
          "shape": "hv",
          "width": 2.5
         },
         "marker": {
          "opacity": 0
         },
         "name": "1334",
         "opacity": 0.5,
         "showlegend": false,
         "type": "scatter",
         "x": [
          "2020-10-27T08:20:00",
          "2020-10-27T08:20:00",
          "2020-10-27T16:20:00",
          "2020-10-27T16:20:00"
         ],
         "y": [
          4.4,
          4,
          4,
          3.6
         ]
        },
        {
         "legendgroup": "1334",
         "line": {
          "color": "#2E91E5",
          "shape": "hv",
          "width": 2.5
         },
         "marker": {
          "opacity": 0
         },
         "name": "1334",
         "opacity": 0.5,
         "showlegend": false,
         "type": "scatter",
         "x": [
          "2020-10-27T08:20:00",
          "2020-10-27T08:20:00",
          "2020-10-27T16:20:00",
          "2020-10-27T16:20:00"
         ],
         "y": [
          3.4,
          3,
          3,
          2.6
         ]
        },
        {
         "legendgroup": "1334",
         "line": {
          "color": "#2E91E5",
          "shape": "hv",
          "width": 2.5
         },
         "marker": {
          "opacity": 0
         },
         "name": "1334",
         "opacity": 0.5,
         "showlegend": false,
         "type": "scatter",
         "x": [
          "2020-10-27T08:20:00",
          "2020-10-27T08:20:00",
          "2020-10-27T16:20:00",
          "2020-10-27T16:20:00"
         ],
         "y": [
          2.4,
          2,
          2,
          1.6
         ]
        },
        {
         "legendgroup": "1334",
         "line": {
          "color": "#2E91E5",
          "shape": "hv",
          "width": 2.5
         },
         "marker": {
          "opacity": 0
         },
         "name": "1334",
         "opacity": 0.5,
         "showlegend": false,
         "type": "scatter",
         "x": [
          "2020-11-05T08:20:00",
          "2020-11-05T08:20:00",
          "2020-11-05T16:20:00",
          "2020-11-05T16:20:00"
         ],
         "y": [
          1.4,
          1,
          1,
          0.6
         ]
        },
        {
         "legendgroup": "1334",
         "line": {
          "color": "#2E91E5",
          "shape": "hv",
          "width": 2.5
         },
         "marker": {
          "opacity": 0
         },
         "name": "1334",
         "opacity": 0.5,
         "showlegend": false,
         "type": "scatter",
         "x": [
          "2020-11-05T08:20:00",
          "2020-11-05T08:20:00",
          "2020-11-05T16:20:00",
          "2020-11-05T16:20:00"
         ],
         "y": [
          0.4,
          0,
          0,
          -0.4
         ]
        },
        {
         "legendgroup": "1337",
         "line": {
          "color": "#FB0D0D",
          "shape": "hv",
          "width": 2.5
         },
         "marker": {
          "opacity": 0
         },
         "name": "1337",
         "opacity": 0.5,
         "showlegend": true,
         "type": "scatter",
         "x": [
          "2020-09-28T08:20:00",
          "2020-09-28T08:20:00",
          "2020-09-30T16:20:00",
          "2020-09-30T16:20:00"
         ],
         "y": [
          17.4,
          17,
          17,
          16.6
         ]
        },
        {
         "legendgroup": "1337",
         "line": {
          "color": "#FB0D0D",
          "shape": "hv",
          "width": 2.5
         },
         "marker": {
          "opacity": 0
         },
         "name": "1337",
         "opacity": 0.5,
         "showlegend": false,
         "type": "scatter",
         "x": [
          "2020-10-06T08:20:00",
          "2020-10-06T08:20:00",
          "2020-10-12T16:20:00",
          "2020-10-12T16:20:00"
         ],
         "y": [
          16.4,
          16,
          16,
          15.6
         ]
        },
        {
         "legendgroup": "1337",
         "line": {
          "color": "#FB0D0D",
          "shape": "hv",
          "width": 2.5
         },
         "marker": {
          "opacity": 0
         },
         "name": "1337",
         "opacity": 0.5,
         "showlegend": false,
         "type": "scatter",
         "x": [
          "2020-10-28T08:20:00",
          "2020-10-28T08:20:00",
          "2020-10-28T16:20:00",
          "2020-10-28T16:20:00"
         ],
         "y": [
          15.4,
          15,
          15,
          14.6
         ]
        },
        {
         "legendgroup": "1337",
         "line": {
          "color": "#FB0D0D",
          "shape": "hv",
          "width": 2.5
         },
         "marker": {
          "opacity": 0
         },
         "name": "1337",
         "opacity": 0.5,
         "showlegend": false,
         "type": "scatter",
         "x": [
          "2020-10-28T08:20:00",
          "2020-10-28T08:20:00",
          "2020-10-30T16:20:00",
          "2020-10-30T16:20:00"
         ],
         "y": [
          14.4,
          14,
          14,
          13.6
         ]
        },
        {
         "legendgroup": "1337",
         "line": {
          "color": "#FB0D0D",
          "shape": "hv",
          "width": 2.5
         },
         "marker": {
          "opacity": 0
         },
         "name": "1337",
         "opacity": 0.5,
         "showlegend": false,
         "type": "scatter",
         "x": [
          "2020-10-28T08:20:00",
          "2020-10-28T08:20:00",
          "2020-10-28T16:20:00",
          "2020-10-28T16:20:00"
         ],
         "y": [
          13.4,
          13,
          13,
          12.6
         ]
        },
        {
         "legendgroup": "1337",
         "line": {
          "color": "#FB0D0D",
          "shape": "hv",
          "width": 2.5
         },
         "marker": {
          "opacity": 0
         },
         "name": "1337",
         "opacity": 0.5,
         "showlegend": false,
         "type": "scatter",
         "x": [
          "2020-11-02T08:20:00",
          "2020-11-02T08:20:00",
          "2020-11-06T16:20:00",
          "2020-11-06T16:20:00"
         ],
         "y": [
          12.4,
          12,
          12,
          11.6
         ]
        },
        {
         "legendgroup": "1337",
         "line": {
          "color": "#FB0D0D",
          "shape": "hv",
          "width": 2.5
         },
         "marker": {
          "opacity": 0
         },
         "name": "1337",
         "opacity": 0.5,
         "showlegend": false,
         "type": "scatter",
         "x": [
          "2020-10-28T08:20:00",
          "2020-10-28T08:20:00",
          "2020-11-02T16:20:00",
          "2020-11-02T16:20:00"
         ],
         "y": [
          11.4,
          11,
          11,
          10.6
         ]
        },
        {
         "legendgroup": "1337",
         "line": {
          "color": "#FB0D0D",
          "shape": "hv",
          "width": 2.5
         },
         "marker": {
          "opacity": 0
         },
         "name": "1337",
         "opacity": 0.5,
         "showlegend": false,
         "type": "scatter",
         "x": [
          "2020-10-26T08:20:00",
          "2020-10-26T08:20:00",
          "2020-10-26T16:20:00",
          "2020-10-26T16:20:00"
         ],
         "y": [
          10.4,
          10,
          10,
          9.6
         ]
        },
        {
         "legendgroup": "1337",
         "line": {
          "color": "#FB0D0D",
          "shape": "hv",
          "width": 2.5
         },
         "marker": {
          "opacity": 0
         },
         "name": "1337",
         "opacity": 0.5,
         "showlegend": false,
         "type": "scatter",
         "x": [
          "2020-10-28T08:20:00",
          "2020-10-28T08:20:00",
          "2020-10-28T16:20:00",
          "2020-10-28T16:20:00"
         ],
         "y": [
          9.4,
          9,
          9,
          8.6
         ]
        },
        {
         "legendgroup": "1337",
         "line": {
          "color": "#FB0D0D",
          "shape": "hv",
          "width": 2.5
         },
         "marker": {
          "opacity": 0
         },
         "name": "1337",
         "opacity": 0.5,
         "showlegend": false,
         "type": "scatter",
         "x": [
          "2020-10-27T08:20:00",
          "2020-10-27T08:20:00",
          "2020-10-29T16:20:00",
          "2020-10-29T16:20:00"
         ],
         "y": [
          8.4,
          8,
          8,
          7.6
         ]
        },
        {
         "legendgroup": "1337",
         "line": {
          "color": "#FB0D0D",
          "shape": "hv",
          "width": 2.5
         },
         "marker": {
          "opacity": 0
         },
         "name": "1337",
         "opacity": 0.5,
         "showlegend": false,
         "type": "scatter",
         "x": [
          "2020-10-28T08:20:00",
          "2020-10-28T08:20:00",
          "2020-11-04T16:20:00",
          "2020-11-04T16:20:00"
         ],
         "y": [
          7.4,
          7,
          7,
          6.6
         ]
        },
        {
         "legendgroup": "1337",
         "line": {
          "color": "#FB0D0D",
          "shape": "hv",
          "width": 2.5
         },
         "marker": {
          "opacity": 0
         },
         "name": "1337",
         "opacity": 0.5,
         "showlegend": false,
         "type": "scatter",
         "x": [
          "2020-10-30T08:20:00",
          "2020-10-30T08:20:00",
          "2020-10-30T16:20:00",
          "2020-10-30T16:20:00"
         ],
         "y": [
          4.4,
          4,
          4,
          3.6
         ]
        },
        {
         "legendgroup": "1337",
         "line": {
          "color": "#FB0D0D",
          "shape": "hv",
          "width": 2.5
         },
         "marker": {
          "opacity": 0
         },
         "name": "1337",
         "opacity": 0.5,
         "showlegend": false,
         "type": "scatter",
         "x": [
          "2020-10-30T08:20:00",
          "2020-10-30T08:20:00",
          "2020-10-30T16:20:00",
          "2020-10-30T16:20:00"
         ],
         "y": [
          3.4,
          3,
          3,
          2.6
         ]
        },
        {
         "legendgroup": "1337",
         "line": {
          "color": "#FB0D0D",
          "shape": "hv",
          "width": 2.5
         },
         "marker": {
          "opacity": 0
         },
         "name": "1337",
         "opacity": 0.5,
         "showlegend": false,
         "type": "scatter",
         "x": [
          "2020-10-30T08:20:00",
          "2020-10-30T08:20:00",
          "2020-10-30T16:20:00",
          "2020-10-30T16:20:00"
         ],
         "y": [
          2.4,
          2,
          2,
          1.6
         ]
        },
        {
         "legendgroup": "1337",
         "line": {
          "color": "#FB0D0D",
          "shape": "hv",
          "width": 2.5
         },
         "marker": {
          "opacity": 0
         },
         "name": "1337",
         "opacity": 0.5,
         "showlegend": false,
         "type": "scatter",
         "x": [
          "2020-11-06T08:20:00",
          "2020-11-06T08:20:00",
          "2020-11-06T16:20:00",
          "2020-11-06T16:20:00"
         ],
         "y": [
          1.4,
          1,
          1,
          0.6
         ]
        },
        {
         "legendgroup": "1337",
         "line": {
          "color": "#FB0D0D",
          "shape": "hv",
          "width": 2.5
         },
         "marker": {
          "opacity": 0
         },
         "name": "1337",
         "opacity": 0.5,
         "showlegend": false,
         "type": "scatter",
         "x": [
          "2020-11-09T08:20:00",
          "2020-11-09T08:20:00",
          "2020-11-09T16:20:00",
          "2020-11-09T16:20:00"
         ],
         "y": [
          0.4,
          0,
          0,
          -0.4
         ]
        },
        {
         "legendgroup": "1342",
         "line": {
          "color": "#EB663B",
          "shape": "hv",
          "width": 2.5
         },
         "marker": {
          "opacity": 0
         },
         "name": "1342",
         "opacity": 0.5,
         "showlegend": true,
         "type": "scatter",
         "x": [
          "2020-10-13T08:20:00",
          "2020-10-13T08:20:00",
          "2020-10-19T16:20:00",
          "2020-10-19T16:20:00"
         ],
         "y": [
          16.4,
          16,
          16,
          15.6
         ]
        },
        {
         "legendgroup": "1342",
         "line": {
          "color": "#EB663B",
          "shape": "hv",
          "width": 2.5
         },
         "marker": {
          "opacity": 0
         },
         "name": "1342",
         "opacity": 0.5,
         "showlegend": false,
         "type": "scatter",
         "x": [
          "2020-11-02T08:20:00",
          "2020-11-02T08:20:00",
          "2020-11-05T16:20:00",
          "2020-11-05T16:20:00"
         ],
         "y": [
          14.4,
          14,
          14,
          13.6
         ]
        },
        {
         "legendgroup": "1342",
         "line": {
          "color": "#EB663B",
          "shape": "hv",
          "width": 2.5
         },
         "marker": {
          "opacity": 0
         },
         "name": "1342",
         "opacity": 0.5,
         "showlegend": false,
         "type": "scatter",
         "x": [
          "2020-11-03T08:20:00",
          "2020-11-03T08:20:00",
          "2020-11-03T16:20:00",
          "2020-11-03T16:20:00"
         ],
         "y": [
          13.4,
          13,
          13,
          12.6
         ]
        },
        {
         "legendgroup": "1342",
         "line": {
          "color": "#EB663B",
          "shape": "hv",
          "width": 2.5
         },
         "marker": {
          "opacity": 0
         },
         "name": "1342",
         "opacity": 0.5,
         "showlegend": false,
         "type": "scatter",
         "x": [
          "2020-11-09T08:20:00",
          "2020-11-09T08:20:00",
          "2020-11-10T16:20:00",
          "2020-11-10T16:20:00"
         ],
         "y": [
          12.4,
          12,
          12,
          11.6
         ]
        },
        {
         "legendgroup": "1342",
         "line": {
          "color": "#EB663B",
          "shape": "hv",
          "width": 2.5
         },
         "marker": {
          "opacity": 0
         },
         "name": "1342",
         "opacity": 0.5,
         "showlegend": false,
         "type": "scatter",
         "x": [
          "2020-11-03T08:20:00",
          "2020-11-03T08:20:00",
          "2020-11-06T16:20:00",
          "2020-11-06T16:20:00"
         ],
         "y": [
          11.4,
          11,
          11,
          10.6
         ]
        },
        {
         "legendgroup": "1342",
         "line": {
          "color": "#EB663B",
          "shape": "hv",
          "width": 2.5
         },
         "marker": {
          "opacity": 0
         },
         "name": "1342",
         "opacity": 0.5,
         "showlegend": false,
         "type": "scatter",
         "x": [
          "2020-10-29T08:20:00",
          "2020-10-29T08:20:00",
          "2020-10-29T16:20:00",
          "2020-10-29T16:20:00"
         ],
         "y": [
          10.4,
          10,
          10,
          9.6
         ]
        },
        {
         "legendgroup": "1342",
         "line": {
          "color": "#EB663B",
          "shape": "hv",
          "width": 2.5
         },
         "marker": {
          "opacity": 0
         },
         "name": "1342",
         "opacity": 0.5,
         "showlegend": false,
         "type": "scatter",
         "x": [
          "2020-11-04T08:20:00",
          "2020-11-04T08:20:00",
          "2020-11-04T16:20:00",
          "2020-11-04T16:20:00"
         ],
         "y": [
          9.4,
          9,
          9,
          8.6
         ]
        },
        {
         "legendgroup": "1342",
         "line": {
          "color": "#EB663B",
          "shape": "hv",
          "width": 2.5
         },
         "marker": {
          "opacity": 0
         },
         "name": "1342",
         "opacity": 0.5,
         "showlegend": false,
         "type": "scatter",
         "x": [
          "2020-10-30T08:20:00",
          "2020-10-30T08:20:00",
          "2020-11-04T16:20:00",
          "2020-11-04T16:20:00"
         ],
         "y": [
          8.4,
          8,
          8,
          7.6
         ]
        },
        {
         "legendgroup": "1342",
         "line": {
          "color": "#EB663B",
          "shape": "hv",
          "width": 2.5
         },
         "marker": {
          "opacity": 0
         },
         "name": "1342",
         "opacity": 0.5,
         "showlegend": false,
         "type": "scatter",
         "x": [
          "2020-11-05T08:20:00",
          "2020-11-05T08:20:00",
          "2020-11-11T16:20:00",
          "2020-11-11T16:20:00"
         ],
         "y": [
          7.4,
          7,
          7,
          6.6
         ]
        },
        {
         "legendgroup": "1342",
         "line": {
          "color": "#EB663B",
          "shape": "hv",
          "width": 2.5
         },
         "marker": {
          "opacity": 0
         },
         "name": "1342",
         "opacity": 0.5,
         "showlegend": false,
         "type": "scatter",
         "x": [
          "2020-11-05T08:20:00",
          "2020-11-05T08:20:00",
          "2020-11-05T16:20:00",
          "2020-11-05T16:20:00"
         ],
         "y": [
          4.4,
          4,
          4,
          3.6
         ]
        },
        {
         "legendgroup": "1342",
         "line": {
          "color": "#EB663B",
          "shape": "hv",
          "width": 2.5
         },
         "marker": {
          "opacity": 0
         },
         "name": "1342",
         "opacity": 0.5,
         "showlegend": false,
         "type": "scatter",
         "x": [
          "2020-11-05T08:20:00",
          "2020-11-05T08:20:00",
          "2020-11-05T16:20:00",
          "2020-11-05T16:20:00"
         ],
         "y": [
          3.4,
          3,
          3,
          2.6
         ]
        },
        {
         "legendgroup": "1342",
         "line": {
          "color": "#EB663B",
          "shape": "hv",
          "width": 2.5
         },
         "marker": {
          "opacity": 0
         },
         "name": "1342",
         "opacity": 0.5,
         "showlegend": false,
         "type": "scatter",
         "x": [
          "2020-11-05T08:20:00",
          "2020-11-05T08:20:00",
          "2020-11-05T16:20:00",
          "2020-11-05T16:20:00"
         ],
         "y": [
          2.4,
          2,
          2,
          1.6
         ]
        },
        {
         "legendgroup": "1342",
         "line": {
          "color": "#EB663B",
          "shape": "hv",
          "width": 2.5
         },
         "marker": {
          "opacity": 0
         },
         "name": "1342",
         "opacity": 0.5,
         "showlegend": false,
         "type": "scatter",
         "x": [
          "2020-11-12T08:20:00",
          "2020-11-12T08:20:00",
          "2020-11-12T16:20:00",
          "2020-11-12T16:20:00"
         ],
         "y": [
          1.4,
          1,
          1,
          0.6
         ]
        },
        {
         "legendgroup": "1342",
         "line": {
          "color": "#EB663B",
          "shape": "hv",
          "width": 2.5
         },
         "marker": {
          "opacity": 0
         },
         "name": "1342",
         "opacity": 0.5,
         "showlegend": false,
         "type": "scatter",
         "x": [
          "2020-11-13T08:20:00",
          "2020-11-13T08:20:00",
          "2020-11-13T16:20:00",
          "2020-11-13T16:20:00"
         ],
         "y": [
          0.4,
          0,
          0,
          -0.4
         ]
        },
        {
         "legendgroup": "1338",
         "line": {
          "color": "#DA16FF",
          "shape": "hv",
          "width": 2.5
         },
         "marker": {
          "opacity": 0
         },
         "name": "1338",
         "opacity": 0.5,
         "showlegend": true,
         "type": "scatter",
         "x": [
          "2020-09-30T08:20:00",
          "2020-09-30T08:20:00",
          "2020-10-02T16:20:00",
          "2020-10-02T16:20:00"
         ],
         "y": [
          17.4,
          17,
          17,
          16.6
         ]
        },
        {
         "legendgroup": "1338",
         "line": {
          "color": "#DA16FF",
          "shape": "hv",
          "width": 2.5
         },
         "marker": {
          "opacity": 0
         },
         "name": "1338",
         "opacity": 0.5,
         "showlegend": false,
         "type": "scatter",
         "x": [
          "2020-10-16T08:20:00",
          "2020-10-16T08:20:00",
          "2020-10-21T16:20:00",
          "2020-10-21T16:20:00"
         ],
         "y": [
          16.4,
          16,
          16,
          15.6
         ]
        },
        {
         "legendgroup": "1338",
         "line": {
          "color": "#DA16FF",
          "shape": "hv",
          "width": 2.5
         },
         "marker": {
          "opacity": 0
         },
         "name": "1338",
         "opacity": 0.5,
         "showlegend": false,
         "type": "scatter",
         "x": [
          "2020-11-02T08:20:00",
          "2020-11-02T08:20:00",
          "2020-11-02T16:20:00",
          "2020-11-02T16:20:00"
         ],
         "y": [
          15.4,
          15,
          15,
          14.6
         ]
        },
        {
         "legendgroup": "1338",
         "line": {
          "color": "#DA16FF",
          "shape": "hv",
          "width": 2.5
         },
         "marker": {
          "opacity": 0
         },
         "name": "1338",
         "opacity": 0.5,
         "showlegend": false,
         "type": "scatter",
         "x": [
          "2020-11-06T08:20:00",
          "2020-11-06T08:20:00",
          "2020-11-10T16:20:00",
          "2020-11-10T16:20:00"
         ],
         "y": [
          14.4,
          14,
          14,
          13.6
         ]
        },
        {
         "legendgroup": "1338",
         "line": {
          "color": "#DA16FF",
          "shape": "hv",
          "width": 2.5
         },
         "marker": {
          "opacity": 0
         },
         "name": "1338",
         "opacity": 0.5,
         "showlegend": false,
         "type": "scatter",
         "x": [
          "2020-11-03T08:20:00",
          "2020-11-03T08:20:00",
          "2020-11-03T16:20:00",
          "2020-11-03T16:20:00"
         ],
         "y": [
          13.4,
          13,
          13,
          12.6
         ]
        },
        {
         "legendgroup": "1338",
         "line": {
          "color": "#DA16FF",
          "shape": "hv",
          "width": 2.5
         },
         "marker": {
          "opacity": 0
         },
         "name": "1338",
         "opacity": 0.5,
         "showlegend": false,
         "type": "scatter",
         "x": [
          "2020-11-10T08:20:00",
          "2020-11-10T08:20:00",
          "2020-11-12T16:20:00",
          "2020-11-12T16:20:00"
         ],
         "y": [
          12.4,
          12,
          12,
          11.6
         ]
        },
        {
         "legendgroup": "1338",
         "line": {
          "color": "#DA16FF",
          "shape": "hv",
          "width": 2.5
         },
         "marker": {
          "opacity": 0
         },
         "name": "1338",
         "opacity": 0.5,
         "showlegend": false,
         "type": "scatter",
         "x": [
          "2020-11-03T08:20:00",
          "2020-11-03T08:20:00",
          "2020-11-05T16:20:00",
          "2020-11-05T16:20:00"
         ],
         "y": [
          11.4,
          11,
          11,
          10.6
         ]
        },
        {
         "legendgroup": "1338",
         "line": {
          "color": "#DA16FF",
          "shape": "hv",
          "width": 2.5
         },
         "marker": {
          "opacity": 0
         },
         "name": "1338",
         "opacity": 0.5,
         "showlegend": false,
         "type": "scatter",
         "x": [
          "2020-11-05T08:20:00",
          "2020-11-05T08:20:00",
          "2020-11-05T16:20:00",
          "2020-11-05T16:20:00"
         ],
         "y": [
          10.4,
          10,
          10,
          9.6
         ]
        },
        {
         "legendgroup": "1338",
         "line": {
          "color": "#DA16FF",
          "shape": "hv",
          "width": 2.5
         },
         "marker": {
          "opacity": 0
         },
         "name": "1338",
         "opacity": 0.5,
         "showlegend": false,
         "type": "scatter",
         "x": [
          "2020-11-07T08:20:00",
          "2020-11-07T08:20:00",
          "2020-11-07T16:20:00",
          "2020-11-07T16:20:00"
         ],
         "y": [
          9.4,
          9,
          9,
          8.6
         ]
        },
        {
         "legendgroup": "1338",
         "line": {
          "color": "#DA16FF",
          "shape": "hv",
          "width": 2.5
         },
         "marker": {
          "opacity": 0
         },
         "name": "1338",
         "opacity": 0.5,
         "showlegend": false,
         "type": "scatter",
         "x": [
          "2020-11-05T08:20:00",
          "2020-11-05T08:20:00",
          "2020-11-09T16:20:00",
          "2020-11-09T16:20:00"
         ],
         "y": [
          8.4,
          8,
          8,
          7.6
         ]
        },
        {
         "legendgroup": "1338",
         "line": {
          "color": "#DA16FF",
          "shape": "hv",
          "width": 2.5
         },
         "marker": {
          "opacity": 0
         },
         "name": "1338",
         "opacity": 0.5,
         "showlegend": false,
         "type": "scatter",
         "x": [
          "2020-11-05T08:20:00",
          "2020-11-05T08:20:00",
          "2020-11-12T16:20:00",
          "2020-11-12T16:20:00"
         ],
         "y": [
          7.4,
          7,
          7,
          6.6
         ]
        },
        {
         "legendgroup": "1338",
         "line": {
          "color": "#DA16FF",
          "shape": "hv",
          "width": 2.5
         },
         "marker": {
          "opacity": 0
         },
         "name": "1338",
         "opacity": 0.5,
         "showlegend": false,
         "type": "scatter",
         "x": [
          "2020-11-10T08:20:00",
          "2020-11-10T08:20:00",
          "2020-11-10T16:20:00",
          "2020-11-10T16:20:00"
         ],
         "y": [
          4.4,
          4,
          4,
          3.6
         ]
        },
        {
         "legendgroup": "1338",
         "line": {
          "color": "#DA16FF",
          "shape": "hv",
          "width": 2.5
         },
         "marker": {
          "opacity": 0
         },
         "name": "1338",
         "opacity": 0.5,
         "showlegend": false,
         "type": "scatter",
         "x": [
          "2020-11-10T08:20:00",
          "2020-11-10T08:20:00",
          "2020-11-10T16:20:00",
          "2020-11-10T16:20:00"
         ],
         "y": [
          3.4,
          3,
          3,
          2.6
         ]
        },
        {
         "legendgroup": "1338",
         "line": {
          "color": "#DA16FF",
          "shape": "hv",
          "width": 2.5
         },
         "marker": {
          "opacity": 0
         },
         "name": "1338",
         "opacity": 0.5,
         "showlegend": false,
         "type": "scatter",
         "x": [
          "2020-11-10T08:20:00",
          "2020-11-10T08:20:00",
          "2020-11-10T16:20:00",
          "2020-11-10T16:20:00"
         ],
         "y": [
          2.4,
          2,
          2,
          1.6
         ]
        },
        {
         "legendgroup": "1338",
         "line": {
          "color": "#DA16FF",
          "shape": "hv",
          "width": 2.5
         },
         "marker": {
          "opacity": 0
         },
         "name": "1338",
         "opacity": 0.5,
         "showlegend": false,
         "type": "scatter",
         "x": [
          "2020-11-13T08:20:00",
          "2020-11-13T08:20:00",
          "2020-11-13T16:20:00",
          "2020-11-13T16:20:00"
         ],
         "y": [
          1.4,
          1,
          1,
          0.6
         ]
        },
        {
         "legendgroup": "1338",
         "line": {
          "color": "#DA16FF",
          "shape": "hv",
          "width": 2.5
         },
         "marker": {
          "opacity": 0
         },
         "name": "1338",
         "opacity": 0.5,
         "showlegend": false,
         "type": "scatter",
         "x": [
          "2020-11-17T08:20:00",
          "2020-11-17T08:20:00",
          "2020-11-17T16:20:00",
          "2020-11-17T16:20:00"
         ],
         "y": [
          0.4,
          0,
          0,
          -0.4
         ]
        },
        {
         "legendgroup": "1335",
         "line": {
          "color": "#E15F99",
          "shape": "hv",
          "width": 2.5
         },
         "marker": {
          "opacity": 0
         },
         "name": "1335",
         "opacity": 0.5,
         "showlegend": true,
         "type": "scatter",
         "x": [
          "2020-10-05T08:20:00",
          "2020-10-05T08:20:00",
          "2020-10-13T16:20:00",
          "2020-10-13T16:20:00"
         ],
         "y": [
          17.4,
          17,
          17,
          16.6
         ]
        },
        {
         "legendgroup": "1335",
         "line": {
          "color": "#E15F99",
          "shape": "hv",
          "width": 2.5
         },
         "marker": {
          "opacity": 0
         },
         "name": "1335",
         "opacity": 0.5,
         "showlegend": false,
         "type": "scatter",
         "x": [
          "2020-10-19T08:20:00",
          "2020-10-19T08:20:00",
          "2020-10-28T16:20:00",
          "2020-10-28T16:20:00"
         ],
         "y": [
          16.4,
          16,
          16,
          15.6
         ]
        },
        {
         "legendgroup": "1335",
         "line": {
          "color": "#E15F99",
          "shape": "hv",
          "width": 2.5
         },
         "marker": {
          "opacity": 0
         },
         "name": "1335",
         "opacity": 0.5,
         "showlegend": false,
         "type": "scatter",
         "x": [
          "2020-11-06T08:20:00",
          "2020-11-06T08:20:00",
          "2020-11-06T16:20:00",
          "2020-11-06T16:20:00"
         ],
         "y": [
          15.4,
          15,
          15,
          14.6
         ]
        },
        {
         "legendgroup": "1335",
         "line": {
          "color": "#E15F99",
          "shape": "hv",
          "width": 2.5
         },
         "marker": {
          "opacity": 0
         },
         "name": "1335",
         "opacity": 0.5,
         "showlegend": false,
         "type": "scatter",
         "x": [
          "2020-11-11T08:20:00",
          "2020-11-11T08:20:00",
          "2020-11-16T16:20:00",
          "2020-11-16T16:20:00"
         ],
         "y": [
          14.4,
          14,
          14,
          13.6
         ]
        },
        {
         "legendgroup": "1335",
         "line": {
          "color": "#E15F99",
          "shape": "hv",
          "width": 2.5
         },
         "marker": {
          "opacity": 0
         },
         "name": "1335",
         "opacity": 0.5,
         "showlegend": false,
         "type": "scatter",
         "x": [
          "2020-11-09T08:20:00",
          "2020-11-09T08:20:00",
          "2020-11-09T16:20:00",
          "2020-11-09T16:20:00"
         ],
         "y": [
          13.4,
          13,
          13,
          12.6
         ]
        },
        {
         "legendgroup": "1335",
         "line": {
          "color": "#E15F99",
          "shape": "hv",
          "width": 2.5
         },
         "marker": {
          "opacity": 0
         },
         "name": "1335",
         "opacity": 0.5,
         "showlegend": false,
         "type": "scatter",
         "x": [
          "2020-11-13T08:20:00",
          "2020-11-13T08:20:00",
          "2020-11-17T16:20:00",
          "2020-11-17T16:20:00"
         ],
         "y": [
          12.4,
          12,
          12,
          11.6
         ]
        },
        {
         "legendgroup": "1335",
         "line": {
          "color": "#E15F99",
          "shape": "hv",
          "width": 2.5
         },
         "marker": {
          "opacity": 0
         },
         "name": "1335",
         "opacity": 0.5,
         "showlegend": false,
         "type": "scatter",
         "x": [
          "2020-11-09T08:20:00",
          "2020-11-09T08:20:00",
          "2020-11-16T16:20:00",
          "2020-11-16T16:20:00"
         ],
         "y": [
          11.4,
          11,
          11,
          10.6
         ]
        },
        {
         "legendgroup": "1335",
         "line": {
          "color": "#E15F99",
          "shape": "hv",
          "width": 2.5
         },
         "marker": {
          "opacity": 0
         },
         "name": "1335",
         "opacity": 0.5,
         "showlegend": false,
         "type": "scatter",
         "x": [
          "2020-11-09T08:20:00",
          "2020-11-09T08:20:00",
          "2020-11-09T16:20:00",
          "2020-11-09T16:20:00"
         ],
         "y": [
          10.4,
          10,
          10,
          9.6
         ]
        },
        {
         "legendgroup": "1335",
         "line": {
          "color": "#E15F99",
          "shape": "hv",
          "width": 2.5
         },
         "marker": {
          "opacity": 0
         },
         "name": "1335",
         "opacity": 0.5,
         "showlegend": false,
         "type": "scatter",
         "x": [
          "2020-11-11T08:20:00",
          "2020-11-11T08:20:00",
          "2020-11-11T16:20:00",
          "2020-11-11T16:20:00"
         ],
         "y": [
          9.4,
          9,
          9,
          8.6
         ]
        },
        {
         "legendgroup": "1335",
         "line": {
          "color": "#E15F99",
          "shape": "hv",
          "width": 2.5
         },
         "marker": {
          "opacity": 0
         },
         "name": "1335",
         "opacity": 0.5,
         "showlegend": false,
         "type": "scatter",
         "x": [
          "2020-11-10T08:20:00",
          "2020-11-10T08:20:00",
          "2020-11-12T16:20:00",
          "2020-11-12T16:20:00"
         ],
         "y": [
          8.4,
          8,
          8,
          7.6
         ]
        },
        {
         "legendgroup": "1335",
         "line": {
          "color": "#E15F99",
          "shape": "hv",
          "width": 2.5
         },
         "marker": {
          "opacity": 0
         },
         "name": "1335",
         "opacity": 0.5,
         "showlegend": false,
         "type": "scatter",
         "x": [
          "2020-11-12T08:20:00",
          "2020-11-12T08:20:00",
          "2020-11-16T16:20:00",
          "2020-11-16T16:20:00"
         ],
         "y": [
          7.4,
          7,
          7,
          6.6
         ]
        },
        {
         "legendgroup": "1335",
         "line": {
          "color": "#E15F99",
          "shape": "hv",
          "width": 2.5
         },
         "marker": {
          "opacity": 0
         },
         "name": "1335",
         "opacity": 0.5,
         "showlegend": false,
         "type": "scatter",
         "x": [
          "2020-10-12T08:20:00",
          "2020-10-12T08:20:00",
          "2020-10-30T16:20:00",
          "2020-10-30T16:20:00"
         ],
         "y": [
          6.4,
          6,
          6,
          5.6
         ]
        },
        {
         "legendgroup": "1335",
         "line": {
          "color": "#E15F99",
          "shape": "hv",
          "width": 2.5
         },
         "marker": {
          "opacity": 0
         },
         "name": "1335",
         "opacity": 0.5,
         "showlegend": false,
         "type": "scatter",
         "x": [
          "2020-10-12T08:20:00",
          "2020-10-12T08:20:00",
          "2020-11-16T16:20:00",
          "2020-11-16T16:20:00"
         ],
         "y": [
          5.4,
          5,
          5,
          4.6
         ]
        },
        {
         "legendgroup": "1335",
         "line": {
          "color": "#E15F99",
          "shape": "hv",
          "width": 2.5
         },
         "marker": {
          "opacity": 0
         },
         "name": "1335",
         "opacity": 0.5,
         "showlegend": false,
         "type": "scatter",
         "x": [
          "2020-11-13T08:20:00",
          "2020-11-13T08:20:00",
          "2020-11-13T16:20:00",
          "2020-11-13T16:20:00"
         ],
         "y": [
          4.4,
          4,
          4,
          3.6
         ]
        },
        {
         "legendgroup": "1335",
         "line": {
          "color": "#E15F99",
          "shape": "hv",
          "width": 2.5
         },
         "marker": {
          "opacity": 0
         },
         "name": "1335",
         "opacity": 0.5,
         "showlegend": false,
         "type": "scatter",
         "x": [
          "2020-11-02T08:20:00",
          "2020-11-02T08:20:00",
          "2020-11-02T16:20:00",
          "2020-11-02T16:20:00"
         ],
         "y": [
          3.4,
          3,
          3,
          2.6
         ]
        },
        {
         "legendgroup": "1335",
         "line": {
          "color": "#E15F99",
          "shape": "hv",
          "width": 2.5
         },
         "marker": {
          "opacity": 0
         },
         "name": "1335",
         "opacity": 0.5,
         "showlegend": false,
         "type": "scatter",
         "x": [
          "2020-11-17T08:20:00",
          "2020-11-17T08:20:00",
          "2020-11-19T16:20:00",
          "2020-11-19T16:20:00"
         ],
         "y": [
          1.4,
          1,
          1,
          0.6
         ]
        },
        {
         "legendgroup": "1335",
         "line": {
          "color": "#E15F99",
          "shape": "hv",
          "width": 2.5
         },
         "marker": {
          "opacity": 0
         },
         "name": "1335",
         "opacity": 0.5,
         "showlegend": false,
         "type": "scatter",
         "x": [
          "2020-11-19T08:20:00",
          "2020-11-19T08:20:00",
          "2020-11-19T16:20:00",
          "2020-11-19T16:20:00"
         ],
         "y": [
          0.4,
          0,
          0,
          -0.4
         ]
        },
        {
         "legendgroup": "1339",
         "line": {
          "color": "#222A2A",
          "shape": "hv",
          "width": 2.5
         },
         "marker": {
          "opacity": 0
         },
         "name": "1339",
         "opacity": 0.5,
         "showlegend": true,
         "type": "scatter",
         "x": [
          "2020-10-13T08:20:00",
          "2020-10-13T08:20:00",
          "2020-10-16T16:20:00",
          "2020-10-16T16:20:00"
         ],
         "y": [
          17.4,
          17,
          17,
          16.6
         ]
        },
        {
         "legendgroup": "1339",
         "line": {
          "color": "#222A2A",
          "shape": "hv",
          "width": 2.5
         },
         "marker": {
          "opacity": 0
         },
         "name": "1339",
         "opacity": 0.5,
         "showlegend": false,
         "type": "scatter",
         "x": [
          "2020-10-27T08:20:00",
          "2020-10-27T08:20:00",
          "2020-10-30T16:20:00",
          "2020-10-30T16:20:00"
         ],
         "y": [
          16.4,
          16,
          16,
          15.6
         ]
        },
        {
         "legendgroup": "1339",
         "line": {
          "color": "#222A2A",
          "shape": "hv",
          "width": 2.5
         },
         "marker": {
          "opacity": 0
         },
         "name": "1339",
         "opacity": 0.5,
         "showlegend": false,
         "type": "scatter",
         "x": [
          "2020-11-12T08:20:00",
          "2020-11-12T08:20:00",
          "2020-11-12T16:20:00",
          "2020-11-12T16:20:00"
         ],
         "y": [
          15.4,
          15,
          15,
          14.6
         ]
        },
        {
         "legendgroup": "1339",
         "line": {
          "color": "#222A2A",
          "shape": "hv",
          "width": 2.5
         },
         "marker": {
          "opacity": 0
         },
         "name": "1339",
         "opacity": 0.5,
         "showlegend": false,
         "type": "scatter",
         "x": [
          "2020-11-17T08:20:00",
          "2020-11-17T08:20:00",
          "2020-11-19T16:20:00",
          "2020-11-19T16:20:00"
         ],
         "y": [
          14.4,
          14,
          14,
          13.6
         ]
        },
        {
         "legendgroup": "1339",
         "line": {
          "color": "#222A2A",
          "shape": "hv",
          "width": 2.5
         },
         "marker": {
          "opacity": 0
         },
         "name": "1339",
         "opacity": 0.5,
         "showlegend": false,
         "type": "scatter",
         "x": [
          "2020-11-13T08:20:00",
          "2020-11-13T08:20:00",
          "2020-11-13T16:20:00",
          "2020-11-13T16:20:00"
         ],
         "y": [
          13.4,
          13,
          13,
          12.6
         ]
        },
        {
         "legendgroup": "1339",
         "line": {
          "color": "#222A2A",
          "shape": "hv",
          "width": 2.5
         },
         "marker": {
          "opacity": 0
         },
         "name": "1339",
         "opacity": 0.5,
         "showlegend": false,
         "type": "scatter",
         "x": [
          "2020-11-18T08:20:00",
          "2020-11-18T08:20:00",
          "2020-11-20T16:20:00",
          "2020-11-20T16:20:00"
         ],
         "y": [
          12.4,
          12,
          12,
          11.6
         ]
        },
        {
         "legendgroup": "1339",
         "line": {
          "color": "#222A2A",
          "shape": "hv",
          "width": 2.5
         },
         "marker": {
          "opacity": 0
         },
         "name": "1339",
         "opacity": 0.5,
         "showlegend": false,
         "type": "scatter",
         "x": [
          "2020-11-17T08:20:00",
          "2020-11-17T08:20:00",
          "2020-11-20T16:20:00",
          "2020-11-20T16:20:00"
         ],
         "y": [
          11.4,
          11,
          11,
          10.6
         ]
        },
        {
         "legendgroup": "1339",
         "line": {
          "color": "#222A2A",
          "shape": "hv",
          "width": 2.5
         },
         "marker": {
          "opacity": 0
         },
         "name": "1339",
         "opacity": 0.5,
         "showlegend": false,
         "type": "scatter",
         "x": [
          "2020-11-12T08:20:00",
          "2020-11-12T08:20:00",
          "2020-11-12T16:20:00",
          "2020-11-12T16:20:00"
         ],
         "y": [
          10.4,
          10,
          10,
          9.6
         ]
        },
        {
         "legendgroup": "1339",
         "line": {
          "color": "#222A2A",
          "shape": "hv",
          "width": 2.5
         },
         "marker": {
          "opacity": 0
         },
         "name": "1339",
         "opacity": 0.5,
         "showlegend": false,
         "type": "scatter",
         "x": [
          "2020-11-16T08:20:00",
          "2020-11-16T08:20:00",
          "2020-11-16T16:20:00",
          "2020-11-16T16:20:00"
         ],
         "y": [
          9.4,
          9,
          9,
          8.6
         ]
        },
        {
         "legendgroup": "1339",
         "line": {
          "color": "#222A2A",
          "shape": "hv",
          "width": 2.5
         },
         "marker": {
          "opacity": 0
         },
         "name": "1339",
         "opacity": 0.5,
         "showlegend": false,
         "type": "scatter",
         "x": [
          "2020-11-13T08:20:00",
          "2020-11-13T08:20:00",
          "2020-11-17T16:20:00",
          "2020-11-17T16:20:00"
         ],
         "y": [
          8.4,
          8,
          8,
          7.6
         ]
        },
        {
         "legendgroup": "1339",
         "line": {
          "color": "#222A2A",
          "shape": "hv",
          "width": 2.5
         },
         "marker": {
          "opacity": 0
         },
         "name": "1339",
         "opacity": 0.5,
         "showlegend": false,
         "type": "scatter",
         "x": [
          "2020-11-13T08:20:00",
          "2020-11-13T08:20:00",
          "2020-11-20T16:20:00",
          "2020-11-20T16:20:00"
         ],
         "y": [
          7.4,
          7,
          7,
          6.6
         ]
        },
        {
         "legendgroup": "1339",
         "line": {
          "color": "#222A2A",
          "shape": "hv",
          "width": 2.5
         },
         "marker": {
          "opacity": 0
         },
         "name": "1339",
         "opacity": 0.5,
         "showlegend": false,
         "type": "scatter",
         "x": [
          "2020-11-18T08:20:00",
          "2020-11-18T08:20:00",
          "2020-11-18T16:20:00",
          "2020-11-18T16:20:00"
         ],
         "y": [
          4.4,
          4,
          4,
          3.6
         ]
        },
        {
         "legendgroup": "1339",
         "line": {
          "color": "#222A2A",
          "shape": "hv",
          "width": 2.5
         },
         "marker": {
          "opacity": 0
         },
         "name": "1339",
         "opacity": 0.5,
         "showlegend": false,
         "type": "scatter",
         "x": [
          "2020-11-18T08:20:00",
          "2020-11-18T08:20:00",
          "2020-11-18T16:20:00",
          "2020-11-18T16:20:00"
         ],
         "y": [
          3.4,
          3,
          3,
          2.6
         ]
        },
        {
         "legendgroup": "1339",
         "line": {
          "color": "#222A2A",
          "shape": "hv",
          "width": 2.5
         },
         "marker": {
          "opacity": 0
         },
         "name": "1339",
         "opacity": 0.5,
         "showlegend": false,
         "type": "scatter",
         "x": [
          "2020-11-18T08:20:00",
          "2020-11-18T08:20:00",
          "2020-11-18T16:20:00",
          "2020-11-18T16:20:00"
         ],
         "y": [
          2.4,
          2,
          2,
          1.6
         ]
        },
        {
         "legendgroup": "1339",
         "line": {
          "color": "#222A2A",
          "shape": "hv",
          "width": 2.5
         },
         "marker": {
          "opacity": 0
         },
         "name": "1339",
         "opacity": 0.5,
         "showlegend": false,
         "type": "scatter",
         "x": [
          "2020-11-23T08:20:00",
          "2020-11-23T08:20:00",
          "2020-11-23T16:20:00",
          "2020-11-23T16:20:00"
         ],
         "y": [
          1.4,
          1,
          1,
          0.6
         ]
        },
        {
         "legendgroup": "1339",
         "line": {
          "color": "#222A2A",
          "shape": "hv",
          "width": 2.5
         },
         "marker": {
          "opacity": 0
         },
         "name": "1339",
         "opacity": 0.5,
         "showlegend": false,
         "type": "scatter",
         "x": [
          "2020-11-24T08:20:00",
          "2020-11-24T08:20:00",
          "2020-11-24T16:20:00",
          "2020-11-24T16:20:00"
         ],
         "y": [
          0.4,
          0,
          0,
          -0.4
         ]
        },
        {
         "legendgroup": "1340",
         "line": {
          "color": "#B68100",
          "shape": "hv",
          "width": 2.5
         },
         "marker": {
          "opacity": 0
         },
         "name": "1340",
         "opacity": 0.5,
         "showlegend": true,
         "type": "scatter",
         "x": [
          "2020-10-16T08:20:00",
          "2020-10-16T08:20:00",
          "2020-10-21T16:20:00",
          "2020-10-21T16:20:00"
         ],
         "y": [
          17.4,
          17,
          17,
          16.6
         ]
        },
        {
         "legendgroup": "1340",
         "line": {
          "color": "#B68100",
          "shape": "hv",
          "width": 2.5
         },
         "marker": {
          "opacity": 0
         },
         "name": "1340",
         "opacity": 0.5,
         "showlegend": false,
         "type": "scatter",
         "x": [
          "2020-10-29T08:20:00",
          "2020-10-29T08:20:00",
          "2020-11-04T16:20:00",
          "2020-11-04T16:20:00"
         ],
         "y": [
          16.4,
          16,
          16,
          15.6
         ]
        },
        {
         "legendgroup": "1340",
         "line": {
          "color": "#B68100",
          "shape": "hv",
          "width": 2.5
         },
         "marker": {
          "opacity": 0
         },
         "name": "1340",
         "opacity": 0.5,
         "showlegend": false,
         "type": "scatter",
         "x": [
          "2020-11-17T08:20:00",
          "2020-11-17T08:20:00",
          "2020-11-17T16:20:00",
          "2020-11-17T16:20:00"
         ],
         "y": [
          15.4,
          15,
          15,
          14.6
         ]
        },
        {
         "legendgroup": "1340",
         "line": {
          "color": "#B68100",
          "shape": "hv",
          "width": 2.5
         },
         "marker": {
          "opacity": 0
         },
         "name": "1340",
         "opacity": 0.5,
         "showlegend": false,
         "type": "scatter",
         "x": [
          "2020-11-19T08:20:00",
          "2020-11-19T08:20:00",
          "2020-11-24T16:20:00",
          "2020-11-24T16:20:00"
         ],
         "y": [
          14.4,
          14,
          14,
          13.6
         ]
        },
        {
         "legendgroup": "1340",
         "line": {
          "color": "#B68100",
          "shape": "hv",
          "width": 2.5
         },
         "marker": {
          "opacity": 0
         },
         "name": "1340",
         "opacity": 0.5,
         "showlegend": false,
         "type": "scatter",
         "x": [
          "2020-11-17T08:20:00",
          "2020-11-17T08:20:00",
          "2020-11-17T16:20:00",
          "2020-11-17T16:20:00"
         ],
         "y": [
          13.4,
          13,
          13,
          12.6
         ]
        },
        {
         "legendgroup": "1340",
         "line": {
          "color": "#B68100",
          "shape": "hv",
          "width": 2.5
         },
         "marker": {
          "opacity": 0
         },
         "name": "1340",
         "opacity": 0.5,
         "showlegend": false,
         "type": "scatter",
         "x": [
          "2020-11-23T08:20:00",
          "2020-11-23T08:20:00",
          "2020-11-25T16:20:00",
          "2020-11-25T16:20:00"
         ],
         "y": [
          12.4,
          12,
          12,
          11.6
         ]
        },
        {
         "legendgroup": "1340",
         "line": {
          "color": "#B68100",
          "shape": "hv",
          "width": 2.5
         },
         "marker": {
          "opacity": 0
         },
         "name": "1340",
         "opacity": 0.5,
         "showlegend": false,
         "type": "scatter",
         "x": [
          "2020-11-20T08:20:00",
          "2020-11-20T08:20:00",
          "2020-11-25T16:20:00",
          "2020-11-25T16:20:00"
         ],
         "y": [
          11.4,
          11,
          11,
          10.6
         ]
        },
        {
         "legendgroup": "1340",
         "line": {
          "color": "#B68100",
          "shape": "hv",
          "width": 2.5
         },
         "marker": {
          "opacity": 0
         },
         "name": "1340",
         "opacity": 0.5,
         "showlegend": false,
         "type": "scatter",
         "x": [
          "2020-11-17T08:20:00",
          "2020-11-17T08:20:00",
          "2020-11-17T16:20:00",
          "2020-11-17T16:20:00"
         ],
         "y": [
          10.4,
          10,
          10,
          9.6
         ]
        },
        {
         "legendgroup": "1340",
         "line": {
          "color": "#B68100",
          "shape": "hv",
          "width": 2.5
         },
         "marker": {
          "opacity": 0
         },
         "name": "1340",
         "opacity": 0.5,
         "showlegend": false,
         "type": "scatter",
         "x": [
          "2020-11-19T08:20:00",
          "2020-11-19T08:20:00",
          "2020-11-19T16:20:00",
          "2020-11-19T16:20:00"
         ],
         "y": [
          9.4,
          9,
          9,
          8.6
         ]
        },
        {
         "legendgroup": "1340",
         "line": {
          "color": "#B68100",
          "shape": "hv",
          "width": 2.5
         },
         "marker": {
          "opacity": 0
         },
         "name": "1340",
         "opacity": 0.5,
         "showlegend": false,
         "type": "scatter",
         "x": [
          "2020-11-18T08:20:00",
          "2020-11-18T08:20:00",
          "2020-11-20T16:20:00",
          "2020-11-20T16:20:00"
         ],
         "y": [
          8.4,
          8,
          8,
          7.6
         ]
        },
        {
         "legendgroup": "1340",
         "line": {
          "color": "#B68100",
          "shape": "hv",
          "width": 2.5
         },
         "marker": {
          "opacity": 0
         },
         "name": "1340",
         "opacity": 0.5,
         "showlegend": false,
         "type": "scatter",
         "x": [
          "2020-11-17T08:20:00",
          "2020-11-17T08:20:00",
          "2020-11-24T16:20:00",
          "2020-11-24T16:20:00"
         ],
         "y": [
          7.4,
          7,
          7,
          6.6
         ]
        },
        {
         "legendgroup": "1340",
         "line": {
          "color": "#B68100",
          "shape": "hv",
          "width": 2.5
         },
         "marker": {
          "opacity": 0
         },
         "name": "1340",
         "opacity": 0.5,
         "showlegend": false,
         "type": "scatter",
         "x": [
          "2020-11-23T08:20:00",
          "2020-11-23T08:20:00",
          "2020-11-23T16:20:00",
          "2020-11-23T16:20:00"
         ],
         "y": [
          4.4,
          4,
          4,
          3.6
         ]
        },
        {
         "legendgroup": "1340",
         "line": {
          "color": "#B68100",
          "shape": "hv",
          "width": 2.5
         },
         "marker": {
          "opacity": 0
         },
         "name": "1340",
         "opacity": 0.5,
         "showlegend": false,
         "type": "scatter",
         "x": [
          "2020-11-23T08:20:00",
          "2020-11-23T08:20:00",
          "2020-11-23T16:20:00",
          "2020-11-23T16:20:00"
         ],
         "y": [
          3.4,
          3,
          3,
          2.6
         ]
        },
        {
         "legendgroup": "1340",
         "line": {
          "color": "#B68100",
          "shape": "hv",
          "width": 2.5
         },
         "marker": {
          "opacity": 0
         },
         "name": "1340",
         "opacity": 0.5,
         "showlegend": false,
         "type": "scatter",
         "x": [
          "2020-11-23T08:20:00",
          "2020-11-23T08:20:00",
          "2020-11-23T16:20:00",
          "2020-11-23T16:20:00"
         ],
         "y": [
          2.4,
          2,
          2,
          1.6
         ]
        },
        {
         "legendgroup": "1340",
         "line": {
          "color": "#B68100",
          "shape": "hv",
          "width": 2.5
         },
         "marker": {
          "opacity": 0
         },
         "name": "1340",
         "opacity": 0.5,
         "showlegend": false,
         "type": "scatter",
         "x": [
          "2020-11-25T08:20:00",
          "2020-11-25T08:20:00",
          "2020-11-25T16:20:00",
          "2020-11-25T16:20:00"
         ],
         "y": [
          1.4,
          1,
          1,
          0.6
         ]
        },
        {
         "legendgroup": "1340",
         "line": {
          "color": "#B68100",
          "shape": "hv",
          "width": 2.5
         },
         "marker": {
          "opacity": 0
         },
         "name": "1340",
         "opacity": 0.5,
         "showlegend": false,
         "type": "scatter",
         "x": [
          "2020-11-26T08:20:00",
          "2020-11-26T08:20:00",
          "2020-11-26T16:20:00",
          "2020-11-26T16:20:00"
         ],
         "y": [
          0.4,
          0,
          0,
          -0.4
         ]
        }
       ],
       "layout": {
        "height": 800,
        "template": {
         "data": {
          "bar": [
           {
            "error_x": {
             "color": "#2a3f5f"
            },
            "error_y": {
             "color": "#2a3f5f"
            },
            "marker": {
             "line": {
              "color": "#E5ECF6",
              "width": 0.5
             }
            },
            "type": "bar"
           }
          ],
          "barpolar": [
           {
            "marker": {
             "line": {
              "color": "#E5ECF6",
              "width": 0.5
             }
            },
            "type": "barpolar"
           }
          ],
          "carpet": [
           {
            "aaxis": {
             "endlinecolor": "#2a3f5f",
             "gridcolor": "white",
             "linecolor": "white",
             "minorgridcolor": "white",
             "startlinecolor": "#2a3f5f"
            },
            "baxis": {
             "endlinecolor": "#2a3f5f",
             "gridcolor": "white",
             "linecolor": "white",
             "minorgridcolor": "white",
             "startlinecolor": "#2a3f5f"
            },
            "type": "carpet"
           }
          ],
          "choropleth": [
           {
            "colorbar": {
             "outlinewidth": 0,
             "ticks": ""
            },
            "type": "choropleth"
           }
          ],
          "contour": [
           {
            "colorbar": {
             "outlinewidth": 0,
             "ticks": ""
            },
            "colorscale": [
             [
              0,
              "#0d0887"
             ],
             [
              0.1111111111111111,
              "#46039f"
             ],
             [
              0.2222222222222222,
              "#7201a8"
             ],
             [
              0.3333333333333333,
              "#9c179e"
             ],
             [
              0.4444444444444444,
              "#bd3786"
             ],
             [
              0.5555555555555556,
              "#d8576b"
             ],
             [
              0.6666666666666666,
              "#ed7953"
             ],
             [
              0.7777777777777778,
              "#fb9f3a"
             ],
             [
              0.8888888888888888,
              "#fdca26"
             ],
             [
              1,
              "#f0f921"
             ]
            ],
            "type": "contour"
           }
          ],
          "contourcarpet": [
           {
            "colorbar": {
             "outlinewidth": 0,
             "ticks": ""
            },
            "type": "contourcarpet"
           }
          ],
          "heatmap": [
           {
            "colorbar": {
             "outlinewidth": 0,
             "ticks": ""
            },
            "colorscale": [
             [
              0,
              "#0d0887"
             ],
             [
              0.1111111111111111,
              "#46039f"
             ],
             [
              0.2222222222222222,
              "#7201a8"
             ],
             [
              0.3333333333333333,
              "#9c179e"
             ],
             [
              0.4444444444444444,
              "#bd3786"
             ],
             [
              0.5555555555555556,
              "#d8576b"
             ],
             [
              0.6666666666666666,
              "#ed7953"
             ],
             [
              0.7777777777777778,
              "#fb9f3a"
             ],
             [
              0.8888888888888888,
              "#fdca26"
             ],
             [
              1,
              "#f0f921"
             ]
            ],
            "type": "heatmap"
           }
          ],
          "heatmapgl": [
           {
            "colorbar": {
             "outlinewidth": 0,
             "ticks": ""
            },
            "colorscale": [
             [
              0,
              "#0d0887"
             ],
             [
              0.1111111111111111,
              "#46039f"
             ],
             [
              0.2222222222222222,
              "#7201a8"
             ],
             [
              0.3333333333333333,
              "#9c179e"
             ],
             [
              0.4444444444444444,
              "#bd3786"
             ],
             [
              0.5555555555555556,
              "#d8576b"
             ],
             [
              0.6666666666666666,
              "#ed7953"
             ],
             [
              0.7777777777777778,
              "#fb9f3a"
             ],
             [
              0.8888888888888888,
              "#fdca26"
             ],
             [
              1,
              "#f0f921"
             ]
            ],
            "type": "heatmapgl"
           }
          ],
          "histogram": [
           {
            "marker": {
             "colorbar": {
              "outlinewidth": 0,
              "ticks": ""
             }
            },
            "type": "histogram"
           }
          ],
          "histogram2d": [
           {
            "colorbar": {
             "outlinewidth": 0,
             "ticks": ""
            },
            "colorscale": [
             [
              0,
              "#0d0887"
             ],
             [
              0.1111111111111111,
              "#46039f"
             ],
             [
              0.2222222222222222,
              "#7201a8"
             ],
             [
              0.3333333333333333,
              "#9c179e"
             ],
             [
              0.4444444444444444,
              "#bd3786"
             ],
             [
              0.5555555555555556,
              "#d8576b"
             ],
             [
              0.6666666666666666,
              "#ed7953"
             ],
             [
              0.7777777777777778,
              "#fb9f3a"
             ],
             [
              0.8888888888888888,
              "#fdca26"
             ],
             [
              1,
              "#f0f921"
             ]
            ],
            "type": "histogram2d"
           }
          ],
          "histogram2dcontour": [
           {
            "colorbar": {
             "outlinewidth": 0,
             "ticks": ""
            },
            "colorscale": [
             [
              0,
              "#0d0887"
             ],
             [
              0.1111111111111111,
              "#46039f"
             ],
             [
              0.2222222222222222,
              "#7201a8"
             ],
             [
              0.3333333333333333,
              "#9c179e"
             ],
             [
              0.4444444444444444,
              "#bd3786"
             ],
             [
              0.5555555555555556,
              "#d8576b"
             ],
             [
              0.6666666666666666,
              "#ed7953"
             ],
             [
              0.7777777777777778,
              "#fb9f3a"
             ],
             [
              0.8888888888888888,
              "#fdca26"
             ],
             [
              1,
              "#f0f921"
             ]
            ],
            "type": "histogram2dcontour"
           }
          ],
          "mesh3d": [
           {
            "colorbar": {
             "outlinewidth": 0,
             "ticks": ""
            },
            "type": "mesh3d"
           }
          ],
          "parcoords": [
           {
            "line": {
             "colorbar": {
              "outlinewidth": 0,
              "ticks": ""
             }
            },
            "type": "parcoords"
           }
          ],
          "pie": [
           {
            "automargin": true,
            "type": "pie"
           }
          ],
          "scatter": [
           {
            "marker": {
             "colorbar": {
              "outlinewidth": 0,
              "ticks": ""
             }
            },
            "type": "scatter"
           }
          ],
          "scatter3d": [
           {
            "line": {
             "colorbar": {
              "outlinewidth": 0,
              "ticks": ""
             }
            },
            "marker": {
             "colorbar": {
              "outlinewidth": 0,
              "ticks": ""
             }
            },
            "type": "scatter3d"
           }
          ],
          "scattercarpet": [
           {
            "marker": {
             "colorbar": {
              "outlinewidth": 0,
              "ticks": ""
             }
            },
            "type": "scattercarpet"
           }
          ],
          "scattergeo": [
           {
            "marker": {
             "colorbar": {
              "outlinewidth": 0,
              "ticks": ""
             }
            },
            "type": "scattergeo"
           }
          ],
          "scattergl": [
           {
            "marker": {
             "colorbar": {
              "outlinewidth": 0,
              "ticks": ""
             }
            },
            "type": "scattergl"
           }
          ],
          "scattermapbox": [
           {
            "marker": {
             "colorbar": {
              "outlinewidth": 0,
              "ticks": ""
             }
            },
            "type": "scattermapbox"
           }
          ],
          "scatterpolar": [
           {
            "marker": {
             "colorbar": {
              "outlinewidth": 0,
              "ticks": ""
             }
            },
            "type": "scatterpolar"
           }
          ],
          "scatterpolargl": [
           {
            "marker": {
             "colorbar": {
              "outlinewidth": 0,
              "ticks": ""
             }
            },
            "type": "scatterpolargl"
           }
          ],
          "scatterternary": [
           {
            "marker": {
             "colorbar": {
              "outlinewidth": 0,
              "ticks": ""
             }
            },
            "type": "scatterternary"
           }
          ],
          "surface": [
           {
            "colorbar": {
             "outlinewidth": 0,
             "ticks": ""
            },
            "colorscale": [
             [
              0,
              "#0d0887"
             ],
             [
              0.1111111111111111,
              "#46039f"
             ],
             [
              0.2222222222222222,
              "#7201a8"
             ],
             [
              0.3333333333333333,
              "#9c179e"
             ],
             [
              0.4444444444444444,
              "#bd3786"
             ],
             [
              0.5555555555555556,
              "#d8576b"
             ],
             [
              0.6666666666666666,
              "#ed7953"
             ],
             [
              0.7777777777777778,
              "#fb9f3a"
             ],
             [
              0.8888888888888888,
              "#fdca26"
             ],
             [
              1,
              "#f0f921"
             ]
            ],
            "type": "surface"
           }
          ],
          "table": [
           {
            "cells": {
             "fill": {
              "color": "#EBF0F8"
             },
             "line": {
              "color": "white"
             }
            },
            "header": {
             "fill": {
              "color": "#C8D4E3"
             },
             "line": {
              "color": "white"
             }
            },
            "type": "table"
           }
          ]
         },
         "layout": {
          "annotationdefaults": {
           "arrowcolor": "#2a3f5f",
           "arrowhead": 0,
           "arrowwidth": 1
          },
          "coloraxis": {
           "colorbar": {
            "outlinewidth": 0,
            "ticks": ""
           }
          },
          "colorscale": {
           "diverging": [
            [
             0,
             "#8e0152"
            ],
            [
             0.1,
             "#c51b7d"
            ],
            [
             0.2,
             "#de77ae"
            ],
            [
             0.3,
             "#f1b6da"
            ],
            [
             0.4,
             "#fde0ef"
            ],
            [
             0.5,
             "#f7f7f7"
            ],
            [
             0.6,
             "#e6f5d0"
            ],
            [
             0.7,
             "#b8e186"
            ],
            [
             0.8,
             "#7fbc41"
            ],
            [
             0.9,
             "#4d9221"
            ],
            [
             1,
             "#276419"
            ]
           ],
           "sequential": [
            [
             0,
             "#0d0887"
            ],
            [
             0.1111111111111111,
             "#46039f"
            ],
            [
             0.2222222222222222,
             "#7201a8"
            ],
            [
             0.3333333333333333,
             "#9c179e"
            ],
            [
             0.4444444444444444,
             "#bd3786"
            ],
            [
             0.5555555555555556,
             "#d8576b"
            ],
            [
             0.6666666666666666,
             "#ed7953"
            ],
            [
             0.7777777777777778,
             "#fb9f3a"
            ],
            [
             0.8888888888888888,
             "#fdca26"
            ],
            [
             1,
             "#f0f921"
            ]
           ],
           "sequentialminus": [
            [
             0,
             "#0d0887"
            ],
            [
             0.1111111111111111,
             "#46039f"
            ],
            [
             0.2222222222222222,
             "#7201a8"
            ],
            [
             0.3333333333333333,
             "#9c179e"
            ],
            [
             0.4444444444444444,
             "#bd3786"
            ],
            [
             0.5555555555555556,
             "#d8576b"
            ],
            [
             0.6666666666666666,
             "#ed7953"
            ],
            [
             0.7777777777777778,
             "#fb9f3a"
            ],
            [
             0.8888888888888888,
             "#fdca26"
            ],
            [
             1,
             "#f0f921"
            ]
           ]
          },
          "colorway": [
           "#636efa",
           "#EF553B",
           "#00cc96",
           "#ab63fa",
           "#FFA15A",
           "#19d3f3",
           "#FF6692",
           "#B6E880",
           "#FF97FF",
           "#FECB52"
          ],
          "font": {
           "color": "#2a3f5f"
          },
          "geo": {
           "bgcolor": "white",
           "lakecolor": "white",
           "landcolor": "#E5ECF6",
           "showlakes": true,
           "showland": true,
           "subunitcolor": "white"
          },
          "hoverlabel": {
           "align": "left"
          },
          "hovermode": "closest",
          "mapbox": {
           "style": "light"
          },
          "paper_bgcolor": "white",
          "plot_bgcolor": "#E5ECF6",
          "polar": {
           "angularaxis": {
            "gridcolor": "white",
            "linecolor": "white",
            "ticks": ""
           },
           "bgcolor": "#E5ECF6",
           "radialaxis": {
            "gridcolor": "white",
            "linecolor": "white",
            "ticks": ""
           }
          },
          "scene": {
           "xaxis": {
            "backgroundcolor": "#E5ECF6",
            "gridcolor": "white",
            "gridwidth": 2,
            "linecolor": "white",
            "showbackground": true,
            "ticks": "",
            "zerolinecolor": "white"
           },
           "yaxis": {
            "backgroundcolor": "#E5ECF6",
            "gridcolor": "white",
            "gridwidth": 2,
            "linecolor": "white",
            "showbackground": true,
            "ticks": "",
            "zerolinecolor": "white"
           },
           "zaxis": {
            "backgroundcolor": "#E5ECF6",
            "gridcolor": "white",
            "gridwidth": 2,
            "linecolor": "white",
            "showbackground": true,
            "ticks": "",
            "zerolinecolor": "white"
           }
          },
          "shapedefaults": {
           "line": {
            "color": "#2a3f5f"
           }
          },
          "ternary": {
           "aaxis": {
            "gridcolor": "white",
            "linecolor": "white",
            "ticks": ""
           },
           "baxis": {
            "gridcolor": "white",
            "linecolor": "white",
            "ticks": ""
           },
           "bgcolor": "#E5ECF6",
           "caxis": {
            "gridcolor": "white",
            "linecolor": "white",
            "ticks": ""
           }
          },
          "title": {
           "x": 0.05
          },
          "xaxis": {
           "automargin": true,
           "gridcolor": "white",
           "linecolor": "white",
           "ticks": "",
           "title": {
            "standoff": 15
           },
           "zerolinecolor": "white",
           "zerolinewidth": 2
          },
          "yaxis": {
           "automargin": true,
           "gridcolor": "white",
           "linecolor": "white",
           "ticks": "",
           "title": {
            "standoff": 15
           },
           "zerolinecolor": "white",
           "zerolinewidth": 2
          }
         }
        },
        "xaxis": {
         "dtick": "D1",
         "range": [
          "2020-09-11T15:01:16.214843",
          "2020-10-18T15:01:16.214843"
         ],
         "tickangle": 90
        },
        "yaxis": {
         "tickmode": "array",
         "ticktext": [
          "Комплект",
          "Наладка",
          "УсткаRM",
          "УсткаВВ",
          "УсткаНН",
          "ВторВВ",
          "СборкаВВ",
          "ВторНН",
          "СборкаНН",
          "Шина_ТР",
          "ШинаУВР",
          "Монтаж_СН",
          "СборкаЩитов",
          "ЭМУ",
          "Навеска_ВМ",
          "Навеска_НМ",
          "Заливка_ВМ",
          "Заливка_НМ"
         ],
         "tickvals": [
          0,
          1,
          2,
          3,
          4,
          5,
          6,
          7,
          8,
          9,
          10,
          11,
          12,
          13,
          14,
          15,
          16,
          17
         ]
        }
       }
      }
     },
     "metadata": {}
    }
   ],
   "source": [
    "%autoreload\n",
    "ctrl.get_fig(10,0)"
   ]
  }
 ]
}