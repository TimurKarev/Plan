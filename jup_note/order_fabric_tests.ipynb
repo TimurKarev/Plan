{
 "metadata": {
  "language_info": {
   "codemirror_mode": {
    "name": "ipython",
    "version": 3
   },
   "file_extension": ".py",
   "mimetype": "text/x-python",
   "name": "python",
   "nbconvert_exporter": "python",
   "pygments_lexer": "ipython3",
   "version": "3.8.5-final"
  },
  "orig_nbformat": 2,
  "kernelspec": {
   "name": "Python 3.8.5 64-bit ('plan': conda)",
   "display_name": "Python 3.8.5 64-bit ('plan': conda)",
   "metadata": {
    "interpreter": {
     "hash": "185bd22558903725d8754fa441ed9315d71e9fcdde3b8ce209d153c620f61594"
    }
   }
  }
 },
 "nbformat": 4,
 "nbformat_minor": 2,
 "cells": [
  {
   "cell_type": "code",
   "execution_count": 10,
   "metadata": {},
   "outputs": [],
   "source": [
    "from xml.etree import ElementTree as ET"
   ]
  },
  {
   "cell_type": "code",
   "execution_count": 47,
   "metadata": {},
   "outputs": [],
   "source": [
    "%load_ext autoreload"
   ]
  },
  {
   "cell_type": "code",
   "execution_count": 50,
   "metadata": {},
   "outputs": [],
   "source": [
    "tasks = ET.parse('../plan_model/structure.xml')"
   ]
  },
  {
   "cell_type": "code",
   "execution_count": 51,
   "metadata": {},
   "outputs": [],
   "source": [
    "for task in tasks.iter():\n",
    "    task.find(\"duration\")"
   ]
  },
  {
   "cell_type": "code",
   "execution_count": 54,
   "metadata": {},
   "outputs": [
    {
     "output_type": "error",
     "ename": "ModuleNotFoundError",
     "evalue": "No module named 'model'",
     "traceback": [
      "\u001b[1;31m---------------------------------------------------------------------------\u001b[0m",
      "\u001b[1;31mModuleNotFoundError\u001b[0m                       Traceback (most recent call last)",
      "\u001b[1;32m<ipython-input-54-5b02c7e36294>\u001b[0m in \u001b[0;36m<module>\u001b[1;34m\u001b[0m\n\u001b[1;32m----> 1\u001b[1;33m \u001b[1;32mfrom\u001b[0m \u001b[0mmodel\u001b[0m \u001b[1;32mimport\u001b[0m \u001b[0mplan_var\u001b[0m \u001b[1;32mas\u001b[0m \u001b[0mV\u001b[0m\u001b[1;33m\u001b[0m\u001b[1;33m\u001b[0m\u001b[0m\n\u001b[0m",
      "\u001b[1;31mModuleNotFoundError\u001b[0m: No module named 'model'"
     ]
    }
   ],
   "source": [
    "from model import plan_var as V"
   ]
  },
  {
   "cell_type": "code",
   "execution_count": 55,
   "metadata": {},
   "outputs": [
    {
     "output_type": "stream",
     "name": "stdout",
     "text": [
      "['c:\\\\Users\\\\User\\\\Documents\\\\Project\\\\Plan\\\\jup_note', 'c:\\\\Users\\\\User\\\\.vscode\\\\extensions\\\\ms-python.python-2020.9.114305\\\\pythonFiles', 'c:\\\\Users\\\\User\\\\.vscode\\\\extensions\\\\ms-python.python-2020.9.114305\\\\pythonFiles\\\\lib\\\\python', 'C:\\\\Users\\\\User\\\\.conda\\\\envs\\\\plan\\\\python38.zip', 'C:\\\\Users\\\\User\\\\.conda\\\\envs\\\\plan\\\\DLLs', 'C:\\\\Users\\\\User\\\\.conda\\\\envs\\\\plan\\\\lib', 'C:\\\\Users\\\\User\\\\.conda\\\\envs\\\\plan', '', 'C:\\\\Users\\\\User\\\\.conda\\\\envs\\\\plan\\\\lib\\\\site-packages', 'C:\\\\Users\\\\User\\\\.conda\\\\envs\\\\plan\\\\lib\\\\site-packages\\\\win32', 'C:\\\\Users\\\\User\\\\.conda\\\\envs\\\\plan\\\\lib\\\\site-packages\\\\win32\\\\lib', 'C:\\\\Users\\\\User\\\\.conda\\\\envs\\\\plan\\\\lib\\\\site-packages\\\\Pythonwin', 'C:\\\\Users\\\\User\\\\.conda\\\\envs\\\\plan\\\\lib\\\\site-packages\\\\IPython\\\\extensions', 'C:\\\\Users\\\\User\\\\.ipython']\n"
     ]
    }
   ],
   "source": [
    "import sys\n",
    "print(sys.path)"
   ]
  }
 ]
}