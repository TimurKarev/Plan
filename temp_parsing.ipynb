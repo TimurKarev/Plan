{
 "metadata": {
  "language_info": {
   "codemirror_mode": {
    "name": "ipython",
    "version": 3
   },
   "file_extension": ".py",
   "mimetype": "text/x-python",
   "name": "python",
   "nbconvert_exporter": "python",
   "pygments_lexer": "ipython3",
   "version": "3.8.5-final"
  },
  "orig_nbformat": 2,
  "kernelspec": {
   "name": "python_defaultSpec_1599770852999",
   "display_name": "Python 3.8.5 64-bit ('Plan': conda)"
  }
 },
 "nbformat": 4,
 "nbformat_minor": 2,
 "cells": [
  {
   "cell_type": "code",
   "execution_count": 1,
   "metadata": {},
   "outputs": [],
   "source": [
    "%load_ext autoreload"
   ]
  },
  {
   "cell_type": "code",
   "execution_count": 2,
   "metadata": {},
   "outputs": [],
   "source": [
    "from pyparsing import *\n",
    "import plan_utils as pu"
   ]
  },
  {
   "cell_type": "code",
   "execution_count": 4,
   "metadata": {},
   "outputs": [],
   "source": [
    "rus_alphas = 'йцукенгшщзхъфывапролджэячсмитьбюЙЦУКЕНГШЩЗХЪФЫВАПРОЛДЖЭЯЧСМИТЬБЮ'"
   ]
  },
  {
   "cell_type": "code",
   "execution_count": 37,
   "metadata": {},
   "outputs": [],
   "source": [
    "s = [None, 'нет', ' готов ', '07-08.09', '02-09.10 А', '11-09.11 S', '02.09',\n",
    " '1.15', '1.2-3.5', '1.2-3.5 D', '14/23.09',\n",
    " '13.02 / 14.02']"
   ]
  },
  {
   "cell_type": "code",
   "execution_count": 38,
   "metadata": {
    "tags": []
   },
   "outputs": [
    {
     "output_type": "stream",
     "name": "stdout",
     "text": "None\n('word', ['нет'])\n('word', ['готов'])\n('dd-dd.mm', ['07', '08', '09'])\n('dd-dd.mm', ['02', '09', '10', 'А'])\n('dd-dd.mm', ['11', '09', '11', 'S'])\n('dd.mm', ['02', '09'])\n('dd.mm', ['1', '15'])\n('dd.mm-dd.mm', ['1', '2', '3', '5'])\n('dd.mm-dd.mm', ['1', '2', '3', '5', 'D'])\n('dd/dd.mm', ['14', '23', '09'])\n('dd.mm/dd.mm', ['13', '02', '14', '02'])\n"
    }
   ],
   "source": [
    "%autoreload\n",
    "for i in s:\n",
    "    print(pu.get_cell_format(i))"
   ]
  },
  {
   "cell_type": "code",
   "execution_count": null,
   "metadata": {},
   "outputs": [],
   "source": []
  }
 ]
}